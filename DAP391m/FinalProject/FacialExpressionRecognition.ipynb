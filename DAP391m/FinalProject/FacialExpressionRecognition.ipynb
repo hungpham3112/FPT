{
 "cells": [
  {
   "cell_type": "code",
   "execution_count": 1,
   "id": "69f0f2cb",
   "metadata": {},
   "outputs": [],
   "source": [
    "import numpy as np\n",
    "import pandas as pd\n",
    "import matplotlib.pyplot as plt\n",
    "import tensorflow as tf\n",
    "import cv2 as cv2\n",
    "from deepface import DeepFace\n",
    "from sklearn.model_selection import train_test_split"
   ]
  },
  {
   "cell_type": "markdown",
   "id": "6a323a56",
   "metadata": {},
   "source": [
    "## Detecting face in image"
   ]
  },
  {
   "cell_type": "code",
   "execution_count": 2,
   "id": "7adec10e",
   "metadata": {},
   "outputs": [],
   "source": [
    "# Note: ssd and retinaface can detect cartoon face.\n",
    "backends = [\n",
    "  'opencv', \n",
    "  'ssd', \n",
    "  'dlib', \n",
    "  'mtcnn', \n",
    "  'retinaface', \n",
    "  'mediapipe'\n",
    "]\n",
    "\n",
    "detected_face = DeepFace.extract_faces(\"./vanellope.jpg\", detector_backend = backends[4])\n",
    "plt.imshow(detected_face[0]['face'])"
   ]
  },
  {
   "cell_type": "markdown",
   "id": "c978377e",
   "metadata": {},
   "source": [
    "## Feature extraction"
   ]
  },
  {
   "cell_type": "code",
   "execution_count": 3,
   "id": "fbd2e7d4",
   "metadata": {},
   "outputs": [],
   "source": [
    "df = pd.read_csv(\"./fer2013.csv\")\n",
    "df"
   ]
  },
  {
   "cell_type": "code",
   "execution_count": 4,
   "id": "333abdec",
   "metadata": {},
   "outputs": [],
   "source": [
    "df.describe(include=\"all\")"
   ]
  },
  {
   "cell_type": "code",
   "execution_count": 5,
   "id": "d196e862",
   "metadata": {
    "scrolled": true
   },
   "outputs": [],
   "source": [
    "df.select_dtypes(include='number').describe(include=\"all\")"
   ]
  },
  {
   "cell_type": "code",
   "execution_count": 6,
   "id": "26a3d718",
   "metadata": {},
   "outputs": [],
   "source": [
    "df.info(verbose=True)"
   ]
  },
  {
   "cell_type": "code",
   "execution_count": 7,
   "id": "95c906db",
   "metadata": {},
   "outputs": [],
   "source": [
    "df['pixels'] = df['pixels'].apply(lambda x: np.array([int(num) for num in x.split()]))"
   ]
  },
  {
   "cell_type": "code",
   "execution_count": null,
   "id": "2e7126f6",
   "metadata": {},
   "outputs": [],
   "source": [
    "df"
   ]
  },
  {
   "cell_type": "code",
   "execution_count": 11,
   "id": "7c05e99c",
   "metadata": {},
   "outputs": [],
   "source": [
    "# df.describe(include=\"all\")"
   ]
  },
  {
   "cell_type": "code",
   "execution_count": 12,
   "id": "286b34d4",
   "metadata": {},
   "outputs": [],
   "source": [
    "def get_emotion(number: int, index=312):\n",
    "    # 0=Angry, 1=Disgust, 2=Fear, 3=Happy, 4=Sad, 5=Surprise, 6=Neutral.\n",
    "    return np.array(df[df[\"emotion\"] == number].iloc[index]['pixels'].split(), dtype='float32').reshape(48, 48)"
   ]
  },
  {
   "cell_type": "code",
   "execution_count": 13,
   "id": "6e3cf795",
   "metadata": {},
   "outputs": [],
   "source": [
    "fig, axes = plt.subplots(2, 3)\n",
    "\n",
    "# Access each subplot using indexing\n",
    "axes[0, 0].plot(x1, y1)\n",
    "axes[0, 1].plot(x2, y2)\n",
    "axes[0, 2].plot(x3, y3)\n",
    "axes[1, 0].plot(x4, y4)\n",
    "axes[1, 1].plot(x5, y5)\n",
    "axes[1, 2].plot(x6, y6)\n",
    "\n",
    "# Optionally customize each subplot\n",
    "axes[0, 0].set_title('Subplot 1')\n",
    "axes[0, 1].set_title('Subplot 2')\n",
    "axes[0, 2].set_title('Subplot 3')\n",
    "axes[1, 0].set_title('Subplot 4')\n",
    "axes[1, 1].set_title('Subplot 5')\n",
    "axes[1, 2].set_title('Subplot 6')\n",
    "\n",
    "# Adjust spacing between subplots\n",
    "plt.tight_layout()\n",
    "\n",
    "# Show the plot\n",
    "plt.show()"
   ]
  },
  {
   "cell_type": "code",
   "execution_count": null,
   "id": "2d3961e0",
   "metadata": {},
   "outputs": [],
   "source": [
    "angry = get_emotion(0)\n",
    "disgust = get_emotion(1)\n",
    "fear = get_emotion(2)\n",
    "happy = get_emotion(3)\n",
    "sad = get_emotion(4)\n",
    "surprise = get_emotion(5)\n",
    "neutral = get_emotion(6)"
   ]
  },
  {
   "cell_type": "code",
   "execution_count": null,
   "id": "cbef202d",
   "metadata": {},
   "outputs": [],
   "source": [
    "plt.imshow(angry, cmap='Greys_r')\n",
    "plt.title(\"Angry\")"
   ]
  },
  {
   "cell_type": "code",
   "execution_count": null,
   "id": "aea52f4e",
   "metadata": {},
   "outputs": [],
   "source": [
    "plt.imshow(disgust, cmap='Greys_r')\n",
    "plt.title(\"Angry\")"
   ]
  },
  {
   "cell_type": "code",
   "execution_count": null,
   "id": "bd631743",
   "metadata": {},
   "outputs": [],
   "source": [
    "plt.imshow(fear, cmap='Greys_r')\n",
    "plt.title(\"Fear\")"
   ]
  },
  {
   "cell_type": "code",
   "execution_count": null,
   "id": "1497e09a",
   "metadata": {},
   "outputs": [],
   "source": [
    "plt.imshow(happy, cmap='Greys_r')\n",
    "plt.title(\"Happy\")"
   ]
  },
  {
   "cell_type": "code",
   "execution_count": null,
   "id": "8450c5fb",
   "metadata": {},
   "outputs": [],
   "source": [
    "plt.imshow(sad, cmap='Greys_r')\n",
    "plt.title(\"Sad\")"
   ]
  },
  {
   "cell_type": "code",
   "execution_count": null,
   "id": "50653d70",
   "metadata": {},
   "outputs": [],
   "source": [
    "plt.imshow(surprise, cmap='Greys_r')\n",
    "plt.title(\"Surprise\")"
   ]
  },
  {
   "cell_type": "code",
   "execution_count": null,
   "id": "c00bf21e",
   "metadata": {},
   "outputs": [],
   "source": [
    "plt.imshow(neutral, cmap='Greys_r')\n",
    "plt.title(\"Neutral\")"
   ]
  },
  {
   "cell_type": "code",
   "execution_count": null,
   "id": "fbdae2d3",
   "metadata": {},
   "outputs": [],
   "source": [
    "np.unique(df[\"Usage\"])"
   ]
  },
  {
   "cell_type": "code",
   "execution_count": null,
   "id": "c84becb2",
   "metadata": {},
   "outputs": [],
   "source": [
    "training_data = df[df['Usage'] == 'Training']\n",
    "validate_data = df[df['Usage'] == 'PublicTest']\n",
    "test_data = df[df['Usage'] == 'PrivateTest']\n",
    "\n",
    "# Print the number of samples in each category\n",
    "print(\"Training samples:\", len(training_data))\n",
    "print(\"Public test(Validation) samples:\", len(public_test_data))\n",
    "print(\"Private test(Test) samples:\", len(private_test_data))"
   ]
  },
  {
   "cell_type": "code",
   "execution_count": null,
   "id": "697020a9",
   "metadata": {},
   "outputs": [],
   "source": [
    "X_train, y_train = df"
   ]
  },
  {
   "cell_type": "code",
   "execution_count": null,
   "id": "26d8e23f",
   "metadata": {},
   "outputs": [],
   "source": []
  },
  {
   "cell_type": "code",
   "execution_count": null,
   "id": "e912669e",
   "metadata": {},
   "outputs": [],
   "source": []
  },
  {
   "cell_type": "code",
   "execution_count": null,
   "id": "e79efc40",
   "metadata": {},
   "outputs": [],
   "source": []
  },
  {
   "cell_type": "code",
   "execution_count": null,
   "id": "76f1a953",
   "metadata": {},
   "outputs": [],
   "source": []
  },
  {
   "cell_type": "markdown",
   "id": "4843e3ab",
   "metadata": {},
   "source": [
    "## Feature Classification"
   ]
  },
  {
   "cell_type": "code",
   "execution_count": null,
   "id": "c6ecb291",
   "metadata": {},
   "outputs": [],
   "source": [
    "a"
   ]
  },
  {
   "cell_type": "code",
   "execution_count": null,
   "id": "60eb43c5",
   "metadata": {},
   "outputs": [],
   "source": []
  },
  {
   "cell_type": "code",
   "execution_count": null,
   "id": "9e768b19",
   "metadata": {},
   "outputs": [],
   "source": []
  },
  {
   "cell_type": "code",
   "execution_count": null,
   "id": "35e37b88",
   "metadata": {},
   "outputs": [],
   "source": []
  },
  {
   "cell_type": "code",
   "execution_count": null,
   "id": "e4ec32a9",
   "metadata": {},
   "outputs": [],
   "source": []
  },
  {
   "cell_type": "code",
   "execution_count": null,
   "id": "7103bd82",
   "metadata": {},
   "outputs": [],
   "source": []
  },
  {
   "cell_type": "code",
   "execution_count": null,
   "id": "03732e9e",
   "metadata": {},
   "outputs": [],
   "source": []
  },
  {
   "cell_type": "code",
   "execution_count": null,
   "id": "3b339464",
   "metadata": {},
   "outputs": [],
   "source": []
  }
 ],
 "metadata": {
  "kernelspec": {
   "display_name": "Python 3 (ipykernel)",
   "language": "python",
   "name": "python3"
  },
  "language_info": {
   "codemirror_mode": {
    "name": "ipython",
    "version": 3
   },
   "file_extension": ".py",
   "mimetype": "text/x-python",
   "name": "python",
   "nbconvert_exporter": "python",
   "pygments_lexer": "ipython3",
   "version": "3.11.3"
  }
 },
 "nbformat": 4,
 "nbformat_minor": 5
}
