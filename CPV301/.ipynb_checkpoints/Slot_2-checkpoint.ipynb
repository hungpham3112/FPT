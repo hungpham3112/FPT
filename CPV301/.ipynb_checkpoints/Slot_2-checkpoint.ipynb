{
 "cells": [
  {
   "cell_type": "code",
   "execution_count": 1,
   "id": "c823adbe",
   "metadata": {},
   "outputs": [],
   "source": [
    "#!pip install skimage\n",
    "#!pip install opencv-python\n",
    "#!pip install matplotlib"
   ]
  },
  {
   "cell_type": "code",
   "execution_count": null,
   "id": "9236f88f",
   "metadata": {},
   "outputs": [],
   "source": [
    "import matplotlib.pyplot as plt\n",
    "from skimage import data\n",
    "img = data.astronaut()#hubble_deep_field()# # camera(),checkerboard().chelsea().clock().coffee().coins().data.horse().hubble_deep_field().immunohistochemistry(\n",
    "#.moon() .rocket().text().page()\n",
    "#plt.imshow(img)\n",
    "#plt.show()\n",
    "print(img.shape)\n",
    "img[:,0:500,0:2] =0"
   ]
  },
  {
   "cell_type": "code",
   "execution_count": null,
   "id": "d454be28",
   "metadata": {},
   "outputs": [],
   "source": [
    "#plt.imshow(img[:,0:500])\n",
    "#plt.show()\n",
    "img2= img.copy()\n",
    "for row in range(0,img.shape[0]):\n",
    "    for col in range(0,img.shape[1]):\n",
    "        if img2[row,col,1]>100:\n",
    "            img2[row,col,1] =255\n",
    "        else:\n",
    "            img2[row,col,1] =0\n",
    "%matplotlib.inline\n",
    "plt.imshow(img2[:,:,1],cmap='gray')\n",
    "#plt.show()    "
   ]
  },
  {
   "cell_type": "code",
   "execution_count": null,
   "id": "b1fffdfb",
   "metadata": {},
   "outputs": [],
   "source": [
    "import cv2\n",
    "#img = cv2.imread(img)\n",
    "from skimage import data\n",
    "img = data.astronaut()\n",
    "#img[:,:,0] =0\n",
    "cv2.imshow('original',img[:,:,-1])\n",
    "cv2.waitKey(0)"
   ]
  },
  {
   "cell_type": "code",
   "execution_count": null,
   "id": "9226e7a5",
   "metadata": {},
   "outputs": [],
   "source": [
    "img_rgb = data.astronaut()\n",
    "im_bgr = cv2.cvtColor(img_rgb,cv2.COLOR_RGB2BGR)\n",
    "\n",
    "cv2.imshow('original',im_bgr )\n",
    "cv2.waitKey(0)"
   ]
  },
  {
   "cell_type": "code",
   "execution_count": null,
   "id": "dfa16a80",
   "metadata": {},
   "outputs": [],
   "source": [
    "img_rgb = data.astronaut()\n",
    "img_bgr = img_rgb[:,:,::-1]\n",
    "#im_bgr = cv2.cvtColor(img_rgb,cv2.COLOR_RGB2BGR)\n",
    "cv2.imshow('original',img_bgr )\n",
    "cv2.waitKey(0)"
   ]
  },
  {
   "cell_type": "code",
   "execution_count": null,
   "id": "47ba5f87",
   "metadata": {},
   "outputs": [],
   "source": [
    "#img = data.astronaut()\n",
    "path='D:/1. Lectures/2-Computer Vision/6-ipynb/images/'\n",
    "img=cv2.imread(path+'cat.jpg')\n",
    "\n",
    "cv2.imshow('Blue',img )\n",
    "cv2.waitKey(0)"
   ]
  },
  {
   "cell_type": "code",
   "execution_count": null,
   "id": "d2d638f4",
   "metadata": {},
   "outputs": [],
   "source": [
    "#Transformation\n"
   ]
  },
  {
   "cell_type": "code",
   "execution_count": null,
   "id": "5c1ac035",
   "metadata": {},
   "outputs": [],
   "source": [
    "import numpy as np\n",
    "tx = 2\n",
    "ty = 3\n",
    "T = np.array((( 1,0,tx),\n",
    "              (0,1,ty),\n",
    "              (0,0,1)\n",
    "))\n",
    "print(T)"
   ]
  },
  {
   "cell_type": "code",
   "execution_count": null,
   "id": "fd0e04c6",
   "metadata": {},
   "outputs": [],
   "source": [
    "A = np.array((1,1))\n",
    "B = np.array((1,2))\n",
    "C = np.array((0,1))\n",
    "G = np.array([A,B,C,A])\n",
    "print(G)"
   ]
  },
  {
   "cell_type": "code",
   "execution_count": null,
   "id": "a84f6461",
   "metadata": {},
   "outputs": [],
   "source": [
    "import matplotlib.pyplot as plt\n",
    "plt.plot(G[:,0],G[:,1])\n",
    "plt.xlim(0,4)\n",
    "plt.ylim(0,4)\n",
    "plt.grid(True)\n",
    "plt.show()"
   ]
  },
  {
   "cell_type": "code",
   "execution_count": null,
   "id": "88cdabb2",
   "metadata": {},
   "outputs": [],
   "source": [
    "one = np.ones((G.shape[0],1))\n",
    "print(one)"
   ]
  },
  {
   "cell_type": "code",
   "execution_count": null,
   "id": "21b2a89f",
   "metadata": {},
   "outputs": [],
   "source": [
    "G_ = np.concatenate((G,one),axis=1)\n",
    "print(G_)"
   ]
  },
  {
   "cell_type": "code",
   "execution_count": null,
   "id": "74b5bebe",
   "metadata": {},
   "outputs": [],
   "source": [
    "print(T)"
   ]
  },
  {
   "cell_type": "markdown",
   "id": "ef13cfc5",
   "metadata": {},
   "source": [
    "## Translation"
   ]
  },
  {
   "cell_type": "code",
   "execution_count": null,
   "id": "1471d5b2",
   "metadata": {},
   "outputs": [],
   "source": [
    "import numpy as np\n",
    "tx = 1\n",
    "ty = 2\n",
    "T = np.array((( 1,0,tx),\n",
    "              (0,1,ty),\n",
    "              (0,0,1)\n",
    "))\n",
    "print(T)\n",
    "\n",
    "\n",
    "G_1 = G_.copy()\n",
    "for i in range(G_.shape[0]):\n",
    "    G_1[i] = T.dot(G_[i])"
   ]
  },
  {
   "cell_type": "code",
   "execution_count": null,
   "id": "c72d0812",
   "metadata": {},
   "outputs": [],
   "source": [
    "import matplotlib.pyplot as plt\n",
    "plt.plot(G[:,0],G[:,1])\n",
    "plt.plot(G_1[:,0],G_1[:,1],marker = 'd',c='red')\n",
    "plt.xlim(0,4)\n",
    "plt.ylim(0,8)\n",
    "plt.grid(True)\n",
    "plt.show()"
   ]
  },
  {
   "cell_type": "code",
   "execution_count": null,
   "id": "8a1760d2",
   "metadata": {},
   "outputs": [],
   "source": [
    "# Rotation\n",
    "# Scale"
   ]
  },
  {
   "cell_type": "code",
   "execution_count": null,
   "id": "bb557589",
   "metadata": {},
   "outputs": [],
   "source": []
  }
 ],
 "metadata": {
  "kernelspec": {
   "display_name": "Python 3 (ipykernel)",
   "language": "python",
   "name": "python3"
  },
  "language_info": {
   "codemirror_mode": {
    "name": "ipython",
    "version": 3
   },
   "file_extension": ".py",
   "mimetype": "text/x-python",
   "name": "python",
   "nbconvert_exporter": "python",
   "pygments_lexer": "ipython3",
   "version": "3.11.3"
  }
 },
 "nbformat": 4,
 "nbformat_minor": 5
}
