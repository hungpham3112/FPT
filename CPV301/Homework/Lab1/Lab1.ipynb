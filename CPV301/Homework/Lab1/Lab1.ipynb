{
 "cells": [
  {
   "cell_type": "code",
   "execution_count": 1,
   "id": "f31a7802",
   "metadata": {},
   "outputs": [],
   "source": [
    "import cv2\n",
    "import numpy as np"
   ]
  },
  {
   "cell_type": "code",
   "execution_count": 2,
   "id": "c01c22c3",
   "metadata": {},
   "outputs": [],
   "source": [
    "def origin(rec_vertices):\n",
    "    return [sum(x)/ 2 for x in zip(rect_vertices[0],rect_vertices[2])]"
   ]
  },
  {
   "cell_type": "code",
   "execution_count": 3,
   "id": "a53dc6a8",
   "metadata": {},
   "outputs": [],
   "source": [
    "def matrix(rect_vectices, matrix_transformation):\n",
    "    G = np.array(rect_vertices)\n",
    "    one = np.ones((G.shape[0],1))\n",
    "    GConcate = np.concatenate((G,one),axis=1)\n",
    "    GTrans = np.transpose(matrix_transformation.dot(np.transpose(GConcate)))\n",
    "    matrix_points = [[int(element) for element in sublist] for sublist in GTrans[:, :2].tolist()]\n",
    "    return [tuple(x) for x in matrix_points]"
   ]
  },
  {
   "cell_type": "code",
   "execution_count": 9,
   "id": "eb03fed6",
   "metadata": {},
   "outputs": [],
   "source": [
    "def transformation(rect_vertices, delta_x=0, delta_y=0, ratio_x=1.0, ratio_y=1.0, angle=0):\n",
    "    center = origin(rect_vertices)\n",
    "    radian = np.radians(angle).astype(np.float64)\n",
    "    cos = np.cos(radian)\n",
    "    sin = np.sin(radian)\n",
    "    alpha = ratio_x * cos\n",
    "    beta = ratio_y * sin\n",
    "    S = np.array(((alpha, beta, (1 - alpha) * center[0] - beta * center[1] + delta_x),\n",
    "                  (-beta, alpha, beta * center[0] + (1 - alpha) * center[1] + delta_y),\n",
    "                  (0,0,1)\n",
    "    ))\n",
    "    return matrix(rect_vertices, S)"
   ]
  },
  {
   "cell_type": "code",
   "execution_count": 5,
   "id": "66523cfb",
   "metadata": {},
   "outputs": [],
   "source": [
    "def mouse_callback(event, x, y, flags, param):\n",
    "    # Note: IO -> mutable\n",
    "    global drawing, p1, p2, img, rect_vertices, center\n",
    "    if event == cv2.EVENT_LBUTTONDOWN:\n",
    "        rect_vertices = [(0, 0), (0, 0), (0, 0), (0, 0)]\n",
    "        img = np.ones((HEIGHT, WIDTH, 3), np.uint8) * 255\n",
    "        drawing = True\n",
    "        p1 = (x, y)\n",
    "        \n",
    "    elif event == cv2.EVENT_LBUTTONUP:\n",
    "        drawing = False\n",
    "        p2 = (x, y)\n",
    "        cv2.rectangle(img, p1, p2, (0, 255, 0), 2)\n",
    "        cv2.imshow('Image', img)\n",
    "        rect_vertices = [p1, (p2[0], p1[1]), p2, (p1[0], p2[1])]\n",
    "        center = origin(rect_vertices)"
   ]
  },
  {
   "cell_type": "code",
   "execution_count": 6,
   "id": "8de3c27e",
   "metadata": {},
   "outputs": [],
   "source": [
    "def create_whiteboard():\n",
    "    # Note: thực hiện tranformation thì functional\n",
    "    global rect_vertices, img, key, center\n",
    "    while True:\n",
    "        cv2.setMouseCallback('Image', mouse_callback)\n",
    "        cv2.imshow('Image', img)\n",
    "        key = cv2.waitKey(1)\n",
    "        if key == ord('p'):\n",
    "            print([sum(x)/2 for x in zip(rect_vertices[0], rect_vertices[2])])\n",
    "        if key == 27:  # Press Esc key to exit\n",
    "            break\n",
    "        if key == ord('t'):\n",
    "            BLUE = (255, 0, 0)\n",
    "            delta_x, delta_y = map(float, input(\"Type delta_x delta_y (e.g: 12.3 -231.2): \").split())\n",
    "            rect_vertices = transformation(rect_vertices, delta_x=delta_x, delta_y=delta_y)\n",
    "            cv2.polylines(img, np.array([rect_vertices]), True, BLUE, 3)\n",
    "            cv2.imshow('Image', img)\n",
    "            continue\n",
    "        if key == ord('r'):\n",
    "            RED = (0, 0, 255)\n",
    "            angle = float(input(\"Type angle (e.g: 90): \"))\n",
    "            rect_vertices = transformation(rect_vertices, angle=angle)\n",
    "            cv2.polylines(img, np.array([rect_vertices]), True, RED, 3)\n",
    "            cv2.imshow('Image', img)\n",
    "            continue\n",
    "        if key == ord('s'):\n",
    "            PURPLE = (255, 13, 255)\n",
    "            ratio_x, ratio_y = map(float, input(\"Type scale for x, y(e.g: 0.6 2.1) \").split())\n",
    "            rect_vertices = transformation(rect_vertices, ratio_x=ratio_x, ratio_y=ratio_y)\n",
    "            cv2.polylines(img, np.array([rect_vertices]), True, PURPLE, 3)\n",
    "            cv2.imshow('Image', img)\n",
    "            continue\n",
    "    cv2.destroyAllWindows()\n",
    "        "
   ]
  },
  {
   "cell_type": "code",
   "execution_count": 7,
   "id": "49f3ddbe",
   "metadata": {},
   "outputs": [],
   "source": [
    "def main():\n",
    "    global drawing, p1, p2, HEIGHT, WIDTH, img, rect_vertices, center\n",
    "    drawing = False\n",
    "    p1 = np.array((-1, -1))\n",
    "    p2 = np.array((-1, -1))\n",
    "    HEIGHT, WIDTH = 1980, 1720\n",
    "    img = np.ones((HEIGHT, WIDTH, 3), dtype=np.uint8) * 255\n",
    "    rect_vertices = [(0, 0), (0, 0), (0, 0), (0, 0)]\n",
    "    center = [sum(x)/2 for x in zip(rect_vertices[0],rect_vertices[2])]\n",
    "    cv2.namedWindow('Image')\n",
    "    create_whiteboard()"
   ]
  },
  {
   "cell_type": "code",
   "execution_count": 8,
   "id": "1579b3c9",
   "metadata": {},
   "outputs": [
    {
     "name": "stdout",
     "output_type": "stream",
     "text": [
      "Type delta_x delta_y (e.g: 12.3 -231.2): 20 20\n",
      "1.0 1.0\n",
      "Type angle (e.g: 90): 20\n",
      "1.0 1.0\n"
     ]
    }
   ],
   "source": [
    "main() # Run me"
   ]
  },
  {
   "cell_type": "raw",
   "id": "2d537e77",
   "metadata": {},
   "source": []
  },
  {
   "cell_type": "code",
   "execution_count": null,
   "id": "f8d51868",
   "metadata": {},
   "outputs": [],
   "source": []
  },
  {
   "cell_type": "code",
   "execution_count": null,
   "id": "dffdf43b",
   "metadata": {},
   "outputs": [],
   "source": []
  },
  {
   "cell_type": "raw",
   "id": "0cc876e4",
   "metadata": {},
   "source": []
  },
  {
   "cell_type": "raw",
   "id": "f891e85f",
   "metadata": {},
   "source": []
  }
 ],
 "metadata": {
  "kernelspec": {
   "display_name": "Python 3 (ipykernel)",
   "language": "python",
   "name": "python3"
  },
  "language_info": {
   "codemirror_mode": {
    "name": "ipython",
    "version": 3
   },
   "file_extension": ".py",
   "mimetype": "text/x-python",
   "name": "python",
   "nbconvert_exporter": "python",
   "pygments_lexer": "ipython3",
   "version": "3.11.3"
  }
 },
 "nbformat": 4,
 "nbformat_minor": 5
}
