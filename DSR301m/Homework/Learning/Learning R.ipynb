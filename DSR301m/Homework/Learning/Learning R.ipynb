{
 "cells": [
  {
   "cell_type": "markdown",
   "id": "e0f8159a",
   "metadata": {},
   "source": [
    "# Data type"
   ]
  },
  {
   "cell_type": "markdown",
   "id": "b5585114",
   "metadata": {},
   "source": [
    "## Integer"
   ]
  },
  {
   "cell_type": "code",
   "execution_count": 1,
   "id": "9b78e73e",
   "metadata": {},
   "outputs": [
    {
     "data": {
      "text/html": [
       "'integer'"
      ],
      "text/latex": [
       "'integer'"
      ],
      "text/markdown": [
       "'integer'"
      ],
      "text/plain": [
       "[1] \"integer\""
      ]
     },
     "metadata": {},
     "output_type": "display_data"
    }
   ],
   "source": [
    "class(1L)"
   ]
  },
  {
   "cell_type": "code",
   "execution_count": 2,
   "id": "324ed774",
   "metadata": {},
   "outputs": [
    {
     "data": {
      "text/html": [
       "TRUE"
      ],
      "text/latex": [
       "TRUE"
      ],
      "text/markdown": [
       "TRUE"
      ],
      "text/plain": [
       "[1] TRUE"
      ]
     },
     "metadata": {},
     "output_type": "display_data"
    }
   ],
   "source": [
    "is.integer(1L)"
   ]
  },
  {
   "cell_type": "markdown",
   "id": "23074b22",
   "metadata": {},
   "source": [
    "## Numeric"
   ]
  },
  {
   "cell_type": "code",
   "execution_count": 3,
   "id": "e014f96f",
   "metadata": {},
   "outputs": [
    {
     "data": {
      "text/html": [
       "'numeric'"
      ],
      "text/latex": [
       "'numeric'"
      ],
      "text/markdown": [
       "'numeric'"
      ],
      "text/plain": [
       "[1] \"numeric\""
      ]
     },
     "metadata": {},
     "output_type": "display_data"
    }
   ],
   "source": [
    "class(1)"
   ]
  },
  {
   "cell_type": "code",
   "execution_count": 4,
   "id": "3d30a461",
   "metadata": {},
   "outputs": [
    {
     "data": {
      "text/html": [
       "TRUE"
      ],
      "text/latex": [
       "TRUE"
      ],
      "text/markdown": [
       "TRUE"
      ],
      "text/plain": [
       "[1] TRUE"
      ]
     },
     "metadata": {},
     "output_type": "display_data"
    }
   ],
   "source": [
    "is.numeric(10)"
   ]
  },
  {
   "cell_type": "markdown",
   "id": "5c5a7581",
   "metadata": {},
   "source": [
    "## Character"
   ]
  },
  {
   "cell_type": "markdown",
   "id": "79a8a395",
   "metadata": {},
   "source": [
    "**Note**: In R '' and \"\" will return the same datatype: character\n"
   ]
  },
  {
   "cell_type": "code",
   "execution_count": 5,
   "id": "a598e93d",
   "metadata": {},
   "outputs": [
    {
     "data": {
      "text/html": [
       "'character'"
      ],
      "text/latex": [
       "'character'"
      ],
      "text/markdown": [
       "'character'"
      ],
      "text/plain": [
       "[1] \"character\""
      ]
     },
     "metadata": {},
     "output_type": "display_data"
    }
   ],
   "source": [
    "class(\"1\")"
   ]
  },
  {
   "cell_type": "code",
   "execution_count": 6,
   "id": "06e493f8",
   "metadata": {},
   "outputs": [
    {
     "data": {
      "text/html": [
       "'character'"
      ],
      "text/latex": [
       "'character'"
      ],
      "text/markdown": [
       "'character'"
      ],
      "text/plain": [
       "[1] \"character\""
      ]
     },
     "metadata": {},
     "output_type": "display_data"
    }
   ],
   "source": [
    "class('1')"
   ]
  },
  {
   "cell_type": "code",
   "execution_count": 7,
   "id": "c7127636",
   "metadata": {},
   "outputs": [
    {
     "data": {
      "text/html": [
       "TRUE"
      ],
      "text/latex": [
       "TRUE"
      ],
      "text/markdown": [
       "TRUE"
      ],
      "text/plain": [
       "[1] TRUE"
      ]
     },
     "metadata": {},
     "output_type": "display_data"
    }
   ],
   "source": [
    "is.character(\"falsdkj\")"
   ]
  },
  {
   "cell_type": "markdown",
   "id": "b4ac883f",
   "metadata": {},
   "source": [
    "## Logical"
   ]
  },
  {
   "cell_type": "code",
   "execution_count": 8,
   "id": "5cd816dd",
   "metadata": {},
   "outputs": [
    {
     "data": {
      "text/html": [
       "'logical'"
      ],
      "text/latex": [
       "'logical'"
      ],
      "text/markdown": [
       "'logical'"
      ],
      "text/plain": [
       "[1] \"logical\""
      ]
     },
     "metadata": {},
     "output_type": "display_data"
    }
   ],
   "source": [
    "class(TRUE)"
   ]
  },
  {
   "cell_type": "code",
   "execution_count": 9,
   "id": "5518785f",
   "metadata": {},
   "outputs": [
    {
     "data": {
      "text/html": [
       "TRUE"
      ],
      "text/latex": [
       "TRUE"
      ],
      "text/markdown": [
       "TRUE"
      ],
      "text/plain": [
       "[1] TRUE"
      ]
     },
     "metadata": {},
     "output_type": "display_data"
    }
   ],
   "source": [
    "1L == \"1\""
   ]
  },
  {
   "cell_type": "code",
   "execution_count": 10,
   "id": "3f07d1eb",
   "metadata": {},
   "outputs": [
    {
     "data": {
      "text/html": [
       "FALSE"
      ],
      "text/latex": [
       "FALSE"
      ],
      "text/markdown": [
       "FALSE"
      ],
      "text/plain": [
       "[1] FALSE"
      ]
     },
     "metadata": {},
     "output_type": "display_data"
    }
   ],
   "source": [
    "1.0 == \"1.0\""
   ]
  },
  {
   "cell_type": "code",
   "execution_count": 11,
   "id": "48cb7b64",
   "metadata": {},
   "outputs": [
    {
     "data": {
      "text/html": [
       "TRUE"
      ],
      "text/latex": [
       "TRUE"
      ],
      "text/markdown": [
       "TRUE"
      ],
      "text/plain": [
       "[1] TRUE"
      ]
     },
     "metadata": {},
     "output_type": "display_data"
    }
   ],
   "source": [
    "is.logical(FALSE)"
   ]
  },
  {
   "cell_type": "markdown",
   "id": "323b7e71",
   "metadata": {},
   "source": [
    "## Type casting"
   ]
  },
  {
   "cell_type": "code",
   "execution_count": 12,
   "id": "d7b0a941",
   "metadata": {},
   "outputs": [],
   "source": [
    "a <- as.numeric(1.2L)"
   ]
  },
  {
   "cell_type": "code",
   "execution_count": 13,
   "id": "a1e597ed",
   "metadata": {},
   "outputs": [
    {
     "data": {
      "text/html": [
       "'numeric'"
      ],
      "text/latex": [
       "'numeric'"
      ],
      "text/markdown": [
       "'numeric'"
      ],
      "text/plain": [
       "[1] \"numeric\""
      ]
     },
     "metadata": {},
     "output_type": "display_data"
    }
   ],
   "source": [
    "class(a)"
   ]
  },
  {
   "cell_type": "code",
   "execution_count": 14,
   "id": "41846c60",
   "metadata": {},
   "outputs": [
    {
     "data": {
      "text/html": [
       "FALSE"
      ],
      "text/latex": [
       "FALSE"
      ],
      "text/markdown": [
       "FALSE"
      ],
      "text/plain": [
       "[1] FALSE"
      ]
     },
     "metadata": {},
     "output_type": "display_data"
    }
   ],
   "source": [
    "as.logical(0)"
   ]
  },
  {
   "cell_type": "markdown",
   "id": "71c894c2",
   "metadata": {},
   "source": [
    "## Assign variable"
   ]
  },
  {
   "cell_type": "markdown",
   "id": "f4d28ebe",
   "metadata": {},
   "source": [
    "Note: variable in R is mutable"
   ]
  },
  {
   "cell_type": "code",
   "execution_count": 15,
   "id": "0513f835",
   "metadata": {},
   "outputs": [
    {
     "data": {
      "text/html": [
       "12"
      ],
      "text/latex": [
       "12"
      ],
      "text/markdown": [
       "12"
      ],
      "text/plain": [
       "[1] 12"
      ]
     },
     "metadata": {},
     "output_type": "display_data"
    }
   ],
   "source": [
    "a = 12; a"
   ]
  },
  {
   "cell_type": "code",
   "execution_count": 16,
   "id": "d89745e2",
   "metadata": {},
   "outputs": [
    {
     "data": {
      "text/html": [
       "12"
      ],
      "text/latex": [
       "12"
      ],
      "text/markdown": [
       "12"
      ],
      "text/plain": [
       "[1] 12"
      ]
     },
     "metadata": {},
     "output_type": "display_data"
    }
   ],
   "source": [
    "b <- 12; b"
   ]
  },
  {
   "cell_type": "code",
   "execution_count": 17,
   "id": "ecfcd9dd",
   "metadata": {},
   "outputs": [
    {
     "data": {
      "text/html": [
       "123"
      ],
      "text/latex": [
       "123"
      ],
      "text/markdown": [
       "123"
      ],
      "text/plain": [
       "[1] 123"
      ]
     },
     "metadata": {},
     "output_type": "display_data"
    }
   ],
   "source": [
    "a = 123; a"
   ]
  },
  {
   "cell_type": "code",
   "execution_count": 20,
   "id": "85f94c42",
   "metadata": {},
   "outputs": [
    {
     "name": "stderr",
     "output_type": "stream",
     "text": [
      "Warning message in rm(a):\n",
      "“object 'a' not found”\n"
     ]
    }
   ],
   "source": [
    "rm(a) # Using to remove memory allocation of variable"
   ]
  },
  {
   "cell_type": "markdown",
   "id": "e6d9b66f",
   "metadata": {},
   "source": [
    "## Environment"
   ]
  },
  {
   "cell_type": "code",
   "execution_count": 21,
   "id": "65206d6a",
   "metadata": {},
   "outputs": [
    {
     "data": {
      "text/html": [
       "'b'"
      ],
      "text/latex": [
       "'b'"
      ],
      "text/markdown": [
       "'b'"
      ],
      "text/plain": [
       "[1] \"b\""
      ]
     },
     "metadata": {},
     "output_type": "display_data"
    }
   ],
   "source": [
    "ls() # list variable in workspace"
   ]
  },
  {
   "cell_type": "code",
   "execution_count": 22,
   "id": "520d15e4",
   "metadata": {},
   "outputs": [
    {
     "data": {
      "text/html": [
       "'/home/sofia/School/DSR301m/Homework/Learning'"
      ],
      "text/latex": [
       "'/home/sofia/School/DSR301m/Homework/Learning'"
      ],
      "text/markdown": [
       "'/home/sofia/School/DSR301m/Homework/Learning'"
      ],
      "text/plain": [
       "[1] \"/home/sofia/School/DSR301m/Homework/Learning\""
      ]
     },
     "metadata": {},
     "output_type": "display_data"
    }
   ],
   "source": [
    "getwd()"
   ]
  },
  {
   "cell_type": "markdown",
   "id": "eb52a5fb",
   "metadata": {},
   "source": [
    "## Summary"
   ]
  },
  {
   "cell_type": "markdown",
   "id": "f2985859",
   "metadata": {},
   "source": [
    "- You can use the R programming language to perform statistical computation, data visualization, and predictive analysis. \n",
    "\n",
    "- The four most common data types in R are integer, numeric, character, and logical. \n",
    "\n",
    "- You can use the class() function and the is.integer(), is.numeric(), is.character(), and is.logical() functions to determine the data type. \n",
    "\n",
    "- You can convert some data types to other data types using the as.integer(), as.numeric(), as.character(), and as.logical() functions. \n",
    "\n",
    "- R provides math operators that you can use to perform calculations on your data. \n",
    "\n",
    "- Using variables in your calculations and providing them with descriptive names can help shorten your code and make it easier to read. \n",
    "\n",
    "- You can control the order of operations using parenthesis. \n",
    "\n",
    "- The R development environment includes the R console, R script files, and workspaces.  \n",
    "\n",
    "- Two important tools for working with R code are RStudio and Jupyter. \n",
    "\n",
    "- RStudio features, like syntax highlighting and auto code completion, make writing code easier. \n",
    "\n",
    "- The main components of RStudio include the File Editor, Console, Workspace, and File, Plots, and Packages Explorer. \n",
    "\n",
    "- A Jupyter Notebook is made up of cells that can contain code, markdown files, or raw text.  \n",
    "\n",
    "- An all-in-one Jupyter Notebook contains narration, code, data, and plots, images, or videos. "
   ]
  },
  {
   "cell_type": "markdown",
   "id": "719a157f",
   "metadata": {},
   "source": [
    "## Vector"
   ]
  },
  {
   "cell_type": "code",
   "execution_count": 23,
   "id": "219df4d7",
   "metadata": {},
   "outputs": [
    {
     "data": {
      "text/html": [
       "<style>\n",
       ".list-inline {list-style: none; margin:0; padding: 0}\n",
       ".list-inline>li {display: inline-block}\n",
       ".list-inline>li:not(:last-child)::after {content: \"\\00b7\"; padding: 0 .5ex}\n",
       "</style>\n",
       "<ol class=list-inline><li>0.01</li><li>0.02</li><li>0.03</li></ol>\n"
      ],
      "text/latex": [
       "\\begin{enumerate*}\n",
       "\\item 0.01\n",
       "\\item 0.02\n",
       "\\item 0.03\n",
       "\\end{enumerate*}\n"
      ],
      "text/markdown": [
       "1. 0.01\n",
       "2. 0.02\n",
       "3. 0.03\n",
       "\n",
       "\n"
      ],
      "text/plain": [
       "[1] 0.01 0.02 0.03"
      ]
     },
     "metadata": {},
     "output_type": "display_data"
    }
   ],
   "source": [
    "c(1, 2, 3) / 100"
   ]
  },
  {
   "cell_type": "code",
   "execution_count": 24,
   "id": "af299b74",
   "metadata": {},
   "outputs": [
    {
     "data": {
      "text/html": [
       "<style>\n",
       ".list-inline {list-style: none; margin:0; padding: 0}\n",
       ".list-inline>li {display: inline-block}\n",
       ".list-inline>li:not(:last-child)::after {content: \"\\00b7\"; padding: 0 .5ex}\n",
       "</style>\n",
       "<ol class=list-inline><li>1</li><li>2</li><li>3</li></ol>\n"
      ],
      "text/latex": [
       "\\begin{enumerate*}\n",
       "\\item 1\n",
       "\\item 2\n",
       "\\item 3\n",
       "\\end{enumerate*}\n"
      ],
      "text/markdown": [
       "1. 1\n",
       "2. 2\n",
       "3. 3\n",
       "\n",
       "\n"
      ],
      "text/plain": [
       "[1] 1 2 3"
      ]
     },
     "metadata": {},
     "output_type": "display_data"
    }
   ],
   "source": [
    "vec = c(1, 2, 3); vec;"
   ]
  },
  {
   "cell_type": "code",
   "execution_count": 25,
   "id": "82ebab50",
   "metadata": {},
   "outputs": [
    {
     "data": {
      "text/html": [
       "<style>\n",
       ".list-inline {list-style: none; margin:0; padding: 0}\n",
       ".list-inline>li {display: inline-block}\n",
       ".list-inline>li:not(:last-child)::after {content: \"\\00b7\"; padding: 0 .5ex}\n",
       "</style>\n",
       "<ol class=list-inline><li>-1</li><li>-2</li><li>-3</li></ol>\n"
      ],
      "text/latex": [
       "\\begin{enumerate*}\n",
       "\\item -1\n",
       "\\item -2\n",
       "\\item -3\n",
       "\\end{enumerate*}\n"
      ],
      "text/markdown": [
       "1. -1\n",
       "2. -2\n",
       "3. -3\n",
       "\n",
       "\n"
      ],
      "text/plain": [
       "[1] -1 -2 -3"
      ]
     },
     "metadata": {},
     "output_type": "display_data"
    }
   ],
   "source": [
    "c(-1:-99)[1:3]"
   ]
  },
  {
   "cell_type": "code",
   "execution_count": 26,
   "id": "9867c2b9",
   "metadata": {},
   "outputs": [
    {
     "data": {
      "text/html": [
       "<style>\n",
       ".list-inline {list-style: none; margin:0; padding: 0}\n",
       ".list-inline>li {display: inline-block}\n",
       ".list-inline>li:not(:last-child)::after {content: \"\\00b7\"; padding: 0 .5ex}\n",
       "</style>\n",
       "<ol class=list-inline><li>0</li><li>1</li><li>2</li><li>3</li><li>4</li><li>5</li><li>6</li><li>7</li><li>8</li><li>9</li><li>10</li><li>11</li><li>12</li><li>13</li><li>14</li><li>15</li><li>16</li><li>17</li><li>18</li><li>19</li><li>20</li><li>21</li><li>22</li><li>23</li><li>24</li><li>25</li><li>26</li><li>27</li><li>28</li><li>29</li><li>30</li><li>31</li><li>32</li><li>33</li><li>34</li><li>35</li><li>36</li><li>37</li><li>38</li><li>39</li><li>40</li><li>41</li><li>42</li><li>43</li><li>44</li><li>45</li><li>46</li><li>47</li><li>48</li><li>49</li><li>50</li><li>51</li><li>52</li><li>53</li><li>54</li><li>55</li><li>56</li><li>57</li><li>58</li><li>59</li><li>60</li><li>61</li><li>62</li><li>63</li><li>64</li><li>65</li><li>66</li><li>67</li><li>68</li><li>69</li><li>70</li><li>71</li><li>72</li><li>73</li><li>74</li><li>75</li><li>76</li><li>77</li><li>78</li><li>79</li><li>80</li><li>81</li><li>82</li><li>83</li><li>84</li><li>85</li><li>86</li><li>87</li><li>88</li><li>89</li><li>90</li><li>91</li><li>92</li><li>93</li><li>94</li><li>95</li><li>96</li><li>97</li><li>98</li><li>99</li><li>100</li><li>101</li><li>102</li><li>103</li><li>104</li><li>105</li><li>106</li><li>107</li><li>108</li><li>109</li><li>110</li><li>111</li><li>112</li><li>113</li><li>114</li><li>115</li><li>116</li><li>117</li><li>118</li><li>119</li><li>120</li><li>121</li><li>122</li><li>123</li><li>124</li><li>125</li><li>126</li><li>127</li><li>128</li><li>129</li><li>130</li><li>131</li><li>132</li><li>133</li><li>134</li><li>135</li><li>136</li><li>137</li><li>138</li><li>139</li><li>140</li><li>141</li><li>142</li><li>143</li><li>144</li><li>145</li><li>146</li><li>147</li><li>148</li><li>149</li><li>150</li><li>151</li><li>152</li><li>153</li><li>154</li><li>155</li><li>156</li><li>157</li><li>158</li><li>159</li><li>160</li><li>161</li><li>162</li><li>163</li><li>164</li><li>165</li><li>166</li><li>167</li><li>168</li><li>169</li><li>170</li><li>171</li><li>172</li><li>173</li><li>174</li><li>175</li><li>176</li><li>177</li><li>178</li><li>179</li><li>180</li><li>181</li><li>182</li><li>183</li><li>184</li><li>185</li><li>186</li><li>187</li><li>188</li><li>189</li><li>190</li><li>191</li><li>192</li><li>193</li><li>194</li><li>195</li><li>196</li><li>197</li><li>198</li><li>199</li><li>⋯</li><li>801</li><li>802</li><li>803</li><li>804</li><li>805</li><li>806</li><li>807</li><li>808</li><li>809</li><li>810</li><li>811</li><li>812</li><li>813</li><li>814</li><li>815</li><li>816</li><li>817</li><li>818</li><li>819</li><li>820</li><li>821</li><li>822</li><li>823</li><li>824</li><li>825</li><li>826</li><li>827</li><li>828</li><li>829</li><li>830</li><li>831</li><li>832</li><li>833</li><li>834</li><li>835</li><li>836</li><li>837</li><li>838</li><li>839</li><li>840</li><li>841</li><li>842</li><li>843</li><li>844</li><li>845</li><li>846</li><li>847</li><li>848</li><li>849</li><li>850</li><li>851</li><li>852</li><li>853</li><li>854</li><li>855</li><li>856</li><li>857</li><li>858</li><li>859</li><li>860</li><li>861</li><li>862</li><li>863</li><li>864</li><li>865</li><li>866</li><li>867</li><li>868</li><li>869</li><li>870</li><li>871</li><li>872</li><li>873</li><li>874</li><li>875</li><li>876</li><li>877</li><li>878</li><li>879</li><li>880</li><li>881</li><li>882</li><li>883</li><li>884</li><li>885</li><li>886</li><li>887</li><li>888</li><li>889</li><li>890</li><li>891</li><li>892</li><li>893</li><li>894</li><li>895</li><li>896</li><li>897</li><li>898</li><li>899</li><li>900</li><li>901</li><li>902</li><li>903</li><li>904</li><li>905</li><li>906</li><li>907</li><li>908</li><li>909</li><li>910</li><li>911</li><li>912</li><li>913</li><li>914</li><li>915</li><li>916</li><li>917</li><li>918</li><li>919</li><li>920</li><li>921</li><li>922</li><li>923</li><li>924</li><li>925</li><li>926</li><li>927</li><li>928</li><li>929</li><li>930</li><li>931</li><li>932</li><li>933</li><li>934</li><li>935</li><li>936</li><li>937</li><li>938</li><li>939</li><li>940</li><li>941</li><li>942</li><li>943</li><li>944</li><li>945</li><li>946</li><li>947</li><li>948</li><li>949</li><li>950</li><li>951</li><li>952</li><li>953</li><li>954</li><li>955</li><li>956</li><li>957</li><li>958</li><li>959</li><li>960</li><li>961</li><li>962</li><li>963</li><li>964</li><li>965</li><li>966</li><li>967</li><li>968</li><li>969</li><li>970</li><li>971</li><li>972</li><li>973</li><li>974</li><li>975</li><li>976</li><li>977</li><li>978</li><li>979</li><li>980</li><li>981</li><li>982</li><li>983</li><li>984</li><li>985</li><li>986</li><li>987</li><li>988</li><li>989</li><li>990</li><li>991</li><li>992</li><li>993</li><li>994</li><li>995</li><li>996</li><li>997</li><li>998</li><li>999</li><li>1000</li></ol>\n"
      ],
      "text/latex": [
       "\\begin{enumerate*}\n",
       "\\item 0\n",
       "\\item 1\n",
       "\\item 2\n",
       "\\item 3\n",
       "\\item 4\n",
       "\\item 5\n",
       "\\item 6\n",
       "\\item 7\n",
       "\\item 8\n",
       "\\item 9\n",
       "\\item 10\n",
       "\\item 11\n",
       "\\item 12\n",
       "\\item 13\n",
       "\\item 14\n",
       "\\item 15\n",
       "\\item 16\n",
       "\\item 17\n",
       "\\item 18\n",
       "\\item 19\n",
       "\\item 20\n",
       "\\item 21\n",
       "\\item 22\n",
       "\\item 23\n",
       "\\item 24\n",
       "\\item 25\n",
       "\\item 26\n",
       "\\item 27\n",
       "\\item 28\n",
       "\\item 29\n",
       "\\item 30\n",
       "\\item 31\n",
       "\\item 32\n",
       "\\item 33\n",
       "\\item 34\n",
       "\\item 35\n",
       "\\item 36\n",
       "\\item 37\n",
       "\\item 38\n",
       "\\item 39\n",
       "\\item 40\n",
       "\\item 41\n",
       "\\item 42\n",
       "\\item 43\n",
       "\\item 44\n",
       "\\item 45\n",
       "\\item 46\n",
       "\\item 47\n",
       "\\item 48\n",
       "\\item 49\n",
       "\\item 50\n",
       "\\item 51\n",
       "\\item 52\n",
       "\\item 53\n",
       "\\item 54\n",
       "\\item 55\n",
       "\\item 56\n",
       "\\item 57\n",
       "\\item 58\n",
       "\\item 59\n",
       "\\item 60\n",
       "\\item 61\n",
       "\\item 62\n",
       "\\item 63\n",
       "\\item 64\n",
       "\\item 65\n",
       "\\item 66\n",
       "\\item 67\n",
       "\\item 68\n",
       "\\item 69\n",
       "\\item 70\n",
       "\\item 71\n",
       "\\item 72\n",
       "\\item 73\n",
       "\\item 74\n",
       "\\item 75\n",
       "\\item 76\n",
       "\\item 77\n",
       "\\item 78\n",
       "\\item 79\n",
       "\\item 80\n",
       "\\item 81\n",
       "\\item 82\n",
       "\\item 83\n",
       "\\item 84\n",
       "\\item 85\n",
       "\\item 86\n",
       "\\item 87\n",
       "\\item 88\n",
       "\\item 89\n",
       "\\item 90\n",
       "\\item 91\n",
       "\\item 92\n",
       "\\item 93\n",
       "\\item 94\n",
       "\\item 95\n",
       "\\item 96\n",
       "\\item 97\n",
       "\\item 98\n",
       "\\item 99\n",
       "\\item 100\n",
       "\\item 101\n",
       "\\item 102\n",
       "\\item 103\n",
       "\\item 104\n",
       "\\item 105\n",
       "\\item 106\n",
       "\\item 107\n",
       "\\item 108\n",
       "\\item 109\n",
       "\\item 110\n",
       "\\item 111\n",
       "\\item 112\n",
       "\\item 113\n",
       "\\item 114\n",
       "\\item 115\n",
       "\\item 116\n",
       "\\item 117\n",
       "\\item 118\n",
       "\\item 119\n",
       "\\item 120\n",
       "\\item 121\n",
       "\\item 122\n",
       "\\item 123\n",
       "\\item 124\n",
       "\\item 125\n",
       "\\item 126\n",
       "\\item 127\n",
       "\\item 128\n",
       "\\item 129\n",
       "\\item 130\n",
       "\\item 131\n",
       "\\item 132\n",
       "\\item 133\n",
       "\\item 134\n",
       "\\item 135\n",
       "\\item 136\n",
       "\\item 137\n",
       "\\item 138\n",
       "\\item 139\n",
       "\\item 140\n",
       "\\item 141\n",
       "\\item 142\n",
       "\\item 143\n",
       "\\item 144\n",
       "\\item 145\n",
       "\\item 146\n",
       "\\item 147\n",
       "\\item 148\n",
       "\\item 149\n",
       "\\item 150\n",
       "\\item 151\n",
       "\\item 152\n",
       "\\item 153\n",
       "\\item 154\n",
       "\\item 155\n",
       "\\item 156\n",
       "\\item 157\n",
       "\\item 158\n",
       "\\item 159\n",
       "\\item 160\n",
       "\\item 161\n",
       "\\item 162\n",
       "\\item 163\n",
       "\\item 164\n",
       "\\item 165\n",
       "\\item 166\n",
       "\\item 167\n",
       "\\item 168\n",
       "\\item 169\n",
       "\\item 170\n",
       "\\item 171\n",
       "\\item 172\n",
       "\\item 173\n",
       "\\item 174\n",
       "\\item 175\n",
       "\\item 176\n",
       "\\item 177\n",
       "\\item 178\n",
       "\\item 179\n",
       "\\item 180\n",
       "\\item 181\n",
       "\\item 182\n",
       "\\item 183\n",
       "\\item 184\n",
       "\\item 185\n",
       "\\item 186\n",
       "\\item 187\n",
       "\\item 188\n",
       "\\item 189\n",
       "\\item 190\n",
       "\\item 191\n",
       "\\item 192\n",
       "\\item 193\n",
       "\\item 194\n",
       "\\item 195\n",
       "\\item 196\n",
       "\\item 197\n",
       "\\item 198\n",
       "\\item 199\n",
       "\\item ⋯\n",
       "\\item 801\n",
       "\\item 802\n",
       "\\item 803\n",
       "\\item 804\n",
       "\\item 805\n",
       "\\item 806\n",
       "\\item 807\n",
       "\\item 808\n",
       "\\item 809\n",
       "\\item 810\n",
       "\\item 811\n",
       "\\item 812\n",
       "\\item 813\n",
       "\\item 814\n",
       "\\item 815\n",
       "\\item 816\n",
       "\\item 817\n",
       "\\item 818\n",
       "\\item 819\n",
       "\\item 820\n",
       "\\item 821\n",
       "\\item 822\n",
       "\\item 823\n",
       "\\item 824\n",
       "\\item 825\n",
       "\\item 826\n",
       "\\item 827\n",
       "\\item 828\n",
       "\\item 829\n",
       "\\item 830\n",
       "\\item 831\n",
       "\\item 832\n",
       "\\item 833\n",
       "\\item 834\n",
       "\\item 835\n",
       "\\item 836\n",
       "\\item 837\n",
       "\\item 838\n",
       "\\item 839\n",
       "\\item 840\n",
       "\\item 841\n",
       "\\item 842\n",
       "\\item 843\n",
       "\\item 844\n",
       "\\item 845\n",
       "\\item 846\n",
       "\\item 847\n",
       "\\item 848\n",
       "\\item 849\n",
       "\\item 850\n",
       "\\item 851\n",
       "\\item 852\n",
       "\\item 853\n",
       "\\item 854\n",
       "\\item 855\n",
       "\\item 856\n",
       "\\item 857\n",
       "\\item 858\n",
       "\\item 859\n",
       "\\item 860\n",
       "\\item 861\n",
       "\\item 862\n",
       "\\item 863\n",
       "\\item 864\n",
       "\\item 865\n",
       "\\item 866\n",
       "\\item 867\n",
       "\\item 868\n",
       "\\item 869\n",
       "\\item 870\n",
       "\\item 871\n",
       "\\item 872\n",
       "\\item 873\n",
       "\\item 874\n",
       "\\item 875\n",
       "\\item 876\n",
       "\\item 877\n",
       "\\item 878\n",
       "\\item 879\n",
       "\\item 880\n",
       "\\item 881\n",
       "\\item 882\n",
       "\\item 883\n",
       "\\item 884\n",
       "\\item 885\n",
       "\\item 886\n",
       "\\item 887\n",
       "\\item 888\n",
       "\\item 889\n",
       "\\item 890\n",
       "\\item 891\n",
       "\\item 892\n",
       "\\item 893\n",
       "\\item 894\n",
       "\\item 895\n",
       "\\item 896\n",
       "\\item 897\n",
       "\\item 898\n",
       "\\item 899\n",
       "\\item 900\n",
       "\\item 901\n",
       "\\item 902\n",
       "\\item 903\n",
       "\\item 904\n",
       "\\item 905\n",
       "\\item 906\n",
       "\\item 907\n",
       "\\item 908\n",
       "\\item 909\n",
       "\\item 910\n",
       "\\item 911\n",
       "\\item 912\n",
       "\\item 913\n",
       "\\item 914\n",
       "\\item 915\n",
       "\\item 916\n",
       "\\item 917\n",
       "\\item 918\n",
       "\\item 919\n",
       "\\item 920\n",
       "\\item 921\n",
       "\\item 922\n",
       "\\item 923\n",
       "\\item 924\n",
       "\\item 925\n",
       "\\item 926\n",
       "\\item 927\n",
       "\\item 928\n",
       "\\item 929\n",
       "\\item 930\n",
       "\\item 931\n",
       "\\item 932\n",
       "\\item 933\n",
       "\\item 934\n",
       "\\item 935\n",
       "\\item 936\n",
       "\\item 937\n",
       "\\item 938\n",
       "\\item 939\n",
       "\\item 940\n",
       "\\item 941\n",
       "\\item 942\n",
       "\\item 943\n",
       "\\item 944\n",
       "\\item 945\n",
       "\\item 946\n",
       "\\item 947\n",
       "\\item 948\n",
       "\\item 949\n",
       "\\item 950\n",
       "\\item 951\n",
       "\\item 952\n",
       "\\item 953\n",
       "\\item 954\n",
       "\\item 955\n",
       "\\item 956\n",
       "\\item 957\n",
       "\\item 958\n",
       "\\item 959\n",
       "\\item 960\n",
       "\\item 961\n",
       "\\item 962\n",
       "\\item 963\n",
       "\\item 964\n",
       "\\item 965\n",
       "\\item 966\n",
       "\\item 967\n",
       "\\item 968\n",
       "\\item 969\n",
       "\\item 970\n",
       "\\item 971\n",
       "\\item 972\n",
       "\\item 973\n",
       "\\item 974\n",
       "\\item 975\n",
       "\\item 976\n",
       "\\item 977\n",
       "\\item 978\n",
       "\\item 979\n",
       "\\item 980\n",
       "\\item 981\n",
       "\\item 982\n",
       "\\item 983\n",
       "\\item 984\n",
       "\\item 985\n",
       "\\item 986\n",
       "\\item 987\n",
       "\\item 988\n",
       "\\item 989\n",
       "\\item 990\n",
       "\\item 991\n",
       "\\item 992\n",
       "\\item 993\n",
       "\\item 994\n",
       "\\item 995\n",
       "\\item 996\n",
       "\\item 997\n",
       "\\item 998\n",
       "\\item 999\n",
       "\\item 1000\n",
       "\\end{enumerate*}\n"
      ],
      "text/markdown": [
       "1. 0\n",
       "2. 1\n",
       "3. 2\n",
       "4. 3\n",
       "5. 4\n",
       "6. 5\n",
       "7. 6\n",
       "8. 7\n",
       "9. 8\n",
       "10. 9\n",
       "11. 10\n",
       "12. 11\n",
       "13. 12\n",
       "14. 13\n",
       "15. 14\n",
       "16. 15\n",
       "17. 16\n",
       "18. 17\n",
       "19. 18\n",
       "20. 19\n",
       "21. 20\n",
       "22. 21\n",
       "23. 22\n",
       "24. 23\n",
       "25. 24\n",
       "26. 25\n",
       "27. 26\n",
       "28. 27\n",
       "29. 28\n",
       "30. 29\n",
       "31. 30\n",
       "32. 31\n",
       "33. 32\n",
       "34. 33\n",
       "35. 34\n",
       "36. 35\n",
       "37. 36\n",
       "38. 37\n",
       "39. 38\n",
       "40. 39\n",
       "41. 40\n",
       "42. 41\n",
       "43. 42\n",
       "44. 43\n",
       "45. 44\n",
       "46. 45\n",
       "47. 46\n",
       "48. 47\n",
       "49. 48\n",
       "50. 49\n",
       "51. 50\n",
       "52. 51\n",
       "53. 52\n",
       "54. 53\n",
       "55. 54\n",
       "56. 55\n",
       "57. 56\n",
       "58. 57\n",
       "59. 58\n",
       "60. 59\n",
       "61. 60\n",
       "62. 61\n",
       "63. 62\n",
       "64. 63\n",
       "65. 64\n",
       "66. 65\n",
       "67. 66\n",
       "68. 67\n",
       "69. 68\n",
       "70. 69\n",
       "71. 70\n",
       "72. 71\n",
       "73. 72\n",
       "74. 73\n",
       "75. 74\n",
       "76. 75\n",
       "77. 76\n",
       "78. 77\n",
       "79. 78\n",
       "80. 79\n",
       "81. 80\n",
       "82. 81\n",
       "83. 82\n",
       "84. 83\n",
       "85. 84\n",
       "86. 85\n",
       "87. 86\n",
       "88. 87\n",
       "89. 88\n",
       "90. 89\n",
       "91. 90\n",
       "92. 91\n",
       "93. 92\n",
       "94. 93\n",
       "95. 94\n",
       "96. 95\n",
       "97. 96\n",
       "98. 97\n",
       "99. 98\n",
       "100. 99\n",
       "101. 100\n",
       "102. 101\n",
       "103. 102\n",
       "104. 103\n",
       "105. 104\n",
       "106. 105\n",
       "107. 106\n",
       "108. 107\n",
       "109. 108\n",
       "110. 109\n",
       "111. 110\n",
       "112. 111\n",
       "113. 112\n",
       "114. 113\n",
       "115. 114\n",
       "116. 115\n",
       "117. 116\n",
       "118. 117\n",
       "119. 118\n",
       "120. 119\n",
       "121. 120\n",
       "122. 121\n",
       "123. 122\n",
       "124. 123\n",
       "125. 124\n",
       "126. 125\n",
       "127. 126\n",
       "128. 127\n",
       "129. 128\n",
       "130. 129\n",
       "131. 130\n",
       "132. 131\n",
       "133. 132\n",
       "134. 133\n",
       "135. 134\n",
       "136. 135\n",
       "137. 136\n",
       "138. 137\n",
       "139. 138\n",
       "140. 139\n",
       "141. 140\n",
       "142. 141\n",
       "143. 142\n",
       "144. 143\n",
       "145. 144\n",
       "146. 145\n",
       "147. 146\n",
       "148. 147\n",
       "149. 148\n",
       "150. 149\n",
       "151. 150\n",
       "152. 151\n",
       "153. 152\n",
       "154. 153\n",
       "155. 154\n",
       "156. 155\n",
       "157. 156\n",
       "158. 157\n",
       "159. 158\n",
       "160. 159\n",
       "161. 160\n",
       "162. 161\n",
       "163. 162\n",
       "164. 163\n",
       "165. 164\n",
       "166. 165\n",
       "167. 166\n",
       "168. 167\n",
       "169. 168\n",
       "170. 169\n",
       "171. 170\n",
       "172. 171\n",
       "173. 172\n",
       "174. 173\n",
       "175. 174\n",
       "176. 175\n",
       "177. 176\n",
       "178. 177\n",
       "179. 178\n",
       "180. 179\n",
       "181. 180\n",
       "182. 181\n",
       "183. 182\n",
       "184. 183\n",
       "185. 184\n",
       "186. 185\n",
       "187. 186\n",
       "188. 187\n",
       "189. 188\n",
       "190. 189\n",
       "191. 190\n",
       "192. 191\n",
       "193. 192\n",
       "194. 193\n",
       "195. 194\n",
       "196. 195\n",
       "197. 196\n",
       "198. 197\n",
       "199. 198\n",
       "200. 199\n",
       "201. ⋯\n",
       "202. 801\n",
       "203. 802\n",
       "204. 803\n",
       "205. 804\n",
       "206. 805\n",
       "207. 806\n",
       "208. 807\n",
       "209. 808\n",
       "210. 809\n",
       "211. 810\n",
       "212. 811\n",
       "213. 812\n",
       "214. 813\n",
       "215. 814\n",
       "216. 815\n",
       "217. 816\n",
       "218. 817\n",
       "219. 818\n",
       "220. 819\n",
       "221. 820\n",
       "222. 821\n",
       "223. 822\n",
       "224. 823\n",
       "225. 824\n",
       "226. 825\n",
       "227. 826\n",
       "228. 827\n",
       "229. 828\n",
       "230. 829\n",
       "231. 830\n",
       "232. 831\n",
       "233. 832\n",
       "234. 833\n",
       "235. 834\n",
       "236. 835\n",
       "237. 836\n",
       "238. 837\n",
       "239. 838\n",
       "240. 839\n",
       "241. 840\n",
       "242. 841\n",
       "243. 842\n",
       "244. 843\n",
       "245. 844\n",
       "246. 845\n",
       "247. 846\n",
       "248. 847\n",
       "249. 848\n",
       "250. 849\n",
       "251. 850\n",
       "252. 851\n",
       "253. 852\n",
       "254. 853\n",
       "255. 854\n",
       "256. 855\n",
       "257. 856\n",
       "258. 857\n",
       "259. 858\n",
       "260. 859\n",
       "261. 860\n",
       "262. 861\n",
       "263. 862\n",
       "264. 863\n",
       "265. 864\n",
       "266. 865\n",
       "267. 866\n",
       "268. 867\n",
       "269. 868\n",
       "270. 869\n",
       "271. 870\n",
       "272. 871\n",
       "273. 872\n",
       "274. 873\n",
       "275. 874\n",
       "276. 875\n",
       "277. 876\n",
       "278. 877\n",
       "279. 878\n",
       "280. 879\n",
       "281. 880\n",
       "282. 881\n",
       "283. 882\n",
       "284. 883\n",
       "285. 884\n",
       "286. 885\n",
       "287. 886\n",
       "288. 887\n",
       "289. 888\n",
       "290. 889\n",
       "291. 890\n",
       "292. 891\n",
       "293. 892\n",
       "294. 893\n",
       "295. 894\n",
       "296. 895\n",
       "297. 896\n",
       "298. 897\n",
       "299. 898\n",
       "300. 899\n",
       "301. 900\n",
       "302. 901\n",
       "303. 902\n",
       "304. 903\n",
       "305. 904\n",
       "306. 905\n",
       "307. 906\n",
       "308. 907\n",
       "309. 908\n",
       "310. 909\n",
       "311. 910\n",
       "312. 911\n",
       "313. 912\n",
       "314. 913\n",
       "315. 914\n",
       "316. 915\n",
       "317. 916\n",
       "318. 917\n",
       "319. 918\n",
       "320. 919\n",
       "321. 920\n",
       "322. 921\n",
       "323. 922\n",
       "324. 923\n",
       "325. 924\n",
       "326. 925\n",
       "327. 926\n",
       "328. 927\n",
       "329. 928\n",
       "330. 929\n",
       "331. 930\n",
       "332. 931\n",
       "333. 932\n",
       "334. 933\n",
       "335. 934\n",
       "336. 935\n",
       "337. 936\n",
       "338. 937\n",
       "339. 938\n",
       "340. 939\n",
       "341. 940\n",
       "342. 941\n",
       "343. 942\n",
       "344. 943\n",
       "345. 944\n",
       "346. 945\n",
       "347. 946\n",
       "348. 947\n",
       "349. 948\n",
       "350. 949\n",
       "351. 950\n",
       "352. 951\n",
       "353. 952\n",
       "354. 953\n",
       "355. 954\n",
       "356. 955\n",
       "357. 956\n",
       "358. 957\n",
       "359. 958\n",
       "360. 959\n",
       "361. 960\n",
       "362. 961\n",
       "363. 962\n",
       "364. 963\n",
       "365. 964\n",
       "366. 965\n",
       "367. 966\n",
       "368. 967\n",
       "369. 968\n",
       "370. 969\n",
       "371. 970\n",
       "372. 971\n",
       "373. 972\n",
       "374. 973\n",
       "375. 974\n",
       "376. 975\n",
       "377. 976\n",
       "378. 977\n",
       "379. 978\n",
       "380. 979\n",
       "381. 980\n",
       "382. 981\n",
       "383. 982\n",
       "384. 983\n",
       "385. 984\n",
       "386. 985\n",
       "387. 986\n",
       "388. 987\n",
       "389. 988\n",
       "390. 989\n",
       "391. 990\n",
       "392. 991\n",
       "393. 992\n",
       "394. 993\n",
       "395. 994\n",
       "396. 995\n",
       "397. 996\n",
       "398. 997\n",
       "399. 998\n",
       "400. 999\n",
       "401. 1000\n",
       "\n",
       "\n"
      ],
      "text/plain": [
       "   [1]    0    1    2    3    4    5    6    7    8    9   10   11   12   13\n",
       "  [15]   14   15   16   17   18   19   20   21   22   23   24   25   26   27\n",
       "  [29]   28   29   30   31   32   33   34   35   36   37   38   39   40   41\n",
       "  [43]   42   43   44   45   46   47   48   49   50   51   52   53   54   55\n",
       "  [57]   56   57   58   59   60   61   62   63   64   65   66   67   68   69\n",
       "  [71]   70   71   72   73   74   75   76   77   78   79   80   81   82   83\n",
       "  [85]   84   85   86   87   88   89   90   91   92   93   94   95   96   97\n",
       "  [99]   98   99  100  101  102  103  104  105  106  107  108  109  110  111\n",
       " [113]  112  113  114  115  116  117  118  119  120  121  122  123  124  125\n",
       " [127]  126  127  128  129  130  131  132  133  134  135  136  137  138  139\n",
       " [141]  140  141  142  143  144  145  146  147  148  149  150  151  152  153\n",
       " [155]  154  155  156  157  158  159  160  161  162  163  164  165  166  167\n",
       " [169]  168  169  170  171  172  173  174  175  176  177  178  179  180  181\n",
       " [183]  182  183  184  185  186  187  188  189  190  191  192  193  194  195\n",
       " [197]  196  197  198  199  200  201  202  203  204  205  206  207  208  209\n",
       " [211]  210  211  212  213  214  215  216  217  218  219  220  221  222  223\n",
       " [225]  224  225  226  227  228  229  230  231  232  233  234  235  236  237\n",
       " [239]  238  239  240  241  242  243  244  245  246  247  248  249  250  251\n",
       " [253]  252  253  254  255  256  257  258  259  260  261  262  263  264  265\n",
       " [267]  266  267  268  269  270  271  272  273  274  275  276  277  278  279\n",
       " [281]  280  281  282  283  284  285  286  287  288  289  290  291  292  293\n",
       " [295]  294  295  296  297  298  299  300  301  302  303  304  305  306  307\n",
       " [309]  308  309  310  311  312  313  314  315  316  317  318  319  320  321\n",
       " [323]  322  323  324  325  326  327  328  329  330  331  332  333  334  335\n",
       " [337]  336  337  338  339  340  341  342  343  344  345  346  347  348  349\n",
       " [351]  350  351  352  353  354  355  356  357  358  359  360  361  362  363\n",
       " [365]  364  365  366  367  368  369  370  371  372  373  374  375  376  377\n",
       " [379]  378  379  380  381  382  383  384  385  386  387  388  389  390  391\n",
       " [393]  392  393  394  395  396  397  398  399  400  401  402  403  404  405\n",
       " [407]  406  407  408  409  410  411  412  413  414  415  416  417  418  419\n",
       " [421]  420  421  422  423  424  425  426  427  428  429  430  431  432  433\n",
       " [435]  434  435  436  437  438  439  440  441  442  443  444  445  446  447\n",
       " [449]  448  449  450  451  452  453  454  455  456  457  458  459  460  461\n",
       " [463]  462  463  464  465  466  467  468  469  470  471  472  473  474  475\n",
       " [477]  476  477  478  479  480  481  482  483  484  485  486  487  488  489\n",
       " [491]  490  491  492  493  494  495  496  497  498  499  500  501  502  503\n",
       " [505]  504  505  506  507  508  509  510  511  512  513  514  515  516  517\n",
       " [519]  518  519  520  521  522  523  524  525  526  527  528  529  530  531\n",
       " [533]  532  533  534  535  536  537  538  539  540  541  542  543  544  545\n",
       " [547]  546  547  548  549  550  551  552  553  554  555  556  557  558  559\n",
       " [561]  560  561  562  563  564  565  566  567  568  569  570  571  572  573\n",
       " [575]  574  575  576  577  578  579  580  581  582  583  584  585  586  587\n",
       " [589]  588  589  590  591  592  593  594  595  596  597  598  599  600  601\n",
       " [603]  602  603  604  605  606  607  608  609  610  611  612  613  614  615\n",
       " [617]  616  617  618  619  620  621  622  623  624  625  626  627  628  629\n",
       " [631]  630  631  632  633  634  635  636  637  638  639  640  641  642  643\n",
       " [645]  644  645  646  647  648  649  650  651  652  653  654  655  656  657\n",
       " [659]  658  659  660  661  662  663  664  665  666  667  668  669  670  671\n",
       " [673]  672  673  674  675  676  677  678  679  680  681  682  683  684  685\n",
       " [687]  686  687  688  689  690  691  692  693  694  695  696  697  698  699\n",
       " [701]  700  701  702  703  704  705  706  707  708  709  710  711  712  713\n",
       " [715]  714  715  716  717  718  719  720  721  722  723  724  725  726  727\n",
       " [729]  728  729  730  731  732  733  734  735  736  737  738  739  740  741\n",
       " [743]  742  743  744  745  746  747  748  749  750  751  752  753  754  755\n",
       " [757]  756  757  758  759  760  761  762  763  764  765  766  767  768  769\n",
       " [771]  770  771  772  773  774  775  776  777  778  779  780  781  782  783\n",
       " [785]  784  785  786  787  788  789  790  791  792  793  794  795  796  797\n",
       " [799]  798  799  800  801  802  803  804  805  806  807  808  809  810  811\n",
       " [813]  812  813  814  815  816  817  818  819  820  821  822  823  824  825\n",
       " [827]  826  827  828  829  830  831  832  833  834  835  836  837  838  839\n",
       " [841]  840  841  842  843  844  845  846  847  848  849  850  851  852  853\n",
       " [855]  854  855  856  857  858  859  860  861  862  863  864  865  866  867\n",
       " [869]  868  869  870  871  872  873  874  875  876  877  878  879  880  881\n",
       " [883]  882  883  884  885  886  887  888  889  890  891  892  893  894  895\n",
       " [897]  896  897  898  899  900  901  902  903  904  905  906  907  908  909\n",
       " [911]  910  911  912  913  914  915  916  917  918  919  920  921  922  923\n",
       " [925]  924  925  926  927  928  929  930  931  932  933  934  935  936  937\n",
       " [939]  938  939  940  941  942  943  944  945  946  947  948  949  950  951\n",
       " [953]  952  953  954  955  956  957  958  959  960  961  962  963  964  965\n",
       " [967]  966  967  968  969  970  971  972  973  974  975  976  977  978  979\n",
       " [981]  980  981  982  983  984  985  986  987  988  989  990  991  992  993\n",
       " [995]  994  995  996  997  998  999 1000"
      ]
     },
     "metadata": {},
     "output_type": "display_data"
    }
   ],
   "source": [
    "c(0:1000)"
   ]
  },
  {
   "cell_type": "code",
   "execution_count": 27,
   "id": "2c8c621a",
   "metadata": {},
   "outputs": [
    {
     "data": {
      "text/html": [
       "<style>\n",
       ".list-inline {list-style: none; margin:0; padding: 0}\n",
       ".list-inline>li {display: inline-block}\n",
       ".list-inline>li:not(:last-child)::after {content: \"\\00b7\"; padding: 0 .5ex}\n",
       "</style>\n",
       "<ol class=list-inline><li>2</li><li>3</li></ol>\n"
      ],
      "text/latex": [
       "\\begin{enumerate*}\n",
       "\\item 2\n",
       "\\item 3\n",
       "\\end{enumerate*}\n"
      ],
      "text/markdown": [
       "1. 2\n",
       "2. 3\n",
       "\n",
       "\n"
      ],
      "text/plain": [
       "[1] 2 3"
      ]
     },
     "metadata": {},
     "output_type": "display_data"
    }
   ],
   "source": [
    "# To retrieve a vector without an item, you can use negative \n",
    "# indexing. For example, the following returns a vector slice\n",
    "# **without the first item**.\n",
    "vec[-1]"
   ]
  },
  {
   "cell_type": "code",
   "execution_count": 28,
   "id": "bcc9fd5b",
   "metadata": {},
   "outputs": [
    {
     "data": {
      "text/html": [
       "<style>\n",
       ".list-inline {list-style: none; margin:0; padding: 0}\n",
       ".list-inline>li {display: inline-block}\n",
       ".list-inline>li:not(:last-child)::after {content: \"\\00b7\"; padding: 0 .5ex}\n",
       "</style>\n",
       "<ol class=list-inline><li>'1'</li><li>'fas'</li></ol>\n"
      ],
      "text/latex": [
       "\\begin{enumerate*}\n",
       "\\item '1'\n",
       "\\item 'fas'\n",
       "\\end{enumerate*}\n"
      ],
      "text/markdown": [
       "1. '1'\n",
       "2. 'fas'\n",
       "\n",
       "\n"
      ],
      "text/plain": [
       "[1] \"1\"   \"fas\""
      ]
     },
     "metadata": {},
     "output_type": "display_data"
    }
   ],
   "source": [
    "c(1, \"fas\")"
   ]
  },
  {
   "cell_type": "code",
   "execution_count": 29,
   "id": "fd356946",
   "metadata": {},
   "outputs": [
    {
     "data": {
      "text/html": [],
      "text/latex": [],
      "text/markdown": [],
      "text/plain": [
       "numeric(0)"
      ]
     },
     "metadata": {},
     "output_type": "display_data"
    }
   ],
   "source": [
    "vec[0] # R is 1-indexing language"
   ]
  },
  {
   "cell_type": "code",
   "execution_count": 30,
   "id": "567948c0",
   "metadata": {},
   "outputs": [
    {
     "data": {
      "text/html": [
       "&lt;NA&gt;"
      ],
      "text/latex": [
       "<NA>"
      ],
      "text/markdown": [
       "&lt;NA&gt;"
      ],
      "text/plain": [
       "[1] NA"
      ]
     },
     "metadata": {},
     "output_type": "display_data"
    },
    {
     "data": {
      "text/html": [
       "'numeric'"
      ],
      "text/latex": [
       "'numeric'"
      ],
      "text/markdown": [
       "'numeric'"
      ],
      "text/plain": [
       "[1] \"numeric\""
      ]
     },
     "metadata": {},
     "output_type": "display_data"
    }
   ],
   "source": [
    "vec[100] # return <NA> if out of index;\n",
    "class(vec[100]) # <NA> in numeric"
   ]
  },
  {
   "cell_type": "markdown",
   "id": "8b9285d0",
   "metadata": {},
   "source": [
    "### Conditional index "
   ]
  },
  {
   "cell_type": "code",
   "execution_count": 31,
   "id": "8a3d91b5",
   "metadata": {},
   "outputs": [
    {
     "data": {
      "text/html": [
       "<style>\n",
       ".list-inline {list-style: none; margin:0; padding: 0}\n",
       ".list-inline>li {display: inline-block}\n",
       ".list-inline>li:not(:last-child)::after {content: \"\\00b7\"; padding: 0 .5ex}\n",
       "</style>\n",
       "<ol class=list-inline><li>2</li><li>3</li></ol>\n"
      ],
      "text/latex": [
       "\\begin{enumerate*}\n",
       "\\item 2\n",
       "\\item 3\n",
       "\\end{enumerate*}\n"
      ],
      "text/markdown": [
       "1. 2\n",
       "2. 3\n",
       "\n",
       "\n"
      ],
      "text/plain": [
       "[1] 2 3"
      ]
     },
     "metadata": {},
     "output_type": "display_data"
    }
   ],
   "source": [
    "vec[vec > 1] # Index like pandas"
   ]
  },
  {
   "cell_type": "code",
   "execution_count": 32,
   "id": "0b26bc88",
   "metadata": {},
   "outputs": [
    {
     "data": {
      "text/html": [
       "'character'"
      ],
      "text/latex": [
       "'character'"
      ],
      "text/markdown": [
       "'character'"
      ],
      "text/plain": [
       "[1] \"character\""
      ]
     },
     "metadata": {},
     "output_type": "display_data"
    }
   ],
   "source": [
    "class(c(1, 2, NA, \"flksadj\"))"
   ]
  },
  {
   "cell_type": "code",
   "execution_count": 33,
   "id": "71b786dd",
   "metadata": {},
   "outputs": [],
   "source": [
    "vector = c(1, 2, 3, TRUE)"
   ]
  },
  {
   "cell_type": "code",
   "execution_count": 34,
   "id": "4d846759",
   "metadata": {},
   "outputs": [
    {
     "data": {
      "text/html": [
       "<style>\n",
       ".list-inline {list-style: none; margin:0; padding: 0}\n",
       ".list-inline>li {display: inline-block}\n",
       ".list-inline>li:not(:last-child)::after {content: \"\\00b7\"; padding: 0 .5ex}\n",
       "</style>\n",
       "<ol class=list-inline><li>1</li><li>2</li><li>1</li></ol>\n"
      ],
      "text/latex": [
       "\\begin{enumerate*}\n",
       "\\item 1\n",
       "\\item 2\n",
       "\\item 1\n",
       "\\end{enumerate*}\n"
      ],
      "text/markdown": [
       "1. 1\n",
       "2. 2\n",
       "3. 1\n",
       "\n",
       "\n"
      ],
      "text/plain": [
       "[1] 1 2 1"
      ]
     },
     "metadata": {},
     "output_type": "display_data"
    }
   ],
   "source": [
    "vector[vector < 3]"
   ]
  },
  {
   "cell_type": "code",
   "execution_count": 35,
   "id": "db8a9e96",
   "metadata": {},
   "outputs": [
    {
     "data": {
      "text/html": [
       "&lt;NA&gt;"
      ],
      "text/latex": [
       "<NA>"
      ],
      "text/markdown": [
       "&lt;NA&gt;"
      ],
      "text/plain": [
       "[1] NA"
      ]
     },
     "metadata": {},
     "output_type": "display_data"
    }
   ],
   "source": [
    "NA * 132290"
   ]
  },
  {
   "cell_type": "markdown",
   "id": "35e44aa8",
   "metadata": {},
   "source": [
    "## Describe vector"
   ]
  },
  {
   "cell_type": "code",
   "execution_count": 36,
   "id": "2f191d1c",
   "metadata": {},
   "outputs": [
    {
     "ename": "ERROR",
     "evalue": "Error in summary(vector_number): object 'vector_number' not found\n",
     "output_type": "error",
     "traceback": [
      "Error in summary(vector_number): object 'vector_number' not found\nTraceback:\n",
      "1. summary(vector_number)"
     ]
    }
   ],
   "source": [
    "summary(vector_number)"
   ]
  },
  {
   "cell_type": "code",
   "execution_count": 37,
   "id": "c5b8c54d",
   "metadata": {},
   "outputs": [
    {
     "data": {
      "text/html": [
       "<style>\n",
       ".list-inline {list-style: none; margin:0; padding: 0}\n",
       ".list-inline>li {display: inline-block}\n",
       ".list-inline>li:not(:last-child)::after {content: \"\\00b7\"; padding: 0 .5ex}\n",
       "</style>\n",
       "<ol class=list-inline><li>1</li><li>2</li><li>2</li><li>3</li><li>3</li><li>65</li></ol>\n"
      ],
      "text/latex": [
       "\\begin{enumerate*}\n",
       "\\item 1\n",
       "\\item 2\n",
       "\\item 2\n",
       "\\item 3\n",
       "\\item 3\n",
       "\\item 65\n",
       "\\end{enumerate*}\n"
      ],
      "text/markdown": [
       "1. 1\n",
       "2. 2\n",
       "3. 2\n",
       "4. 3\n",
       "5. 3\n",
       "6. 65\n",
       "\n",
       "\n"
      ],
      "text/plain": [
       "[1]  1  2  2  3  3 65"
      ]
     },
     "metadata": {},
     "output_type": "display_data"
    }
   ],
   "source": [
    "vector_number <- c(1, 2, 2,3, 3, 65); vector_number"
   ]
  },
  {
   "cell_type": "code",
   "execution_count": 38,
   "id": "8306b9c8",
   "metadata": {},
   "outputs": [
    {
     "data": {
      "text/html": [
       "<style>\n",
       ".list-inline {list-style: none; margin:0; padding: 0}\n",
       ".list-inline>li {display: inline-block}\n",
       ".list-inline>li:not(:last-child)::after {content: \"\\00b7\"; padding: 0 .5ex}\n",
       "</style>\n",
       "<ol class=list-inline><li>1</li><li>2</li><li>2</li></ol>\n"
      ],
      "text/latex": [
       "\\begin{enumerate*}\n",
       "\\item 1\n",
       "\\item 2\n",
       "\\item 2\n",
       "\\end{enumerate*}\n"
      ],
      "text/markdown": [
       "1. 1\n",
       "2. 2\n",
       "3. 2\n",
       "\n",
       "\n"
      ],
      "text/plain": [
       "[1] 1 2 2"
      ]
     },
     "metadata": {},
     "output_type": "display_data"
    },
    {
     "data": {
      "text/html": [
       "<style>\n",
       ".list-inline {list-style: none; margin:0; padding: 0}\n",
       ".list-inline>li {display: inline-block}\n",
       ".list-inline>li:not(:last-child)::after {content: \"\\00b7\"; padding: 0 .5ex}\n",
       "</style>\n",
       "<ol class=list-inline><li>3</li><li>65</li></ol>\n"
      ],
      "text/latex": [
       "\\begin{enumerate*}\n",
       "\\item 3\n",
       "\\item 65\n",
       "\\end{enumerate*}\n"
      ],
      "text/markdown": [
       "1. 3\n",
       "2. 65\n",
       "\n",
       "\n"
      ],
      "text/plain": [
       "[1]  3 65"
      ]
     },
     "metadata": {},
     "output_type": "display_data"
    },
    {
     "data": {
      "text/html": [
       "<style>\n",
       ".list-inline {list-style: none; margin:0; padding: 0}\n",
       ".list-inline>li {display: inline-block}\n",
       ".list-inline>li:not(:last-child)::after {content: \"\\00b7\"; padding: 0 .5ex}\n",
       "</style>\n",
       "<ol class=list-inline><li>1</li><li>2</li><li>3</li><li>1</li></ol>\n"
      ],
      "text/latex": [
       "\\begin{enumerate*}\n",
       "\\item 1\n",
       "\\item 2\n",
       "\\item 3\n",
       "\\item 1\n",
       "\\end{enumerate*}\n"
      ],
      "text/markdown": [
       "1. 1\n",
       "2. 2\n",
       "3. 3\n",
       "4. 1\n",
       "\n",
       "\n"
      ],
      "text/plain": [
       "[1] 1 2 3 1"
      ]
     },
     "metadata": {},
     "output_type": "display_data"
    }
   ],
   "source": [
    "head(vector_number, n=3); tail(vector_number, n=2); vector"
   ]
  },
  {
   "cell_type": "code",
   "execution_count": 39,
   "id": "b36dc712",
   "metadata": {},
   "outputs": [
    {
     "data": {
      "text/html": [
       "<style>\n",
       ".list-inline {list-style: none; margin:0; padding: 0}\n",
       ".list-inline>li {display: inline-block}\n",
       ".list-inline>li:not(:last-child)::after {content: \"\\00b7\"; padding: 0 .5ex}\n",
       "</style>\n",
       "<ol class=list-inline><li>'flksdajf'</li><li>'flkdssja'</li><li>'hello'</li><li>'hello'</li><li>'fj1'</li></ol>\n"
      ],
      "text/latex": [
       "\\begin{enumerate*}\n",
       "\\item 'flksdajf'\n",
       "\\item 'flkdssja'\n",
       "\\item 'hello'\n",
       "\\item 'hello'\n",
       "\\item 'fj1'\n",
       "\\end{enumerate*}\n"
      ],
      "text/markdown": [
       "1. 'flksdajf'\n",
       "2. 'flkdssja'\n",
       "3. 'hello'\n",
       "4. 'hello'\n",
       "5. 'fj1'\n",
       "\n",
       "\n"
      ],
      "text/plain": [
       "[1] \"flksdajf\" \"flkdssja\" \"hello\"    \"hello\"    \"fj1\"     "
      ]
     },
     "metadata": {},
     "output_type": "display_data"
    }
   ],
   "source": [
    "vector_character <- c(\"flksdajf\", \"flkdssja\", 'hello', \"hello\", \"fj1\"); vector_character"
   ]
  },
  {
   "cell_type": "code",
   "execution_count": 40,
   "id": "d9e156d9",
   "metadata": {},
   "outputs": [
    {
     "data": {
      "text/plain": [
       "   Length     Class      Mode \n",
       "        5 character character "
      ]
     },
     "metadata": {},
     "output_type": "display_data"
    }
   ],
   "source": [
    "summary(vector_character)"
   ]
  },
  {
   "cell_type": "code",
   "execution_count": 41,
   "id": "3cc74343",
   "metadata": {},
   "outputs": [
    {
     "data": {
      "text/html": [
       "<style>\n",
       ".list-inline {list-style: none; margin:0; padding: 0}\n",
       ".list-inline>li {display: inline-block}\n",
       ".list-inline>li:not(:last-child)::after {content: \"\\00b7\"; padding: 0 .5ex}\n",
       "</style>\n",
       "<ol class=list-inline><li>'flkkasj'</li><li>'1'</li><li>'1'</li><li>'1'</li><li>'12'</li><li>'231'</li></ol>\n"
      ],
      "text/latex": [
       "\\begin{enumerate*}\n",
       "\\item 'flkkasj'\n",
       "\\item '1'\n",
       "\\item '1'\n",
       "\\item '1'\n",
       "\\item '12'\n",
       "\\item '231'\n",
       "\\end{enumerate*}\n"
      ],
      "text/markdown": [
       "1. 'flkkasj'\n",
       "2. '1'\n",
       "3. '1'\n",
       "4. '1'\n",
       "5. '12'\n",
       "6. '231'\n",
       "\n",
       "\n"
      ],
      "text/plain": [
       "[1] \"flkkasj\" \"1\"       \"1\"       \"1\"       \"12\"      \"231\"    "
      ]
     },
     "metadata": {},
     "output_type": "display_data"
    }
   ],
   "source": [
    "vector_hybrid <- c(\"flkkasj\", 1, 1.0, 1L, 12, 231); vector_hybrid"
   ]
  },
  {
   "cell_type": "code",
   "execution_count": 42,
   "id": "b28a9ffa",
   "metadata": {},
   "outputs": [
    {
     "data": {
      "text/plain": [
       "   Length     Class      Mode \n",
       "        6 character character "
      ]
     },
     "metadata": {},
     "output_type": "display_data"
    }
   ],
   "source": [
    "summary(vector_hybrid)"
   ]
  },
  {
   "cell_type": "markdown",
   "id": "c7cbaf6e",
   "metadata": {},
   "source": [
    "Summary vector:\n",
    "- number: return descriptive statistic for number like max, min, median,... <- Because quantitative data\n",
    "- character: return length, class, mode <- Because qualitative data.\n",
    "- hybrid: automatic convert to character vector :)))"
   ]
  },
  {
   "cell_type": "code",
   "execution_count": 43,
   "id": "fe885e79",
   "metadata": {},
   "outputs": [
    {
     "data": {
      "text/html": [
       "<style>\n",
       ".list-inline {list-style: none; margin:0; padding: 0}\n",
       ".list-inline>li {display: inline-block}\n",
       ".list-inline>li:not(:last-child)::after {content: \"\\00b7\"; padding: 0 .5ex}\n",
       "</style>\n",
       "<ol class=list-inline><li>TRUE</li><li>TRUE</li><li>FALSE</li><li>FALSE</li><li>TRUE</li><li>TRUE</li></ol>\n"
      ],
      "text/latex": [
       "\\begin{enumerate*}\n",
       "\\item TRUE\n",
       "\\item TRUE\n",
       "\\item FALSE\n",
       "\\item FALSE\n",
       "\\item TRUE\n",
       "\\item TRUE\n",
       "\\end{enumerate*}\n"
      ],
      "text/markdown": [
       "1. TRUE\n",
       "2. TRUE\n",
       "3. FALSE\n",
       "4. FALSE\n",
       "5. TRUE\n",
       "6. TRUE\n",
       "\n",
       "\n"
      ],
      "text/plain": [
       "[1]  TRUE  TRUE FALSE FALSE  TRUE  TRUE"
      ]
     },
     "metadata": {},
     "output_type": "display_data"
    }
   ],
   "source": [
    "c(\"flkkasj\", 1, 1.0, 1L, 12, 231) == c(\"flkkasj\", \"1\", \"1.0\", \"1L\", \"12\", \"231\")"
   ]
  },
  {
   "cell_type": "code",
   "execution_count": 44,
   "id": "40181599",
   "metadata": {},
   "outputs": [
    {
     "data": {
      "text/html": [
       "TRUE"
      ],
      "text/latex": [
       "TRUE"
      ],
      "text/markdown": [
       "TRUE"
      ],
      "text/plain": [
       "[1] TRUE"
      ]
     },
     "metadata": {},
     "output_type": "display_data"
    }
   ],
   "source": [
    "class(c(\"flkkasj\", 1, 1.0, 1L, 12, 231)) == class(c(\"flkkasj\", \"1\", \"1.0\", \"1L\", \"12\", \"231\"))"
   ]
  },
  {
   "cell_type": "code",
   "execution_count": 45,
   "id": "4785340f",
   "metadata": {},
   "outputs": [
    {
     "data": {
      "text/html": [
       "<style>\n",
       ".list-inline {list-style: none; margin:0; padding: 0}\n",
       ".list-inline>li {display: inline-block}\n",
       ".list-inline>li:not(:last-child)::after {content: \"\\00b7\"; padding: 0 .5ex}\n",
       "</style>\n",
       "<ol class=list-inline><li>1</li><li>2</li><li>2</li><li>3</li><li>3</li><li>65</li></ol>\n",
       "\n",
       "<details>\n",
       "\t<summary style=display:list-item;cursor:pointer>\n",
       "\t\t<strong>Levels</strong>:\n",
       "\t</summary>\n",
       "\t<style>\n",
       "\t.list-inline {list-style: none; margin:0; padding: 0}\n",
       "\t.list-inline>li {display: inline-block}\n",
       "\t.list-inline>li:not(:last-child)::after {content: \"\\00b7\"; padding: 0 .5ex}\n",
       "\t</style>\n",
       "\t<ol class=list-inline><li>'1'</li><li>'2'</li><li>'3'</li><li>'65'</li></ol>\n",
       "</details>"
      ],
      "text/latex": [
       "\\begin{enumerate*}\n",
       "\\item 1\n",
       "\\item 2\n",
       "\\item 2\n",
       "\\item 3\n",
       "\\item 3\n",
       "\\item 65\n",
       "\\end{enumerate*}\n",
       "\n",
       "\\emph{Levels}: \\begin{enumerate*}\n",
       "\\item '1'\n",
       "\\item '2'\n",
       "\\item '3'\n",
       "\\item '65'\n",
       "\\end{enumerate*}\n"
      ],
      "text/markdown": [
       "1. 1\n",
       "2. 2\n",
       "3. 2\n",
       "4. 3\n",
       "5. 3\n",
       "6. 65\n",
       "\n",
       "\n",
       "\n",
       "**Levels**: 1. '1'\n",
       "2. '2'\n",
       "3. '3'\n",
       "4. '65'\n",
       "\n",
       "\n"
      ],
      "text/plain": [
       "[1] 1  2  2  3  3  65\n",
       "Levels: 1 2 3 65"
      ]
     },
     "metadata": {},
     "output_type": "display_data"
    }
   ],
   "source": [
    "factor(vector_number)"
   ]
  },
  {
   "cell_type": "code",
   "execution_count": 46,
   "id": "8bd29815",
   "metadata": {},
   "outputs": [
    {
     "data": {
      "text/html": [
       "<style>\n",
       ".list-inline {list-style: none; margin:0; padding: 0}\n",
       ".list-inline>li {display: inline-block}\n",
       ".list-inline>li:not(:last-child)::after {content: \"\\00b7\"; padding: 0 .5ex}\n",
       "</style>\n",
       "<ol class=list-inline><li>flksdajf</li><li>flkdssja</li><li>hello</li><li>hello</li><li>fj1</li></ol>\n",
       "\n",
       "<details>\n",
       "\t<summary style=display:list-item;cursor:pointer>\n",
       "\t\t<strong>Levels</strong>:\n",
       "\t</summary>\n",
       "\t<style>\n",
       "\t.list-inline {list-style: none; margin:0; padding: 0}\n",
       "\t.list-inline>li {display: inline-block}\n",
       "\t.list-inline>li:not(:last-child)::after {content: \"\\00b7\"; padding: 0 .5ex}\n",
       "\t</style>\n",
       "\t<ol class=list-inline><li>'fj1'</li><li>'flkdssja'</li><li>'flksdajf'</li><li>'hello'</li></ol>\n",
       "</details>"
      ],
      "text/latex": [
       "\\begin{enumerate*}\n",
       "\\item flksdajf\n",
       "\\item flkdssja\n",
       "\\item hello\n",
       "\\item hello\n",
       "\\item fj1\n",
       "\\end{enumerate*}\n",
       "\n",
       "\\emph{Levels}: \\begin{enumerate*}\n",
       "\\item 'fj1'\n",
       "\\item 'flkdssja'\n",
       "\\item 'flksdajf'\n",
       "\\item 'hello'\n",
       "\\end{enumerate*}\n"
      ],
      "text/markdown": [
       "1. flksdajf\n",
       "2. flkdssja\n",
       "3. hello\n",
       "4. hello\n",
       "5. fj1\n",
       "\n",
       "\n",
       "\n",
       "**Levels**: 1. 'fj1'\n",
       "2. 'flkdssja'\n",
       "3. 'flksdajf'\n",
       "4. 'hello'\n",
       "\n",
       "\n"
      ],
      "text/plain": [
       "[1] flksdajf flkdssja hello    hello    fj1     \n",
       "Levels: fj1 flkdssja flksdajf hello"
      ]
     },
     "metadata": {},
     "output_type": "display_data"
    }
   ],
   "source": [
    "vector_factor = factor(vector_character); vector_factor"
   ]
  },
  {
   "cell_type": "code",
   "execution_count": 47,
   "id": "1a52978d",
   "metadata": {},
   "outputs": [
    {
     "data": {
      "text/html": [
       "'factor'"
      ],
      "text/latex": [
       "'factor'"
      ],
      "text/markdown": [
       "'factor'"
      ],
      "text/plain": [
       "[1] \"factor\""
      ]
     },
     "metadata": {},
     "output_type": "display_data"
    }
   ],
   "source": [
    "class(vector_factor)"
   ]
  },
  {
   "cell_type": "code",
   "execution_count": 48,
   "id": "dc16dce4",
   "metadata": {},
   "outputs": [
    {
     "data": {
      "text/html": [
       "<style>\n",
       ".dl-inline {width: auto; margin:0; padding: 0}\n",
       ".dl-inline>dt, .dl-inline>dd {float: none; width: auto; display: inline-block}\n",
       ".dl-inline>dt::after {content: \":\\0020\"; padding-right: .5ex}\n",
       ".dl-inline>dt:not(:first-of-type) {padding-left: .5ex}\n",
       "</style><dl class=dl-inline><dt>fj1</dt><dd>1</dd><dt>flkdssja</dt><dd>1</dd><dt>flksdajf</dt><dd>1</dd><dt>hello</dt><dd>2</dd></dl>\n"
      ],
      "text/latex": [
       "\\begin{description*}\n",
       "\\item[fj1] 1\n",
       "\\item[flkdssja] 1\n",
       "\\item[flksdajf] 1\n",
       "\\item[hello] 2\n",
       "\\end{description*}\n"
      ],
      "text/markdown": [
       "fj1\n",
       ":   1flkdssja\n",
       ":   1flksdajf\n",
       ":   1hello\n",
       ":   2\n",
       "\n"
      ],
      "text/plain": [
       "     fj1 flkdssja flksdajf    hello \n",
       "       1        1        1        2 "
      ]
     },
     "metadata": {},
     "output_type": "display_data"
    }
   ],
   "source": [
    "summary(vector_factor) # Summary a factor vector will display elements frequency"
   ]
  },
  {
   "cell_type": "code",
   "execution_count": 49,
   "id": "b19f9e73",
   "metadata": {},
   "outputs": [
    {
     "data": {
      "text/html": [
       "2"
      ],
      "text/latex": [
       "2"
      ],
      "text/markdown": [
       "2"
      ],
      "text/plain": [
       "[1] 2"
      ]
     },
     "metadata": {},
     "output_type": "display_data"
    }
   ],
   "source": [
    "as.numeric(\"2.0\")"
   ]
  },
  {
   "cell_type": "code",
   "execution_count": 50,
   "id": "b1edf76c",
   "metadata": {},
   "outputs": [
    {
     "data": {
      "text/html": [
       "TRUE"
      ],
      "text/latex": [
       "TRUE"
      ],
      "text/markdown": [
       "TRUE"
      ],
      "text/plain": [
       "[1] TRUE"
      ]
     },
     "metadata": {},
     "output_type": "display_data"
    }
   ],
   "source": [
    "2 == 2.0"
   ]
  },
  {
   "cell_type": "code",
   "execution_count": 51,
   "id": "b0fbfaf1",
   "metadata": {},
   "outputs": [
    {
     "data": {
      "text/html": [
       "FALSE"
      ],
      "text/latex": [
       "FALSE"
      ],
      "text/markdown": [
       "FALSE"
      ],
      "text/plain": [
       "[1] FALSE"
      ]
     },
     "metadata": {},
     "output_type": "display_data"
    }
   ],
   "source": [
    "\"2.0\" == 2.0"
   ]
  },
  {
   "cell_type": "code",
   "execution_count": 52,
   "id": "2531e6bd",
   "metadata": {},
   "outputs": [
    {
     "data": {
      "text/html": [
       "TRUE"
      ],
      "text/latex": [
       "TRUE"
      ],
      "text/markdown": [
       "TRUE"
      ],
      "text/plain": [
       "[1] TRUE"
      ]
     },
     "metadata": {},
     "output_type": "display_data"
    }
   ],
   "source": [
    "1L == \"1\""
   ]
  },
  {
   "cell_type": "markdown",
   "id": "d1517e0b",
   "metadata": {},
   "source": [
    "## List"
   ]
  },
  {
   "cell_type": "code",
   "execution_count": 53,
   "id": "75c2a43e",
   "metadata": {},
   "outputs": [
    {
     "data": {
      "text/html": [
       "<ol>\n",
       "\t<li>'hello'</li>\n",
       "\t<li>1.2</li>\n",
       "\t<li>1</li>\n",
       "\t<li><style>\n",
       ".list-inline {list-style: none; margin:0; padding: 0}\n",
       ".list-inline>li {display: inline-block}\n",
       ".list-inline>li:not(:last-child)::after {content: \"\\00b7\"; padding: 0 .5ex}\n",
       "</style>\n",
       "<ol class=list-inline><li>1</li><li>2</li><li>4</li><li>4.1</li></ol>\n",
       "</li>\n",
       "</ol>\n"
      ],
      "text/latex": [
       "\\begin{enumerate}\n",
       "\\item 'hello'\n",
       "\\item 1.2\n",
       "\\item 1\n",
       "\\item \\begin{enumerate*}\n",
       "\\item 1\n",
       "\\item 2\n",
       "\\item 4\n",
       "\\item 4.1\n",
       "\\end{enumerate*}\n",
       "\n",
       "\\end{enumerate}\n"
      ],
      "text/markdown": [
       "1. 'hello'\n",
       "2. 1.2\n",
       "3. 1\n",
       "4. 1. 1\n",
       "2. 2\n",
       "3. 4\n",
       "4. 4.1\n",
       "\n",
       "\n",
       "\n",
       "\n",
       "\n"
      ],
      "text/plain": [
       "[[1]]\n",
       "[1] \"hello\"\n",
       "\n",
       "[[2]]\n",
       "[1] 1.2\n",
       "\n",
       "[[3]]\n",
       "[1] 1\n",
       "\n",
       "[[4]]\n",
       "[1] 1.0 2.0 4.0 4.1\n"
      ]
     },
     "metadata": {},
     "output_type": "display_data"
    }
   ],
   "source": [
    "lst = list(\"hello\", 1.2, 1, c(1, 2, 4, 4.1)); lst"
   ]
  },
  {
   "cell_type": "code",
   "execution_count": 54,
   "id": "6f5e9d43",
   "metadata": {},
   "outputs": [
    {
     "data": {
      "text/html": [
       "'list'"
      ],
      "text/latex": [
       "'list'"
      ],
      "text/markdown": [
       "'list'"
      ],
      "text/plain": [
       "[1] \"list\""
      ]
     },
     "metadata": {},
     "output_type": "display_data"
    }
   ],
   "source": [
    "class(lst)"
   ]
  },
  {
   "cell_type": "markdown",
   "id": "f40af314",
   "metadata": {},
   "source": [
    "Note: In R __list__ can create a collection with __multiple data type__ inside, but __vector__ only __one datatype__, because vector will indeed the same datatype after putting value inside c() but list() will keep all the same."
   ]
  },
  {
   "cell_type": "markdown",
   "id": "5e75ce3d",
   "metadata": {},
   "source": [
    "## Named list"
   ]
  },
  {
   "cell_type": "code",
   "execution_count": 55,
   "id": "4550f36f",
   "metadata": {},
   "outputs": [],
   "source": [
    "student <- list(name = \"Alice\",\n",
    "              age = 20,\n",
    "              score = c(10, 9, 6))"
   ]
  },
  {
   "cell_type": "code",
   "execution_count": 56,
   "id": "0549857f",
   "metadata": {},
   "outputs": [
    {
     "data": {
      "text/html": [
       "<strong>$name</strong> = 'Alice'"
      ],
      "text/latex": [
       "\\textbf{\\$name} = 'Alice'"
      ],
      "text/markdown": [
       "**$name** = 'Alice'"
      ],
      "text/plain": [
       "$name\n",
       "[1] \"Alice\"\n"
      ]
     },
     "metadata": {},
     "output_type": "display_data"
    },
    {
     "data": {
      "text/html": [
       "'Alice'"
      ],
      "text/latex": [
       "'Alice'"
      ],
      "text/markdown": [
       "'Alice'"
      ],
      "text/plain": [
       "[1] \"Alice\""
      ]
     },
     "metadata": {},
     "output_type": "display_data"
    },
    {
     "data": {
      "text/html": [
       "<dl>\n",
       "\t<dt>$name</dt>\n",
       "\t\t<dd>'Alice'</dd>\n",
       "\t<dt>$age</dt>\n",
       "\t\t<dd>20</dd>\n",
       "</dl>\n"
      ],
      "text/latex": [
       "\\begin{description}\n",
       "\\item[\\$name] 'Alice'\n",
       "\\item[\\$age] 20\n",
       "\\end{description}\n"
      ],
      "text/markdown": [
       "$name\n",
       ":   'Alice'\n",
       "$age\n",
       ":   20\n",
       "\n",
       "\n"
      ],
      "text/plain": [
       "$name\n",
       "[1] \"Alice\"\n",
       "\n",
       "$age\n",
       "[1] 20\n"
      ]
     },
     "metadata": {},
     "output_type": "display_data"
    }
   ],
   "source": [
    "# Accessing value using [], $ (one at once) and c() (multiple at once)\n",
    "student[\"name\"]; student$name; student[c(\"name\", \"age\")] "
   ]
  },
  {
   "cell_type": "code",
   "execution_count": 57,
   "id": "8ff91e8d",
   "metadata": {},
   "outputs": [],
   "source": [
    "student$age <- 21"
   ]
  },
  {
   "cell_type": "code",
   "execution_count": 58,
   "id": "f30619d7",
   "metadata": {},
   "outputs": [
    {
     "data": {
      "text/html": [
       "<dl>\n",
       "\t<dt>$name</dt>\n",
       "\t\t<dd>'Alice'</dd>\n",
       "\t<dt>$age</dt>\n",
       "\t\t<dd>21</dd>\n",
       "\t<dt>$score</dt>\n",
       "\t\t<dd><style>\n",
       ".list-inline {list-style: none; margin:0; padding: 0}\n",
       ".list-inline>li {display: inline-block}\n",
       ".list-inline>li:not(:last-child)::after {content: \"\\00b7\"; padding: 0 .5ex}\n",
       "</style>\n",
       "<ol class=list-inline><li>10</li><li>9</li><li>6</li></ol>\n",
       "</dd>\n",
       "</dl>\n"
      ],
      "text/latex": [
       "\\begin{description}\n",
       "\\item[\\$name] 'Alice'\n",
       "\\item[\\$age] 21\n",
       "\\item[\\$score] \\begin{enumerate*}\n",
       "\\item 10\n",
       "\\item 9\n",
       "\\item 6\n",
       "\\end{enumerate*}\n",
       "\n",
       "\\end{description}\n"
      ],
      "text/markdown": [
       "$name\n",
       ":   'Alice'\n",
       "$age\n",
       ":   21\n",
       "$score\n",
       ":   1. 10\n",
       "2. 9\n",
       "3. 6\n",
       "\n",
       "\n",
       "\n",
       "\n",
       "\n"
      ],
      "text/plain": [
       "$name\n",
       "[1] \"Alice\"\n",
       "\n",
       "$age\n",
       "[1] 21\n",
       "\n",
       "$score\n",
       "[1] 10  9  6\n"
      ]
     },
     "metadata": {},
     "output_type": "display_data"
    }
   ],
   "source": [
    "student"
   ]
  },
  {
   "cell_type": "code",
   "execution_count": 59,
   "id": "b0a083df",
   "metadata": {},
   "outputs": [
    {
     "data": {
      "text/html": [
       "<dl>\n",
       "\t<dt>$age</dt>\n",
       "\t\t<dd>21</dd>\n",
       "\t<dt>$score</dt>\n",
       "\t\t<dd><style>\n",
       ".list-inline {list-style: none; margin:0; padding: 0}\n",
       ".list-inline>li {display: inline-block}\n",
       ".list-inline>li:not(:last-child)::after {content: \"\\00b7\"; padding: 0 .5ex}\n",
       "</style>\n",
       "<ol class=list-inline><li>10</li><li>9</li><li>6</li></ol>\n",
       "</dd>\n",
       "</dl>\n"
      ],
      "text/latex": [
       "\\begin{description}\n",
       "\\item[\\$age] 21\n",
       "\\item[\\$score] \\begin{enumerate*}\n",
       "\\item 10\n",
       "\\item 9\n",
       "\\item 6\n",
       "\\end{enumerate*}\n",
       "\n",
       "\\end{description}\n"
      ],
      "text/markdown": [
       "$age\n",
       ":   21\n",
       "$score\n",
       ":   1. 10\n",
       "2. 9\n",
       "3. 6\n",
       "\n",
       "\n",
       "\n",
       "\n",
       "\n"
      ],
      "text/plain": [
       "$age\n",
       "[1] 21\n",
       "\n",
       "$score\n",
       "[1] 10  9  6\n"
      ]
     },
     "metadata": {},
     "output_type": "display_data"
    }
   ],
   "source": [
    "# Remove key-value\n",
    "student$name <- NULL; student"
   ]
  },
  {
   "cell_type": "code",
   "execution_count": 60,
   "id": "5546c1aa",
   "metadata": {},
   "outputs": [
    {
     "data": {
      "text/html": [
       "<strong>$age</strong> = 21"
      ],
      "text/latex": [
       "\\textbf{\\$age} = 21"
      ],
      "text/markdown": [
       "**$age** = 21"
      ],
      "text/plain": [
       "$age\n",
       "[1] 21\n"
      ]
     },
     "metadata": {},
     "output_type": "display_data"
    },
    {
     "data": {
      "text/html": [
       "<strong>$age</strong> = 21"
      ],
      "text/latex": [
       "\\textbf{\\$age} = 21"
      ],
      "text/markdown": [
       "**$age** = 21"
      ],
      "text/plain": [
       "$age\n",
       "[1] 21\n"
      ]
     },
     "metadata": {},
     "output_type": "display_data"
    },
    {
     "data": {
      "text/html": [
       "21"
      ],
      "text/latex": [
       "21"
      ],
      "text/markdown": [
       "21"
      ],
      "text/plain": [
       "[1] 21"
      ]
     },
     "metadata": {},
     "output_type": "display_data"
    }
   ],
   "source": [
    "# [] and [[]] both used for indexing but [] returns sub-set\n",
    "# [[]] returns element\n",
    "student[1]; student[\"age\"]; student[[\"age\"]]"
   ]
  },
  {
   "cell_type": "markdown",
   "id": "3fa0117a",
   "metadata": {},
   "source": [
    "## Array"
   ]
  },
  {
   "cell_type": "code",
   "execution_count": 61,
   "id": "5e6d29ec",
   "metadata": {},
   "outputs": [],
   "source": [
    "vector <- c(1, 2, 3, 4, 5, 6, 7, 8, 9)"
   ]
  },
  {
   "cell_type": "code",
   "execution_count": 62,
   "id": "216a4ac8",
   "metadata": {},
   "outputs": [
    {
     "data": {
      "text/html": [
       "<table class=\"dataframe\">\n",
       "<caption>A matrix: 4 × 3 of type dbl</caption>\n",
       "<tbody>\n",
       "\t<tr><td>1</td><td>5</td><td>9</td></tr>\n",
       "\t<tr><td>2</td><td>6</td><td>1</td></tr>\n",
       "\t<tr><td>3</td><td>7</td><td>2</td></tr>\n",
       "\t<tr><td>4</td><td>8</td><td>3</td></tr>\n",
       "</tbody>\n",
       "</table>\n"
      ],
      "text/latex": [
       "A matrix: 4 × 3 of type dbl\n",
       "\\begin{tabular}{lll}\n",
       "\t 1 & 5 & 9\\\\\n",
       "\t 2 & 6 & 1\\\\\n",
       "\t 3 & 7 & 2\\\\\n",
       "\t 4 & 8 & 3\\\\\n",
       "\\end{tabular}\n"
      ],
      "text/markdown": [
       "\n",
       "A matrix: 4 × 3 of type dbl\n",
       "\n",
       "| 1 | 5 | 9 |\n",
       "| 2 | 6 | 1 |\n",
       "| 3 | 7 | 2 |\n",
       "| 4 | 8 | 3 |\n",
       "\n"
      ],
      "text/plain": [
       "     [,1] [,2] [,3]\n",
       "[1,] 1    5    9   \n",
       "[2,] 2    6    1   \n",
       "[3,] 3    7    2   \n",
       "[4,] 4    8    3   "
      ]
     },
     "metadata": {},
     "output_type": "display_data"
    }
   ],
   "source": [
    "# if dimension (a, b) with a * b != length(vector) => it will auto-repeat\n",
    "# the old elements, e.g:\n",
    "# (4, 3) with 4 * 3 != 9 => (1, 2, 3, 4, 5, 6, 7, 8, 9, 1, 2, 3)\n",
    "arr <- array(vector, dim=c(4, 3)); arr"
   ]
  },
  {
   "cell_type": "code",
   "execution_count": 63,
   "id": "fa9b411f",
   "metadata": {},
   "outputs": [
    {
     "data": {
      "text/html": [
       "<style>\n",
       ".list-inline {list-style: none; margin:0; padding: 0}\n",
       ".list-inline>li {display: inline-block}\n",
       ".list-inline>li:not(:last-child)::after {content: \"\\00b7\"; padding: 0 .5ex}\n",
       "</style>\n",
       "<ol class=list-inline><li>1</li><li>5</li><li>9</li></ol>\n"
      ],
      "text/latex": [
       "\\begin{enumerate*}\n",
       "\\item 1\n",
       "\\item 5\n",
       "\\item 9\n",
       "\\end{enumerate*}\n"
      ],
      "text/markdown": [
       "1. 1\n",
       "2. 5\n",
       "3. 9\n",
       "\n",
       "\n"
      ],
      "text/plain": [
       "[1] 1 5 9"
      ]
     },
     "metadata": {},
     "output_type": "display_data"
    },
    {
     "data": {
      "text/html": [
       "<style>\n",
       ".list-inline {list-style: none; margin:0; padding: 0}\n",
       ".list-inline>li {display: inline-block}\n",
       ".list-inline>li:not(:last-child)::after {content: \"\\00b7\"; padding: 0 .5ex}\n",
       "</style>\n",
       "<ol class=list-inline><li>1</li><li>2</li><li>3</li><li>4</li></ol>\n"
      ],
      "text/latex": [
       "\\begin{enumerate*}\n",
       "\\item 1\n",
       "\\item 2\n",
       "\\item 3\n",
       "\\item 4\n",
       "\\end{enumerate*}\n"
      ],
      "text/markdown": [
       "1. 1\n",
       "2. 2\n",
       "3. 3\n",
       "4. 4\n",
       "\n",
       "\n"
      ],
      "text/plain": [
       "[1] 1 2 3 4"
      ]
     },
     "metadata": {},
     "output_type": "display_data"
    }
   ],
   "source": [
    "# accessing row and column\n",
    "arr[1, ]; arr[, 1]"
   ]
  },
  {
   "cell_type": "markdown",
   "id": "a063213f",
   "metadata": {},
   "source": [
    "## Matrices"
   ]
  },
  {
   "cell_type": "code",
   "execution_count": 64,
   "id": "5759066c",
   "metadata": {},
   "outputs": [],
   "source": [
    "a <- c(1, 2, 3, 4, 5, 6)"
   ]
  },
  {
   "cell_type": "code",
   "execution_count": 65,
   "id": "1d416374",
   "metadata": {},
   "outputs": [
    {
     "data": {
      "text/html": [
       "<table class=\"dataframe\">\n",
       "<caption>A matrix: 3 × 2 of type dbl</caption>\n",
       "<tbody>\n",
       "\t<tr><td>1</td><td>2</td></tr>\n",
       "\t<tr><td>3</td><td>4</td></tr>\n",
       "\t<tr><td>5</td><td>6</td></tr>\n",
       "</tbody>\n",
       "</table>\n"
      ],
      "text/latex": [
       "A matrix: 3 × 2 of type dbl\n",
       "\\begin{tabular}{ll}\n",
       "\t 1 & 2\\\\\n",
       "\t 3 & 4\\\\\n",
       "\t 5 & 6\\\\\n",
       "\\end{tabular}\n"
      ],
      "text/markdown": [
       "\n",
       "A matrix: 3 × 2 of type dbl\n",
       "\n",
       "| 1 | 2 |\n",
       "| 3 | 4 |\n",
       "| 5 | 6 |\n",
       "\n"
      ],
      "text/plain": [
       "     [,1] [,2]\n",
       "[1,] 1    2   \n",
       "[2,] 3    4   \n",
       "[3,] 5    6   "
      ]
     },
     "metadata": {},
     "output_type": "display_data"
    }
   ],
   "source": [
    "# matrix is more strict than array when creating a redundant (row, col)\n",
    "# matrix() will throw an error if #vector != nrow * ncol\n",
    "# byrow=TRUE will put elements as row ordering.\n",
    "A <- matrix(a, nrow = 3, ncol= 2, byrow=TRUE); A"
   ]
  },
  {
   "cell_type": "code",
   "execution_count": 66,
   "id": "3477ca81",
   "metadata": {},
   "outputs": [
    {
     "data": {
      "text/html": [
       "<style>\n",
       ".list-inline {list-style: none; margin:0; padding: 0}\n",
       ".list-inline>li {display: inline-block}\n",
       ".list-inline>li:not(:last-child)::after {content: \"\\00b7\"; padding: 0 .5ex}\n",
       "</style>\n",
       "<ol class=list-inline><li>2</li><li>4</li></ol>\n"
      ],
      "text/latex": [
       "\\begin{enumerate*}\n",
       "\\item 2\n",
       "\\item 4\n",
       "\\end{enumerate*}\n"
      ],
      "text/markdown": [
       "1. 2\n",
       "2. 4\n",
       "\n",
       "\n"
      ],
      "text/plain": [
       "[1] 2 4"
      ]
     },
     "metadata": {},
     "output_type": "display_data"
    }
   ],
   "source": [
    "A[1:2, 2]"
   ]
  },
  {
   "cell_type": "markdown",
   "id": "cd5d6248",
   "metadata": {},
   "source": [
    "## DataFrame"
   ]
  },
  {
   "cell_type": "code",
   "execution_count": 67,
   "id": "1cee76ab",
   "metadata": {},
   "outputs": [
    {
     "data": {
      "text/html": [
       "<table class=\"dataframe\">\n",
       "<caption>A data.frame: 9 × 3</caption>\n",
       "<thead>\n",
       "\t<tr><th scope=col>index</th><th scope=col>name</th><th scope=col>score</th></tr>\n",
       "\t<tr><th scope=col>&lt;int&gt;</th><th scope=col>&lt;chr&gt;</th><th scope=col>&lt;dbl&gt;</th></tr>\n",
       "</thead>\n",
       "<tbody>\n",
       "\t<tr><td>1</td><td>Alpha  </td><td> 7.8</td></tr>\n",
       "\t<tr><td>2</td><td>Beta   </td><td>10.0</td></tr>\n",
       "\t<tr><td>3</td><td>Gamma  </td><td> 3.1</td></tr>\n",
       "\t<tr><td>4</td><td>Delta  </td><td> 2.9</td></tr>\n",
       "\t<tr><td>5</td><td>Epsilon</td><td> 9.0</td></tr>\n",
       "\t<tr><td>6</td><td>Theta  </td><td> 7.6</td></tr>\n",
       "\t<tr><td>7</td><td>Sigma  </td><td> 8.2</td></tr>\n",
       "\t<tr><td>8</td><td>Omega  </td><td> 8.0</td></tr>\n",
       "\t<tr><td>9</td><td>Mu     </td><td> 5.0</td></tr>\n",
       "</tbody>\n",
       "</table>\n"
      ],
      "text/latex": [
       "A data.frame: 9 × 3\n",
       "\\begin{tabular}{lll}\n",
       " index & name & score\\\\\n",
       " <int> & <chr> & <dbl>\\\\\n",
       "\\hline\n",
       "\t 1 & Alpha   &  7.8\\\\\n",
       "\t 2 & Beta    & 10.0\\\\\n",
       "\t 3 & Gamma   &  3.1\\\\\n",
       "\t 4 & Delta   &  2.9\\\\\n",
       "\t 5 & Epsilon &  9.0\\\\\n",
       "\t 6 & Theta   &  7.6\\\\\n",
       "\t 7 & Sigma   &  8.2\\\\\n",
       "\t 8 & Omega   &  8.0\\\\\n",
       "\t 9 & Mu      &  5.0\\\\\n",
       "\\end{tabular}\n"
      ],
      "text/markdown": [
       "\n",
       "A data.frame: 9 × 3\n",
       "\n",
       "| index &lt;int&gt; | name &lt;chr&gt; | score &lt;dbl&gt; |\n",
       "|---|---|---|\n",
       "| 1 | Alpha   |  7.8 |\n",
       "| 2 | Beta    | 10.0 |\n",
       "| 3 | Gamma   |  3.1 |\n",
       "| 4 | Delta   |  2.9 |\n",
       "| 5 | Epsilon |  9.0 |\n",
       "| 6 | Theta   |  7.6 |\n",
       "| 7 | Sigma   |  8.2 |\n",
       "| 8 | Omega   |  8.0 |\n",
       "| 9 | Mu      |  5.0 |\n",
       "\n"
      ],
      "text/plain": [
       "  index name    score\n",
       "1 1     Alpha    7.8 \n",
       "2 2     Beta    10.0 \n",
       "3 3     Gamma    3.1 \n",
       "4 4     Delta    2.9 \n",
       "5 5     Epsilon  9.0 \n",
       "6 6     Theta    7.6 \n",
       "7 7     Sigma    8.2 \n",
       "8 8     Omega    8.0 \n",
       "9 9     Mu       5.0 "
      ]
     },
     "metadata": {},
     "output_type": "display_data"
    }
   ],
   "source": [
    "df <- data.frame(index = c(1:9),\n",
    "                name=c(\"Alpha\", \"Beta\", \"Gamma\", \"Delta\", \"Epsilon\", \"Theta\", \"Sigma\", \"Omega\", \"Mu\"),\n",
    "                score=c(7.8, 10, 3.1, 2.9, 9, 7.6, 8.2, 8, 5));df"
   ]
  },
  {
   "cell_type": "code",
   "execution_count": 68,
   "id": "0aef0e48",
   "metadata": {},
   "outputs": [
    {
     "data": {
      "text/html": [
       "<table class=\"dataframe\">\n",
       "<caption>A data.frame: 5 × 3</caption>\n",
       "<thead>\n",
       "\t<tr><th></th><th scope=col>index</th><th scope=col>name</th><th scope=col>score</th></tr>\n",
       "\t<tr><th></th><th scope=col>&lt;int&gt;</th><th scope=col>&lt;chr&gt;</th><th scope=col>&lt;dbl&gt;</th></tr>\n",
       "</thead>\n",
       "<tbody>\n",
       "\t<tr><th scope=row>1</th><td>1</td><td>Alpha  </td><td> 7.8</td></tr>\n",
       "\t<tr><th scope=row>2</th><td>2</td><td>Beta   </td><td>10.0</td></tr>\n",
       "\t<tr><th scope=row>3</th><td>3</td><td>Gamma  </td><td> 3.1</td></tr>\n",
       "\t<tr><th scope=row>4</th><td>4</td><td>Delta  </td><td> 2.9</td></tr>\n",
       "\t<tr><th scope=row>5</th><td>5</td><td>Epsilon</td><td> 9.0</td></tr>\n",
       "</tbody>\n",
       "</table>\n"
      ],
      "text/latex": [
       "A data.frame: 5 × 3\n",
       "\\begin{tabular}{r|lll}\n",
       "  & index & name & score\\\\\n",
       "  & <int> & <chr> & <dbl>\\\\\n",
       "\\hline\n",
       "\t1 & 1 & Alpha   &  7.8\\\\\n",
       "\t2 & 2 & Beta    & 10.0\\\\\n",
       "\t3 & 3 & Gamma   &  3.1\\\\\n",
       "\t4 & 4 & Delta   &  2.9\\\\\n",
       "\t5 & 5 & Epsilon &  9.0\\\\\n",
       "\\end{tabular}\n"
      ],
      "text/markdown": [
       "\n",
       "A data.frame: 5 × 3\n",
       "\n",
       "| <!--/--> | index &lt;int&gt; | name &lt;chr&gt; | score &lt;dbl&gt; |\n",
       "|---|---|---|---|\n",
       "| 1 | 1 | Alpha   |  7.8 |\n",
       "| 2 | 2 | Beta    | 10.0 |\n",
       "| 3 | 3 | Gamma   |  3.1 |\n",
       "| 4 | 4 | Delta   |  2.9 |\n",
       "| 5 | 5 | Epsilon |  9.0 |\n",
       "\n"
      ],
      "text/plain": [
       "  index name    score\n",
       "1 1     Alpha    7.8 \n",
       "2 2     Beta    10.0 \n",
       "3 3     Gamma    3.1 \n",
       "4 4     Delta    2.9 \n",
       "5 5     Epsilon  9.0 "
      ]
     },
     "metadata": {},
     "output_type": "display_data"
    },
    {
     "data": {
      "text/html": [
       "<table class=\"dataframe\">\n",
       "<caption>A data.frame: 7 × 3</caption>\n",
       "<thead>\n",
       "\t<tr><th></th><th scope=col>index</th><th scope=col>name</th><th scope=col>score</th></tr>\n",
       "\t<tr><th></th><th scope=col>&lt;int&gt;</th><th scope=col>&lt;chr&gt;</th><th scope=col>&lt;dbl&gt;</th></tr>\n",
       "</thead>\n",
       "<tbody>\n",
       "\t<tr><th scope=row>3</th><td>3</td><td>Gamma  </td><td>3.1</td></tr>\n",
       "\t<tr><th scope=row>4</th><td>4</td><td>Delta  </td><td>2.9</td></tr>\n",
       "\t<tr><th scope=row>5</th><td>5</td><td>Epsilon</td><td>9.0</td></tr>\n",
       "\t<tr><th scope=row>6</th><td>6</td><td>Theta  </td><td>7.6</td></tr>\n",
       "\t<tr><th scope=row>7</th><td>7</td><td>Sigma  </td><td>8.2</td></tr>\n",
       "\t<tr><th scope=row>8</th><td>8</td><td>Omega  </td><td>8.0</td></tr>\n",
       "\t<tr><th scope=row>9</th><td>9</td><td>Mu     </td><td>5.0</td></tr>\n",
       "</tbody>\n",
       "</table>\n"
      ],
      "text/latex": [
       "A data.frame: 7 × 3\n",
       "\\begin{tabular}{r|lll}\n",
       "  & index & name & score\\\\\n",
       "  & <int> & <chr> & <dbl>\\\\\n",
       "\\hline\n",
       "\t3 & 3 & Gamma   & 3.1\\\\\n",
       "\t4 & 4 & Delta   & 2.9\\\\\n",
       "\t5 & 5 & Epsilon & 9.0\\\\\n",
       "\t6 & 6 & Theta   & 7.6\\\\\n",
       "\t7 & 7 & Sigma   & 8.2\\\\\n",
       "\t8 & 8 & Omega   & 8.0\\\\\n",
       "\t9 & 9 & Mu      & 5.0\\\\\n",
       "\\end{tabular}\n"
      ],
      "text/markdown": [
       "\n",
       "A data.frame: 7 × 3\n",
       "\n",
       "| <!--/--> | index &lt;int&gt; | name &lt;chr&gt; | score &lt;dbl&gt; |\n",
       "|---|---|---|---|\n",
       "| 3 | 3 | Gamma   | 3.1 |\n",
       "| 4 | 4 | Delta   | 2.9 |\n",
       "| 5 | 5 | Epsilon | 9.0 |\n",
       "| 6 | 6 | Theta   | 7.6 |\n",
       "| 7 | 7 | Sigma   | 8.2 |\n",
       "| 8 | 8 | Omega   | 8.0 |\n",
       "| 9 | 9 | Mu      | 5.0 |\n",
       "\n"
      ],
      "text/plain": [
       "  index name    score\n",
       "3 3     Gamma   3.1  \n",
       "4 4     Delta   2.9  \n",
       "5 5     Epsilon 9.0  \n",
       "6 6     Theta   7.6  \n",
       "7 7     Sigma   8.2  \n",
       "8 8     Omega   8.0  \n",
       "9 9     Mu      5.0  "
      ]
     },
     "metadata": {},
     "output_type": "display_data"
    }
   ],
   "source": [
    "head(df, 5); tail(df, 7)"
   ]
  },
  {
   "cell_type": "code",
   "execution_count": 69,
   "id": "48bdb7dd",
   "metadata": {},
   "outputs": [
    {
     "data": {
      "text/html": [
       "<style>\n",
       ".list-inline {list-style: none; margin:0; padding: 0}\n",
       ".list-inline>li {display: inline-block}\n",
       ".list-inline>li:not(:last-child)::after {content: \"\\00b7\"; padding: 0 .5ex}\n",
       "</style>\n",
       "<ol class=list-inline><li>'index'</li><li>'name'</li><li>'score'</li></ol>\n"
      ],
      "text/latex": [
       "\\begin{enumerate*}\n",
       "\\item 'index'\n",
       "\\item 'name'\n",
       "\\item 'score'\n",
       "\\end{enumerate*}\n"
      ],
      "text/markdown": [
       "1. 'index'\n",
       "2. 'name'\n",
       "3. 'score'\n",
       "\n",
       "\n"
      ],
      "text/plain": [
       "[1] \"index\" \"name\"  \"score\""
      ]
     },
     "metadata": {},
     "output_type": "display_data"
    },
    {
     "data": {
      "text/html": [
       "<table class=\"dataframe\">\n",
       "<caption>A data.frame: 9 × 3</caption>\n",
       "<thead>\n",
       "\t<tr><th scope=col>index</th><th scope=col>name</th><th scope=col>score</th></tr>\n",
       "\t<tr><th scope=col>&lt;int&gt;</th><th scope=col>&lt;chr&gt;</th><th scope=col>&lt;dbl&gt;</th></tr>\n",
       "</thead>\n",
       "<tbody>\n",
       "\t<tr><td>1</td><td>Alpha  </td><td> 7.8</td></tr>\n",
       "\t<tr><td>2</td><td>Beta   </td><td>10.0</td></tr>\n",
       "\t<tr><td>3</td><td>Gamma  </td><td> 3.1</td></tr>\n",
       "\t<tr><td>4</td><td>Delta  </td><td> 2.9</td></tr>\n",
       "\t<tr><td>5</td><td>Epsilon</td><td> 9.0</td></tr>\n",
       "\t<tr><td>6</td><td>Theta  </td><td> 7.6</td></tr>\n",
       "\t<tr><td>7</td><td>Sigma  </td><td> 8.2</td></tr>\n",
       "\t<tr><td>8</td><td>Omega  </td><td> 8.0</td></tr>\n",
       "\t<tr><td>9</td><td>Mu     </td><td> 5.0</td></tr>\n",
       "</tbody>\n",
       "</table>\n"
      ],
      "text/latex": [
       "A data.frame: 9 × 3\n",
       "\\begin{tabular}{lll}\n",
       " index & name & score\\\\\n",
       " <int> & <chr> & <dbl>\\\\\n",
       "\\hline\n",
       "\t 1 & Alpha   &  7.8\\\\\n",
       "\t 2 & Beta    & 10.0\\\\\n",
       "\t 3 & Gamma   &  3.1\\\\\n",
       "\t 4 & Delta   &  2.9\\\\\n",
       "\t 5 & Epsilon &  9.0\\\\\n",
       "\t 6 & Theta   &  7.6\\\\\n",
       "\t 7 & Sigma   &  8.2\\\\\n",
       "\t 8 & Omega   &  8.0\\\\\n",
       "\t 9 & Mu      &  5.0\\\\\n",
       "\\end{tabular}\n"
      ],
      "text/markdown": [
       "\n",
       "A data.frame: 9 × 3\n",
       "\n",
       "| index &lt;int&gt; | name &lt;chr&gt; | score &lt;dbl&gt; |\n",
       "|---|---|---|\n",
       "| 1 | Alpha   |  7.8 |\n",
       "| 2 | Beta    | 10.0 |\n",
       "| 3 | Gamma   |  3.1 |\n",
       "| 4 | Delta   |  2.9 |\n",
       "| 5 | Epsilon |  9.0 |\n",
       "| 6 | Theta   |  7.6 |\n",
       "| 7 | Sigma   |  8.2 |\n",
       "| 8 | Omega   |  8.0 |\n",
       "| 9 | Mu      |  5.0 |\n",
       "\n"
      ],
      "text/plain": [
       "  index name    score\n",
       "1 1     Alpha    7.8 \n",
       "2 2     Beta    10.0 \n",
       "3 3     Gamma    3.1 \n",
       "4 4     Delta    2.9 \n",
       "5 5     Epsilon  9.0 \n",
       "6 6     Theta    7.6 \n",
       "7 7     Sigma    8.2 \n",
       "8 8     Omega    8.0 \n",
       "9 9     Mu       5.0 "
      ]
     },
     "metadata": {},
     "output_type": "display_data"
    }
   ],
   "source": [
    "names(df); df[]"
   ]
  },
  {
   "cell_type": "code",
   "execution_count": 70,
   "id": "3deb049d",
   "metadata": {},
   "outputs": [
    {
     "data": {
      "text/html": [
       "<table class=\"dataframe\">\n",
       "<caption>A data.frame: 6 × 3</caption>\n",
       "<thead>\n",
       "\t<tr><th></th><th scope=col>index</th><th scope=col>name</th><th scope=col>score</th></tr>\n",
       "\t<tr><th></th><th scope=col>&lt;int&gt;</th><th scope=col>&lt;chr&gt;</th><th scope=col>&lt;dbl&gt;</th></tr>\n",
       "</thead>\n",
       "<tbody>\n",
       "\t<tr><th scope=row>1</th><td>1</td><td>Alpha  </td><td> 7.8</td></tr>\n",
       "\t<tr><th scope=row>2</th><td>2</td><td>Beta   </td><td>10.0</td></tr>\n",
       "\t<tr><th scope=row>3</th><td>3</td><td>Gamma  </td><td> 3.1</td></tr>\n",
       "\t<tr><th scope=row>4</th><td>4</td><td>Delta  </td><td> 2.9</td></tr>\n",
       "\t<tr><th scope=row>5</th><td>5</td><td>Epsilon</td><td> 9.0</td></tr>\n",
       "\t<tr><th scope=row>6</th><td>6</td><td>Theta  </td><td> 7.6</td></tr>\n",
       "</tbody>\n",
       "</table>\n"
      ],
      "text/latex": [
       "A data.frame: 6 × 3\n",
       "\\begin{tabular}{r|lll}\n",
       "  & index & name & score\\\\\n",
       "  & <int> & <chr> & <dbl>\\\\\n",
       "\\hline\n",
       "\t1 & 1 & Alpha   &  7.8\\\\\n",
       "\t2 & 2 & Beta    & 10.0\\\\\n",
       "\t3 & 3 & Gamma   &  3.1\\\\\n",
       "\t4 & 4 & Delta   &  2.9\\\\\n",
       "\t5 & 5 & Epsilon &  9.0\\\\\n",
       "\t6 & 6 & Theta   &  7.6\\\\\n",
       "\\end{tabular}\n"
      ],
      "text/markdown": [
       "\n",
       "A data.frame: 6 × 3\n",
       "\n",
       "| <!--/--> | index &lt;int&gt; | name &lt;chr&gt; | score &lt;dbl&gt; |\n",
       "|---|---|---|---|\n",
       "| 1 | 1 | Alpha   |  7.8 |\n",
       "| 2 | 2 | Beta    | 10.0 |\n",
       "| 3 | 3 | Gamma   |  3.1 |\n",
       "| 4 | 4 | Delta   |  2.9 |\n",
       "| 5 | 5 | Epsilon |  9.0 |\n",
       "| 6 | 6 | Theta   |  7.6 |\n",
       "\n"
      ],
      "text/plain": [
       "  index name    score\n",
       "1 1     Alpha    7.8 \n",
       "2 2     Beta    10.0 \n",
       "3 3     Gamma    3.1 \n",
       "4 4     Delta    2.9 \n",
       "5 5     Epsilon  9.0 \n",
       "6 6     Theta    7.6 "
      ]
     },
     "metadata": {},
     "output_type": "display_data"
    }
   ],
   "source": [
    "# Delete rows\n",
    "df <- df[1:6, ]; df"
   ]
  },
  {
   "cell_type": "code",
   "execution_count": 71,
   "id": "b79c3a0c",
   "metadata": {},
   "outputs": [
    {
     "data": {
      "text/html": [
       "<table class=\"dataframe\">\n",
       "<caption>A data.frame: 6 × 2</caption>\n",
       "<thead>\n",
       "\t<tr><th></th><th scope=col>index</th><th scope=col>name</th></tr>\n",
       "\t<tr><th></th><th scope=col>&lt;int&gt;</th><th scope=col>&lt;chr&gt;</th></tr>\n",
       "</thead>\n",
       "<tbody>\n",
       "\t<tr><th scope=row>1</th><td>1</td><td>Alpha  </td></tr>\n",
       "\t<tr><th scope=row>2</th><td>2</td><td>Beta   </td></tr>\n",
       "\t<tr><th scope=row>3</th><td>3</td><td>Gamma  </td></tr>\n",
       "\t<tr><th scope=row>4</th><td>4</td><td>Delta  </td></tr>\n",
       "\t<tr><th scope=row>5</th><td>5</td><td>Epsilon</td></tr>\n",
       "\t<tr><th scope=row>6</th><td>6</td><td>Theta  </td></tr>\n",
       "</tbody>\n",
       "</table>\n"
      ],
      "text/latex": [
       "A data.frame: 6 × 2\n",
       "\\begin{tabular}{r|ll}\n",
       "  & index & name\\\\\n",
       "  & <int> & <chr>\\\\\n",
       "\\hline\n",
       "\t1 & 1 & Alpha  \\\\\n",
       "\t2 & 2 & Beta   \\\\\n",
       "\t3 & 3 & Gamma  \\\\\n",
       "\t4 & 4 & Delta  \\\\\n",
       "\t5 & 5 & Epsilon\\\\\n",
       "\t6 & 6 & Theta  \\\\\n",
       "\\end{tabular}\n"
      ],
      "text/markdown": [
       "\n",
       "A data.frame: 6 × 2\n",
       "\n",
       "| <!--/--> | index &lt;int&gt; | name &lt;chr&gt; |\n",
       "|---|---|---|\n",
       "| 1 | 1 | Alpha   |\n",
       "| 2 | 2 | Beta    |\n",
       "| 3 | 3 | Gamma   |\n",
       "| 4 | 4 | Delta   |\n",
       "| 5 | 5 | Epsilon |\n",
       "| 6 | 6 | Theta   |\n",
       "\n"
      ],
      "text/plain": [
       "  index name   \n",
       "1 1     Alpha  \n",
       "2 2     Beta   \n",
       "3 3     Gamma  \n",
       "4 4     Delta  \n",
       "5 5     Epsilon\n",
       "6 6     Theta  "
      ]
     },
     "metadata": {},
     "output_type": "display_data"
    }
   ],
   "source": [
    "# Delete column\n",
    "df[[\"score\"]] <- NULL; df"
   ]
  },
  {
   "cell_type": "code",
   "execution_count": 72,
   "id": "a05a8b90",
   "metadata": {},
   "outputs": [
    {
     "data": {
      "text/html": [
       "'data.frame'"
      ],
      "text/latex": [
       "'data.frame'"
      ],
      "text/markdown": [
       "'data.frame'"
      ],
      "text/plain": [
       "[1] \"data.frame\""
      ]
     },
     "metadata": {},
     "output_type": "display_data"
    },
    {
     "data": {
      "text/html": [
       "'character'"
      ],
      "text/latex": [
       "'character'"
      ],
      "text/markdown": [
       "'character'"
      ],
      "text/plain": [
       "[1] \"character\""
      ]
     },
     "metadata": {},
     "output_type": "display_data"
    }
   ],
   "source": [
    "# Distinguish df[\"name\"] and df[[\"name\"]] in R\n",
    "class(df[\"name\"]) # return a sub-dataframe\n",
    "class(df[[\"name\"]]) # return a element-datatype vector"
   ]
  },
  {
   "cell_type": "markdown",
   "id": "56e83632",
   "metadata": {},
   "source": [
    "## Summary"
   ]
  },
  {
   "cell_type": "markdown",
   "id": "84ec1a8a",
   "metadata": {},
   "source": [
    "- A vector is a string of numbers, characters, or logical data.  \n",
    "\n",
    "- Factors (also known as categorical variables) are variables that take on a limited number of different values that can be nominal or ordinal. \n",
    "\n",
    "- You can use R to perform operations on a vector, such as sorting the items, finding the smallest or largest number, or performing arithmetic on its values. \n",
    "\n",
    "- Lists can store different types of data, unlike vectors, which can only store data of a single type. \n",
    "\n",
    "- An array is a single or multidimensional structure containing data of the same type (strings, characters, or integers)  \n",
    "\n",
    "- A matrix is like an array but must be two-dimensional and can be arranged by columns or rows. \n",
    "\n",
    "- The main difference between a data frame and other data structures, like a list, is that each variable has a vector of elements of the same type."
   ]
  },
  {
   "cell_type": "markdown",
   "id": "a6df31af",
   "metadata": {},
   "source": [
    "## Conditional statements"
   ]
  },
  {
   "cell_type": "code",
   "execution_count": 73,
   "id": "6aae1bab",
   "metadata": {},
   "outputs": [
    {
     "ename": "ERROR",
     "evalue": "Error in parse(text = x, srcfile = src): <text>:6:1: unexpected 'else'\n5: } \n6: else\n   ^\n",
     "output_type": "error",
     "traceback": [
      "Error in parse(text = x, srcfile = src): <text>:6:1: unexpected 'else'\n5: } \n6: else\n   ^\nTraceback:\n"
     ]
    }
   ],
   "source": [
    "age <- 18\n",
    "name = \"alice\"\n",
    "if (age > 18 & name == \"adam\") {\n",
    "    print(\"you are adult\")\n",
    "} \n",
    "else {\n",
    "    print(\"you are child\")\n",
    "}"
   ]
  },
  {
   "cell_type": "code",
   "execution_count": 74,
   "id": "7b5ae678",
   "metadata": {},
   "outputs": [
    {
     "name": "stdout",
     "output_type": "stream",
     "text": [
      "[1] \"there is a number 5 in list\"\n"
     ]
    }
   ],
   "source": [
    "# %in% is equivalent to \\in\n",
    "if (5 %in% a) {\n",
    "    print(\"there is a number 5 in list\")\n",
    "}"
   ]
  },
  {
   "cell_type": "code",
   "execution_count": 75,
   "id": "d0b15a45",
   "metadata": {},
   "outputs": [
    {
     "name": "stdout",
     "output_type": "stream",
     "text": [
      "[1] 1\n",
      "[1] 2\n",
      "[1] 3\n",
      "[1] 4\n",
      "[1] 5\n",
      "[1] 6\n"
     ]
    }
   ],
   "source": [
    "for (num in a) {\n",
    "    print(num)\n",
    "}"
   ]
  },
  {
   "cell_type": "code",
   "execution_count": 76,
   "id": "ec75a6c5",
   "metadata": {},
   "outputs": [
    {
     "name": "stdout",
     "output_type": "stream",
     "text": [
      "[1] 2\n",
      "[1] 3\n",
      "[1] 4\n",
      "[1] 5\n",
      "[1] 6\n"
     ]
    }
   ],
   "source": [
    "count <- 1\n",
    "while (count <= 5) {\n",
    "    count <- count + 1\n",
    "    print(count)\n",
    "}"
   ]
  },
  {
   "cell_type": "markdown",
   "id": "decebe96",
   "metadata": {},
   "source": [
    "## Function"
   ]
  },
  {
   "cell_type": "code",
   "execution_count": 77,
   "id": "2003d3e2",
   "metadata": {},
   "outputs": [],
   "source": [
    "# Function in R is first-order so it can be assigned to variable\n",
    "plus2 <- function(x) {\n",
    "    x + 2\n",
    "}"
   ]
  },
  {
   "cell_type": "code",
   "execution_count": 78,
   "id": "516c2118",
   "metadata": {},
   "outputs": [
    {
     "data": {
      "text/html": [
       "31"
      ],
      "text/latex": [
       "31"
      ],
      "text/markdown": [
       "31"
      ],
      "text/plain": [
       "[1] 31"
      ]
     },
     "metadata": {},
     "output_type": "display_data"
    }
   ],
   "source": [
    "plus2(29)"
   ]
  },
  {
   "cell_type": "code",
   "execution_count": 79,
   "id": "4b3956b2",
   "metadata": {},
   "outputs": [],
   "source": [
    "remove_number_2 <- function(x) {\n",
    "    x[x != 2]\n",
    "}"
   ]
  },
  {
   "cell_type": "code",
   "execution_count": 80,
   "id": "454ebbbf",
   "metadata": {},
   "outputs": [
    {
     "data": {
      "text/html": [
       "<style>\n",
       ".list-inline {list-style: none; margin:0; padding: 0}\n",
       ".list-inline>li {display: inline-block}\n",
       ".list-inline>li:not(:last-child)::after {content: \"\\00b7\"; padding: 0 .5ex}\n",
       "</style>\n",
       "<ol class=list-inline><li>1</li><li>3</li><li>4</li><li>5</li><li>6</li><li>7</li><li>8</li><li>9</li><li>10</li><li>11</li><li>12</li><li>13</li><li>14</li><li>15</li><li>16</li><li>17</li><li>18</li><li>19</li><li>20</li><li>21</li><li>22</li><li>23</li><li>24</li><li>25</li><li>26</li><li>27</li><li>28</li><li>29</li><li>30</li></ol>\n"
      ],
      "text/latex": [
       "\\begin{enumerate*}\n",
       "\\item 1\n",
       "\\item 3\n",
       "\\item 4\n",
       "\\item 5\n",
       "\\item 6\n",
       "\\item 7\n",
       "\\item 8\n",
       "\\item 9\n",
       "\\item 10\n",
       "\\item 11\n",
       "\\item 12\n",
       "\\item 13\n",
       "\\item 14\n",
       "\\item 15\n",
       "\\item 16\n",
       "\\item 17\n",
       "\\item 18\n",
       "\\item 19\n",
       "\\item 20\n",
       "\\item 21\n",
       "\\item 22\n",
       "\\item 23\n",
       "\\item 24\n",
       "\\item 25\n",
       "\\item 26\n",
       "\\item 27\n",
       "\\item 28\n",
       "\\item 29\n",
       "\\item 30\n",
       "\\end{enumerate*}\n"
      ],
      "text/markdown": [
       "1. 1\n",
       "2. 3\n",
       "3. 4\n",
       "4. 5\n",
       "5. 6\n",
       "6. 7\n",
       "7. 8\n",
       "8. 9\n",
       "9. 10\n",
       "10. 11\n",
       "11. 12\n",
       "12. 13\n",
       "13. 14\n",
       "14. 15\n",
       "15. 16\n",
       "16. 17\n",
       "17. 18\n",
       "18. 19\n",
       "19. 20\n",
       "20. 21\n",
       "21. 22\n",
       "22. 23\n",
       "23. 24\n",
       "24. 25\n",
       "25. 26\n",
       "26. 27\n",
       "27. 28\n",
       "28. 29\n",
       "29. 30\n",
       "\n",
       "\n"
      ],
      "text/plain": [
       " [1]  1  3  4  5  6  7  8  9 10 11 12 13 14 15 16 17 18 19 20 21 22 23 24 25 26\n",
       "[26] 27 28 29 30"
      ]
     },
     "metadata": {},
     "output_type": "display_data"
    }
   ],
   "source": [
    "remove_number_2(c(1:30))"
   ]
  },
  {
   "cell_type": "code",
   "execution_count": 81,
   "id": "5fde145f",
   "metadata": {},
   "outputs": [],
   "source": [
    "good_rating <- function(score=8) {\n",
    "    ifelse(score >= 8, \"good\", \"not good\")\n",
    "}"
   ]
  },
  {
   "cell_type": "code",
   "execution_count": 82,
   "id": "fc7bdf9d",
   "metadata": {},
   "outputs": [
    {
     "data": {
      "text/html": [
       "'good'"
      ],
      "text/latex": [
       "'good'"
      ],
      "text/markdown": [
       "'good'"
      ],
      "text/plain": [
       "[1] \"good\""
      ]
     },
     "metadata": {},
     "output_type": "display_data"
    },
    {
     "data": {
      "text/html": [
       "'not good'"
      ],
      "text/latex": [
       "'not good'"
      ],
      "text/markdown": [
       "'not good'"
      ],
      "text/plain": [
       "[1] \"not good\""
      ]
     },
     "metadata": {},
     "output_type": "display_data"
    }
   ],
   "source": [
    "good_rating(); good_rating(7)"
   ]
  },
  {
   "cell_type": "code",
   "execution_count": 83,
   "id": "b8f84b08",
   "metadata": {},
   "outputs": [],
   "source": [
    "# Using function inside functioni\n",
    "pass_or_not <- function(df, student_name, threshold=5) {\n",
    "    score <- ifelse(student_name %in% df[[\"name\"]], df[df[[\"name\"]] == student_name, \"score\"], return(\"Student name not in df\"))\n",
    "    ifelse(score <= threshold | is.character(score), \"not passed\", \"passed\")\n",
    "}"
   ]
  },
  {
   "cell_type": "code",
   "execution_count": 84,
   "id": "ca2db006",
   "metadata": {},
   "outputs": [
    {
     "name": "stderr",
     "output_type": "stream",
     "text": [
      "Warning message in rep(yes, length.out = len):\n",
      "“'x' is NULL so the result will be NULL”\n"
     ]
    },
    {
     "ename": "ERROR",
     "evalue": "Error in ans[ypos] <- rep(yes, length.out = len)[ypos]: replacement has length zero\n",
     "output_type": "error",
     "traceback": [
      "Error in ans[ypos] <- rep(yes, length.out = len)[ypos]: replacement has length zero\nTraceback:\n",
      "1. pass_or_not(df, \"Alpha\")",
      "2. ifelse(student_name %in% df[[\"name\"]], df[df[[\"name\"]] == student_name, \n .     \"score\"], return(\"Student name not in df\"))   # at line 3 of file <text>"
     ]
    }
   ],
   "source": [
    "pass_or_not(df, \"Alpha\")"
   ]
  },
  {
   "cell_type": "markdown",
   "id": "f38a3e61",
   "metadata": {},
   "source": [
    "## Global and local variables"
   ]
  },
  {
   "cell_type": "code",
   "execution_count": 85,
   "id": "7702df36",
   "metadata": {},
   "outputs": [],
   "source": [
    "func <- function() {\n",
    "    global_number <<- \"global\"\n",
    "    local_number <- \"local\"\n",
    "}"
   ]
  },
  {
   "cell_type": "code",
   "execution_count": 86,
   "id": "1dd618ba",
   "metadata": {},
   "outputs": [],
   "source": [
    "func()"
   ]
  },
  {
   "cell_type": "code",
   "execution_count": 87,
   "id": "366b3578",
   "metadata": {},
   "outputs": [
    {
     "data": {
      "text/html": [
       "'global'"
      ],
      "text/latex": [
       "'global'"
      ],
      "text/markdown": [
       "'global'"
      ],
      "text/plain": [
       "[1] \"global\""
      ]
     },
     "metadata": {},
     "output_type": "display_data"
    },
    {
     "ename": "ERROR",
     "evalue": "Error in eval(expr, envir, enclos): object 'local_number' not found\n",
     "output_type": "error",
     "traceback": [
      "Error in eval(expr, envir, enclos): object 'local_number' not found\nTraceback:\n"
     ]
    },
    {
     "data": {
      "text/html": [
       "'global'"
      ],
      "text/latex": [
       "'global'"
      ],
      "text/markdown": [
       "'global'"
      ],
      "text/plain": [
       "[1] \"global\""
      ]
     },
     "metadata": {},
     "output_type": "display_data"
    }
   ],
   "source": [
    "global_number; local_number"
   ]
  },
  {
   "cell_type": "markdown",
   "id": "049caf08",
   "metadata": {},
   "source": [
    "## String operations"
   ]
  },
  {
   "cell_type": "code",
   "execution_count": 88,
   "id": "a3478f70",
   "metadata": {},
   "outputs": [
    {
     "name": "stderr",
     "output_type": "stream",
     "text": [
      "Warning message in readLines(\"./text.txt\"):\n",
      "“incomplete final line found on './text.txt'”\n"
     ]
    }
   ],
   "source": [
    "text <- readLines(\"./text.txt\");"
   ]
  },
  {
   "cell_type": "code",
   "execution_count": 89,
   "id": "6f62e5af",
   "metadata": {},
   "outputs": [
    {
     "data": {
      "text/html": [],
      "text/latex": [],
      "text/markdown": [],
      "text/plain": [
       "integer(0)"
      ]
     },
     "metadata": {},
     "output_type": "display_data"
    },
    {
     "data": {
      "text/html": [
       "<style>\n",
       ".list-inline {list-style: none; margin:0; padding: 0}\n",
       ".list-inline>li {display: inline-block}\n",
       ".list-inline>li:not(:last-child)::after {content: \"\\00b7\"; padding: 0 .5ex}\n",
       "</style>\n",
       "<ol class=list-inline><li><span style=white-space:pre-wrap>'Lorem ipsum dolor sit amet, consetetur sadipscing elitr, sed diam nonumy eirmod tempor invidunt ut labore et dolore magna aliquyam erat, sed diam voluptua. At vero eos et accusam et justo duo dolores et ea rebum. Stet clita kasd gubergren, no sea takimata sanctus est Lorem ipsum dolor sit amet. Lorem ipsum dolor sit amet, consetetur sadipscing elitr, sed diam nonumy eirmod tempor invidunt ut labore et dolore magna aliquyam erat, sed diam voluptua. At vero eos et accusam et justo duo dolores et ea rebum. Stet clita kasd gubergren, no sea takimata sanctus est Lorem ipsum dolor sit amet. Lorem ipsum dolor sit amet, consetetur sadipscing elitr, sed diam nonumy eirmod tempor invidunt ut labore et dolore magna aliquyam erat, sed diam voluptua. At vero eos et accusam et justo duo dolores et ea rebum. Stet clita kasd gubergren, no sea takimata sanctus est Lorem ipsum dolor sit amet.   '</span></li><li>''</li><li><span style=white-space:pre-wrap>'Duis autem vel eum iriure dolor in hendrerit in vulputate velit esse molestie consequat, vel illum dolore eu feugiat nulla facilisis at vero eros et accumsan et iusto odio dignissim qui blandit praesent luptatum zzril delenit augue duis dolore te feugait nulla facilisi. Lorem ipsum dolor sit amet, consectetuer adipiscing elit, sed diam nonummy nibh euismod tincidunt ut laoreet dolore magna aliquam erat volutpat.   '</span></li><li>''</li><li><span style=white-space:pre-wrap>'Ut wisi enim ad minim veniam, quis nostrud exerci tation ullamcorper suscipit lobortis nisl ut aliquip ex ea commodo consequat. Duis autem vel eum iriure dolor in hendrerit in vulputate velit esse molestie consequat, vel illum dolore eu feugiat nulla facilisis at vero eros et accumsan et iusto odio dignissim qui blandit praesent luptatum zzril delenit augue duis dolore te feugait nulla facilisi.   '</span></li><li>''</li><li><span style=white-space:pre-wrap>'Nam liber tempor cum soluta nobis eleifend option congue nihil imperdiet doming id quod mazim placerat facer possim assum. Lorem ipsum dolor sit amet, consectetuer adipiscing elit, sed diam nonummy nibh euismod tincidunt ut laoreet dolore magna aliquam erat volutpat. Ut wisi enim ad minim veniam, quis nostrud exerci tation ullamcorper suscipit lobortis nisl ut aliquip ex ea commodo consequat.   '</span></li><li>''</li><li><span style=white-space:pre-wrap>'Duis autem vel eum iriure dolor in hendrerit in vulputate velit esse molestie consequat, vel illum dolore eu feugiat nulla facilisis.   '</span></li><li>''</li><li><span style=white-space:pre-wrap>'At vero eos et accusam et justo duo dolores et ea rebum. Stet clita kasd gubergren, no sea takimata sanctus est Lorem ipsum dolor sit amet. Lorem ipsum dolor sit amet, consetetur sadipscing elitr, sed diam nonumy eirmod tempor invidunt ut labore et dolore magna aliquyam erat, sed diam voluptua. At vero eos et accusam et justo duo dolores et ea rebum. Stet clita kasd gubergren, no sea takimata sanctus est Lorem ipsum dolor sit amet. Lorem ipsum dolor sit amet, consetetur sadipscing elitr, At accusam aliquyam diam diam dolore dolores duo eirmod eos erat, et nonumy sed tempor et et invidunt justo labore Stet clita ea et gubergren, kasd magna no rebum. sanctus sea sed takimata ut vero voluptua. est Lorem ipsum dolor sit amet. Lorem ipsum dolor sit amet, consetetur sadipscing elitr, sed diam nonumy eirmod tempor invidunt ut labore et dolore magna aliquyam erat.   '</span></li><li>''</li><li><span style=white-space:pre-wrap>'Consetetur sadipscing elitr, sed diam nonumy eirmod tempor invidunt ut labore et dolore magna aliquyam erat, sed diam voluptua. At vero eos et accusam et justo duo dolores et ea rebum. Stet clita kasd gubergren, no sea takimata sanctus est Lorem ipsum dolor sit amet. Lorem ipsum dolor sit amet, consetetur sadipscing elitr, sed diam nonumy eirmod tempor invidunt ut labore et dolore magna aliquyam erat, sed diam voluptua. At vero eos et accusam et justo duo dolores et ea rebum. Stet clita kasd gubergren, no sea takimata sanctus est Lorem ipsum dolor sit amet. Lorem ipsum dolor sit amet, consetetur sadipscing elitr, sed diam nonumy eirmod tempor invidunt ut labore et dolore magna aliquyam erat, sed diam voluptua. At vero eos et accusam et justo duo dolores et ea rebum. Stet clita kasd gubergren, no sea takimata sanctus.   '</span></li><li>''</li><li><span style=white-space:pre-wrap>'Lorem ipsum dolor sit amet, consetetur sadipscing elitr, sed diam nonumy eirmod tempor invidunt ut labore et dolore magna aliquyam erat, sed diam voluptua. At vero eos et accusam et justo duo dolores et ea rebum. Stet clita kasd gubergren, no sea takimata sanctus est Lorem ipsum dolor sit amet. Lorem ipsum dolor sit amet, consetetur sadipscing elitr, sed diam nonumy eirmod tempor invidunt ut labore et dolore magna aliquyam erat, sed diam voluptua. At vero eos et accusam et justo duo dolores et ea rebum. Stet clita kasd gubergren, no sea takimata sanctus est Lorem ipsum dolor sit amet. Lorem ipsum dolor sit amet, consetetur sadipscing elitr, sed diam nonumy eirmod tempor invidunt ut labore et dolore magna aliquyam erat, sed diam voluptua. At vero eos et accusam et justo duo dolores et ea rebum. Stet clita kasd gubergren, no sea takimata sanctus est Lorem ipsum dolor sit amet.   '</span></li><li>''</li><li><span style=white-space:pre-wrap>'Duis autem vel eum iriure dolor in hendrerit in vulputate velit esse molestie consequat, vel illum dolore eu feugiat nulla facilisis at vero eros et accumsan et iusto odio dignissim qui blandit praesent luptatum zzril delenit augue duis dolore te feugait nulla facilisi. Lorem ipsum dolor sit amet, consectetuer adipiscing elit, sed diam nonummy nibh euismod tincidunt ut laoreet dolore magna aliquam erat volutpat.   '</span></li><li>''</li><li><span style=white-space:pre-wrap>'Ut wisi enim ad minim veniam, quis nostrud exerci tation ullamcorper suscipit lobortis nisl ut aliquip ex ea commodo consequat. Duis autem vel eum iriure dolor in hendrerit in vulputate velit esse molestie consequat, vel illum dolore eu feugiat nulla facilisis at vero eros et accumsan et iusto odio dignissim qui blandit praesent luptatum zzril delenit augue duis dolore te feugait nulla facilisi.   '</span></li><li>''</li><li>'Nam liber tempor cum soluta nobis eleifend option congue nihil imperdiet doming id quod mazim placerat facer possim assum. Lorem ipsum dolor sit amet, consectetuer adipiscing elit, sed diam nonummy nibh euismod tincidunt ut laoreet dolore magna aliquam erat volutpat. Ut wisi enim ad minim veniam, quis nostrud exerci tation ullamcorper suscipit lobortis nisl ut aliquip ex ea commodo'</li></ol>\n"
      ],
      "text/latex": [
       "\\begin{enumerate*}\n",
       "\\item 'Lorem ipsum dolor sit amet, consetetur sadipscing elitr, sed diam nonumy eirmod tempor invidunt ut labore et dolore magna aliquyam erat, sed diam voluptua. At vero eos et accusam et justo duo dolores et ea rebum. Stet clita kasd gubergren, no sea takimata sanctus est Lorem ipsum dolor sit amet. Lorem ipsum dolor sit amet, consetetur sadipscing elitr, sed diam nonumy eirmod tempor invidunt ut labore et dolore magna aliquyam erat, sed diam voluptua. At vero eos et accusam et justo duo dolores et ea rebum. Stet clita kasd gubergren, no sea takimata sanctus est Lorem ipsum dolor sit amet. Lorem ipsum dolor sit amet, consetetur sadipscing elitr, sed diam nonumy eirmod tempor invidunt ut labore et dolore magna aliquyam erat, sed diam voluptua. At vero eos et accusam et justo duo dolores et ea rebum. Stet clita kasd gubergren, no sea takimata sanctus est Lorem ipsum dolor sit amet.   '\n",
       "\\item ''\n",
       "\\item 'Duis autem vel eum iriure dolor in hendrerit in vulputate velit esse molestie consequat, vel illum dolore eu feugiat nulla facilisis at vero eros et accumsan et iusto odio dignissim qui blandit praesent luptatum zzril delenit augue duis dolore te feugait nulla facilisi. Lorem ipsum dolor sit amet, consectetuer adipiscing elit, sed diam nonummy nibh euismod tincidunt ut laoreet dolore magna aliquam erat volutpat.   '\n",
       "\\item ''\n",
       "\\item 'Ut wisi enim ad minim veniam, quis nostrud exerci tation ullamcorper suscipit lobortis nisl ut aliquip ex ea commodo consequat. Duis autem vel eum iriure dolor in hendrerit in vulputate velit esse molestie consequat, vel illum dolore eu feugiat nulla facilisis at vero eros et accumsan et iusto odio dignissim qui blandit praesent luptatum zzril delenit augue duis dolore te feugait nulla facilisi.   '\n",
       "\\item ''\n",
       "\\item 'Nam liber tempor cum soluta nobis eleifend option congue nihil imperdiet doming id quod mazim placerat facer possim assum. Lorem ipsum dolor sit amet, consectetuer adipiscing elit, sed diam nonummy nibh euismod tincidunt ut laoreet dolore magna aliquam erat volutpat. Ut wisi enim ad minim veniam, quis nostrud exerci tation ullamcorper suscipit lobortis nisl ut aliquip ex ea commodo consequat.   '\n",
       "\\item ''\n",
       "\\item 'Duis autem vel eum iriure dolor in hendrerit in vulputate velit esse molestie consequat, vel illum dolore eu feugiat nulla facilisis.   '\n",
       "\\item ''\n",
       "\\item 'At vero eos et accusam et justo duo dolores et ea rebum. Stet clita kasd gubergren, no sea takimata sanctus est Lorem ipsum dolor sit amet. Lorem ipsum dolor sit amet, consetetur sadipscing elitr, sed diam nonumy eirmod tempor invidunt ut labore et dolore magna aliquyam erat, sed diam voluptua. At vero eos et accusam et justo duo dolores et ea rebum. Stet clita kasd gubergren, no sea takimata sanctus est Lorem ipsum dolor sit amet. Lorem ipsum dolor sit amet, consetetur sadipscing elitr, At accusam aliquyam diam diam dolore dolores duo eirmod eos erat, et nonumy sed tempor et et invidunt justo labore Stet clita ea et gubergren, kasd magna no rebum. sanctus sea sed takimata ut vero voluptua. est Lorem ipsum dolor sit amet. Lorem ipsum dolor sit amet, consetetur sadipscing elitr, sed diam nonumy eirmod tempor invidunt ut labore et dolore magna aliquyam erat.   '\n",
       "\\item ''\n",
       "\\item 'Consetetur sadipscing elitr, sed diam nonumy eirmod tempor invidunt ut labore et dolore magna aliquyam erat, sed diam voluptua. At vero eos et accusam et justo duo dolores et ea rebum. Stet clita kasd gubergren, no sea takimata sanctus est Lorem ipsum dolor sit amet. Lorem ipsum dolor sit amet, consetetur sadipscing elitr, sed diam nonumy eirmod tempor invidunt ut labore et dolore magna aliquyam erat, sed diam voluptua. At vero eos et accusam et justo duo dolores et ea rebum. Stet clita kasd gubergren, no sea takimata sanctus est Lorem ipsum dolor sit amet. Lorem ipsum dolor sit amet, consetetur sadipscing elitr, sed diam nonumy eirmod tempor invidunt ut labore et dolore magna aliquyam erat, sed diam voluptua. At vero eos et accusam et justo duo dolores et ea rebum. Stet clita kasd gubergren, no sea takimata sanctus.   '\n",
       "\\item ''\n",
       "\\item 'Lorem ipsum dolor sit amet, consetetur sadipscing elitr, sed diam nonumy eirmod tempor invidunt ut labore et dolore magna aliquyam erat, sed diam voluptua. At vero eos et accusam et justo duo dolores et ea rebum. Stet clita kasd gubergren, no sea takimata sanctus est Lorem ipsum dolor sit amet. Lorem ipsum dolor sit amet, consetetur sadipscing elitr, sed diam nonumy eirmod tempor invidunt ut labore et dolore magna aliquyam erat, sed diam voluptua. At vero eos et accusam et justo duo dolores et ea rebum. Stet clita kasd gubergren, no sea takimata sanctus est Lorem ipsum dolor sit amet. Lorem ipsum dolor sit amet, consetetur sadipscing elitr, sed diam nonumy eirmod tempor invidunt ut labore et dolore magna aliquyam erat, sed diam voluptua. At vero eos et accusam et justo duo dolores et ea rebum. Stet clita kasd gubergren, no sea takimata sanctus est Lorem ipsum dolor sit amet.   '\n",
       "\\item ''\n",
       "\\item 'Duis autem vel eum iriure dolor in hendrerit in vulputate velit esse molestie consequat, vel illum dolore eu feugiat nulla facilisis at vero eros et accumsan et iusto odio dignissim qui blandit praesent luptatum zzril delenit augue duis dolore te feugait nulla facilisi. Lorem ipsum dolor sit amet, consectetuer adipiscing elit, sed diam nonummy nibh euismod tincidunt ut laoreet dolore magna aliquam erat volutpat.   '\n",
       "\\item ''\n",
       "\\item 'Ut wisi enim ad minim veniam, quis nostrud exerci tation ullamcorper suscipit lobortis nisl ut aliquip ex ea commodo consequat. Duis autem vel eum iriure dolor in hendrerit in vulputate velit esse molestie consequat, vel illum dolore eu feugiat nulla facilisis at vero eros et accumsan et iusto odio dignissim qui blandit praesent luptatum zzril delenit augue duis dolore te feugait nulla facilisi.   '\n",
       "\\item ''\n",
       "\\item 'Nam liber tempor cum soluta nobis eleifend option congue nihil imperdiet doming id quod mazim placerat facer possim assum. Lorem ipsum dolor sit amet, consectetuer adipiscing elit, sed diam nonummy nibh euismod tincidunt ut laoreet dolore magna aliquam erat volutpat. Ut wisi enim ad minim veniam, quis nostrud exerci tation ullamcorper suscipit lobortis nisl ut aliquip ex ea commodo'\n",
       "\\end{enumerate*}\n"
      ],
      "text/markdown": [
       "1. <span style=white-space:pre-wrap>'Lorem ipsum dolor sit amet, consetetur sadipscing elitr, sed diam nonumy eirmod tempor invidunt ut labore et dolore magna aliquyam erat, sed diam voluptua. At vero eos et accusam et justo duo dolores et ea rebum. Stet clita kasd gubergren, no sea takimata sanctus est Lorem ipsum dolor sit amet. Lorem ipsum dolor sit amet, consetetur sadipscing elitr, sed diam nonumy eirmod tempor invidunt ut labore et dolore magna aliquyam erat, sed diam voluptua. At vero eos et accusam et justo duo dolores et ea rebum. Stet clita kasd gubergren, no sea takimata sanctus est Lorem ipsum dolor sit amet. Lorem ipsum dolor sit amet, consetetur sadipscing elitr, sed diam nonumy eirmod tempor invidunt ut labore et dolore magna aliquyam erat, sed diam voluptua. At vero eos et accusam et justo duo dolores et ea rebum. Stet clita kasd gubergren, no sea takimata sanctus est Lorem ipsum dolor sit amet.   '</span>\n",
       "2. ''\n",
       "3. <span style=white-space:pre-wrap>'Duis autem vel eum iriure dolor in hendrerit in vulputate velit esse molestie consequat, vel illum dolore eu feugiat nulla facilisis at vero eros et accumsan et iusto odio dignissim qui blandit praesent luptatum zzril delenit augue duis dolore te feugait nulla facilisi. Lorem ipsum dolor sit amet, consectetuer adipiscing elit, sed diam nonummy nibh euismod tincidunt ut laoreet dolore magna aliquam erat volutpat.   '</span>\n",
       "4. ''\n",
       "5. <span style=white-space:pre-wrap>'Ut wisi enim ad minim veniam, quis nostrud exerci tation ullamcorper suscipit lobortis nisl ut aliquip ex ea commodo consequat. Duis autem vel eum iriure dolor in hendrerit in vulputate velit esse molestie consequat, vel illum dolore eu feugiat nulla facilisis at vero eros et accumsan et iusto odio dignissim qui blandit praesent luptatum zzril delenit augue duis dolore te feugait nulla facilisi.   '</span>\n",
       "6. ''\n",
       "7. <span style=white-space:pre-wrap>'Nam liber tempor cum soluta nobis eleifend option congue nihil imperdiet doming id quod mazim placerat facer possim assum. Lorem ipsum dolor sit amet, consectetuer adipiscing elit, sed diam nonummy nibh euismod tincidunt ut laoreet dolore magna aliquam erat volutpat. Ut wisi enim ad minim veniam, quis nostrud exerci tation ullamcorper suscipit lobortis nisl ut aliquip ex ea commodo consequat.   '</span>\n",
       "8. ''\n",
       "9. <span style=white-space:pre-wrap>'Duis autem vel eum iriure dolor in hendrerit in vulputate velit esse molestie consequat, vel illum dolore eu feugiat nulla facilisis.   '</span>\n",
       "10. ''\n",
       "11. <span style=white-space:pre-wrap>'At vero eos et accusam et justo duo dolores et ea rebum. Stet clita kasd gubergren, no sea takimata sanctus est Lorem ipsum dolor sit amet. Lorem ipsum dolor sit amet, consetetur sadipscing elitr, sed diam nonumy eirmod tempor invidunt ut labore et dolore magna aliquyam erat, sed diam voluptua. At vero eos et accusam et justo duo dolores et ea rebum. Stet clita kasd gubergren, no sea takimata sanctus est Lorem ipsum dolor sit amet. Lorem ipsum dolor sit amet, consetetur sadipscing elitr, At accusam aliquyam diam diam dolore dolores duo eirmod eos erat, et nonumy sed tempor et et invidunt justo labore Stet clita ea et gubergren, kasd magna no rebum. sanctus sea sed takimata ut vero voluptua. est Lorem ipsum dolor sit amet. Lorem ipsum dolor sit amet, consetetur sadipscing elitr, sed diam nonumy eirmod tempor invidunt ut labore et dolore magna aliquyam erat.   '</span>\n",
       "12. ''\n",
       "13. <span style=white-space:pre-wrap>'Consetetur sadipscing elitr, sed diam nonumy eirmod tempor invidunt ut labore et dolore magna aliquyam erat, sed diam voluptua. At vero eos et accusam et justo duo dolores et ea rebum. Stet clita kasd gubergren, no sea takimata sanctus est Lorem ipsum dolor sit amet. Lorem ipsum dolor sit amet, consetetur sadipscing elitr, sed diam nonumy eirmod tempor invidunt ut labore et dolore magna aliquyam erat, sed diam voluptua. At vero eos et accusam et justo duo dolores et ea rebum. Stet clita kasd gubergren, no sea takimata sanctus est Lorem ipsum dolor sit amet. Lorem ipsum dolor sit amet, consetetur sadipscing elitr, sed diam nonumy eirmod tempor invidunt ut labore et dolore magna aliquyam erat, sed diam voluptua. At vero eos et accusam et justo duo dolores et ea rebum. Stet clita kasd gubergren, no sea takimata sanctus.   '</span>\n",
       "14. ''\n",
       "15. <span style=white-space:pre-wrap>'Lorem ipsum dolor sit amet, consetetur sadipscing elitr, sed diam nonumy eirmod tempor invidunt ut labore et dolore magna aliquyam erat, sed diam voluptua. At vero eos et accusam et justo duo dolores et ea rebum. Stet clita kasd gubergren, no sea takimata sanctus est Lorem ipsum dolor sit amet. Lorem ipsum dolor sit amet, consetetur sadipscing elitr, sed diam nonumy eirmod tempor invidunt ut labore et dolore magna aliquyam erat, sed diam voluptua. At vero eos et accusam et justo duo dolores et ea rebum. Stet clita kasd gubergren, no sea takimata sanctus est Lorem ipsum dolor sit amet. Lorem ipsum dolor sit amet, consetetur sadipscing elitr, sed diam nonumy eirmod tempor invidunt ut labore et dolore magna aliquyam erat, sed diam voluptua. At vero eos et accusam et justo duo dolores et ea rebum. Stet clita kasd gubergren, no sea takimata sanctus est Lorem ipsum dolor sit amet.   '</span>\n",
       "16. ''\n",
       "17. <span style=white-space:pre-wrap>'Duis autem vel eum iriure dolor in hendrerit in vulputate velit esse molestie consequat, vel illum dolore eu feugiat nulla facilisis at vero eros et accumsan et iusto odio dignissim qui blandit praesent luptatum zzril delenit augue duis dolore te feugait nulla facilisi. Lorem ipsum dolor sit amet, consectetuer adipiscing elit, sed diam nonummy nibh euismod tincidunt ut laoreet dolore magna aliquam erat volutpat.   '</span>\n",
       "18. ''\n",
       "19. <span style=white-space:pre-wrap>'Ut wisi enim ad minim veniam, quis nostrud exerci tation ullamcorper suscipit lobortis nisl ut aliquip ex ea commodo consequat. Duis autem vel eum iriure dolor in hendrerit in vulputate velit esse molestie consequat, vel illum dolore eu feugiat nulla facilisis at vero eros et accumsan et iusto odio dignissim qui blandit praesent luptatum zzril delenit augue duis dolore te feugait nulla facilisi.   '</span>\n",
       "20. ''\n",
       "21. 'Nam liber tempor cum soluta nobis eleifend option congue nihil imperdiet doming id quod mazim placerat facer possim assum. Lorem ipsum dolor sit amet, consectetuer adipiscing elit, sed diam nonummy nibh euismod tincidunt ut laoreet dolore magna aliquam erat volutpat. Ut wisi enim ad minim veniam, quis nostrud exerci tation ullamcorper suscipit lobortis nisl ut aliquip ex ea commodo'\n",
       "\n",
       "\n"
      ],
      "text/plain": [
       " [1] \"Lorem ipsum dolor sit amet, consetetur sadipscing elitr, sed diam nonumy eirmod tempor invidunt ut labore et dolore magna aliquyam erat, sed diam voluptua. At vero eos et accusam et justo duo dolores et ea rebum. Stet clita kasd gubergren, no sea takimata sanctus est Lorem ipsum dolor sit amet. Lorem ipsum dolor sit amet, consetetur sadipscing elitr, sed diam nonumy eirmod tempor invidunt ut labore et dolore magna aliquyam erat, sed diam voluptua. At vero eos et accusam et justo duo dolores et ea rebum. Stet clita kasd gubergren, no sea takimata sanctus est Lorem ipsum dolor sit amet. Lorem ipsum dolor sit amet, consetetur sadipscing elitr, sed diam nonumy eirmod tempor invidunt ut labore et dolore magna aliquyam erat, sed diam voluptua. At vero eos et accusam et justo duo dolores et ea rebum. Stet clita kasd gubergren, no sea takimata sanctus est Lorem ipsum dolor sit amet.   \"\n",
       " [2] \"\"                                                                                                                                                                                                                                                                                                                                                                                                                                                                                                                                                                                                                                                                                                                                                                                                                                                                                                                          \n",
       " [3] \"Duis autem vel eum iriure dolor in hendrerit in vulputate velit esse molestie consequat, vel illum dolore eu feugiat nulla facilisis at vero eros et accumsan et iusto odio dignissim qui blandit praesent luptatum zzril delenit augue duis dolore te feugait nulla facilisi. Lorem ipsum dolor sit amet, consectetuer adipiscing elit, sed diam nonummy nibh euismod tincidunt ut laoreet dolore magna aliquam erat volutpat.   \"                                                                                                                                                                                                                                                                                                                                                                                                                                                                                        \n",
       " [4] \"\"                                                                                                                                                                                                                                                                                                                                                                                                                                                                                                                                                                                                                                                                                                                                                                                                                                                                                                                          \n",
       " [5] \"Ut wisi enim ad minim veniam, quis nostrud exerci tation ullamcorper suscipit lobortis nisl ut aliquip ex ea commodo consequat. Duis autem vel eum iriure dolor in hendrerit in vulputate velit esse molestie consequat, vel illum dolore eu feugiat nulla facilisis at vero eros et accumsan et iusto odio dignissim qui blandit praesent luptatum zzril delenit augue duis dolore te feugait nulla facilisi.   \"                                                                                                                                                                                                                                                                                                                                                                                                                                                                                                         \n",
       " [6] \"\"                                                                                                                                                                                                                                                                                                                                                                                                                                                                                                                                                                                                                                                                                                                                                                                                                                                                                                                          \n",
       " [7] \"Nam liber tempor cum soluta nobis eleifend option congue nihil imperdiet doming id quod mazim placerat facer possim assum. Lorem ipsum dolor sit amet, consectetuer adipiscing elit, sed diam nonummy nibh euismod tincidunt ut laoreet dolore magna aliquam erat volutpat. Ut wisi enim ad minim veniam, quis nostrud exerci tation ullamcorper suscipit lobortis nisl ut aliquip ex ea commodo consequat.   \"                                                                                                                                                                                                                                                                                                                                                                                                                                                                                                            \n",
       " [8] \"\"                                                                                                                                                                                                                                                                                                                                                                                                                                                                                                                                                                                                                                                                                                                                                                                                                                                                                                                          \n",
       " [9] \"Duis autem vel eum iriure dolor in hendrerit in vulputate velit esse molestie consequat, vel illum dolore eu feugiat nulla facilisis.   \"                                                                                                                                                                                                                                                                                                                                                                                                                                                                                                                                                                                                                                                                                                                                                                                  \n",
       "[10] \"\"                                                                                                                                                                                                                                                                                                                                                                                                                                                                                                                                                                                                                                                                                                                                                                                                                                                                                                                          \n",
       "[11] \"At vero eos et accusam et justo duo dolores et ea rebum. Stet clita kasd gubergren, no sea takimata sanctus est Lorem ipsum dolor sit amet. Lorem ipsum dolor sit amet, consetetur sadipscing elitr, sed diam nonumy eirmod tempor invidunt ut labore et dolore magna aliquyam erat, sed diam voluptua. At vero eos et accusam et justo duo dolores et ea rebum. Stet clita kasd gubergren, no sea takimata sanctus est Lorem ipsum dolor sit amet. Lorem ipsum dolor sit amet, consetetur sadipscing elitr, At accusam aliquyam diam diam dolore dolores duo eirmod eos erat, et nonumy sed tempor et et invidunt justo labore Stet clita ea et gubergren, kasd magna no rebum. sanctus sea sed takimata ut vero voluptua. est Lorem ipsum dolor sit amet. Lorem ipsum dolor sit amet, consetetur sadipscing elitr, sed diam nonumy eirmod tempor invidunt ut labore et dolore magna aliquyam erat.   \"                   \n",
       "[12] \"\"                                                                                                                                                                                                                                                                                                                                                                                                                                                                                                                                                                                                                                                                                                                                                                                                                                                                                                                          \n",
       "[13] \"Consetetur sadipscing elitr, sed diam nonumy eirmod tempor invidunt ut labore et dolore magna aliquyam erat, sed diam voluptua. At vero eos et accusam et justo duo dolores et ea rebum. Stet clita kasd gubergren, no sea takimata sanctus est Lorem ipsum dolor sit amet. Lorem ipsum dolor sit amet, consetetur sadipscing elitr, sed diam nonumy eirmod tempor invidunt ut labore et dolore magna aliquyam erat, sed diam voluptua. At vero eos et accusam et justo duo dolores et ea rebum. Stet clita kasd gubergren, no sea takimata sanctus est Lorem ipsum dolor sit amet. Lorem ipsum dolor sit amet, consetetur sadipscing elitr, sed diam nonumy eirmod tempor invidunt ut labore et dolore magna aliquyam erat, sed diam voluptua. At vero eos et accusam et justo duo dolores et ea rebum. Stet clita kasd gubergren, no sea takimata sanctus.   \"                                                           \n",
       "[14] \"\"                                                                                                                                                                                                                                                                                                                                                                                                                                                                                                                                                                                                                                                                                                                                                                                                                                                                                                                          \n",
       "[15] \"Lorem ipsum dolor sit amet, consetetur sadipscing elitr, sed diam nonumy eirmod tempor invidunt ut labore et dolore magna aliquyam erat, sed diam voluptua. At vero eos et accusam et justo duo dolores et ea rebum. Stet clita kasd gubergren, no sea takimata sanctus est Lorem ipsum dolor sit amet. Lorem ipsum dolor sit amet, consetetur sadipscing elitr, sed diam nonumy eirmod tempor invidunt ut labore et dolore magna aliquyam erat, sed diam voluptua. At vero eos et accusam et justo duo dolores et ea rebum. Stet clita kasd gubergren, no sea takimata sanctus est Lorem ipsum dolor sit amet. Lorem ipsum dolor sit amet, consetetur sadipscing elitr, sed diam nonumy eirmod tempor invidunt ut labore et dolore magna aliquyam erat, sed diam voluptua. At vero eos et accusam et justo duo dolores et ea rebum. Stet clita kasd gubergren, no sea takimata sanctus est Lorem ipsum dolor sit amet.   \"\n",
       "[16] \"\"                                                                                                                                                                                                                                                                                                                                                                                                                                                                                                                                                                                                                                                                                                                                                                                                                                                                                                                          \n",
       "[17] \"Duis autem vel eum iriure dolor in hendrerit in vulputate velit esse molestie consequat, vel illum dolore eu feugiat nulla facilisis at vero eros et accumsan et iusto odio dignissim qui blandit praesent luptatum zzril delenit augue duis dolore te feugait nulla facilisi. Lorem ipsum dolor sit amet, consectetuer adipiscing elit, sed diam nonummy nibh euismod tincidunt ut laoreet dolore magna aliquam erat volutpat.   \"                                                                                                                                                                                                                                                                                                                                                                                                                                                                                        \n",
       "[18] \"\"                                                                                                                                                                                                                                                                                                                                                                                                                                                                                                                                                                                                                                                                                                                                                                                                                                                                                                                          \n",
       "[19] \"Ut wisi enim ad minim veniam, quis nostrud exerci tation ullamcorper suscipit lobortis nisl ut aliquip ex ea commodo consequat. Duis autem vel eum iriure dolor in hendrerit in vulputate velit esse molestie consequat, vel illum dolore eu feugiat nulla facilisis at vero eros et accumsan et iusto odio dignissim qui blandit praesent luptatum zzril delenit augue duis dolore te feugait nulla facilisi.   \"                                                                                                                                                                                                                                                                                                                                                                                                                                                                                                         \n",
       "[20] \"\"                                                                                                                                                                                                                                                                                                                                                                                                                                                                                                                                                                                                                                                                                                                                                                                                                                                                                                                          \n",
       "[21] \"Nam liber tempor cum soluta nobis eleifend option congue nihil imperdiet doming id quod mazim placerat facer possim assum. Lorem ipsum dolor sit amet, consectetuer adipiscing elit, sed diam nonummy nibh euismod tincidunt ut laoreet dolore magna aliquam erat volutpat. Ut wisi enim ad minim veniam, quis nostrud exerci tation ullamcorper suscipit lobortis nisl ut aliquip ex ea commodo\"                                                                                                                                                                                                                                                                                                                                                                                                                                                                                                                          "
      ]
     },
     "metadata": {},
     "output_type": "display_data"
    }
   ],
   "source": [
    "nchar(text[0])\n",
    "text"
   ]
  },
  {
   "cell_type": "code",
   "execution_count": 90,
   "id": "391248df",
   "metadata": {},
   "outputs": [
    {
     "data": {
      "text/html": [
       "890"
      ],
      "text/latex": [
       "890"
      ],
      "text/markdown": [
       "890"
      ],
      "text/plain": [
       "[1] 890"
      ]
     },
     "metadata": {},
     "output_type": "display_data"
    }
   ],
   "source": [
    "# function in R is only working in there scope, \n",
    "# doesn't change state\n",
    "nchar(text[1]); "
   ]
  },
  {
   "cell_type": "code",
   "execution_count": 91,
   "id": "ca55dce0",
   "metadata": {},
   "outputs": [
    {
     "data": {
      "text/html": [
       "<ol>\n",
       "\t<li><style>\n",
       ".list-inline {list-style: none; margin:0; padding: 0}\n",
       ".list-inline>li {display: inline-block}\n",
       ".list-inline>li:not(:last-child)::after {content: \"\\00b7\"; padding: 0 .5ex}\n",
       "</style>\n",
       "<ol class=list-inline><li>'Lorem'</li><li>'ipsum'</li><li>'dolor'</li><li>'sit'</li><li>'amet,'</li><li>'consetetur'</li><li>'sadipscing'</li><li>'elitr,'</li><li>'sed'</li><li>'diam'</li><li>'nonumy'</li><li>'eirmod'</li><li>'tempor'</li><li>'invidunt'</li><li>'ut'</li><li>'labore'</li><li>'et'</li><li>'dolore'</li><li>'magna'</li><li>'aliquyam'</li><li>'erat,'</li><li>'sed'</li><li>'diam'</li><li>'voluptua.'</li><li>'At'</li><li>'vero'</li><li>'eos'</li><li>'et'</li><li>'accusam'</li><li>'et'</li><li>'justo'</li><li>'duo'</li><li>'dolores'</li><li>'et'</li><li>'ea'</li><li>'rebum.'</li><li>'Stet'</li><li>'clita'</li><li>'kasd'</li><li>'gubergren,'</li><li>'no'</li><li>'sea'</li><li>'takimata'</li><li>'sanctus'</li><li>'est'</li><li>'Lorem'</li><li>'ipsum'</li><li>'dolor'</li><li>'sit'</li><li>'amet.'</li><li>'Lorem'</li><li>'ipsum'</li><li>'dolor'</li><li>'sit'</li><li>'amet,'</li><li>'consetetur'</li><li>'sadipscing'</li><li>'elitr,'</li><li>'sed'</li><li>'diam'</li><li>'nonumy'</li><li>'eirmod'</li><li>'tempor'</li><li>'invidunt'</li><li>'ut'</li><li>'labore'</li><li>'et'</li><li>'dolore'</li><li>'magna'</li><li>'aliquyam'</li><li>'erat,'</li><li>'sed'</li><li>'diam'</li><li>'voluptua.'</li><li>'At'</li><li>'vero'</li><li>'eos'</li><li>'et'</li><li>'accusam'</li><li>'et'</li><li>'justo'</li><li>'duo'</li><li>'dolores'</li><li>'et'</li><li>'ea'</li><li>'rebum.'</li><li>'Stet'</li><li>'clita'</li><li>'kasd'</li><li>'gubergren,'</li><li>'no'</li><li>'sea'</li><li>'takimata'</li><li>'sanctus'</li><li>'est'</li><li>'Lorem'</li><li>'ipsum'</li><li>'dolor'</li><li>'sit'</li><li>'amet.'</li><li>'Lorem'</li><li>'ipsum'</li><li>'dolor'</li><li>'sit'</li><li>'amet,'</li><li>'consetetur'</li><li>'sadipscing'</li><li>'elitr,'</li><li>'sed'</li><li>'diam'</li><li>'nonumy'</li><li>'eirmod'</li><li>'tempor'</li><li>'invidunt'</li><li>'ut'</li><li>'labore'</li><li>'et'</li><li>'dolore'</li><li>'magna'</li><li>'aliquyam'</li><li>'erat,'</li><li>'sed'</li><li>'diam'</li><li>'voluptua.'</li><li>'At'</li><li>'vero'</li><li>'eos'</li><li>'et'</li><li>'accusam'</li><li>'et'</li><li>'justo'</li><li>'duo'</li><li>'dolores'</li><li>'et'</li><li>'ea'</li><li>'rebum.'</li><li>'Stet'</li><li>'clita'</li><li>'kasd'</li><li>'gubergren,'</li><li>'no'</li><li>'sea'</li><li>'takimata'</li><li>'sanctus'</li><li>'est'</li><li>'Lorem'</li><li>'ipsum'</li><li>'dolor'</li><li>'sit'</li><li>'amet.'</li><li>''</li><li>''</li></ol>\n",
       "</li>\n",
       "</ol>\n"
      ],
      "text/latex": [
       "\\begin{enumerate}\n",
       "\\item \\begin{enumerate*}\n",
       "\\item 'Lorem'\n",
       "\\item 'ipsum'\n",
       "\\item 'dolor'\n",
       "\\item 'sit'\n",
       "\\item 'amet,'\n",
       "\\item 'consetetur'\n",
       "\\item 'sadipscing'\n",
       "\\item 'elitr,'\n",
       "\\item 'sed'\n",
       "\\item 'diam'\n",
       "\\item 'nonumy'\n",
       "\\item 'eirmod'\n",
       "\\item 'tempor'\n",
       "\\item 'invidunt'\n",
       "\\item 'ut'\n",
       "\\item 'labore'\n",
       "\\item 'et'\n",
       "\\item 'dolore'\n",
       "\\item 'magna'\n",
       "\\item 'aliquyam'\n",
       "\\item 'erat,'\n",
       "\\item 'sed'\n",
       "\\item 'diam'\n",
       "\\item 'voluptua.'\n",
       "\\item 'At'\n",
       "\\item 'vero'\n",
       "\\item 'eos'\n",
       "\\item 'et'\n",
       "\\item 'accusam'\n",
       "\\item 'et'\n",
       "\\item 'justo'\n",
       "\\item 'duo'\n",
       "\\item 'dolores'\n",
       "\\item 'et'\n",
       "\\item 'ea'\n",
       "\\item 'rebum.'\n",
       "\\item 'Stet'\n",
       "\\item 'clita'\n",
       "\\item 'kasd'\n",
       "\\item 'gubergren,'\n",
       "\\item 'no'\n",
       "\\item 'sea'\n",
       "\\item 'takimata'\n",
       "\\item 'sanctus'\n",
       "\\item 'est'\n",
       "\\item 'Lorem'\n",
       "\\item 'ipsum'\n",
       "\\item 'dolor'\n",
       "\\item 'sit'\n",
       "\\item 'amet.'\n",
       "\\item 'Lorem'\n",
       "\\item 'ipsum'\n",
       "\\item 'dolor'\n",
       "\\item 'sit'\n",
       "\\item 'amet,'\n",
       "\\item 'consetetur'\n",
       "\\item 'sadipscing'\n",
       "\\item 'elitr,'\n",
       "\\item 'sed'\n",
       "\\item 'diam'\n",
       "\\item 'nonumy'\n",
       "\\item 'eirmod'\n",
       "\\item 'tempor'\n",
       "\\item 'invidunt'\n",
       "\\item 'ut'\n",
       "\\item 'labore'\n",
       "\\item 'et'\n",
       "\\item 'dolore'\n",
       "\\item 'magna'\n",
       "\\item 'aliquyam'\n",
       "\\item 'erat,'\n",
       "\\item 'sed'\n",
       "\\item 'diam'\n",
       "\\item 'voluptua.'\n",
       "\\item 'At'\n",
       "\\item 'vero'\n",
       "\\item 'eos'\n",
       "\\item 'et'\n",
       "\\item 'accusam'\n",
       "\\item 'et'\n",
       "\\item 'justo'\n",
       "\\item 'duo'\n",
       "\\item 'dolores'\n",
       "\\item 'et'\n",
       "\\item 'ea'\n",
       "\\item 'rebum.'\n",
       "\\item 'Stet'\n",
       "\\item 'clita'\n",
       "\\item 'kasd'\n",
       "\\item 'gubergren,'\n",
       "\\item 'no'\n",
       "\\item 'sea'\n",
       "\\item 'takimata'\n",
       "\\item 'sanctus'\n",
       "\\item 'est'\n",
       "\\item 'Lorem'\n",
       "\\item 'ipsum'\n",
       "\\item 'dolor'\n",
       "\\item 'sit'\n",
       "\\item 'amet.'\n",
       "\\item 'Lorem'\n",
       "\\item 'ipsum'\n",
       "\\item 'dolor'\n",
       "\\item 'sit'\n",
       "\\item 'amet,'\n",
       "\\item 'consetetur'\n",
       "\\item 'sadipscing'\n",
       "\\item 'elitr,'\n",
       "\\item 'sed'\n",
       "\\item 'diam'\n",
       "\\item 'nonumy'\n",
       "\\item 'eirmod'\n",
       "\\item 'tempor'\n",
       "\\item 'invidunt'\n",
       "\\item 'ut'\n",
       "\\item 'labore'\n",
       "\\item 'et'\n",
       "\\item 'dolore'\n",
       "\\item 'magna'\n",
       "\\item 'aliquyam'\n",
       "\\item 'erat,'\n",
       "\\item 'sed'\n",
       "\\item 'diam'\n",
       "\\item 'voluptua.'\n",
       "\\item 'At'\n",
       "\\item 'vero'\n",
       "\\item 'eos'\n",
       "\\item 'et'\n",
       "\\item 'accusam'\n",
       "\\item 'et'\n",
       "\\item 'justo'\n",
       "\\item 'duo'\n",
       "\\item 'dolores'\n",
       "\\item 'et'\n",
       "\\item 'ea'\n",
       "\\item 'rebum.'\n",
       "\\item 'Stet'\n",
       "\\item 'clita'\n",
       "\\item 'kasd'\n",
       "\\item 'gubergren,'\n",
       "\\item 'no'\n",
       "\\item 'sea'\n",
       "\\item 'takimata'\n",
       "\\item 'sanctus'\n",
       "\\item 'est'\n",
       "\\item 'Lorem'\n",
       "\\item 'ipsum'\n",
       "\\item 'dolor'\n",
       "\\item 'sit'\n",
       "\\item 'amet.'\n",
       "\\item ''\n",
       "\\item ''\n",
       "\\end{enumerate*}\n",
       "\n",
       "\\end{enumerate}\n"
      ],
      "text/markdown": [
       "1. 1. 'Lorem'\n",
       "2. 'ipsum'\n",
       "3. 'dolor'\n",
       "4. 'sit'\n",
       "5. 'amet,'\n",
       "6. 'consetetur'\n",
       "7. 'sadipscing'\n",
       "8. 'elitr,'\n",
       "9. 'sed'\n",
       "10. 'diam'\n",
       "11. 'nonumy'\n",
       "12. 'eirmod'\n",
       "13. 'tempor'\n",
       "14. 'invidunt'\n",
       "15. 'ut'\n",
       "16. 'labore'\n",
       "17. 'et'\n",
       "18. 'dolore'\n",
       "19. 'magna'\n",
       "20. 'aliquyam'\n",
       "21. 'erat,'\n",
       "22. 'sed'\n",
       "23. 'diam'\n",
       "24. 'voluptua.'\n",
       "25. 'At'\n",
       "26. 'vero'\n",
       "27. 'eos'\n",
       "28. 'et'\n",
       "29. 'accusam'\n",
       "30. 'et'\n",
       "31. 'justo'\n",
       "32. 'duo'\n",
       "33. 'dolores'\n",
       "34. 'et'\n",
       "35. 'ea'\n",
       "36. 'rebum.'\n",
       "37. 'Stet'\n",
       "38. 'clita'\n",
       "39. 'kasd'\n",
       "40. 'gubergren,'\n",
       "41. 'no'\n",
       "42. 'sea'\n",
       "43. 'takimata'\n",
       "44. 'sanctus'\n",
       "45. 'est'\n",
       "46. 'Lorem'\n",
       "47. 'ipsum'\n",
       "48. 'dolor'\n",
       "49. 'sit'\n",
       "50. 'amet.'\n",
       "51. 'Lorem'\n",
       "52. 'ipsum'\n",
       "53. 'dolor'\n",
       "54. 'sit'\n",
       "55. 'amet,'\n",
       "56. 'consetetur'\n",
       "57. 'sadipscing'\n",
       "58. 'elitr,'\n",
       "59. 'sed'\n",
       "60. 'diam'\n",
       "61. 'nonumy'\n",
       "62. 'eirmod'\n",
       "63. 'tempor'\n",
       "64. 'invidunt'\n",
       "65. 'ut'\n",
       "66. 'labore'\n",
       "67. 'et'\n",
       "68. 'dolore'\n",
       "69. 'magna'\n",
       "70. 'aliquyam'\n",
       "71. 'erat,'\n",
       "72. 'sed'\n",
       "73. 'diam'\n",
       "74. 'voluptua.'\n",
       "75. 'At'\n",
       "76. 'vero'\n",
       "77. 'eos'\n",
       "78. 'et'\n",
       "79. 'accusam'\n",
       "80. 'et'\n",
       "81. 'justo'\n",
       "82. 'duo'\n",
       "83. 'dolores'\n",
       "84. 'et'\n",
       "85. 'ea'\n",
       "86. 'rebum.'\n",
       "87. 'Stet'\n",
       "88. 'clita'\n",
       "89. 'kasd'\n",
       "90. 'gubergren,'\n",
       "91. 'no'\n",
       "92. 'sea'\n",
       "93. 'takimata'\n",
       "94. 'sanctus'\n",
       "95. 'est'\n",
       "96. 'Lorem'\n",
       "97. 'ipsum'\n",
       "98. 'dolor'\n",
       "99. 'sit'\n",
       "100. 'amet.'\n",
       "101. 'Lorem'\n",
       "102. 'ipsum'\n",
       "103. 'dolor'\n",
       "104. 'sit'\n",
       "105. 'amet,'\n",
       "106. 'consetetur'\n",
       "107. 'sadipscing'\n",
       "108. 'elitr,'\n",
       "109. 'sed'\n",
       "110. 'diam'\n",
       "111. 'nonumy'\n",
       "112. 'eirmod'\n",
       "113. 'tempor'\n",
       "114. 'invidunt'\n",
       "115. 'ut'\n",
       "116. 'labore'\n",
       "117. 'et'\n",
       "118. 'dolore'\n",
       "119. 'magna'\n",
       "120. 'aliquyam'\n",
       "121. 'erat,'\n",
       "122. 'sed'\n",
       "123. 'diam'\n",
       "124. 'voluptua.'\n",
       "125. 'At'\n",
       "126. 'vero'\n",
       "127. 'eos'\n",
       "128. 'et'\n",
       "129. 'accusam'\n",
       "130. 'et'\n",
       "131. 'justo'\n",
       "132. 'duo'\n",
       "133. 'dolores'\n",
       "134. 'et'\n",
       "135. 'ea'\n",
       "136. 'rebum.'\n",
       "137. 'Stet'\n",
       "138. 'clita'\n",
       "139. 'kasd'\n",
       "140. 'gubergren,'\n",
       "141. 'no'\n",
       "142. 'sea'\n",
       "143. 'takimata'\n",
       "144. 'sanctus'\n",
       "145. 'est'\n",
       "146. 'Lorem'\n",
       "147. 'ipsum'\n",
       "148. 'dolor'\n",
       "149. 'sit'\n",
       "150. 'amet.'\n",
       "151. ''\n",
       "152. ''\n",
       "\n",
       "\n",
       "\n",
       "\n",
       "\n"
      ],
      "text/plain": [
       "[[1]]\n",
       "  [1] \"Lorem\"      \"ipsum\"      \"dolor\"      \"sit\"        \"amet,\"     \n",
       "  [6] \"consetetur\" \"sadipscing\" \"elitr,\"     \"sed\"        \"diam\"      \n",
       " [11] \"nonumy\"     \"eirmod\"     \"tempor\"     \"invidunt\"   \"ut\"        \n",
       " [16] \"labore\"     \"et\"         \"dolore\"     \"magna\"      \"aliquyam\"  \n",
       " [21] \"erat,\"      \"sed\"        \"diam\"       \"voluptua.\"  \"At\"        \n",
       " [26] \"vero\"       \"eos\"        \"et\"         \"accusam\"    \"et\"        \n",
       " [31] \"justo\"      \"duo\"        \"dolores\"    \"et\"         \"ea\"        \n",
       " [36] \"rebum.\"     \"Stet\"       \"clita\"      \"kasd\"       \"gubergren,\"\n",
       " [41] \"no\"         \"sea\"        \"takimata\"   \"sanctus\"    \"est\"       \n",
       " [46] \"Lorem\"      \"ipsum\"      \"dolor\"      \"sit\"        \"amet.\"     \n",
       " [51] \"Lorem\"      \"ipsum\"      \"dolor\"      \"sit\"        \"amet,\"     \n",
       " [56] \"consetetur\" \"sadipscing\" \"elitr,\"     \"sed\"        \"diam\"      \n",
       " [61] \"nonumy\"     \"eirmod\"     \"tempor\"     \"invidunt\"   \"ut\"        \n",
       " [66] \"labore\"     \"et\"         \"dolore\"     \"magna\"      \"aliquyam\"  \n",
       " [71] \"erat,\"      \"sed\"        \"diam\"       \"voluptua.\"  \"At\"        \n",
       " [76] \"vero\"       \"eos\"        \"et\"         \"accusam\"    \"et\"        \n",
       " [81] \"justo\"      \"duo\"        \"dolores\"    \"et\"         \"ea\"        \n",
       " [86] \"rebum.\"     \"Stet\"       \"clita\"      \"kasd\"       \"gubergren,\"\n",
       " [91] \"no\"         \"sea\"        \"takimata\"   \"sanctus\"    \"est\"       \n",
       " [96] \"Lorem\"      \"ipsum\"      \"dolor\"      \"sit\"        \"amet.\"     \n",
       "[101] \"Lorem\"      \"ipsum\"      \"dolor\"      \"sit\"        \"amet,\"     \n",
       "[106] \"consetetur\" \"sadipscing\" \"elitr,\"     \"sed\"        \"diam\"      \n",
       "[111] \"nonumy\"     \"eirmod\"     \"tempor\"     \"invidunt\"   \"ut\"        \n",
       "[116] \"labore\"     \"et\"         \"dolore\"     \"magna\"      \"aliquyam\"  \n",
       "[121] \"erat,\"      \"sed\"        \"diam\"       \"voluptua.\"  \"At\"        \n",
       "[126] \"vero\"       \"eos\"        \"et\"         \"accusam\"    \"et\"        \n",
       "[131] \"justo\"      \"duo\"        \"dolores\"    \"et\"         \"ea\"        \n",
       "[136] \"rebum.\"     \"Stet\"       \"clita\"      \"kasd\"       \"gubergren,\"\n",
       "[141] \"no\"         \"sea\"        \"takimata\"   \"sanctus\"    \"est\"       \n",
       "[146] \"Lorem\"      \"ipsum\"      \"dolor\"      \"sit\"        \"amet.\"     \n",
       "[151] \"\"           \"\"          \n"
      ]
     },
     "metadata": {},
     "output_type": "display_data"
    },
    {
     "data": {
      "text/html": [
       "'list'"
      ],
      "text/latex": [
       "'list'"
      ],
      "text/markdown": [
       "'list'"
      ],
      "text/plain": [
       "[1] \"list\""
      ]
     },
     "metadata": {},
     "output_type": "display_data"
    },
    {
     "data": {
      "text/html": [
       "<style>\n",
       ".list-inline {list-style: none; margin:0; padding: 0}\n",
       ".list-inline>li {display: inline-block}\n",
       ".list-inline>li:not(:last-child)::after {content: \"\\00b7\"; padding: 0 .5ex}\n",
       "</style>\n",
       "<ol class=list-inline><li>'Lorem'</li><li>'ipsum'</li><li>'dolor'</li><li>'sit'</li><li>'amet,'</li><li>'consetetur'</li><li>'sadipscing'</li><li>'elitr,'</li><li>'sed'</li><li>'diam'</li><li>'nonumy'</li><li>'eirmod'</li><li>'tempor'</li><li>'invidunt'</li><li>'ut'</li><li>'labore'</li><li>'et'</li><li>'dolore'</li><li>'magna'</li><li>'aliquyam'</li><li>'erat,'</li><li>'sed'</li><li>'diam'</li><li>'voluptua.'</li><li>'At'</li><li>'vero'</li><li>'eos'</li><li>'et'</li><li>'accusam'</li><li>'et'</li><li>'justo'</li><li>'duo'</li><li>'dolores'</li><li>'et'</li><li>'ea'</li><li>'rebum.'</li><li>'Stet'</li><li>'clita'</li><li>'kasd'</li><li>'gubergren,'</li><li>'no'</li><li>'sea'</li><li>'takimata'</li><li>'sanctus'</li><li>'est'</li><li>'Lorem'</li><li>'ipsum'</li><li>'dolor'</li><li>'sit'</li><li>'amet.'</li><li>'Lorem'</li><li>'ipsum'</li><li>'dolor'</li><li>'sit'</li><li>'amet,'</li><li>'consetetur'</li><li>'sadipscing'</li><li>'elitr,'</li><li>'sed'</li><li>'diam'</li><li>'nonumy'</li><li>'eirmod'</li><li>'tempor'</li><li>'invidunt'</li><li>'ut'</li><li>'labore'</li><li>'et'</li><li>'dolore'</li><li>'magna'</li><li>'aliquyam'</li><li>'erat,'</li><li>'sed'</li><li>'diam'</li><li>'voluptua.'</li><li>'At'</li><li>'vero'</li><li>'eos'</li><li>'et'</li><li>'accusam'</li><li>'et'</li><li>'justo'</li><li>'duo'</li><li>'dolores'</li><li>'et'</li><li>'ea'</li><li>'rebum.'</li><li>'Stet'</li><li>'clita'</li><li>'kasd'</li><li>'gubergren,'</li><li>'no'</li><li>'sea'</li><li>'takimata'</li><li>'sanctus'</li><li>'est'</li><li>'Lorem'</li><li>'ipsum'</li><li>'dolor'</li><li>'sit'</li><li>'amet.'</li><li>'Lorem'</li><li>'ipsum'</li><li>'dolor'</li><li>'sit'</li><li>'amet,'</li><li>'consetetur'</li><li>'sadipscing'</li><li>'elitr,'</li><li>'sed'</li><li>'diam'</li><li>'nonumy'</li><li>'eirmod'</li><li>'tempor'</li><li>'invidunt'</li><li>'ut'</li><li>'labore'</li><li>'et'</li><li>'dolore'</li><li>'magna'</li><li>'aliquyam'</li><li>'erat,'</li><li>'sed'</li><li>'diam'</li><li>'voluptua.'</li><li>'At'</li><li>'vero'</li><li>'eos'</li><li>'et'</li><li>'accusam'</li><li>'et'</li><li>'justo'</li><li>'duo'</li><li>'dolores'</li><li>'et'</li><li>'ea'</li><li>'rebum.'</li><li>'Stet'</li><li>'clita'</li><li>'kasd'</li><li>'gubergren,'</li><li>'no'</li><li>'sea'</li><li>'takimata'</li><li>'sanctus'</li><li>'est'</li><li>'Lorem'</li><li>'ipsum'</li><li>'dolor'</li><li>'sit'</li><li>'amet.'</li><li>''</li><li>''</li></ol>\n"
      ],
      "text/latex": [
       "\\begin{enumerate*}\n",
       "\\item 'Lorem'\n",
       "\\item 'ipsum'\n",
       "\\item 'dolor'\n",
       "\\item 'sit'\n",
       "\\item 'amet,'\n",
       "\\item 'consetetur'\n",
       "\\item 'sadipscing'\n",
       "\\item 'elitr,'\n",
       "\\item 'sed'\n",
       "\\item 'diam'\n",
       "\\item 'nonumy'\n",
       "\\item 'eirmod'\n",
       "\\item 'tempor'\n",
       "\\item 'invidunt'\n",
       "\\item 'ut'\n",
       "\\item 'labore'\n",
       "\\item 'et'\n",
       "\\item 'dolore'\n",
       "\\item 'magna'\n",
       "\\item 'aliquyam'\n",
       "\\item 'erat,'\n",
       "\\item 'sed'\n",
       "\\item 'diam'\n",
       "\\item 'voluptua.'\n",
       "\\item 'At'\n",
       "\\item 'vero'\n",
       "\\item 'eos'\n",
       "\\item 'et'\n",
       "\\item 'accusam'\n",
       "\\item 'et'\n",
       "\\item 'justo'\n",
       "\\item 'duo'\n",
       "\\item 'dolores'\n",
       "\\item 'et'\n",
       "\\item 'ea'\n",
       "\\item 'rebum.'\n",
       "\\item 'Stet'\n",
       "\\item 'clita'\n",
       "\\item 'kasd'\n",
       "\\item 'gubergren,'\n",
       "\\item 'no'\n",
       "\\item 'sea'\n",
       "\\item 'takimata'\n",
       "\\item 'sanctus'\n",
       "\\item 'est'\n",
       "\\item 'Lorem'\n",
       "\\item 'ipsum'\n",
       "\\item 'dolor'\n",
       "\\item 'sit'\n",
       "\\item 'amet.'\n",
       "\\item 'Lorem'\n",
       "\\item 'ipsum'\n",
       "\\item 'dolor'\n",
       "\\item 'sit'\n",
       "\\item 'amet,'\n",
       "\\item 'consetetur'\n",
       "\\item 'sadipscing'\n",
       "\\item 'elitr,'\n",
       "\\item 'sed'\n",
       "\\item 'diam'\n",
       "\\item 'nonumy'\n",
       "\\item 'eirmod'\n",
       "\\item 'tempor'\n",
       "\\item 'invidunt'\n",
       "\\item 'ut'\n",
       "\\item 'labore'\n",
       "\\item 'et'\n",
       "\\item 'dolore'\n",
       "\\item 'magna'\n",
       "\\item 'aliquyam'\n",
       "\\item 'erat,'\n",
       "\\item 'sed'\n",
       "\\item 'diam'\n",
       "\\item 'voluptua.'\n",
       "\\item 'At'\n",
       "\\item 'vero'\n",
       "\\item 'eos'\n",
       "\\item 'et'\n",
       "\\item 'accusam'\n",
       "\\item 'et'\n",
       "\\item 'justo'\n",
       "\\item 'duo'\n",
       "\\item 'dolores'\n",
       "\\item 'et'\n",
       "\\item 'ea'\n",
       "\\item 'rebum.'\n",
       "\\item 'Stet'\n",
       "\\item 'clita'\n",
       "\\item 'kasd'\n",
       "\\item 'gubergren,'\n",
       "\\item 'no'\n",
       "\\item 'sea'\n",
       "\\item 'takimata'\n",
       "\\item 'sanctus'\n",
       "\\item 'est'\n",
       "\\item 'Lorem'\n",
       "\\item 'ipsum'\n",
       "\\item 'dolor'\n",
       "\\item 'sit'\n",
       "\\item 'amet.'\n",
       "\\item 'Lorem'\n",
       "\\item 'ipsum'\n",
       "\\item 'dolor'\n",
       "\\item 'sit'\n",
       "\\item 'amet,'\n",
       "\\item 'consetetur'\n",
       "\\item 'sadipscing'\n",
       "\\item 'elitr,'\n",
       "\\item 'sed'\n",
       "\\item 'diam'\n",
       "\\item 'nonumy'\n",
       "\\item 'eirmod'\n",
       "\\item 'tempor'\n",
       "\\item 'invidunt'\n",
       "\\item 'ut'\n",
       "\\item 'labore'\n",
       "\\item 'et'\n",
       "\\item 'dolore'\n",
       "\\item 'magna'\n",
       "\\item 'aliquyam'\n",
       "\\item 'erat,'\n",
       "\\item 'sed'\n",
       "\\item 'diam'\n",
       "\\item 'voluptua.'\n",
       "\\item 'At'\n",
       "\\item 'vero'\n",
       "\\item 'eos'\n",
       "\\item 'et'\n",
       "\\item 'accusam'\n",
       "\\item 'et'\n",
       "\\item 'justo'\n",
       "\\item 'duo'\n",
       "\\item 'dolores'\n",
       "\\item 'et'\n",
       "\\item 'ea'\n",
       "\\item 'rebum.'\n",
       "\\item 'Stet'\n",
       "\\item 'clita'\n",
       "\\item 'kasd'\n",
       "\\item 'gubergren,'\n",
       "\\item 'no'\n",
       "\\item 'sea'\n",
       "\\item 'takimata'\n",
       "\\item 'sanctus'\n",
       "\\item 'est'\n",
       "\\item 'Lorem'\n",
       "\\item 'ipsum'\n",
       "\\item 'dolor'\n",
       "\\item 'sit'\n",
       "\\item 'amet.'\n",
       "\\item ''\n",
       "\\item ''\n",
       "\\end{enumerate*}\n"
      ],
      "text/markdown": [
       "1. 'Lorem'\n",
       "2. 'ipsum'\n",
       "3. 'dolor'\n",
       "4. 'sit'\n",
       "5. 'amet,'\n",
       "6. 'consetetur'\n",
       "7. 'sadipscing'\n",
       "8. 'elitr,'\n",
       "9. 'sed'\n",
       "10. 'diam'\n",
       "11. 'nonumy'\n",
       "12. 'eirmod'\n",
       "13. 'tempor'\n",
       "14. 'invidunt'\n",
       "15. 'ut'\n",
       "16. 'labore'\n",
       "17. 'et'\n",
       "18. 'dolore'\n",
       "19. 'magna'\n",
       "20. 'aliquyam'\n",
       "21. 'erat,'\n",
       "22. 'sed'\n",
       "23. 'diam'\n",
       "24. 'voluptua.'\n",
       "25. 'At'\n",
       "26. 'vero'\n",
       "27. 'eos'\n",
       "28. 'et'\n",
       "29. 'accusam'\n",
       "30. 'et'\n",
       "31. 'justo'\n",
       "32. 'duo'\n",
       "33. 'dolores'\n",
       "34. 'et'\n",
       "35. 'ea'\n",
       "36. 'rebum.'\n",
       "37. 'Stet'\n",
       "38. 'clita'\n",
       "39. 'kasd'\n",
       "40. 'gubergren,'\n",
       "41. 'no'\n",
       "42. 'sea'\n",
       "43. 'takimata'\n",
       "44. 'sanctus'\n",
       "45. 'est'\n",
       "46. 'Lorem'\n",
       "47. 'ipsum'\n",
       "48. 'dolor'\n",
       "49. 'sit'\n",
       "50. 'amet.'\n",
       "51. 'Lorem'\n",
       "52. 'ipsum'\n",
       "53. 'dolor'\n",
       "54. 'sit'\n",
       "55. 'amet,'\n",
       "56. 'consetetur'\n",
       "57. 'sadipscing'\n",
       "58. 'elitr,'\n",
       "59. 'sed'\n",
       "60. 'diam'\n",
       "61. 'nonumy'\n",
       "62. 'eirmod'\n",
       "63. 'tempor'\n",
       "64. 'invidunt'\n",
       "65. 'ut'\n",
       "66. 'labore'\n",
       "67. 'et'\n",
       "68. 'dolore'\n",
       "69. 'magna'\n",
       "70. 'aliquyam'\n",
       "71. 'erat,'\n",
       "72. 'sed'\n",
       "73. 'diam'\n",
       "74. 'voluptua.'\n",
       "75. 'At'\n",
       "76. 'vero'\n",
       "77. 'eos'\n",
       "78. 'et'\n",
       "79. 'accusam'\n",
       "80. 'et'\n",
       "81. 'justo'\n",
       "82. 'duo'\n",
       "83. 'dolores'\n",
       "84. 'et'\n",
       "85. 'ea'\n",
       "86. 'rebum.'\n",
       "87. 'Stet'\n",
       "88. 'clita'\n",
       "89. 'kasd'\n",
       "90. 'gubergren,'\n",
       "91. 'no'\n",
       "92. 'sea'\n",
       "93. 'takimata'\n",
       "94. 'sanctus'\n",
       "95. 'est'\n",
       "96. 'Lorem'\n",
       "97. 'ipsum'\n",
       "98. 'dolor'\n",
       "99. 'sit'\n",
       "100. 'amet.'\n",
       "101. 'Lorem'\n",
       "102. 'ipsum'\n",
       "103. 'dolor'\n",
       "104. 'sit'\n",
       "105. 'amet,'\n",
       "106. 'consetetur'\n",
       "107. 'sadipscing'\n",
       "108. 'elitr,'\n",
       "109. 'sed'\n",
       "110. 'diam'\n",
       "111. 'nonumy'\n",
       "112. 'eirmod'\n",
       "113. 'tempor'\n",
       "114. 'invidunt'\n",
       "115. 'ut'\n",
       "116. 'labore'\n",
       "117. 'et'\n",
       "118. 'dolore'\n",
       "119. 'magna'\n",
       "120. 'aliquyam'\n",
       "121. 'erat,'\n",
       "122. 'sed'\n",
       "123. 'diam'\n",
       "124. 'voluptua.'\n",
       "125. 'At'\n",
       "126. 'vero'\n",
       "127. 'eos'\n",
       "128. 'et'\n",
       "129. 'accusam'\n",
       "130. 'et'\n",
       "131. 'justo'\n",
       "132. 'duo'\n",
       "133. 'dolores'\n",
       "134. 'et'\n",
       "135. 'ea'\n",
       "136. 'rebum.'\n",
       "137. 'Stet'\n",
       "138. 'clita'\n",
       "139. 'kasd'\n",
       "140. 'gubergren,'\n",
       "141. 'no'\n",
       "142. 'sea'\n",
       "143. 'takimata'\n",
       "144. 'sanctus'\n",
       "145. 'est'\n",
       "146. 'Lorem'\n",
       "147. 'ipsum'\n",
       "148. 'dolor'\n",
       "149. 'sit'\n",
       "150. 'amet.'\n",
       "151. ''\n",
       "152. ''\n",
       "\n",
       "\n"
      ],
      "text/plain": [
       "  [1] \"Lorem\"      \"ipsum\"      \"dolor\"      \"sit\"        \"amet,\"     \n",
       "  [6] \"consetetur\" \"sadipscing\" \"elitr,\"     \"sed\"        \"diam\"      \n",
       " [11] \"nonumy\"     \"eirmod\"     \"tempor\"     \"invidunt\"   \"ut\"        \n",
       " [16] \"labore\"     \"et\"         \"dolore\"     \"magna\"      \"aliquyam\"  \n",
       " [21] \"erat,\"      \"sed\"        \"diam\"       \"voluptua.\"  \"At\"        \n",
       " [26] \"vero\"       \"eos\"        \"et\"         \"accusam\"    \"et\"        \n",
       " [31] \"justo\"      \"duo\"        \"dolores\"    \"et\"         \"ea\"        \n",
       " [36] \"rebum.\"     \"Stet\"       \"clita\"      \"kasd\"       \"gubergren,\"\n",
       " [41] \"no\"         \"sea\"        \"takimata\"   \"sanctus\"    \"est\"       \n",
       " [46] \"Lorem\"      \"ipsum\"      \"dolor\"      \"sit\"        \"amet.\"     \n",
       " [51] \"Lorem\"      \"ipsum\"      \"dolor\"      \"sit\"        \"amet,\"     \n",
       " [56] \"consetetur\" \"sadipscing\" \"elitr,\"     \"sed\"        \"diam\"      \n",
       " [61] \"nonumy\"     \"eirmod\"     \"tempor\"     \"invidunt\"   \"ut\"        \n",
       " [66] \"labore\"     \"et\"         \"dolore\"     \"magna\"      \"aliquyam\"  \n",
       " [71] \"erat,\"      \"sed\"        \"diam\"       \"voluptua.\"  \"At\"        \n",
       " [76] \"vero\"       \"eos\"        \"et\"         \"accusam\"    \"et\"        \n",
       " [81] \"justo\"      \"duo\"        \"dolores\"    \"et\"         \"ea\"        \n",
       " [86] \"rebum.\"     \"Stet\"       \"clita\"      \"kasd\"       \"gubergren,\"\n",
       " [91] \"no\"         \"sea\"        \"takimata\"   \"sanctus\"    \"est\"       \n",
       " [96] \"Lorem\"      \"ipsum\"      \"dolor\"      \"sit\"        \"amet.\"     \n",
       "[101] \"Lorem\"      \"ipsum\"      \"dolor\"      \"sit\"        \"amet,\"     \n",
       "[106] \"consetetur\" \"sadipscing\" \"elitr,\"     \"sed\"        \"diam\"      \n",
       "[111] \"nonumy\"     \"eirmod\"     \"tempor\"     \"invidunt\"   \"ut\"        \n",
       "[116] \"labore\"     \"et\"         \"dolore\"     \"magna\"      \"aliquyam\"  \n",
       "[121] \"erat,\"      \"sed\"        \"diam\"       \"voluptua.\"  \"At\"        \n",
       "[126] \"vero\"       \"eos\"        \"et\"         \"accusam\"    \"et\"        \n",
       "[131] \"justo\"      \"duo\"        \"dolores\"    \"et\"         \"ea\"        \n",
       "[136] \"rebum.\"     \"Stet\"       \"clita\"      \"kasd\"       \"gubergren,\"\n",
       "[141] \"no\"         \"sea\"        \"takimata\"   \"sanctus\"    \"est\"       \n",
       "[146] \"Lorem\"      \"ipsum\"      \"dolor\"      \"sit\"        \"amet.\"     \n",
       "[151] \"\"           \"\"          "
      ]
     },
     "metadata": {},
     "output_type": "display_data"
    },
    {
     "data": {
      "text/html": [
       "'character'"
      ],
      "text/latex": [
       "'character'"
      ],
      "text/markdown": [
       "'character'"
      ],
      "text/plain": [
       "[1] \"character\""
      ]
     },
     "metadata": {},
     "output_type": "display_data"
    }
   ],
   "source": [
    "char_list <- strsplit(text[1], \" \"); char_list; class(char_list); \n",
    "word_list <- unlist(char_list); word_list; class(word_list)"
   ]
  },
  {
   "cell_type": "code",
   "execution_count": 92,
   "id": "420d7052",
   "metadata": {},
   "outputs": [
    {
     "data": {
      "text/html": [
       "'Lorem-ipsum-dolor-sit-amet,-consetetur-sadipscing-elitr,-sed-diam-nonumy-eirmod-tempor-invidunt-ut-labore-et-dolore-magna-aliquyam-erat,-sed-diam-voluptua.-At-vero-eos-et-accusam-et-justo-duo-dolores-et-ea-rebum.-Stet-clita-kasd-gubergren,-no-sea-takimata-sanctus-est-Lorem-ipsum-dolor-sit-amet.-Lorem-ipsum-dolor-sit-amet,-consetetur-sadipscing-elitr,-sed-diam-nonumy-eirmod-tempor-invidunt-ut-labore-et-dolore-magna-aliquyam-erat,-sed-diam-voluptua.-At-vero-eos-et-accusam-et-justo-duo-dolores-et-ea-rebum.-Stet-clita-kasd-gubergren,-no-sea-takimata-sanctus-est-Lorem-ipsum-dolor-sit-amet.-Lorem-ipsum-dolor-sit-amet,-consetetur-sadipscing-elitr,-sed-diam-nonumy-eirmod-tempor-invidunt-ut-labore-et-dolore-magna-aliquyam-erat,-sed-diam-voluptua.-At-vero-eos-et-accusam-et-justo-duo-dolores-et-ea-rebum.-Stet-clita-kasd-gubergren,-no-sea-takimata-sanctus-est-Lorem-ipsum-dolor-sit-amet.---'"
      ],
      "text/latex": [
       "'Lorem-ipsum-dolor-sit-amet,-consetetur-sadipscing-elitr,-sed-diam-nonumy-eirmod-tempor-invidunt-ut-labore-et-dolore-magna-aliquyam-erat,-sed-diam-voluptua.-At-vero-eos-et-accusam-et-justo-duo-dolores-et-ea-rebum.-Stet-clita-kasd-gubergren,-no-sea-takimata-sanctus-est-Lorem-ipsum-dolor-sit-amet.-Lorem-ipsum-dolor-sit-amet,-consetetur-sadipscing-elitr,-sed-diam-nonumy-eirmod-tempor-invidunt-ut-labore-et-dolore-magna-aliquyam-erat,-sed-diam-voluptua.-At-vero-eos-et-accusam-et-justo-duo-dolores-et-ea-rebum.-Stet-clita-kasd-gubergren,-no-sea-takimata-sanctus-est-Lorem-ipsum-dolor-sit-amet.-Lorem-ipsum-dolor-sit-amet,-consetetur-sadipscing-elitr,-sed-diam-nonumy-eirmod-tempor-invidunt-ut-labore-et-dolore-magna-aliquyam-erat,-sed-diam-voluptua.-At-vero-eos-et-accusam-et-justo-duo-dolores-et-ea-rebum.-Stet-clita-kasd-gubergren,-no-sea-takimata-sanctus-est-Lorem-ipsum-dolor-sit-amet.---'"
      ],
      "text/markdown": [
       "'Lorem-ipsum-dolor-sit-amet,-consetetur-sadipscing-elitr,-sed-diam-nonumy-eirmod-tempor-invidunt-ut-labore-et-dolore-magna-aliquyam-erat,-sed-diam-voluptua.-At-vero-eos-et-accusam-et-justo-duo-dolores-et-ea-rebum.-Stet-clita-kasd-gubergren,-no-sea-takimata-sanctus-est-Lorem-ipsum-dolor-sit-amet.-Lorem-ipsum-dolor-sit-amet,-consetetur-sadipscing-elitr,-sed-diam-nonumy-eirmod-tempor-invidunt-ut-labore-et-dolore-magna-aliquyam-erat,-sed-diam-voluptua.-At-vero-eos-et-accusam-et-justo-duo-dolores-et-ea-rebum.-Stet-clita-kasd-gubergren,-no-sea-takimata-sanctus-est-Lorem-ipsum-dolor-sit-amet.-Lorem-ipsum-dolor-sit-amet,-consetetur-sadipscing-elitr,-sed-diam-nonumy-eirmod-tempor-invidunt-ut-labore-et-dolore-magna-aliquyam-erat,-sed-diam-voluptua.-At-vero-eos-et-accusam-et-justo-duo-dolores-et-ea-rebum.-Stet-clita-kasd-gubergren,-no-sea-takimata-sanctus-est-Lorem-ipsum-dolor-sit-amet.---'"
      ],
      "text/plain": [
       "[1] \"Lorem-ipsum-dolor-sit-amet,-consetetur-sadipscing-elitr,-sed-diam-nonumy-eirmod-tempor-invidunt-ut-labore-et-dolore-magna-aliquyam-erat,-sed-diam-voluptua.-At-vero-eos-et-accusam-et-justo-duo-dolores-et-ea-rebum.-Stet-clita-kasd-gubergren,-no-sea-takimata-sanctus-est-Lorem-ipsum-dolor-sit-amet.-Lorem-ipsum-dolor-sit-amet,-consetetur-sadipscing-elitr,-sed-diam-nonumy-eirmod-tempor-invidunt-ut-labore-et-dolore-magna-aliquyam-erat,-sed-diam-voluptua.-At-vero-eos-et-accusam-et-justo-duo-dolores-et-ea-rebum.-Stet-clita-kasd-gubergren,-no-sea-takimata-sanctus-est-Lorem-ipsum-dolor-sit-amet.-Lorem-ipsum-dolor-sit-amet,-consetetur-sadipscing-elitr,-sed-diam-nonumy-eirmod-tempor-invidunt-ut-labore-et-dolore-magna-aliquyam-erat,-sed-diam-voluptua.-At-vero-eos-et-accusam-et-justo-duo-dolores-et-ea-rebum.-Stet-clita-kasd-gubergren,-no-sea-takimata-sanctus-est-Lorem-ipsum-dolor-sit-amet.---\""
      ]
     },
     "metadata": {},
     "output_type": "display_data"
    },
    {
     "data": {
      "text/html": [
       "'character'"
      ],
      "text/latex": [
       "'character'"
      ],
      "text/markdown": [
       "'character'"
      ],
      "text/plain": [
       "[1] \"character\""
      ]
     },
     "metadata": {},
     "output_type": "display_data"
    }
   ],
   "source": [
    "splitted_text = chartr(\" \", \"-\", text[1]); splitted_text\n",
    "#doesn't like julia depending on the function you \n",
    "class(text[1])"
   ]
  },
  {
   "cell_type": "code",
   "execution_count": 93,
   "id": "3523d343",
   "metadata": {
    "scrolled": true
   },
   "outputs": [
    {
     "data": {
      "text/html": [
       "<style>\n",
       ".list-inline {list-style: none; margin:0; padding: 0}\n",
       ".list-inline>li {display: inline-block}\n",
       ".list-inline>li:not(:last-child)::after {content: \"\\00b7\"; padding: 0 .5ex}\n",
       "</style>\n",
       "<ol class=list-inline><li>''</li><li>''</li><li>'accusam'</li><li>'accusam'</li><li>'accusam'</li><li>'aliquyam'</li><li>'aliquyam'</li><li>'aliquyam'</li><li>'amet,'</li><li>'amet,'</li><li>'amet,'</li><li>'amet.'</li><li>'amet.'</li><li>'amet.'</li><li>'At'</li><li>'At'</li><li>'At'</li><li>'clita'</li><li>'clita'</li><li>'clita'</li><li>'consetetur'</li><li>'consetetur'</li><li>'consetetur'</li><li>'diam'</li><li>'diam'</li><li>'diam'</li><li>'diam'</li><li>'diam'</li><li>'diam'</li><li>'dolor'</li><li>'dolor'</li><li>'dolor'</li><li>'dolor'</li><li>'dolor'</li><li>'dolor'</li><li>'dolore'</li><li>'dolore'</li><li>'dolore'</li><li>'dolores'</li><li>'dolores'</li><li>'dolores'</li><li>'duo'</li><li>'duo'</li><li>'duo'</li><li>'ea'</li><li>'ea'</li><li>'ea'</li><li>'eirmod'</li><li>'eirmod'</li><li>'eirmod'</li><li>'elitr,'</li><li>'elitr,'</li><li>'elitr,'</li><li>'eos'</li><li>'eos'</li><li>'eos'</li><li>'erat,'</li><li>'erat,'</li><li>'erat,'</li><li>'est'</li><li>'est'</li><li>'est'</li><li>'et'</li><li>'et'</li><li>'et'</li><li>'et'</li><li>'et'</li><li>'et'</li><li>'et'</li><li>'et'</li><li>'et'</li><li>'et'</li><li>'et'</li><li>'et'</li><li>'gubergren,'</li><li>'gubergren,'</li><li>'gubergren,'</li><li>'invidunt'</li><li>'invidunt'</li><li>'invidunt'</li><li>'ipsum'</li><li>'ipsum'</li><li>'ipsum'</li><li>'ipsum'</li><li>'ipsum'</li><li>'ipsum'</li><li>'justo'</li><li>'justo'</li><li>'justo'</li><li>'kasd'</li><li>'kasd'</li><li>'kasd'</li><li>'labore'</li><li>'labore'</li><li>'labore'</li><li>'Lorem'</li><li>'Lorem'</li><li>'Lorem'</li><li>'Lorem'</li><li>'Lorem'</li><li>'Lorem'</li><li>'magna'</li><li>'magna'</li><li>'magna'</li><li>'no'</li><li>'no'</li><li>'no'</li><li>'nonumy'</li><li>'nonumy'</li><li>'nonumy'</li><li>'rebum.'</li><li>'rebum.'</li><li>'rebum.'</li><li>'sadipscing'</li><li>'sadipscing'</li><li>'sadipscing'</li><li>'sanctus'</li><li>'sanctus'</li><li>'sanctus'</li><li>'sea'</li><li>'sea'</li><li>'sea'</li><li>'sed'</li><li>'sed'</li><li>'sed'</li><li>'sed'</li><li>'sed'</li><li>'sed'</li><li>'sit'</li><li>'sit'</li><li>'sit'</li><li>'sit'</li><li>'sit'</li><li>'sit'</li><li>'Stet'</li><li>'Stet'</li><li>'Stet'</li><li>'takimata'</li><li>'takimata'</li><li>'takimata'</li><li>'tempor'</li><li>'tempor'</li><li>'tempor'</li><li>'ut'</li><li>'ut'</li><li>'ut'</li><li>'vero'</li><li>'vero'</li><li>'vero'</li><li>'voluptua.'</li><li>'voluptua.'</li><li>'voluptua.'</li></ol>\n"
      ],
      "text/latex": [
       "\\begin{enumerate*}\n",
       "\\item ''\n",
       "\\item ''\n",
       "\\item 'accusam'\n",
       "\\item 'accusam'\n",
       "\\item 'accusam'\n",
       "\\item 'aliquyam'\n",
       "\\item 'aliquyam'\n",
       "\\item 'aliquyam'\n",
       "\\item 'amet,'\n",
       "\\item 'amet,'\n",
       "\\item 'amet,'\n",
       "\\item 'amet.'\n",
       "\\item 'amet.'\n",
       "\\item 'amet.'\n",
       "\\item 'At'\n",
       "\\item 'At'\n",
       "\\item 'At'\n",
       "\\item 'clita'\n",
       "\\item 'clita'\n",
       "\\item 'clita'\n",
       "\\item 'consetetur'\n",
       "\\item 'consetetur'\n",
       "\\item 'consetetur'\n",
       "\\item 'diam'\n",
       "\\item 'diam'\n",
       "\\item 'diam'\n",
       "\\item 'diam'\n",
       "\\item 'diam'\n",
       "\\item 'diam'\n",
       "\\item 'dolor'\n",
       "\\item 'dolor'\n",
       "\\item 'dolor'\n",
       "\\item 'dolor'\n",
       "\\item 'dolor'\n",
       "\\item 'dolor'\n",
       "\\item 'dolore'\n",
       "\\item 'dolore'\n",
       "\\item 'dolore'\n",
       "\\item 'dolores'\n",
       "\\item 'dolores'\n",
       "\\item 'dolores'\n",
       "\\item 'duo'\n",
       "\\item 'duo'\n",
       "\\item 'duo'\n",
       "\\item 'ea'\n",
       "\\item 'ea'\n",
       "\\item 'ea'\n",
       "\\item 'eirmod'\n",
       "\\item 'eirmod'\n",
       "\\item 'eirmod'\n",
       "\\item 'elitr,'\n",
       "\\item 'elitr,'\n",
       "\\item 'elitr,'\n",
       "\\item 'eos'\n",
       "\\item 'eos'\n",
       "\\item 'eos'\n",
       "\\item 'erat,'\n",
       "\\item 'erat,'\n",
       "\\item 'erat,'\n",
       "\\item 'est'\n",
       "\\item 'est'\n",
       "\\item 'est'\n",
       "\\item 'et'\n",
       "\\item 'et'\n",
       "\\item 'et'\n",
       "\\item 'et'\n",
       "\\item 'et'\n",
       "\\item 'et'\n",
       "\\item 'et'\n",
       "\\item 'et'\n",
       "\\item 'et'\n",
       "\\item 'et'\n",
       "\\item 'et'\n",
       "\\item 'et'\n",
       "\\item 'gubergren,'\n",
       "\\item 'gubergren,'\n",
       "\\item 'gubergren,'\n",
       "\\item 'invidunt'\n",
       "\\item 'invidunt'\n",
       "\\item 'invidunt'\n",
       "\\item 'ipsum'\n",
       "\\item 'ipsum'\n",
       "\\item 'ipsum'\n",
       "\\item 'ipsum'\n",
       "\\item 'ipsum'\n",
       "\\item 'ipsum'\n",
       "\\item 'justo'\n",
       "\\item 'justo'\n",
       "\\item 'justo'\n",
       "\\item 'kasd'\n",
       "\\item 'kasd'\n",
       "\\item 'kasd'\n",
       "\\item 'labore'\n",
       "\\item 'labore'\n",
       "\\item 'labore'\n",
       "\\item 'Lorem'\n",
       "\\item 'Lorem'\n",
       "\\item 'Lorem'\n",
       "\\item 'Lorem'\n",
       "\\item 'Lorem'\n",
       "\\item 'Lorem'\n",
       "\\item 'magna'\n",
       "\\item 'magna'\n",
       "\\item 'magna'\n",
       "\\item 'no'\n",
       "\\item 'no'\n",
       "\\item 'no'\n",
       "\\item 'nonumy'\n",
       "\\item 'nonumy'\n",
       "\\item 'nonumy'\n",
       "\\item 'rebum.'\n",
       "\\item 'rebum.'\n",
       "\\item 'rebum.'\n",
       "\\item 'sadipscing'\n",
       "\\item 'sadipscing'\n",
       "\\item 'sadipscing'\n",
       "\\item 'sanctus'\n",
       "\\item 'sanctus'\n",
       "\\item 'sanctus'\n",
       "\\item 'sea'\n",
       "\\item 'sea'\n",
       "\\item 'sea'\n",
       "\\item 'sed'\n",
       "\\item 'sed'\n",
       "\\item 'sed'\n",
       "\\item 'sed'\n",
       "\\item 'sed'\n",
       "\\item 'sed'\n",
       "\\item 'sit'\n",
       "\\item 'sit'\n",
       "\\item 'sit'\n",
       "\\item 'sit'\n",
       "\\item 'sit'\n",
       "\\item 'sit'\n",
       "\\item 'Stet'\n",
       "\\item 'Stet'\n",
       "\\item 'Stet'\n",
       "\\item 'takimata'\n",
       "\\item 'takimata'\n",
       "\\item 'takimata'\n",
       "\\item 'tempor'\n",
       "\\item 'tempor'\n",
       "\\item 'tempor'\n",
       "\\item 'ut'\n",
       "\\item 'ut'\n",
       "\\item 'ut'\n",
       "\\item 'vero'\n",
       "\\item 'vero'\n",
       "\\item 'vero'\n",
       "\\item 'voluptua.'\n",
       "\\item 'voluptua.'\n",
       "\\item 'voluptua.'\n",
       "\\end{enumerate*}\n"
      ],
      "text/markdown": [
       "1. ''\n",
       "2. ''\n",
       "3. 'accusam'\n",
       "4. 'accusam'\n",
       "5. 'accusam'\n",
       "6. 'aliquyam'\n",
       "7. 'aliquyam'\n",
       "8. 'aliquyam'\n",
       "9. 'amet,'\n",
       "10. 'amet,'\n",
       "11. 'amet,'\n",
       "12. 'amet.'\n",
       "13. 'amet.'\n",
       "14. 'amet.'\n",
       "15. 'At'\n",
       "16. 'At'\n",
       "17. 'At'\n",
       "18. 'clita'\n",
       "19. 'clita'\n",
       "20. 'clita'\n",
       "21. 'consetetur'\n",
       "22. 'consetetur'\n",
       "23. 'consetetur'\n",
       "24. 'diam'\n",
       "25. 'diam'\n",
       "26. 'diam'\n",
       "27. 'diam'\n",
       "28. 'diam'\n",
       "29. 'diam'\n",
       "30. 'dolor'\n",
       "31. 'dolor'\n",
       "32. 'dolor'\n",
       "33. 'dolor'\n",
       "34. 'dolor'\n",
       "35. 'dolor'\n",
       "36. 'dolore'\n",
       "37. 'dolore'\n",
       "38. 'dolore'\n",
       "39. 'dolores'\n",
       "40. 'dolores'\n",
       "41. 'dolores'\n",
       "42. 'duo'\n",
       "43. 'duo'\n",
       "44. 'duo'\n",
       "45. 'ea'\n",
       "46. 'ea'\n",
       "47. 'ea'\n",
       "48. 'eirmod'\n",
       "49. 'eirmod'\n",
       "50. 'eirmod'\n",
       "51. 'elitr,'\n",
       "52. 'elitr,'\n",
       "53. 'elitr,'\n",
       "54. 'eos'\n",
       "55. 'eos'\n",
       "56. 'eos'\n",
       "57. 'erat,'\n",
       "58. 'erat,'\n",
       "59. 'erat,'\n",
       "60. 'est'\n",
       "61. 'est'\n",
       "62. 'est'\n",
       "63. 'et'\n",
       "64. 'et'\n",
       "65. 'et'\n",
       "66. 'et'\n",
       "67. 'et'\n",
       "68. 'et'\n",
       "69. 'et'\n",
       "70. 'et'\n",
       "71. 'et'\n",
       "72. 'et'\n",
       "73. 'et'\n",
       "74. 'et'\n",
       "75. 'gubergren,'\n",
       "76. 'gubergren,'\n",
       "77. 'gubergren,'\n",
       "78. 'invidunt'\n",
       "79. 'invidunt'\n",
       "80. 'invidunt'\n",
       "81. 'ipsum'\n",
       "82. 'ipsum'\n",
       "83. 'ipsum'\n",
       "84. 'ipsum'\n",
       "85. 'ipsum'\n",
       "86. 'ipsum'\n",
       "87. 'justo'\n",
       "88. 'justo'\n",
       "89. 'justo'\n",
       "90. 'kasd'\n",
       "91. 'kasd'\n",
       "92. 'kasd'\n",
       "93. 'labore'\n",
       "94. 'labore'\n",
       "95. 'labore'\n",
       "96. 'Lorem'\n",
       "97. 'Lorem'\n",
       "98. 'Lorem'\n",
       "99. 'Lorem'\n",
       "100. 'Lorem'\n",
       "101. 'Lorem'\n",
       "102. 'magna'\n",
       "103. 'magna'\n",
       "104. 'magna'\n",
       "105. 'no'\n",
       "106. 'no'\n",
       "107. 'no'\n",
       "108. 'nonumy'\n",
       "109. 'nonumy'\n",
       "110. 'nonumy'\n",
       "111. 'rebum.'\n",
       "112. 'rebum.'\n",
       "113. 'rebum.'\n",
       "114. 'sadipscing'\n",
       "115. 'sadipscing'\n",
       "116. 'sadipscing'\n",
       "117. 'sanctus'\n",
       "118. 'sanctus'\n",
       "119. 'sanctus'\n",
       "120. 'sea'\n",
       "121. 'sea'\n",
       "122. 'sea'\n",
       "123. 'sed'\n",
       "124. 'sed'\n",
       "125. 'sed'\n",
       "126. 'sed'\n",
       "127. 'sed'\n",
       "128. 'sed'\n",
       "129. 'sit'\n",
       "130. 'sit'\n",
       "131. 'sit'\n",
       "132. 'sit'\n",
       "133. 'sit'\n",
       "134. 'sit'\n",
       "135. 'Stet'\n",
       "136. 'Stet'\n",
       "137. 'Stet'\n",
       "138. 'takimata'\n",
       "139. 'takimata'\n",
       "140. 'takimata'\n",
       "141. 'tempor'\n",
       "142. 'tempor'\n",
       "143. 'tempor'\n",
       "144. 'ut'\n",
       "145. 'ut'\n",
       "146. 'ut'\n",
       "147. 'vero'\n",
       "148. 'vero'\n",
       "149. 'vero'\n",
       "150. 'voluptua.'\n",
       "151. 'voluptua.'\n",
       "152. 'voluptua.'\n",
       "\n",
       "\n"
      ],
      "text/plain": [
       "  [1] \"\"           \"\"           \"accusam\"    \"accusam\"    \"accusam\"   \n",
       "  [6] \"aliquyam\"   \"aliquyam\"   \"aliquyam\"   \"amet,\"      \"amet,\"     \n",
       " [11] \"amet,\"      \"amet.\"      \"amet.\"      \"amet.\"      \"At\"        \n",
       " [16] \"At\"         \"At\"         \"clita\"      \"clita\"      \"clita\"     \n",
       " [21] \"consetetur\" \"consetetur\" \"consetetur\" \"diam\"       \"diam\"      \n",
       " [26] \"diam\"       \"diam\"       \"diam\"       \"diam\"       \"dolor\"     \n",
       " [31] \"dolor\"      \"dolor\"      \"dolor\"      \"dolor\"      \"dolor\"     \n",
       " [36] \"dolore\"     \"dolore\"     \"dolore\"     \"dolores\"    \"dolores\"   \n",
       " [41] \"dolores\"    \"duo\"        \"duo\"        \"duo\"        \"ea\"        \n",
       " [46] \"ea\"         \"ea\"         \"eirmod\"     \"eirmod\"     \"eirmod\"    \n",
       " [51] \"elitr,\"     \"elitr,\"     \"elitr,\"     \"eos\"        \"eos\"       \n",
       " [56] \"eos\"        \"erat,\"      \"erat,\"      \"erat,\"      \"est\"       \n",
       " [61] \"est\"        \"est\"        \"et\"         \"et\"         \"et\"        \n",
       " [66] \"et\"         \"et\"         \"et\"         \"et\"         \"et\"        \n",
       " [71] \"et\"         \"et\"         \"et\"         \"et\"         \"gubergren,\"\n",
       " [76] \"gubergren,\" \"gubergren,\" \"invidunt\"   \"invidunt\"   \"invidunt\"  \n",
       " [81] \"ipsum\"      \"ipsum\"      \"ipsum\"      \"ipsum\"      \"ipsum\"     \n",
       " [86] \"ipsum\"      \"justo\"      \"justo\"      \"justo\"      \"kasd\"      \n",
       " [91] \"kasd\"       \"kasd\"       \"labore\"     \"labore\"     \"labore\"    \n",
       " [96] \"Lorem\"      \"Lorem\"      \"Lorem\"      \"Lorem\"      \"Lorem\"     \n",
       "[101] \"Lorem\"      \"magna\"      \"magna\"      \"magna\"      \"no\"        \n",
       "[106] \"no\"         \"no\"         \"nonumy\"     \"nonumy\"     \"nonumy\"    \n",
       "[111] \"rebum.\"     \"rebum.\"     \"rebum.\"     \"sadipscing\" \"sadipscing\"\n",
       "[116] \"sadipscing\" \"sanctus\"    \"sanctus\"    \"sanctus\"    \"sea\"       \n",
       "[121] \"sea\"        \"sea\"        \"sed\"        \"sed\"        \"sed\"       \n",
       "[126] \"sed\"        \"sed\"        \"sed\"        \"sit\"        \"sit\"       \n",
       "[131] \"sit\"        \"sit\"        \"sit\"        \"sit\"        \"Stet\"      \n",
       "[136] \"Stet\"       \"Stet\"       \"takimata\"   \"takimata\"   \"takimata\"  \n",
       "[141] \"tempor\"     \"tempor\"     \"tempor\"     \"ut\"         \"ut\"        \n",
       "[146] \"ut\"         \"vero\"       \"vero\"       \"vero\"       \"voluptua.\" \n",
       "[151] \"voluptua.\"  \"voluptua.\" "
      ]
     },
     "metadata": {},
     "output_type": "display_data"
    }
   ],
   "source": [
    "sorted_list <- sort(word_list); sorted_list"
   ]
  },
  {
   "cell_type": "code",
   "execution_count": 94,
   "id": "62d2933f",
   "metadata": {},
   "outputs": [
    {
     "data": {
      "text/html": [
       "<span style=white-space:pre-wrap>'  accusam accusam accusam aliquyam aliquyam aliquyam amet, amet, amet, amet. amet. amet. At At At clita clita clita consetetur consetetur consetetur diam diam diam diam diam diam dolor dolor dolor dolor dolor dolor dolore dolore dolore dolores dolores dolores duo duo duo ea ea ea eirmod eirmod eirmod elitr, elitr, elitr, eos eos eos erat, erat, erat, est est est et et et et et et et et et et et et gubergren, gubergren, gubergren, invidunt invidunt invidunt ipsum ipsum ipsum ipsum ipsum ipsum justo justo justo kasd kasd kasd labore labore labore Lorem Lorem Lorem Lorem Lorem Lorem magna magna magna no no no nonumy nonumy nonumy rebum. rebum. rebum. sadipscing sadipscing sadipscing sanctus sanctus sanctus sea sea sea sed sed sed sed sed sed sit sit sit sit sit sit Stet Stet Stet takimata takimata takimata tempor tempor tempor ut ut ut vero vero vero voluptua. voluptua. voluptua.'</span>"
      ],
      "text/latex": [
       "'  accusam accusam accusam aliquyam aliquyam aliquyam amet, amet, amet, amet. amet. amet. At At At clita clita clita consetetur consetetur consetetur diam diam diam diam diam diam dolor dolor dolor dolor dolor dolor dolore dolore dolore dolores dolores dolores duo duo duo ea ea ea eirmod eirmod eirmod elitr, elitr, elitr, eos eos eos erat, erat, erat, est est est et et et et et et et et et et et et gubergren, gubergren, gubergren, invidunt invidunt invidunt ipsum ipsum ipsum ipsum ipsum ipsum justo justo justo kasd kasd kasd labore labore labore Lorem Lorem Lorem Lorem Lorem Lorem magna magna magna no no no nonumy nonumy nonumy rebum. rebum. rebum. sadipscing sadipscing sadipscing sanctus sanctus sanctus sea sea sea sed sed sed sed sed sed sit sit sit sit sit sit Stet Stet Stet takimata takimata takimata tempor tempor tempor ut ut ut vero vero vero voluptua. voluptua. voluptua.'"
      ],
      "text/markdown": [
       "<span style=white-space:pre-wrap>'  accusam accusam accusam aliquyam aliquyam aliquyam amet, amet, amet, amet. amet. amet. At At At clita clita clita consetetur consetetur consetetur diam diam diam diam diam diam dolor dolor dolor dolor dolor dolor dolore dolore dolore dolores dolores dolores duo duo duo ea ea ea eirmod eirmod eirmod elitr, elitr, elitr, eos eos eos erat, erat, erat, est est est et et et et et et et et et et et et gubergren, gubergren, gubergren, invidunt invidunt invidunt ipsum ipsum ipsum ipsum ipsum ipsum justo justo justo kasd kasd kasd labore labore labore Lorem Lorem Lorem Lorem Lorem Lorem magna magna magna no no no nonumy nonumy nonumy rebum. rebum. rebum. sadipscing sadipscing sadipscing sanctus sanctus sanctus sea sea sea sed sed sed sed sed sed sit sit sit sit sit sit Stet Stet Stet takimata takimata takimata tempor tempor tempor ut ut ut vero vero vero voluptua. voluptua. voluptua.'</span>"
      ],
      "text/plain": [
       "[1] \"  accusam accusam accusam aliquyam aliquyam aliquyam amet, amet, amet, amet. amet. amet. At At At clita clita clita consetetur consetetur consetetur diam diam diam diam diam diam dolor dolor dolor dolor dolor dolor dolore dolore dolore dolores dolores dolores duo duo duo ea ea ea eirmod eirmod eirmod elitr, elitr, elitr, eos eos eos erat, erat, erat, est est est et et et et et et et et et et et et gubergren, gubergren, gubergren, invidunt invidunt invidunt ipsum ipsum ipsum ipsum ipsum ipsum justo justo justo kasd kasd kasd labore labore labore Lorem Lorem Lorem Lorem Lorem Lorem magna magna magna no no no nonumy nonumy nonumy rebum. rebum. rebum. sadipscing sadipscing sadipscing sanctus sanctus sanctus sea sea sea sed sed sed sed sed sed sit sit sit sit sit sit Stet Stet Stet takimata takimata takimata tempor tempor tempor ut ut ut vero vero vero voluptua. voluptua. voluptua.\""
      ]
     },
     "metadata": {},
     "output_type": "display_data"
    }
   ],
   "source": [
    "paste(sorted_list, collapse = \" \")"
   ]
  },
  {
   "cell_type": "code",
   "execution_count": 95,
   "id": "e71bc1c2",
   "metadata": {},
   "outputs": [
    {
     "data": {
      "text/html": [
       "'em ipsum dolor sit amet, consetetur sadipscing elitr, sed diam nonumy eirmod tempor invidunt ut l'"
      ],
      "text/latex": [
       "'em ipsum dolor sit amet, consetetur sadipscing elitr, sed diam nonumy eirmod tempor invidunt ut l'"
      ],
      "text/markdown": [
       "'em ipsum dolor sit amet, consetetur sadipscing elitr, sed diam nonumy eirmod tempor invidunt ut l'"
      ],
      "text/plain": [
       "[1] \"em ipsum dolor sit amet, consetetur sadipscing elitr, sed diam nonumy eirmod tempor invidunt ut l\""
      ]
     },
     "metadata": {},
     "output_type": "display_data"
    }
   ],
   "source": [
    "sub_string <- substr(text[1], start=4, stop=100); sub_string"
   ]
  },
  {
   "cell_type": "code",
   "execution_count": 96,
   "id": "8c24ebff",
   "metadata": {},
   "outputs": [
    {
     "ename": "ERROR",
     "evalue": "Error in library(stringr): there is no package called ‘stringr’\n",
     "output_type": "error",
     "traceback": [
      "Error in library(stringr): there is no package called ‘stringr’\nTraceback:\n",
      "1. library(stringr)"
     ]
    }
   ],
   "source": [
    "library(stringr)"
   ]
  },
  {
   "cell_type": "code",
   "execution_count": 97,
   "id": "0eb15d93",
   "metadata": {},
   "outputs": [
    {
     "ename": "ERROR",
     "evalue": "Error in str_sub(text[1], -100, -1): could not find function \"str_sub\"\n",
     "output_type": "error",
     "traceback": [
      "Error in str_sub(text[1], -100, -1): could not find function \"str_sub\"\nTraceback:\n"
     ]
    }
   ],
   "source": [
    "str_sub(text[1], -100, -1)"
   ]
  },
  {
   "cell_type": "markdown",
   "id": "808b5422",
   "metadata": {},
   "source": [
    "## Debugging"
   ]
  },
  {
   "cell_type": "code",
   "execution_count": 98,
   "id": "92d9b9b2",
   "metadata": {},
   "outputs": [
    {
     "name": "stdout",
     "output_type": "stream",
     "text": [
      "[1] \"Can't concatenate number to character.\"\n"
     ]
    }
   ],
   "source": [
    "## Handling error\n",
    "tryCatch(\n",
    "    for(i in 1:3) {\n",
    "        print(i + \"a\")\n",
    "    },\n",
    "    error = function(e) print(\"Can't concatenate number to character.\")\n",
    ")"
   ]
  },
  {
   "cell_type": "code",
   "execution_count": 99,
   "id": "fbda3643",
   "metadata": {},
   "outputs": [
    {
     "name": "stdout",
     "output_type": "stream",
     "text": [
      "[1] \"warning.\"\n"
     ]
    }
   ],
   "source": [
    "## Handling warning\n",
    "tryCatch(as.integer(\"A\"),\n",
    "        warning = function(e)\n",
    "             print(\"warning.\")\n",
    ")"
   ]
  },
  {
   "cell_type": "markdown",
   "id": "7dc48cfc",
   "metadata": {},
   "source": [
    "## Summary"
   ]
  },
  {
   "cell_type": "markdown",
   "id": "f28ae903",
   "metadata": {},
   "source": [
    "- If statements use comparison and logical operators to test conditions in code. \n",
    "\n",
    "- For loops perform an operation for each item in a list, vector, or data frame column. \n",
    "\n",
    "- While loops perform an operation until a condition is no longer true. \n",
    "\n",
    "- Functions can be pre-defined or user-defined. \n",
    "\n",
    "- In user-defined functions, you can control the return value of a function, add logic using if statements, and call other functions. \n",
    "\n",
    "- You can define global variables using the <<- variable assignment operator. \n",
    "\n",
    "- You can use R functions to manipulate the characters in a string, split a string into a vector, and retrieve specific substrings from within a string. \n",
    "\n",
    "- Regular expressions are used to match patterns in strings and text. \n",
    "\n",
    "- You can convert dates from one format to another using the as.POSIXct() and as.Date() functions. \n",
    "\n",
    "- You can perform operations on Data objects using functions, like Sys.Date(), Sys.Time(), date(), and as.Date(). \n",
    "\n",
    "- You can intercept errors in R code and provide custom error and warning handling using tryCatch() statements."
   ]
  },
  {
   "cell_type": "markdown",
   "id": "050fc44c-d96b-426b-9370-5ab10741b0f1",
   "metadata": {},
   "source": [
    "# Accessing the built-in dataset in R"
   ]
  },
  {
   "cell_type": "code",
   "execution_count": 107,
   "id": "b3c0b9b8-cb54-487f-a169-cfd2c130cfbd",
   "metadata": {},
   "outputs": [
    {
     "data": {
      "text/html": [
       "<h3>Data sets</h3>\n",
       "<table class=\"dataframe\">\n",
       "<caption>A data.frame: 104 × 3</caption>\n",
       "<thead>\n",
       "\t<tr><th scope=col>Package</th><th scope=col>Item</th><th scope=col>Title</th></tr>\n",
       "\t<tr><th scope=col>&lt;chr&gt;</th><th scope=col>&lt;chr&gt;</th><th scope=col>&lt;chr&gt;</th></tr>\n",
       "</thead>\n",
       "<tbody>\n",
       "\t<tr><td>datasets</td><td>AirPassengers         </td><td>Monthly Airline Passenger Numbers 1949-1960                    </td></tr>\n",
       "\t<tr><td>datasets</td><td>BJsales               </td><td>Sales Data with Leading Indicator                              </td></tr>\n",
       "\t<tr><td>datasets</td><td>BJsales.lead (BJsales)</td><td>Sales Data with Leading Indicator                              </td></tr>\n",
       "\t<tr><td>datasets</td><td>BOD                   </td><td>Biochemical Oxygen Demand                                      </td></tr>\n",
       "\t<tr><td>datasets</td><td>CO2                   </td><td>Carbon Dioxide Uptake in Grass Plants                          </td></tr>\n",
       "\t<tr><td>datasets</td><td>ChickWeight           </td><td>Weight versus age of chicks on different diets                 </td></tr>\n",
       "\t<tr><td>datasets</td><td>DNase                 </td><td>Elisa assay of DNase                                           </td></tr>\n",
       "\t<tr><td>datasets</td><td>EuStockMarkets        </td><td>Daily Closing Prices of Major European Stock Indices, 1991-1998</td></tr>\n",
       "\t<tr><td>datasets</td><td>Formaldehyde          </td><td>Determination of Formaldehyde                                  </td></tr>\n",
       "\t<tr><td>datasets</td><td>HairEyeColor          </td><td>Hair and Eye Color of Statistics Students                      </td></tr>\n",
       "\t<tr><td>datasets</td><td>Harman23.cor          </td><td>Harman Example 2.3                                             </td></tr>\n",
       "\t<tr><td>datasets</td><td>Harman74.cor          </td><td>Harman Example 7.4                                             </td></tr>\n",
       "\t<tr><td>datasets</td><td>Indometh              </td><td>Pharmacokinetics of Indomethacin                               </td></tr>\n",
       "\t<tr><td>datasets</td><td>InsectSprays          </td><td>Effectiveness of Insect Sprays                                 </td></tr>\n",
       "\t<tr><td>datasets</td><td><span style=white-space:pre-wrap>JohnsonJohnson        </span></td><td><span style=white-space:pre-wrap>Quarterly Earnings per Johnson &amp; Johnson Share                 </span></td></tr>\n",
       "\t<tr><td>datasets</td><td>LakeHuron             </td><td>Level of Lake Huron 1875-1972                                  </td></tr>\n",
       "\t<tr><td>datasets</td><td>LifeCycleSavings      </td><td>Intercountry Life-Cycle Savings Data                           </td></tr>\n",
       "\t<tr><td>datasets</td><td>Loblolly              </td><td>Growth of Loblolly pine trees                                  </td></tr>\n",
       "\t<tr><td>datasets</td><td>Nile                  </td><td>Flow of the River Nile                                         </td></tr>\n",
       "\t<tr><td>datasets</td><td>Orange                </td><td>Growth of Orange Trees                                         </td></tr>\n",
       "\t<tr><td>datasets</td><td>OrchardSprays         </td><td>Potency of Orchard Sprays                                      </td></tr>\n",
       "\t<tr><td>datasets</td><td>PlantGrowth           </td><td>Results from an Experiment on Plant Growth                     </td></tr>\n",
       "\t<tr><td>datasets</td><td>Puromycin             </td><td>Reaction Velocity of an Enzymatic Reaction                     </td></tr>\n",
       "\t<tr><td>datasets</td><td>Seatbelts             </td><td>Road Casualties in Great Britain 1969-84                       </td></tr>\n",
       "\t<tr><td>datasets</td><td>Theoph                </td><td>Pharmacokinetics of Theophylline                               </td></tr>\n",
       "\t<tr><td>datasets</td><td>Titanic               </td><td>Survival of passengers on the Titanic                          </td></tr>\n",
       "\t<tr><td>datasets</td><td>ToothGrowth           </td><td>The Effect of Vitamin C on Tooth Growth in Guinea Pigs         </td></tr>\n",
       "\t<tr><td>datasets</td><td>UCBAdmissions         </td><td>Student Admissions at UC Berkeley                              </td></tr>\n",
       "\t<tr><td>datasets</td><td>UKDriverDeaths        </td><td>Road Casualties in Great Britain 1969-84                       </td></tr>\n",
       "\t<tr><td>datasets</td><td>UKgas                 </td><td>UK Quarterly Gas Consumption                                   </td></tr>\n",
       "\t<tr><td>datasets</td><td>USAccDeaths           </td><td>Accidental Deaths in the US 1973-1978                          </td></tr>\n",
       "\t<tr><td>datasets</td><td>USArrests             </td><td>Violent Crime Rates by US State                                </td></tr>\n",
       "\t<tr><td>datasets</td><td>USJudgeRatings        </td><td>Lawyers' Ratings of State Judges in the US Superior Court      </td></tr>\n",
       "\t<tr><td>datasets</td><td>USPersonalExpenditure </td><td>Personal Expenditure Data                                      </td></tr>\n",
       "\t<tr><td>datasets</td><td>UScitiesD             </td><td>Distances Between European Cities and Between US Cities        </td></tr>\n",
       "\t<tr><td>datasets</td><td>VADeaths              </td><td>Death Rates in Virginia (1940)                                 </td></tr>\n",
       "\t<tr><td>datasets</td><td>WWWusage              </td><td>Internet Usage per Minute                                      </td></tr>\n",
       "\t<tr><td>datasets</td><td>WorldPhones           </td><td>The World's Telephones                                         </td></tr>\n",
       "\t<tr><td>datasets</td><td>ability.cov           </td><td>Ability and Intelligence Tests                                 </td></tr>\n",
       "\t<tr><td>datasets</td><td>airmiles              </td><td>Passenger Miles on Commercial US Airlines, 1937-1960           </td></tr>\n",
       "\t<tr><td>datasets</td><td>airquality            </td><td>New York Air Quality Measurements                              </td></tr>\n",
       "\t<tr><td>datasets</td><td>anscombe              </td><td>Anscombe's Quartet of 'Identical' Simple Linear Regressions    </td></tr>\n",
       "\t<tr><td>datasets</td><td>attenu                </td><td>The Joyner-Boore Attenuation Data                              </td></tr>\n",
       "\t<tr><td>datasets</td><td>attitude              </td><td>The Chatterjee-Price Attitude Data                             </td></tr>\n",
       "\t<tr><td>datasets</td><td>austres               </td><td>Quarterly Time Series of the Number of Australian Residents    </td></tr>\n",
       "\t<tr><td>datasets</td><td>beaver1 (beavers)     </td><td>Body Temperature Series of Two Beavers                         </td></tr>\n",
       "\t<tr><td>datasets</td><td>beaver2 (beavers)     </td><td>Body Temperature Series of Two Beavers                         </td></tr>\n",
       "\t<tr><td>datasets</td><td>cars                  </td><td>Speed and Stopping Distances of Cars                           </td></tr>\n",
       "\t<tr><td>datasets</td><td>chickwts              </td><td>Chicken Weights by Feed Type                                   </td></tr>\n",
       "\t<tr><td>datasets</td><td>co2                   </td><td>Mauna Loa Atmospheric CO2 Concentration                        </td></tr>\n",
       "\t<tr><td>datasets</td><td>crimtab               </td><td>Student's 3000 Criminals Data                                  </td></tr>\n",
       "\t<tr><td>datasets</td><td>discoveries           </td><td>Yearly Numbers of Important Discoveries                        </td></tr>\n",
       "\t<tr><td>datasets</td><td>esoph                 </td><td>Smoking, Alcohol and (O)esophageal Cancer                      </td></tr>\n",
       "\t<tr><td>datasets</td><td>euro                  </td><td>Conversion Rates of Euro Currencies                            </td></tr>\n",
       "\t<tr><td>datasets</td><td>euro.cross (euro)     </td><td>Conversion Rates of Euro Currencies                            </td></tr>\n",
       "\t<tr><td>datasets</td><td>eurodist              </td><td>Distances Between European Cities and Between US Cities        </td></tr>\n",
       "\t<tr><td>datasets</td><td>faithful              </td><td>Old Faithful Geyser Data                                       </td></tr>\n",
       "\t<tr><td>datasets</td><td>fdeaths (UKLungDeaths)</td><td>Monthly Deaths from Lung Diseases in the UK                    </td></tr>\n",
       "\t<tr><td>datasets</td><td>freeny                </td><td>Freeny's Revenue Data                                          </td></tr>\n",
       "\t<tr><td>datasets</td><td>freeny.x (freeny)     </td><td>Freeny's Revenue Data                                          </td></tr>\n",
       "\t<tr><td>datasets</td><td>freeny.y (freeny)     </td><td>Freeny's Revenue Data                                          </td></tr>\n",
       "\t<tr><td>datasets</td><td>infert                </td><td>Infertility after Spontaneous and Induced Abortion             </td></tr>\n",
       "\t<tr><td>datasets</td><td>iris                  </td><td>Edgar Anderson's Iris Data                                     </td></tr>\n",
       "\t<tr><td>datasets</td><td>iris3                 </td><td>Edgar Anderson's Iris Data                                     </td></tr>\n",
       "\t<tr><td>datasets</td><td>islands               </td><td>Areas of the World's Major Landmasses                          </td></tr>\n",
       "\t<tr><td>datasets</td><td>ldeaths (UKLungDeaths)</td><td>Monthly Deaths from Lung Diseases in the UK                    </td></tr>\n",
       "\t<tr><td>datasets</td><td>lh                    </td><td>Luteinizing Hormone in Blood Samples                           </td></tr>\n",
       "\t<tr><td>datasets</td><td>longley               </td><td>Longley's Economic Regression Data                             </td></tr>\n",
       "\t<tr><td>datasets</td><td>lynx                  </td><td>Annual Canadian Lynx trappings 1821-1934                       </td></tr>\n",
       "\t<tr><td>datasets</td><td>mdeaths (UKLungDeaths)</td><td>Monthly Deaths from Lung Diseases in the UK                    </td></tr>\n",
       "\t<tr><td>datasets</td><td>morley                </td><td>Michelson Speed of Light Data                                  </td></tr>\n",
       "\t<tr><td>datasets</td><td>mtcars                </td><td>Motor Trend Car Road Tests                                     </td></tr>\n",
       "\t<tr><td>datasets</td><td>nhtemp                </td><td>Average Yearly Temperatures in New Haven                       </td></tr>\n",
       "\t<tr><td>datasets</td><td>nottem                </td><td>Average Monthly Temperatures at Nottingham, 1920-1939          </td></tr>\n",
       "\t<tr><td>datasets</td><td>npk                   </td><td>Classical N, P, K Factorial Experiment                         </td></tr>\n",
       "\t<tr><td>datasets</td><td>occupationalStatus    </td><td>Occupational Status of Fathers and their Sons                  </td></tr>\n",
       "\t<tr><td>datasets</td><td>precip                </td><td>Annual Precipitation in US Cities                              </td></tr>\n",
       "\t<tr><td>datasets</td><td>presidents            </td><td>Quarterly Approval Ratings of US Presidents                    </td></tr>\n",
       "\t<tr><td>datasets</td><td>pressure              </td><td>Vapor Pressure of Mercury as a Function of Temperature         </td></tr>\n",
       "\t<tr><td>datasets</td><td>quakes                </td><td>Locations of Earthquakes off Fiji                              </td></tr>\n",
       "\t<tr><td>datasets</td><td>randu                 </td><td>Random Numbers from Congruential Generator RANDU               </td></tr>\n",
       "\t<tr><td>datasets</td><td>rivers                </td><td>Lengths of Major North American Rivers                         </td></tr>\n",
       "\t<tr><td>datasets</td><td>rock                  </td><td>Measurements on Petroleum Rock Samples                         </td></tr>\n",
       "\t<tr><td>datasets</td><td>sleep                 </td><td>Student's Sleep Data                                           </td></tr>\n",
       "\t<tr><td>datasets</td><td>stack.loss (stackloss)</td><td>Brownlee's Stack Loss Plant Data                               </td></tr>\n",
       "\t<tr><td>datasets</td><td>stack.x (stackloss)   </td><td>Brownlee's Stack Loss Plant Data                               </td></tr>\n",
       "\t<tr><td>datasets</td><td>stackloss             </td><td>Brownlee's Stack Loss Plant Data                               </td></tr>\n",
       "\t<tr><td>datasets</td><td>state.abb (state)     </td><td>US State Facts and Figures                                     </td></tr>\n",
       "\t<tr><td>datasets</td><td>state.area (state)    </td><td>US State Facts and Figures                                     </td></tr>\n",
       "\t<tr><td>datasets</td><td>state.center (state)  </td><td>US State Facts and Figures                                     </td></tr>\n",
       "\t<tr><td>datasets</td><td>state.division (state)</td><td>US State Facts and Figures                                     </td></tr>\n",
       "\t<tr><td>datasets</td><td>state.name (state)    </td><td>US State Facts and Figures                                     </td></tr>\n",
       "\t<tr><td>datasets</td><td>state.region (state)  </td><td>US State Facts and Figures                                     </td></tr>\n",
       "\t<tr><td>datasets</td><td>state.x77 (state)     </td><td>US State Facts and Figures                                     </td></tr>\n",
       "\t<tr><td>datasets</td><td>sunspot.month         </td><td>Monthly Sunspot Data, from 1749 to \"Present\"                   </td></tr>\n",
       "\t<tr><td>datasets</td><td>sunspot.year          </td><td>Yearly Sunspot Data, 1700-1988                                 </td></tr>\n",
       "\t<tr><td>datasets</td><td>sunspots              </td><td>Monthly Sunspot Numbers, 1749-1983                             </td></tr>\n",
       "\t<tr><td>datasets</td><td>swiss                 </td><td>Swiss Fertility and Socioeconomic Indicators (1888) Data       </td></tr>\n",
       "\t<tr><td>datasets</td><td>treering              </td><td>Yearly Treering Data, -6000-1979                               </td></tr>\n",
       "\t<tr><td>datasets</td><td>trees                 </td><td>Diameter, Height and Volume for Black Cherry Trees             </td></tr>\n",
       "\t<tr><td>datasets</td><td>uspop                 </td><td>Populations Recorded by the US Census                          </td></tr>\n",
       "\t<tr><td>datasets</td><td>volcano               </td><td>Topographic Information on Auckland's Maunga Whau Volcano      </td></tr>\n",
       "\t<tr><td>datasets</td><td>warpbreaks            </td><td>The Number of Breaks in Yarn during Weaving                    </td></tr>\n",
       "\t<tr><td>datasets</td><td>women                 </td><td>Average Heights and Weights for American Women                 </td></tr>\n",
       "</tbody>\n",
       "</table>\n",
       "\n",
       "<p>Use ‘data(package = .packages(all.available = TRUE))’\n",
       "to list the data sets in all *available* packages.</p>"
      ],
      "text/plain": [
       "Data sets in package ‘datasets’:\n",
       "\n",
       "AirPassengers           Monthly Airline Passenger Numbers 1949-1960\n",
       "BJsales                 Sales Data with Leading Indicator\n",
       "BJsales.lead (BJsales)\n",
       "                        Sales Data with Leading Indicator\n",
       "BOD                     Biochemical Oxygen Demand\n",
       "CO2                     Carbon Dioxide Uptake in Grass Plants\n",
       "ChickWeight             Weight versus age of chicks on different diets\n",
       "DNase                   Elisa assay of DNase\n",
       "EuStockMarkets          Daily Closing Prices of Major European Stock\n",
       "                        Indices, 1991-1998\n",
       "Formaldehyde            Determination of Formaldehyde\n",
       "HairEyeColor            Hair and Eye Color of Statistics Students\n",
       "Harman23.cor            Harman Example 2.3\n",
       "Harman74.cor            Harman Example 7.4\n",
       "Indometh                Pharmacokinetics of Indomethacin\n",
       "InsectSprays            Effectiveness of Insect Sprays\n",
       "JohnsonJohnson          Quarterly Earnings per Johnson & Johnson Share\n",
       "LakeHuron               Level of Lake Huron 1875-1972\n",
       "LifeCycleSavings        Intercountry Life-Cycle Savings Data\n",
       "Loblolly                Growth of Loblolly pine trees\n",
       "Nile                    Flow of the River Nile\n",
       "Orange                  Growth of Orange Trees\n",
       "OrchardSprays           Potency of Orchard Sprays\n",
       "PlantGrowth             Results from an Experiment on Plant Growth\n",
       "Puromycin               Reaction Velocity of an Enzymatic Reaction\n",
       "Seatbelts               Road Casualties in Great Britain 1969-84\n",
       "Theoph                  Pharmacokinetics of Theophylline\n",
       "Titanic                 Survival of passengers on the Titanic\n",
       "ToothGrowth             The Effect of Vitamin C on Tooth Growth in\n",
       "                        Guinea Pigs\n",
       "UCBAdmissions           Student Admissions at UC Berkeley\n",
       "UKDriverDeaths          Road Casualties in Great Britain 1969-84\n",
       "UKgas                   UK Quarterly Gas Consumption\n",
       "USAccDeaths             Accidental Deaths in the US 1973-1978\n",
       "USArrests               Violent Crime Rates by US State\n",
       "USJudgeRatings          Lawyers' Ratings of State Judges in the US\n",
       "                        Superior Court\n",
       "USPersonalExpenditure   Personal Expenditure Data\n",
       "UScitiesD               Distances Between European Cities and Between\n",
       "                        US Cities\n",
       "VADeaths                Death Rates in Virginia (1940)\n",
       "WWWusage                Internet Usage per Minute\n",
       "WorldPhones             The World's Telephones\n",
       "ability.cov             Ability and Intelligence Tests\n",
       "airmiles                Passenger Miles on Commercial US Airlines,\n",
       "                        1937-1960\n",
       "airquality              New York Air Quality Measurements\n",
       "anscombe                Anscombe's Quartet of 'Identical' Simple Linear\n",
       "                        Regressions\n",
       "attenu                  The Joyner-Boore Attenuation Data\n",
       "attitude                The Chatterjee-Price Attitude Data\n",
       "austres                 Quarterly Time Series of the Number of\n",
       "                        Australian Residents\n",
       "beaver1 (beavers)       Body Temperature Series of Two Beavers\n",
       "beaver2 (beavers)       Body Temperature Series of Two Beavers\n",
       "cars                    Speed and Stopping Distances of Cars\n",
       "chickwts                Chicken Weights by Feed Type\n",
       "co2                     Mauna Loa Atmospheric CO2 Concentration\n",
       "crimtab                 Student's 3000 Criminals Data\n",
       "discoveries             Yearly Numbers of Important Discoveries\n",
       "esoph                   Smoking, Alcohol and (O)esophageal Cancer\n",
       "euro                    Conversion Rates of Euro Currencies\n",
       "euro.cross (euro)       Conversion Rates of Euro Currencies\n",
       "eurodist                Distances Between European Cities and Between\n",
       "                        US Cities\n",
       "faithful                Old Faithful Geyser Data\n",
       "fdeaths (UKLungDeaths)\n",
       "                        Monthly Deaths from Lung Diseases in the UK\n",
       "freeny                  Freeny's Revenue Data\n",
       "freeny.x (freeny)       Freeny's Revenue Data\n",
       "freeny.y (freeny)       Freeny's Revenue Data\n",
       "infert                  Infertility after Spontaneous and Induced\n",
       "                        Abortion\n",
       "iris                    Edgar Anderson's Iris Data\n",
       "iris3                   Edgar Anderson's Iris Data\n",
       "islands                 Areas of the World's Major Landmasses\n",
       "ldeaths (UKLungDeaths)\n",
       "                        Monthly Deaths from Lung Diseases in the UK\n",
       "lh                      Luteinizing Hormone in Blood Samples\n",
       "longley                 Longley's Economic Regression Data\n",
       "lynx                    Annual Canadian Lynx trappings 1821-1934\n",
       "mdeaths (UKLungDeaths)\n",
       "                        Monthly Deaths from Lung Diseases in the UK\n",
       "morley                  Michelson Speed of Light Data\n",
       "mtcars                  Motor Trend Car Road Tests\n",
       "nhtemp                  Average Yearly Temperatures in New Haven\n",
       "nottem                  Average Monthly Temperatures at Nottingham,\n",
       "                        1920-1939\n",
       "npk                     Classical N, P, K Factorial Experiment\n",
       "occupationalStatus      Occupational Status of Fathers and their Sons\n",
       "precip                  Annual Precipitation in US Cities\n",
       "presidents              Quarterly Approval Ratings of US Presidents\n",
       "pressure                Vapor Pressure of Mercury as a Function of\n",
       "                        Temperature\n",
       "quakes                  Locations of Earthquakes off Fiji\n",
       "randu                   Random Numbers from Congruential Generator\n",
       "                        RANDU\n",
       "rivers                  Lengths of Major North American Rivers\n",
       "rock                    Measurements on Petroleum Rock Samples\n",
       "sleep                   Student's Sleep Data\n",
       "stack.loss (stackloss)\n",
       "                        Brownlee's Stack Loss Plant Data\n",
       "stack.x (stackloss)     Brownlee's Stack Loss Plant Data\n",
       "stackloss               Brownlee's Stack Loss Plant Data\n",
       "state.abb (state)       US State Facts and Figures\n",
       "state.area (state)      US State Facts and Figures\n",
       "state.center (state)    US State Facts and Figures\n",
       "state.division (state)\n",
       "                        US State Facts and Figures\n",
       "state.name (state)      US State Facts and Figures\n",
       "state.region (state)    US State Facts and Figures\n",
       "state.x77 (state)       US State Facts and Figures\n",
       "sunspot.month           Monthly Sunspot Data, from 1749 to \"Present\"\n",
       "sunspot.year            Yearly Sunspot Data, 1700-1988\n",
       "sunspots                Monthly Sunspot Numbers, 1749-1983\n",
       "swiss                   Swiss Fertility and Socioeconomic Indicators\n",
       "                        (1888) Data\n",
       "treering                Yearly Treering Data, -6000-1979\n",
       "trees                   Diameter, Height and Volume for Black Cherry\n",
       "                        Trees\n",
       "uspop                   Populations Recorded by the US Census\n",
       "volcano                 Topographic Information on Auckland's Maunga\n",
       "                        Whau Volcano\n",
       "warpbreaks              The Number of Breaks in Yarn during Weaving\n",
       "women                   Average Heights and Weights for American Women\n",
       "\n",
       "Use ‘data(package = .packages(all.available = TRUE))’\n",
       "to list the data sets in all *available* packages."
      ]
     },
     "metadata": {},
     "output_type": "display_data"
    }
   ],
   "source": [
    "data()"
   ]
  },
  {
   "cell_type": "code",
   "execution_count": 111,
   "id": "9be2cbc8-568f-4d79-9c5f-65f5432fc36c",
   "metadata": {},
   "outputs": [],
   "source": [
    "df = CO2 #CO2 is name of a dataset in `datasets` package, you can import directly in working space"
   ]
  },
  {
   "cell_type": "code",
   "execution_count": 123,
   "id": "efdee617-0b5e-4baf-b44d-f8ad2015d81b",
   "metadata": {},
   "outputs": [
    {
     "data": {
      "text/html": [
       "<table class=\"dataframe\">\n",
       "<caption>A nfnGroupedData: 1 × 2</caption>\n",
       "<thead>\n",
       "\t<tr><th></th><th scope=col>Plant</th><th scope=col>Type</th></tr>\n",
       "\t<tr><th></th><th scope=col>&lt;ord&gt;</th><th scope=col>&lt;fct&gt;</th></tr>\n",
       "</thead>\n",
       "<tbody>\n",
       "\t<tr><th scope=row>1</th><td>Qn1</td><td>Quebec</td></tr>\n",
       "</tbody>\n",
       "</table>\n"
      ],
      "text/latex": [
       "A nfnGroupedData: 1 × 2\n",
       "\\begin{tabular}{r|ll}\n",
       "  & Plant & Type\\\\\n",
       "  & <ord> & <fct>\\\\\n",
       "\\hline\n",
       "\t1 & Qn1 & Quebec\\\\\n",
       "\\end{tabular}\n"
      ],
      "text/markdown": [
       "\n",
       "A nfnGroupedData: 1 × 2\n",
       "\n",
       "| <!--/--> | Plant &lt;ord&gt; | Type &lt;fct&gt; |\n",
       "|---|---|---|\n",
       "| 1 | Qn1 | Quebec |\n",
       "\n"
      ],
      "text/plain": [
       "  Plant Type  \n",
       "1 Qn1   Quebec"
      ]
     },
     "metadata": {},
     "output_type": "display_data"
    }
   ],
   "source": [
    "# Access row and column\n",
    "df[1, c(\"Plant\", \"Type\")]"
   ]
  },
  {
   "cell_type": "code",
   "execution_count": 135,
   "id": "0b1929f0-416c-41a9-855f-dd795dd2bb40",
   "metadata": {},
   "outputs": [
    {
     "data": {
      "text/html": [
       "<table class=\"dataframe\">\n",
       "<caption>A nfnGroupedData: 84 × 3</caption>\n",
       "<thead>\n",
       "\t<tr><th></th><th scope=col>Plant</th><th scope=col>Type</th><th scope=col>Treatment</th></tr>\n",
       "\t<tr><th></th><th scope=col>&lt;ord&gt;</th><th scope=col>&lt;fct&gt;</th><th scope=col>&lt;fct&gt;</th></tr>\n",
       "</thead>\n",
       "<tbody>\n",
       "\t<tr><th scope=row>1</th><td>Qn1</td><td>Quebec</td><td>nonchilled</td></tr>\n",
       "\t<tr><th scope=row>2</th><td>Qn1</td><td>Quebec</td><td>nonchilled</td></tr>\n",
       "\t<tr><th scope=row>3</th><td>Qn1</td><td>Quebec</td><td>nonchilled</td></tr>\n",
       "\t<tr><th scope=row>4</th><td>Qn1</td><td>Quebec</td><td>nonchilled</td></tr>\n",
       "\t<tr><th scope=row>5</th><td>Qn1</td><td>Quebec</td><td>nonchilled</td></tr>\n",
       "\t<tr><th scope=row>6</th><td>Qn1</td><td>Quebec</td><td>nonchilled</td></tr>\n",
       "\t<tr><th scope=row>7</th><td>Qn1</td><td>Quebec</td><td>nonchilled</td></tr>\n",
       "\t<tr><th scope=row>8</th><td>Qn2</td><td>Quebec</td><td>nonchilled</td></tr>\n",
       "\t<tr><th scope=row>9</th><td>Qn2</td><td>Quebec</td><td>nonchilled</td></tr>\n",
       "\t<tr><th scope=row>10</th><td>Qn2</td><td>Quebec</td><td>nonchilled</td></tr>\n",
       "\t<tr><th scope=row>11</th><td>Qn2</td><td>Quebec</td><td>nonchilled</td></tr>\n",
       "\t<tr><th scope=row>12</th><td>Qn2</td><td>Quebec</td><td>nonchilled</td></tr>\n",
       "\t<tr><th scope=row>13</th><td>Qn2</td><td>Quebec</td><td>nonchilled</td></tr>\n",
       "\t<tr><th scope=row>14</th><td>Qn2</td><td>Quebec</td><td>nonchilled</td></tr>\n",
       "\t<tr><th scope=row>15</th><td>Qn3</td><td>Quebec</td><td>nonchilled</td></tr>\n",
       "\t<tr><th scope=row>16</th><td>Qn3</td><td>Quebec</td><td>nonchilled</td></tr>\n",
       "\t<tr><th scope=row>17</th><td>Qn3</td><td>Quebec</td><td>nonchilled</td></tr>\n",
       "\t<tr><th scope=row>18</th><td>Qn3</td><td>Quebec</td><td>nonchilled</td></tr>\n",
       "\t<tr><th scope=row>19</th><td>Qn3</td><td>Quebec</td><td>nonchilled</td></tr>\n",
       "\t<tr><th scope=row>20</th><td>Qn3</td><td>Quebec</td><td>nonchilled</td></tr>\n",
       "\t<tr><th scope=row>21</th><td>Qn3</td><td>Quebec</td><td>nonchilled</td></tr>\n",
       "\t<tr><th scope=row>22</th><td>Qc1</td><td>Quebec</td><td>chilled   </td></tr>\n",
       "\t<tr><th scope=row>23</th><td>Qc1</td><td>Quebec</td><td>chilled   </td></tr>\n",
       "\t<tr><th scope=row>24</th><td>Qc1</td><td>Quebec</td><td>chilled   </td></tr>\n",
       "\t<tr><th scope=row>25</th><td>Qc1</td><td>Quebec</td><td>chilled   </td></tr>\n",
       "\t<tr><th scope=row>26</th><td>Qc1</td><td>Quebec</td><td>chilled   </td></tr>\n",
       "\t<tr><th scope=row>27</th><td>Qc1</td><td>Quebec</td><td>chilled   </td></tr>\n",
       "\t<tr><th scope=row>28</th><td>Qc1</td><td>Quebec</td><td>chilled   </td></tr>\n",
       "\t<tr><th scope=row>29</th><td>Qc2</td><td>Quebec</td><td>chilled   </td></tr>\n",
       "\t<tr><th scope=row>30</th><td>Qc2</td><td>Quebec</td><td>chilled   </td></tr>\n",
       "\t<tr><th scope=row>⋮</th><td>⋮</td><td>⋮</td><td>⋮</td></tr>\n",
       "\t<tr><th scope=row>55</th><td>Mn2</td><td>Mississippi</td><td>nonchilled</td></tr>\n",
       "\t<tr><th scope=row>56</th><td>Mn2</td><td>Mississippi</td><td>nonchilled</td></tr>\n",
       "\t<tr><th scope=row>57</th><td>Mn3</td><td>Mississippi</td><td>nonchilled</td></tr>\n",
       "\t<tr><th scope=row>58</th><td>Mn3</td><td>Mississippi</td><td>nonchilled</td></tr>\n",
       "\t<tr><th scope=row>59</th><td>Mn3</td><td>Mississippi</td><td>nonchilled</td></tr>\n",
       "\t<tr><th scope=row>60</th><td>Mn3</td><td>Mississippi</td><td>nonchilled</td></tr>\n",
       "\t<tr><th scope=row>61</th><td>Mn3</td><td>Mississippi</td><td>nonchilled</td></tr>\n",
       "\t<tr><th scope=row>62</th><td>Mn3</td><td>Mississippi</td><td>nonchilled</td></tr>\n",
       "\t<tr><th scope=row>63</th><td>Mn3</td><td>Mississippi</td><td>nonchilled</td></tr>\n",
       "\t<tr><th scope=row>64</th><td>Mc1</td><td>Mississippi</td><td>chilled   </td></tr>\n",
       "\t<tr><th scope=row>65</th><td>Mc1</td><td>Mississippi</td><td>chilled   </td></tr>\n",
       "\t<tr><th scope=row>66</th><td>Mc1</td><td>Mississippi</td><td>chilled   </td></tr>\n",
       "\t<tr><th scope=row>67</th><td>Mc1</td><td>Mississippi</td><td>chilled   </td></tr>\n",
       "\t<tr><th scope=row>68</th><td>Mc1</td><td>Mississippi</td><td>chilled   </td></tr>\n",
       "\t<tr><th scope=row>69</th><td>Mc1</td><td>Mississippi</td><td>chilled   </td></tr>\n",
       "\t<tr><th scope=row>70</th><td>Mc1</td><td>Mississippi</td><td>chilled   </td></tr>\n",
       "\t<tr><th scope=row>71</th><td>Mc2</td><td>Mississippi</td><td>chilled   </td></tr>\n",
       "\t<tr><th scope=row>72</th><td>Mc2</td><td>Mississippi</td><td>chilled   </td></tr>\n",
       "\t<tr><th scope=row>73</th><td>Mc2</td><td>Mississippi</td><td>chilled   </td></tr>\n",
       "\t<tr><th scope=row>74</th><td>Mc2</td><td>Mississippi</td><td>chilled   </td></tr>\n",
       "\t<tr><th scope=row>75</th><td>Mc2</td><td>Mississippi</td><td>chilled   </td></tr>\n",
       "\t<tr><th scope=row>76</th><td>Mc2</td><td>Mississippi</td><td>chilled   </td></tr>\n",
       "\t<tr><th scope=row>77</th><td>Mc2</td><td>Mississippi</td><td>chilled   </td></tr>\n",
       "\t<tr><th scope=row>78</th><td>Mc3</td><td>Mississippi</td><td>chilled   </td></tr>\n",
       "\t<tr><th scope=row>79</th><td>Mc3</td><td>Mississippi</td><td>chilled   </td></tr>\n",
       "\t<tr><th scope=row>80</th><td>Mc3</td><td>Mississippi</td><td>chilled   </td></tr>\n",
       "\t<tr><th scope=row>81</th><td>Mc3</td><td>Mississippi</td><td>chilled   </td></tr>\n",
       "\t<tr><th scope=row>82</th><td>Mc3</td><td>Mississippi</td><td>chilled   </td></tr>\n",
       "\t<tr><th scope=row>83</th><td>Mc3</td><td>Mississippi</td><td>chilled   </td></tr>\n",
       "\t<tr><th scope=row>84</th><td>Mc3</td><td>Mississippi</td><td>chilled   </td></tr>\n",
       "</tbody>\n",
       "</table>\n"
      ],
      "text/latex": [
       "A nfnGroupedData: 84 × 3\n",
       "\\begin{tabular}{r|lll}\n",
       "  & Plant & Type & Treatment\\\\\n",
       "  & <ord> & <fct> & <fct>\\\\\n",
       "\\hline\n",
       "\t1 & Qn1 & Quebec & nonchilled\\\\\n",
       "\t2 & Qn1 & Quebec & nonchilled\\\\\n",
       "\t3 & Qn1 & Quebec & nonchilled\\\\\n",
       "\t4 & Qn1 & Quebec & nonchilled\\\\\n",
       "\t5 & Qn1 & Quebec & nonchilled\\\\\n",
       "\t6 & Qn1 & Quebec & nonchilled\\\\\n",
       "\t7 & Qn1 & Quebec & nonchilled\\\\\n",
       "\t8 & Qn2 & Quebec & nonchilled\\\\\n",
       "\t9 & Qn2 & Quebec & nonchilled\\\\\n",
       "\t10 & Qn2 & Quebec & nonchilled\\\\\n",
       "\t11 & Qn2 & Quebec & nonchilled\\\\\n",
       "\t12 & Qn2 & Quebec & nonchilled\\\\\n",
       "\t13 & Qn2 & Quebec & nonchilled\\\\\n",
       "\t14 & Qn2 & Quebec & nonchilled\\\\\n",
       "\t15 & Qn3 & Quebec & nonchilled\\\\\n",
       "\t16 & Qn3 & Quebec & nonchilled\\\\\n",
       "\t17 & Qn3 & Quebec & nonchilled\\\\\n",
       "\t18 & Qn3 & Quebec & nonchilled\\\\\n",
       "\t19 & Qn3 & Quebec & nonchilled\\\\\n",
       "\t20 & Qn3 & Quebec & nonchilled\\\\\n",
       "\t21 & Qn3 & Quebec & nonchilled\\\\\n",
       "\t22 & Qc1 & Quebec & chilled   \\\\\n",
       "\t23 & Qc1 & Quebec & chilled   \\\\\n",
       "\t24 & Qc1 & Quebec & chilled   \\\\\n",
       "\t25 & Qc1 & Quebec & chilled   \\\\\n",
       "\t26 & Qc1 & Quebec & chilled   \\\\\n",
       "\t27 & Qc1 & Quebec & chilled   \\\\\n",
       "\t28 & Qc1 & Quebec & chilled   \\\\\n",
       "\t29 & Qc2 & Quebec & chilled   \\\\\n",
       "\t30 & Qc2 & Quebec & chilled   \\\\\n",
       "\t⋮ & ⋮ & ⋮ & ⋮\\\\\n",
       "\t55 & Mn2 & Mississippi & nonchilled\\\\\n",
       "\t56 & Mn2 & Mississippi & nonchilled\\\\\n",
       "\t57 & Mn3 & Mississippi & nonchilled\\\\\n",
       "\t58 & Mn3 & Mississippi & nonchilled\\\\\n",
       "\t59 & Mn3 & Mississippi & nonchilled\\\\\n",
       "\t60 & Mn3 & Mississippi & nonchilled\\\\\n",
       "\t61 & Mn3 & Mississippi & nonchilled\\\\\n",
       "\t62 & Mn3 & Mississippi & nonchilled\\\\\n",
       "\t63 & Mn3 & Mississippi & nonchilled\\\\\n",
       "\t64 & Mc1 & Mississippi & chilled   \\\\\n",
       "\t65 & Mc1 & Mississippi & chilled   \\\\\n",
       "\t66 & Mc1 & Mississippi & chilled   \\\\\n",
       "\t67 & Mc1 & Mississippi & chilled   \\\\\n",
       "\t68 & Mc1 & Mississippi & chilled   \\\\\n",
       "\t69 & Mc1 & Mississippi & chilled   \\\\\n",
       "\t70 & Mc1 & Mississippi & chilled   \\\\\n",
       "\t71 & Mc2 & Mississippi & chilled   \\\\\n",
       "\t72 & Mc2 & Mississippi & chilled   \\\\\n",
       "\t73 & Mc2 & Mississippi & chilled   \\\\\n",
       "\t74 & Mc2 & Mississippi & chilled   \\\\\n",
       "\t75 & Mc2 & Mississippi & chilled   \\\\\n",
       "\t76 & Mc2 & Mississippi & chilled   \\\\\n",
       "\t77 & Mc2 & Mississippi & chilled   \\\\\n",
       "\t78 & Mc3 & Mississippi & chilled   \\\\\n",
       "\t79 & Mc3 & Mississippi & chilled   \\\\\n",
       "\t80 & Mc3 & Mississippi & chilled   \\\\\n",
       "\t81 & Mc3 & Mississippi & chilled   \\\\\n",
       "\t82 & Mc3 & Mississippi & chilled   \\\\\n",
       "\t83 & Mc3 & Mississippi & chilled   \\\\\n",
       "\t84 & Mc3 & Mississippi & chilled   \\\\\n",
       "\\end{tabular}\n"
      ],
      "text/markdown": [
       "\n",
       "A nfnGroupedData: 84 × 3\n",
       "\n",
       "| <!--/--> | Plant &lt;ord&gt; | Type &lt;fct&gt; | Treatment &lt;fct&gt; |\n",
       "|---|---|---|---|\n",
       "| 1 | Qn1 | Quebec | nonchilled |\n",
       "| 2 | Qn1 | Quebec | nonchilled |\n",
       "| 3 | Qn1 | Quebec | nonchilled |\n",
       "| 4 | Qn1 | Quebec | nonchilled |\n",
       "| 5 | Qn1 | Quebec | nonchilled |\n",
       "| 6 | Qn1 | Quebec | nonchilled |\n",
       "| 7 | Qn1 | Quebec | nonchilled |\n",
       "| 8 | Qn2 | Quebec | nonchilled |\n",
       "| 9 | Qn2 | Quebec | nonchilled |\n",
       "| 10 | Qn2 | Quebec | nonchilled |\n",
       "| 11 | Qn2 | Quebec | nonchilled |\n",
       "| 12 | Qn2 | Quebec | nonchilled |\n",
       "| 13 | Qn2 | Quebec | nonchilled |\n",
       "| 14 | Qn2 | Quebec | nonchilled |\n",
       "| 15 | Qn3 | Quebec | nonchilled |\n",
       "| 16 | Qn3 | Quebec | nonchilled |\n",
       "| 17 | Qn3 | Quebec | nonchilled |\n",
       "| 18 | Qn3 | Quebec | nonchilled |\n",
       "| 19 | Qn3 | Quebec | nonchilled |\n",
       "| 20 | Qn3 | Quebec | nonchilled |\n",
       "| 21 | Qn3 | Quebec | nonchilled |\n",
       "| 22 | Qc1 | Quebec | chilled    |\n",
       "| 23 | Qc1 | Quebec | chilled    |\n",
       "| 24 | Qc1 | Quebec | chilled    |\n",
       "| 25 | Qc1 | Quebec | chilled    |\n",
       "| 26 | Qc1 | Quebec | chilled    |\n",
       "| 27 | Qc1 | Quebec | chilled    |\n",
       "| 28 | Qc1 | Quebec | chilled    |\n",
       "| 29 | Qc2 | Quebec | chilled    |\n",
       "| 30 | Qc2 | Quebec | chilled    |\n",
       "| ⋮ | ⋮ | ⋮ | ⋮ |\n",
       "| 55 | Mn2 | Mississippi | nonchilled |\n",
       "| 56 | Mn2 | Mississippi | nonchilled |\n",
       "| 57 | Mn3 | Mississippi | nonchilled |\n",
       "| 58 | Mn3 | Mississippi | nonchilled |\n",
       "| 59 | Mn3 | Mississippi | nonchilled |\n",
       "| 60 | Mn3 | Mississippi | nonchilled |\n",
       "| 61 | Mn3 | Mississippi | nonchilled |\n",
       "| 62 | Mn3 | Mississippi | nonchilled |\n",
       "| 63 | Mn3 | Mississippi | nonchilled |\n",
       "| 64 | Mc1 | Mississippi | chilled    |\n",
       "| 65 | Mc1 | Mississippi | chilled    |\n",
       "| 66 | Mc1 | Mississippi | chilled    |\n",
       "| 67 | Mc1 | Mississippi | chilled    |\n",
       "| 68 | Mc1 | Mississippi | chilled    |\n",
       "| 69 | Mc1 | Mississippi | chilled    |\n",
       "| 70 | Mc1 | Mississippi | chilled    |\n",
       "| 71 | Mc2 | Mississippi | chilled    |\n",
       "| 72 | Mc2 | Mississippi | chilled    |\n",
       "| 73 | Mc2 | Mississippi | chilled    |\n",
       "| 74 | Mc2 | Mississippi | chilled    |\n",
       "| 75 | Mc2 | Mississippi | chilled    |\n",
       "| 76 | Mc2 | Mississippi | chilled    |\n",
       "| 77 | Mc2 | Mississippi | chilled    |\n",
       "| 78 | Mc3 | Mississippi | chilled    |\n",
       "| 79 | Mc3 | Mississippi | chilled    |\n",
       "| 80 | Mc3 | Mississippi | chilled    |\n",
       "| 81 | Mc3 | Mississippi | chilled    |\n",
       "| 82 | Mc3 | Mississippi | chilled    |\n",
       "| 83 | Mc3 | Mississippi | chilled    |\n",
       "| 84 | Mc3 | Mississippi | chilled    |\n",
       "\n"
      ],
      "text/plain": [
       "   Plant Type        Treatment \n",
       "1  Qn1   Quebec      nonchilled\n",
       "2  Qn1   Quebec      nonchilled\n",
       "3  Qn1   Quebec      nonchilled\n",
       "4  Qn1   Quebec      nonchilled\n",
       "5  Qn1   Quebec      nonchilled\n",
       "6  Qn1   Quebec      nonchilled\n",
       "7  Qn1   Quebec      nonchilled\n",
       "8  Qn2   Quebec      nonchilled\n",
       "9  Qn2   Quebec      nonchilled\n",
       "10 Qn2   Quebec      nonchilled\n",
       "11 Qn2   Quebec      nonchilled\n",
       "12 Qn2   Quebec      nonchilled\n",
       "13 Qn2   Quebec      nonchilled\n",
       "14 Qn2   Quebec      nonchilled\n",
       "15 Qn3   Quebec      nonchilled\n",
       "16 Qn3   Quebec      nonchilled\n",
       "17 Qn3   Quebec      nonchilled\n",
       "18 Qn3   Quebec      nonchilled\n",
       "19 Qn3   Quebec      nonchilled\n",
       "20 Qn3   Quebec      nonchilled\n",
       "21 Qn3   Quebec      nonchilled\n",
       "22 Qc1   Quebec      chilled   \n",
       "23 Qc1   Quebec      chilled   \n",
       "24 Qc1   Quebec      chilled   \n",
       "25 Qc1   Quebec      chilled   \n",
       "26 Qc1   Quebec      chilled   \n",
       "27 Qc1   Quebec      chilled   \n",
       "28 Qc1   Quebec      chilled   \n",
       "29 Qc2   Quebec      chilled   \n",
       "30 Qc2   Quebec      chilled   \n",
       "⋮  ⋮     ⋮           ⋮         \n",
       "55 Mn2   Mississippi nonchilled\n",
       "56 Mn2   Mississippi nonchilled\n",
       "57 Mn3   Mississippi nonchilled\n",
       "58 Mn3   Mississippi nonchilled\n",
       "59 Mn3   Mississippi nonchilled\n",
       "60 Mn3   Mississippi nonchilled\n",
       "61 Mn3   Mississippi nonchilled\n",
       "62 Mn3   Mississippi nonchilled\n",
       "63 Mn3   Mississippi nonchilled\n",
       "64 Mc1   Mississippi chilled   \n",
       "65 Mc1   Mississippi chilled   \n",
       "66 Mc1   Mississippi chilled   \n",
       "67 Mc1   Mississippi chilled   \n",
       "68 Mc1   Mississippi chilled   \n",
       "69 Mc1   Mississippi chilled   \n",
       "70 Mc1   Mississippi chilled   \n",
       "71 Mc2   Mississippi chilled   \n",
       "72 Mc2   Mississippi chilled   \n",
       "73 Mc2   Mississippi chilled   \n",
       "74 Mc2   Mississippi chilled   \n",
       "75 Mc2   Mississippi chilled   \n",
       "76 Mc2   Mississippi chilled   \n",
       "77 Mc2   Mississippi chilled   \n",
       "78 Mc3   Mississippi chilled   \n",
       "79 Mc3   Mississippi chilled   \n",
       "80 Mc3   Mississippi chilled   \n",
       "81 Mc3   Mississippi chilled   \n",
       "82 Mc3   Mississippi chilled   \n",
       "83 Mc3   Mississippi chilled   \n",
       "84 Mc3   Mississippi chilled   "
      ]
     },
     "metadata": {},
     "output_type": "display_data"
    }
   ],
   "source": [
    "df[,1:3]K"
   ]
  },
  {
   "cell_type": "code",
   "execution_count": null,
   "id": "9d72779a-3d03-4df9-8045-2d71c5f98016",
   "metadata": {},
   "outputs": [],
   "source": []
  }
 ],
 "metadata": {
  "kernelspec": {
   "display_name": "R 4.1",
   "language": "R",
   "name": "ir41"
  },
  "language_info": {
   "codemirror_mode": "r",
   "file_extension": ".r",
   "mimetype": "text/x-r-source",
   "name": "R",
   "pygments_lexer": "r",
   "version": "4.1.2"
  }
 },
 "nbformat": 4,
 "nbformat_minor": 5
}
