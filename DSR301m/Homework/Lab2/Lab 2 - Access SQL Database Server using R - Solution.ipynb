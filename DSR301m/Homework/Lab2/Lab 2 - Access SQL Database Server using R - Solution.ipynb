{
 "cells": [
  {
   "cell_type": "markdown",
   "metadata": {
    "deletable": false,
    "tags": []
   },
   "source": [
    "<center>\n",
    "    <img src=\"https://fpt.edu.vn/Resources/brand/uploads/749540_132829686029858301_o.jpg\" width=\"500\" alt=\"cognitiveclass.ai logo\"  />\n",
    "</center>\n",
    "\n",
    "# Lab 2: Access SQL Database Server using R\n",
    "\n",
    "\n"
   ]
  },
  {
   "cell_type": "markdown",
   "metadata": {
    "tags": []
   },
   "source": [
    "<br>\n",
    "\n",
    "#### Class name: \n",
    "\n",
    "#### Student code: \n",
    "\n",
    "#### Student name: \n",
    "\n",
    "<br>"
   ]
  },
  {
   "cell_type": "markdown",
   "metadata": {
    "deletable": false,
    "tags": []
   },
   "source": [
    "\n",
    "## Objectives\n",
    "\n",
    "After completing this lab you will be able to:\n",
    "\n",
    "*   Create connection with SQL Server using RODBC\n",
    "*   Query data from the table\n",
    "*   Retrieve the result set into a dataframe\n",
    "*   Close the database connection\n",
    "\n",
    "Estimated time needed: **90** minutes\n",
    "<h4 style='color:red; font-weight:bold'>NOTE:</h4>\n",
    "<h5 style='color:red; font-weight:bold'>\n",
    "    <p>- Do not cheat! 1 point for anybody copy or share code</p>\n",
    "    <p>- Rename your file with format: \"class_mssv.ipynb\" before submit(e.g AI1706_namnhHE123456)</p>\n",
    "</h5>"
   ]
  },
  {
   "cell_type": "markdown",
   "metadata": {
    "deletable": false,
    "editable": false,
    "tags": []
   },
   "source": [
    "**Notice:** Please follow the instructions given by lecture to import data from .csv file to SQL database server\n",
    "\n",
    "## Install and import the `RODBC` library\n",
    "\n",
    "<a href=\"https://cran.r-project.org/web/packages/RODBC/index.html\">RODBC API</a> implements odbc database connectivity with compliant databases where drivers exist on the host system. \n",
    "\n",
    "Two groups of commands are provided. \n",
    "\n",
    "**odbc*** commands implement relatively low level access to the odbc functions of similar name. The odbc* group return -1 in stat on error. Up to 16 connections can be open at once to any combination of dsn/hosts. Columns are limited to 255 chars of non-binary data. The functions where usage is obvious from the name are not described below.\n",
    "\n",
    "**sql*** commands are higher level constructs to read, save, copy and manipulate data between data frames and sql tables. In general sql* commands return a data frame on success, or -1/verbose on error depending on the errors parameter. \n"
   ]
  },
  {
   "cell_type": "markdown",
   "metadata": {
    "deletable": false,
    "editable": false,
    "tags": []
   },
   "source": [
    "**If the RODBC package is not installed in your system, please uncomment line below and run the cell to install the package:**"
   ]
  },
  {
   "cell_type": "code",
   "execution_count": 4,
   "metadata": {
    "deletable": false,
    "tags": []
   },
   "outputs": [
    {
     "name": "stderr",
     "output_type": "stream",
     "text": [
      "Warning message:\n",
      "\"package 'RODBC' is in use and will not be installed\"\n"
     ]
    }
   ],
   "source": [
    "install.packages(\"RODBC\")"
   ]
  },
  {
   "cell_type": "code",
   "execution_count": 5,
   "metadata": {
    "deletable": false,
    "tags": []
   },
   "outputs": [],
   "source": [
    "library(RODBC)"
   ]
  },
  {
   "cell_type": "markdown",
   "metadata": {
    "deletable": false,
    "editable": false,
    "tags": []
   },
   "source": [
    "When the command above completes, the `pyodbc` and `pandas` library is loaded in your notebook.\n",
    "\n",
    "## Identify the database connection properties\n",
    "\n",
    "Connecting to SQL database server requires the following information:\n",
    "\n",
    "*   Driver Name\n",
    "*   Server\n",
    "*   Database\n",
    "*   User ID\n",
    "*   User Password\n"
   ]
  },
  {
   "cell_type": "code",
   "execution_count": 8,
   "metadata": {},
   "outputs": [
    {
     "name": "stdout",
     "output_type": "stream",
     "text": [
      "[1] \"connected to server!\"\n"
     ]
    }
   ],
   "source": [
    "#Replace the placeholder values with the actuals for your SQL Server connection properties\n",
    "connection <- paste(\"Driver={PostgreSQL Unicode}\",\n",
    "                          \"Server=localhost\",\n",
    "                          \"Database=default\",\n",
    "                          \"User=postgresql\",\n",
    "                          \"password=12345678\",\n",
    "                          \"trusted_connection=yes\",\n",
    "                          sep=\";\")\n",
    "conn <- odbcDriverConnect(connection)\n",
    "print(\"connected to server!\")"
   ]
  },
  {
   "cell_type": "markdown",
   "metadata": {
    "deletable": false,
    "editable": false,
    "tags": []
   },
   "source": [
    "## Understand the datasets\n",
    "\n",
    "To complete the assignment problems in this notebook you will be using three datasets that are available on the city of Chicago's Data Portal:\n",
    "\n",
    "1.  <a href=\"https://data.cityofchicago.org/Health-Human-Services/Census-Data-Selected-socioeconomic-indicators-in-C/kn9c-c2s2?utm_medium=Exinfluencer&utm_source=Exinfluencer&utm_content=000026UJ&utm_term=10006555&utm_id=NA-SkillsNetwork-Channel-SkillsNetworkCoursesIBMDeveloperSkillsNetworkDB0201ENSkillsNetwork20127838-2022-01-01\">Socioeconomic Indicators in Chicago</a>\n",
    "2.  <a href=\"https://data.cityofchicago.org/Education/Chicago-Public-Schools-Progress-Report-Cards-2011-/9xs2-f89t?utm_medium=Exinfluencer&utm_source=Exinfluencer&utm_content=000026UJ&utm_term=10006555&utm_id=NA-SkillsNetwork-Channel-SkillsNetworkCoursesIBMDeveloperSkillsNetworkDB0201ENSkillsNetwork20127838-2022-01-01\">Chicago Public Schools</a>\n",
    "3.  <a href=\"https://data.cityofchicago.org/Public-Safety/Crimes-2001-to-present/ijzp-q8t2?utm_medium=Exinfluencer&utm_source=Exinfluencer&utm_content=000026UJ&utm_term=10006555&utm_id=NA-SkillsNetwork-Channel-SkillsNetworkCoursesIBMDeveloperSkillsNetworkDB0201ENSkillsNetwork20127838-2022-01-01\">Chicago Crime Data</a>\n",
    "\n",
    "### 1. Socioeconomic Indicators in Chicago\n",
    "\n",
    "This dataset contains a selection of six socioeconomic indicators of public health significance and a “hardship index,” for each Chicago community area, for the years 2008 – 2012.\n",
    "\n",
    "A detailed description of this dataset and the original dataset can be obtained from the Chicago Data Portal at:\n",
    "[https://data.cityofchicago.org/Health-Human-Services/Census-Data-Selected-socioeconomic-indicators-in-C/kn9c-c2s2](https://data.cityofchicago.org/Health-Human-Services/Census-Data-Selected-socioeconomic-indicators-in-C/kn9c-c2s2?utm_medium=Exinfluencer&utm_source=Exinfluencer&utm_content=000026UJ&utm_term=10006555&utm_id=NA-SkillsNetwork-Channel-SkillsNetworkCoursesIBMDeveloperSkillsNetworkDB0201ENSkillsNetwork20127838-2022-01-01&cm_mmc=Email_Newsletter-\\_-Developer_Ed%2BTech-\\_-WW_WW-\\_-SkillsNetwork-Courses-IBMDeveloperSkillsNetwork-DB0201EN-SkillsNetwork-20127838&cm_mmca1=000026UJ&cm_mmca2=10006555&cm_mmca3=M12345678&cvosrc=email.Newsletter.M12345678&cvo_campaign=000026UJ)\n",
    "\n",
    "### 2. Chicago Public Schools\n",
    "\n",
    "This dataset shows all school level performance data used to create CPS School Report Cards for the 2011-2012 school year. This dataset is provided by the city of Chicago's Data Portal.\n",
    "\n",
    "A detailed description of this dataset and the original dataset can be obtained from the Chicago Data Portal at:\n",
    "[https://data.cityofchicago.org/Education/Chicago-Public-Schools-Progress-Report-Cards-2011-/9xs2-f89t](https://data.cityofchicago.org/Education/Chicago-Public-Schools-Progress-Report-Cards-2011-/9xs2-f89t?utm_medium=Exinfluencer&utm_source=Exinfluencer&utm_content=000026UJ&utm_term=10006555&utm_id=NA-SkillsNetwork-Channel-SkillsNetworkCoursesIBMDeveloperSkillsNetworkDB0201ENSkillsNetwork20127838-2022-01-01&cm_mmc=Email_Newsletter-\\_-Developer_Ed%2BTech-\\_-WW_WW-\\_-SkillsNetwork-Courses-IBMDeveloperSkillsNetwork-DB0201EN-SkillsNetwork-20127838&cm_mmca1=000026UJ&cm_mmca2=10006555&cm_mmca3=M12345678&cvosrc=email.Newsletter.M12345678&cvo_campaign=000026UJ)\n",
    "\n",
    "### 3. Chicago Crime Data\n",
    "\n",
    "This dataset reflects reported incidents of crime (with the exception of murders where data exists for each victim) that occurred in the City of Chicago from 2001 to present, minus the most recent seven days.\n",
    "\n",
    "A detailed description of this dataset and the original dataset can be obtained from the Chicago Data Portal at:\n",
    "[https://data.cityofchicago.org/Public-Safety/Crimes-2001-to-present/ijzp-q8t2](https://data.cityofchicago.org/Public-Safety/Crimes-2001-to-present/ijzp-q8t2?utm_medium=Exinfluencer&utm_source=Exinfluencer&utm_content=000026UJ&utm_term=10006555&utm_id=NA-SkillsNetwork-Channel-SkillsNetworkCoursesIBMDeveloperSkillsNetworkDB0201ENSkillsNetwork20127838-2022-01-01&cm_mmc=Email_Newsletter-\\_-Developer_Ed%2BTech-\\_-WW_WW-\\_-SkillsNetwork-Courses-IBMDeveloperSkillsNetwork-DB0201EN-SkillsNetwork-20127838&cm_mmca1=000026UJ&cm_mmca2=10006555&cm_mmca3=M12345678&cvosrc=email.Newsletter.M12345678&cvo_campaign=000026UJ)\n"
   ]
  },
  {
   "cell_type": "markdown",
   "metadata": {
    "deletable": false,
    "editable": false,
    "tags": []
   },
   "source": [
    "### Download the datasets\n",
    "\n",
    "This assignment requires you to have these three tables populated with a subset of the whole datasets.\n",
    "\n",
    "In many cases the dataset to be analyzed is available as a .CSV (comma separated values) file, perhaps on the internet. Click on the links below to download and save the datasets (.CSV files):\n",
    "\n",
    "*   <a href=\"https://cf-courses-data.s3.us.cloud-object-storage.appdomain.cloud/IBMDeveloperSkillsNetwork-DB0201EN-SkillsNetwork/labs/FinalModule_Coursera_V5/data/ChicagoCensusData.csv?utm_medium=Exinfluencer&utm_source=Exinfluencer&utm_content=000026UJ&utm_term=10006555&utm_id=NA-SkillsNetwork-Channel-SkillsNetworkCoursesIBMDeveloperSkillsNetworkDB0201ENSkillsNetwork20127838-2022-01-01\" target=\"_blank\">Chicago Census Data</a>\n",
    "\n",
    "*   <a href=\"https://cf-courses-data.s3.us.cloud-object-storage.appdomain.cloud/IBMDeveloperSkillsNetwork-DB0201EN-SkillsNetwork/labs/FinalModule_Coursera_V5/data/ChicagoPublicSchools.csv?utm_medium=Exinfluencer&utm_source=Exinfluencer&utm_content=000026UJ&utm_term=10006555&utm_id=NA-SkillsNetwork-Channel-SkillsNetworkCoursesIBMDeveloperSkillsNetworkDB0201ENSkillsNetwork20127838-2022-01-01\" target=\"_blank\">Chicago Public Schools</a>\n",
    "\n",
    "*   <a href=\"https://cf-courses-data.s3.us.cloud-object-storage.appdomain.cloud/IBMDeveloperSkillsNetwork-DB0201EN-SkillsNetwork/labs/FinalModule_Coursera_V5/data/ChicagoCrimeData.csv?utm_medium=Exinfluencer&utm_source=Exinfluencer&utm_content=000026UJ&utm_term=10006555&utm_id=NA-SkillsNetwork-Channel-SkillsNetworkCoursesIBMDeveloperSkillsNetworkDB0201ENSkillsNetwork20127838-2022-01-01\" target=\"_blank\">Chicago Crime Data</a>\n",
    "\n",
    "**NOTE**: For the learners who are encountering issues with loading from .csv in DB2 on Firefox, you can download the .txt files and load the data with those:\n",
    "\n",
    "*   <a href=\"https://cf-courses-data.s3.us.cloud-object-storage.appdomain.cloud/IBMDeveloperSkillsNetwork-DB0201EN-SkillsNetwork/labs/FinalModule_Coursera_V5/data/ChicagoCensusData.txt?utm_medium=Exinfluencer&utm_source=Exinfluencer&utm_content=000026UJ&utm_term=10006555&utm_id=NA-SkillsNetwork-Channel-SkillsNetworkCoursesIBMDeveloperSkillsNetworkDB0201ENSkillsNetwork20127838-2022-01-01\" target=\"_blank\">Chicago Census Data</a>\n",
    "\n",
    "*   <a href=\"https://cf-courses-data.s3.us.cloud-object-storage.appdomain.cloud/IBMDeveloperSkillsNetwork-DB0201EN-SkillsNetwork/labs/FinalModule_Coursera_V5/data/ChicagoPublicSchools.txt?utm_medium=Exinfluencer&utm_source=Exinfluencer&utm_content=000026UJ&utm_term=10006555&utm_id=NA-SkillsNetwork-Channel-SkillsNetworkCoursesIBMDeveloperSkillsNetworkDB0201ENSkillsNetwork20127838-2022-01-01\" target=\"_blank\">Chicago Public Schools</a>\n",
    "\n",
    "*   <a href=\"https://cf-courses-data.s3.us.cloud-object-storage.appdomain.cloud/IBMDeveloperSkillsNetwork-DB0201EN-SkillsNetwork/labs/FinalModule_Coursera_V5/data/ChicagoCrimeData.txt?utm_medium=Exinfluencer&utm_source=Exinfluencer&utm_content=000026UJ&utm_term=10006555&utm_id=NA-SkillsNetwork-Channel-SkillsNetworkCoursesIBMDeveloperSkillsNetworkDB0201ENSkillsNetwork20127838-2022-01-01\" target=\"_blank\">Chicago Crime Data</a>\n",
    "\n",
    "**NOTE:** Ensure you have downloaded the datasets using the links above instead of directly from the Chicago Data Portal. The versions linked here are subsets of the original datasets and have some of the column names modified to be more database friendly which will make it easier to complete this assignment.\n"
   ]
  },
  {
   "cell_type": "code",
   "execution_count": 9,
   "metadata": {},
   "outputs": [
    {
     "data": {
      "text/html": [
       "TRUE"
      ],
      "text/latex": [
       "TRUE"
      ],
      "text/markdown": [
       "TRUE"
      ],
      "text/plain": [
       "[1] TRUE"
      ]
     },
     "metadata": {},
     "output_type": "display_data"
    },
    {
     "data": {
      "text/html": [
       "TRUE"
      ],
      "text/latex": [
       "TRUE"
      ],
      "text/markdown": [
       "TRUE"
      ],
      "text/plain": [
       "[1] TRUE"
      ]
     },
     "metadata": {},
     "output_type": "display_data"
    },
    {
     "data": {
      "text/html": [
       "TRUE"
      ],
      "text/latex": [
       "TRUE"
      ],
      "text/markdown": [
       "TRUE"
      ],
      "text/plain": [
       "[1] TRUE"
      ]
     },
     "metadata": {},
     "output_type": "display_data"
    }
   ],
   "source": [
    "census <- \"https://cf-courses-data.s3.us.cloud-object-storage.appdomain.cloud/IBMDeveloperSkillsNetwork-DB0201EN-SkillsNetwork/labs/FinalModule_Coursera_V5/data/ChicagoCensusData.txt?utm_medium=Exinfluencer&utm_source=Exinfluencer&utm_content=000026UJ&utm_term=10006555&utm_id=NA-SkillsNetwork-Channel-SkillsNetworkCoursesIBMDeveloperSkillsNetworkDB0201ENSkillsNetwork20127838-2022-01-01\"\n",
    "destfile_census <- \"./census.csv\"\n",
    "public <- \"https://cf-courses-data.s3.us.cloud-object-storage.appdomain.cloud/IBMDeveloperSkillsNetwork-DB0201EN-SkillsNetwork/labs/FinalModule_Coursera_V5/data/ChicagoPublicSchools.txt?utm_medium=Exinfluencer&utm_source=Exinfluencer&utm_content=000026UJ&utm_term=10006555&utm_id=NA-SkillsNetwork-Channel-SkillsNetworkCoursesIBMDeveloperSkillsNetworkDB0201ENSkillsNetwork20127838-2022-01-01\"\n",
    "destfile_public <- \"./public.csv\"\n",
    "crime <- \"https://cf-courses-data.s3.us.cloud-object-storage.appdomain.cloud/IBMDeveloperSkillsNetwork-DB0201EN-SkillsNetwork/labs/FinalModule_Coursera_V5/data/ChicagoCrimeData.txt?utm_medium=Exinfluencer&utm_source=Exinfluencer&utm_content=000026UJ&utm_term=10006555&utm_id=NA-SkillsNetwork-Channel-SkillsNetworkCoursesIBMDeveloperSkillsNetworkDB0201ENSkillsNetwork20127838-2022-01-01\"\n",
    "destfile_crime <- \"./crime.csv\"\n",
    "\n",
    "download.file(census, destfile_census, method = \"auto\")\n",
    "download.file(public, destfile_public, method = \"auto\")\n",
    "download.file(crime, destfile_crime, method = \"auto\")\n",
    "\n",
    "# Check if the files have been downloaded successfully\n",
    "file.exists(destfile_census)\n",
    "file.exists(destfile_public)\n",
    "file.exists(destfile_crime)\n"
   ]
  },
  {
   "cell_type": "code",
   "execution_count": 10,
   "metadata": {},
   "outputs": [],
   "source": [
    "census <- read.csv(\"./census.csv\")\n",
    "crime <- read.csv(\"./crime.csv\");\n",
    "public <- read.csv(\"./public.csv\");"
   ]
  },
  {
   "cell_type": "code",
   "execution_count": 19,
   "metadata": {},
   "outputs": [],
   "source": [
    "sqlSave(conn, public, tablename = \"public\", rownames = FALSE, append = TRUE)\n",
    "sqlSave(conn, census, tablename = \"census\", rownames = FALSE, append = TRUE)\n",
    "sqlSave(conn, crime, tablename = \"crime\", rownames = FALSE, append = TRUE)"
   ]
  },
  {
   "cell_type": "markdown",
   "metadata": {
    "deletable": false,
    "editable": false,
    "tags": []
   },
   "source": [
    "### Problem 1\n",
    "\n",
    "##### Find the total number of crimes recorded in the CRIME table."
   ]
  },
  {
   "cell_type": "code",
   "execution_count": 20,
   "metadata": {},
   "outputs": [
    {
     "data": {
      "text/html": [
       "<table class=\"dataframe\">\n",
       "<caption>A data.frame: 1 × 1</caption>\n",
       "<thead>\n",
       "\t<tr><th></th><th scope=col>count</th></tr>\n",
       "\t<tr><th></th><th scope=col>&lt;int&gt;</th></tr>\n",
       "</thead>\n",
       "<tbody>\n",
       "\t<tr><th scope=row>1</th><td>1066</td></tr>\n",
       "</tbody>\n",
       "</table>\n"
      ],
      "text/latex": [
       "A data.frame: 1 × 1\n",
       "\\begin{tabular}{r|l}\n",
       "  & count\\\\\n",
       "  & <int>\\\\\n",
       "\\hline\n",
       "\t1 & 1066\\\\\n",
       "\\end{tabular}\n"
      ],
      "text/markdown": [
       "\n",
       "A data.frame: 1 × 1\n",
       "\n",
       "| <!--/--> | count &lt;int&gt; |\n",
       "|---|---|\n",
       "| 1 | 1066 |\n",
       "\n"
      ],
      "text/plain": [
       "  count\n",
       "1 1066 "
      ]
     },
     "metadata": {},
     "output_type": "display_data"
    }
   ],
   "source": [
    "ques1 <- sqlQuery(conn, \"SELECT COUNT(*) FROM CRIME;\"); ques1"
   ]
  },
  {
   "cell_type": "markdown",
   "metadata": {
    "deletable": false,
    "editable": false,
    "tags": []
   },
   "source": [
    "### Problem 2\n",
    "\n",
    "##### List community areas with per capita income less than 11000.\n",
    "\n"
   ]
  },
  {
   "cell_type": "code",
   "execution_count": 21,
   "metadata": {},
   "outputs": [
    {
     "data": {
      "text/html": [
       "<table class=\"dataframe\">\n",
       "<caption>A data.frame: 8 × 1</caption>\n",
       "<thead>\n",
       "\t<tr><th></th><th scope=col>community_area_name</th></tr>\n",
       "\t<tr><th></th><th scope=col>&lt;chr&gt;</th></tr>\n",
       "</thead>\n",
       "<tbody>\n",
       "\t<tr><th scope=row>1</th><td>West Garfield Park</td></tr>\n",
       "\t<tr><th scope=row>2</th><td>South Lawndale    </td></tr>\n",
       "\t<tr><th scope=row>3</th><td>Fuller Park       </td></tr>\n",
       "\t<tr><th scope=row>4</th><td>Riverdale         </td></tr>\n",
       "\t<tr><th scope=row>5</th><td>West Garfield Park</td></tr>\n",
       "\t<tr><th scope=row>6</th><td>South Lawndale    </td></tr>\n",
       "\t<tr><th scope=row>7</th><td>Fuller Park       </td></tr>\n",
       "\t<tr><th scope=row>8</th><td>Riverdale         </td></tr>\n",
       "</tbody>\n",
       "</table>\n"
      ],
      "text/latex": [
       "A data.frame: 8 × 1\n",
       "\\begin{tabular}{r|l}\n",
       "  & community\\_area\\_name\\\\\n",
       "  & <chr>\\\\\n",
       "\\hline\n",
       "\t1 & West Garfield Park\\\\\n",
       "\t2 & South Lawndale    \\\\\n",
       "\t3 & Fuller Park       \\\\\n",
       "\t4 & Riverdale         \\\\\n",
       "\t5 & West Garfield Park\\\\\n",
       "\t6 & South Lawndale    \\\\\n",
       "\t7 & Fuller Park       \\\\\n",
       "\t8 & Riverdale         \\\\\n",
       "\\end{tabular}\n"
      ],
      "text/markdown": [
       "\n",
       "A data.frame: 8 × 1\n",
       "\n",
       "| <!--/--> | community_area_name &lt;chr&gt; |\n",
       "|---|---|\n",
       "| 1 | West Garfield Park |\n",
       "| 2 | South Lawndale     |\n",
       "| 3 | Fuller Park        |\n",
       "| 4 | Riverdale          |\n",
       "| 5 | West Garfield Park |\n",
       "| 6 | South Lawndale     |\n",
       "| 7 | Fuller Park        |\n",
       "| 8 | Riverdale          |\n",
       "\n"
      ],
      "text/plain": [
       "  community_area_name\n",
       "1 West Garfield Park \n",
       "2 South Lawndale     \n",
       "3 Fuller Park        \n",
       "4 Riverdale          \n",
       "5 West Garfield Park \n",
       "6 South Lawndale     \n",
       "7 Fuller Park        \n",
       "8 Riverdale          "
      ]
     },
     "metadata": {},
     "output_type": "display_data"
    }
   ],
   "source": [
    "#Enter your code below\n",
    "ques2 <- sqlQuery(conn, \"SELECT COMMUNITY_AREA_NAME FROM CENSUS WHERE PER_CAPITA_INCOME < 11000\"); ques2"
   ]
  },
  {
   "cell_type": "markdown",
   "metadata": {
    "deletable": false,
    "editable": false,
    "tags": []
   },
   "source": [
    "### Problem 3\n",
    "\n",
    "##### List all case numbers for crimes  involving minors?(children are not considered minors for the purposes of crime analysis)\n"
   ]
  },
  {
   "cell_type": "code",
   "execution_count": 22,
   "metadata": {},
   "outputs": [
    {
     "data": {
      "text/html": [
       "<table class=\"dataframe\">\n",
       "<caption>A data.frame: 4 × 1</caption>\n",
       "<thead>\n",
       "\t<tr><th></th><th scope=col>case_number</th></tr>\n",
       "\t<tr><th></th><th scope=col>&lt;chr&gt;</th></tr>\n",
       "</thead>\n",
       "<tbody>\n",
       "\t<tr><th scope=row>1</th><td>HL266884</td></tr>\n",
       "\t<tr><th scope=row>2</th><td>HK238408</td></tr>\n",
       "\t<tr><th scope=row>3</th><td>HL266884</td></tr>\n",
       "\t<tr><th scope=row>4</th><td>HK238408</td></tr>\n",
       "</tbody>\n",
       "</table>\n"
      ],
      "text/latex": [
       "A data.frame: 4 × 1\n",
       "\\begin{tabular}{r|l}\n",
       "  & case\\_number\\\\\n",
       "  & <chr>\\\\\n",
       "\\hline\n",
       "\t1 & HL266884\\\\\n",
       "\t2 & HK238408\\\\\n",
       "\t3 & HL266884\\\\\n",
       "\t4 & HK238408\\\\\n",
       "\\end{tabular}\n"
      ],
      "text/markdown": [
       "\n",
       "A data.frame: 4 × 1\n",
       "\n",
       "| <!--/--> | case_number &lt;chr&gt; |\n",
       "|---|---|\n",
       "| 1 | HL266884 |\n",
       "| 2 | HK238408 |\n",
       "| 3 | HL266884 |\n",
       "| 4 | HK238408 |\n",
       "\n"
      ],
      "text/plain": [
       "  case_number\n",
       "1 HL266884   \n",
       "2 HK238408   \n",
       "3 HL266884   \n",
       "4 HK238408   "
      ]
     },
     "metadata": {},
     "output_type": "display_data"
    }
   ],
   "source": [
    "#Enter your code below\n",
    "ques3 <- sqlQuery(conn, \"SELECT case_number FROM CRIME WHERE description ILIKE '%minor%'\"); ques3"
   ]
  },
  {
   "cell_type": "markdown",
   "metadata": {
    "deletable": false,
    "editable": false,
    "tags": []
   },
   "source": [
    "### Problem 4\n",
    "\n",
    "##### List all kidnapping crimes involving a child?\n"
   ]
  },
  {
   "cell_type": "code",
   "execution_count": 23,
   "metadata": {},
   "outputs": [
    {
     "data": {
      "text/html": [
       "<table class=\"dataframe\">\n",
       "<caption>A data.frame: 2 × 21</caption>\n",
       "<thead>\n",
       "\t<tr><th></th><th scope=col>id</th><th scope=col>case_number</th><th scope=col>date</th><th scope=col>block</th><th scope=col>iucr</th><th scope=col>primary_type</th><th scope=col>description</th><th scope=col>location_description</th><th scope=col>arrest</th><th scope=col>domestic</th><th scope=col>⋯</th><th scope=col>district</th><th scope=col>ward</th><th scope=col>community_area_number</th><th scope=col>fbicode</th><th scope=col>x_coordinate</th><th scope=col>y_coordinate</th><th scope=col>year</th><th scope=col>latitude</th><th scope=col>longitude</th><th scope=col>location</th></tr>\n",
       "\t<tr><th></th><th scope=col>&lt;int&gt;</th><th scope=col>&lt;chr&gt;</th><th scope=col>&lt;chr&gt;</th><th scope=col>&lt;chr&gt;</th><th scope=col>&lt;int&gt;</th><th scope=col>&lt;chr&gt;</th><th scope=col>&lt;chr&gt;</th><th scope=col>&lt;chr&gt;</th><th scope=col>&lt;lgl&gt;</th><th scope=col>&lt;lgl&gt;</th><th scope=col>⋯</th><th scope=col>&lt;int&gt;</th><th scope=col>&lt;int&gt;</th><th scope=col>&lt;int&gt;</th><th scope=col>&lt;int&gt;</th><th scope=col>&lt;int&gt;</th><th scope=col>&lt;int&gt;</th><th scope=col>&lt;int&gt;</th><th scope=col>&lt;dbl&gt;</th><th scope=col>&lt;dbl&gt;</th><th scope=col>&lt;chr&gt;</th></tr>\n",
       "</thead>\n",
       "<tbody>\n",
       "\t<tr><th scope=row>1</th><td>5276766</td><td>HN144152</td><td>2007-01-26</td><td>050XX W VAN BUREN ST</td><td>1792</td><td>KIDNAPPING</td><td>CHILD ABDUCTION/STRANGER</td><td>STREET</td><td>FALSE</td><td>FALSE</td><td>⋯</td><td>15</td><td>29</td><td>25</td><td>20</td><td>1143050</td><td>1897546</td><td>2007</td><td>41.87491</td><td>-87.75025</td><td>(41.874908413, -87.750249307)</td></tr>\n",
       "\t<tr><th scope=row>2</th><td>5276766</td><td>HN144152</td><td>2007-01-26</td><td>050XX W VAN BUREN ST</td><td>1792</td><td>KIDNAPPING</td><td>CHILD ABDUCTION/STRANGER</td><td>STREET</td><td>FALSE</td><td>FALSE</td><td>⋯</td><td>15</td><td>29</td><td>25</td><td>20</td><td>1143050</td><td>1897546</td><td>2007</td><td>41.87491</td><td>-87.75025</td><td>(41.874908413, -87.750249307)</td></tr>\n",
       "</tbody>\n",
       "</table>\n"
      ],
      "text/latex": [
       "A data.frame: 2 × 21\n",
       "\\begin{tabular}{r|lllllllllllllllllllll}\n",
       "  & id & case\\_number & date & block & iucr & primary\\_type & description & location\\_description & arrest & domestic & ⋯ & district & ward & community\\_area\\_number & fbicode & x\\_coordinate & y\\_coordinate & year & latitude & longitude & location\\\\\n",
       "  & <int> & <chr> & <chr> & <chr> & <int> & <chr> & <chr> & <chr> & <lgl> & <lgl> & ⋯ & <int> & <int> & <int> & <int> & <int> & <int> & <int> & <dbl> & <dbl> & <chr>\\\\\n",
       "\\hline\n",
       "\t1 & 5276766 & HN144152 & 2007-01-26 & 050XX W VAN BUREN ST & 1792 & KIDNAPPING & CHILD ABDUCTION/STRANGER & STREET & FALSE & FALSE & ⋯ & 15 & 29 & 25 & 20 & 1143050 & 1897546 & 2007 & 41.87491 & -87.75025 & (41.874908413, -87.750249307)\\\\\n",
       "\t2 & 5276766 & HN144152 & 2007-01-26 & 050XX W VAN BUREN ST & 1792 & KIDNAPPING & CHILD ABDUCTION/STRANGER & STREET & FALSE & FALSE & ⋯ & 15 & 29 & 25 & 20 & 1143050 & 1897546 & 2007 & 41.87491 & -87.75025 & (41.874908413, -87.750249307)\\\\\n",
       "\\end{tabular}\n"
      ],
      "text/markdown": [
       "\n",
       "A data.frame: 2 × 21\n",
       "\n",
       "| <!--/--> | id &lt;int&gt; | case_number &lt;chr&gt; | date &lt;chr&gt; | block &lt;chr&gt; | iucr &lt;int&gt; | primary_type &lt;chr&gt; | description &lt;chr&gt; | location_description &lt;chr&gt; | arrest &lt;lgl&gt; | domestic &lt;lgl&gt; | ⋯ ⋯ | district &lt;int&gt; | ward &lt;int&gt; | community_area_number &lt;int&gt; | fbicode &lt;int&gt; | x_coordinate &lt;int&gt; | y_coordinate &lt;int&gt; | year &lt;int&gt; | latitude &lt;dbl&gt; | longitude &lt;dbl&gt; | location &lt;chr&gt; |\n",
       "|---|---|---|---|---|---|---|---|---|---|---|---|---|---|---|---|---|---|---|---|---|---|\n",
       "| 1 | 5276766 | HN144152 | 2007-01-26 | 050XX W VAN BUREN ST | 1792 | KIDNAPPING | CHILD ABDUCTION/STRANGER | STREET | FALSE | FALSE | ⋯ | 15 | 29 | 25 | 20 | 1143050 | 1897546 | 2007 | 41.87491 | -87.75025 | (41.874908413, -87.750249307) |\n",
       "| 2 | 5276766 | HN144152 | 2007-01-26 | 050XX W VAN BUREN ST | 1792 | KIDNAPPING | CHILD ABDUCTION/STRANGER | STREET | FALSE | FALSE | ⋯ | 15 | 29 | 25 | 20 | 1143050 | 1897546 | 2007 | 41.87491 | -87.75025 | (41.874908413, -87.750249307) |\n",
       "\n"
      ],
      "text/plain": [
       "  id      case_number date       block                iucr primary_type\n",
       "1 5276766 HN144152    2007-01-26 050XX W VAN BUREN ST 1792 KIDNAPPING  \n",
       "2 5276766 HN144152    2007-01-26 050XX W VAN BUREN ST 1792 KIDNAPPING  \n",
       "  description              location_description arrest domestic ⋯ district ward\n",
       "1 CHILD ABDUCTION/STRANGER STREET               FALSE  FALSE    ⋯ 15       29  \n",
       "2 CHILD ABDUCTION/STRANGER STREET               FALSE  FALSE    ⋯ 15       29  \n",
       "  community_area_number fbicode x_coordinate y_coordinate year latitude\n",
       "1 25                    20      1143050      1897546      2007 41.87491\n",
       "2 25                    20      1143050      1897546      2007 41.87491\n",
       "  longitude location                     \n",
       "1 -87.75025 (41.874908413, -87.750249307)\n",
       "2 -87.75025 (41.874908413, -87.750249307)"
      ]
     },
     "metadata": {},
     "output_type": "display_data"
    }
   ],
   "source": [
    "#Enter your code below\n",
    "ques4 <- sqlQuery(conn, \"SELECT * FROM CRIME WHERE primary_type = 'KIDNAPPING' AND description ILIKE '%child%'\");ques4"
   ]
  },
  {
   "cell_type": "markdown",
   "metadata": {
    "deletable": false,
    "editable": false,
    "tags": []
   },
   "source": [
    "### Problem 5\n",
    "\n",
    "##### What kinds of crimes were recorded at schools?\n"
   ]
  },
  {
   "cell_type": "code",
   "execution_count": 24,
   "metadata": {},
   "outputs": [
    {
     "data": {
      "text/html": [
       "<table class=\"dataframe\">\n",
       "<caption>A data.frame: 6 × 1</caption>\n",
       "<thead>\n",
       "\t<tr><th></th><th scope=col>primary_type</th></tr>\n",
       "\t<tr><th></th><th scope=col>&lt;chr&gt;</th></tr>\n",
       "</thead>\n",
       "<tbody>\n",
       "\t<tr><th scope=row>1</th><td>ASSAULT               </td></tr>\n",
       "\t<tr><th scope=row>2</th><td>BATTERY               </td></tr>\n",
       "\t<tr><th scope=row>3</th><td>CRIMINAL TRESPASS     </td></tr>\n",
       "\t<tr><th scope=row>4</th><td>PUBLIC PEACE VIOLATION</td></tr>\n",
       "\t<tr><th scope=row>5</th><td>CRIMINAL DAMAGE       </td></tr>\n",
       "\t<tr><th scope=row>6</th><td>NARCOTICS             </td></tr>\n",
       "</tbody>\n",
       "</table>\n"
      ],
      "text/latex": [
       "A data.frame: 6 × 1\n",
       "\\begin{tabular}{r|l}\n",
       "  & primary\\_type\\\\\n",
       "  & <chr>\\\\\n",
       "\\hline\n",
       "\t1 & ASSAULT               \\\\\n",
       "\t2 & BATTERY               \\\\\n",
       "\t3 & CRIMINAL TRESPASS     \\\\\n",
       "\t4 & PUBLIC PEACE VIOLATION\\\\\n",
       "\t5 & CRIMINAL DAMAGE       \\\\\n",
       "\t6 & NARCOTICS             \\\\\n",
       "\\end{tabular}\n"
      ],
      "text/markdown": [
       "\n",
       "A data.frame: 6 × 1\n",
       "\n",
       "| <!--/--> | primary_type &lt;chr&gt; |\n",
       "|---|---|\n",
       "| 1 | ASSAULT                |\n",
       "| 2 | BATTERY                |\n",
       "| 3 | CRIMINAL TRESPASS      |\n",
       "| 4 | PUBLIC PEACE VIOLATION |\n",
       "| 5 | CRIMINAL DAMAGE        |\n",
       "| 6 | NARCOTICS              |\n",
       "\n"
      ],
      "text/plain": [
       "  primary_type          \n",
       "1 ASSAULT               \n",
       "2 BATTERY               \n",
       "3 CRIMINAL TRESPASS     \n",
       "4 PUBLIC PEACE VIOLATION\n",
       "5 CRIMINAL DAMAGE       \n",
       "6 NARCOTICS             "
      ]
     },
     "metadata": {},
     "output_type": "display_data"
    }
   ],
   "source": [
    "#Enter your code below\n",
    "ques5 <- sqlQuery(conn, \"SELECT DISTINCT(primary_type) FROM CRIME WHERE location_description ILIKE '%school%'\");ques5"
   ]
  },
  {
   "cell_type": "markdown",
   "metadata": {
    "deletable": false,
    "editable": false,
    "tags": []
   },
   "source": [
    "### Problem 6\n",
    "\n",
    "##### List the average safety score for each type of school."
   ]
  },
  {
   "cell_type": "code",
   "execution_count": 26,
   "metadata": {},
   "outputs": [
    {
     "data": {
      "text/html": [
       "<table class=\"dataframe\">\n",
       "<caption>A data.frame: 108 × 1</caption>\n",
       "<thead>\n",
       "\t<tr><th></th><th scope=col>column_name</th></tr>\n",
       "\t<tr><th></th><th scope=col>&lt;chr&gt;</th></tr>\n",
       "</thead>\n",
       "<tbody>\n",
       "\t<tr><th scope=row>1</th><td>latitude                                    </td></tr>\n",
       "\t<tr><th scope=row>2</th><td>longitude                                   </td></tr>\n",
       "\t<tr><th scope=row>3</th><td>community_area_number                       </td></tr>\n",
       "\t<tr><th scope=row>4</th><td>isat_exceeding_reading__                    </td></tr>\n",
       "\t<tr><th scope=row>5</th><td>ward                                        </td></tr>\n",
       "\t<tr><th scope=row>6</th><td>police_district                             </td></tr>\n",
       "\t<tr><th scope=row>7</th><td>isat_value_add_math                         </td></tr>\n",
       "\t<tr><th scope=row>8</th><td>community_area_number                       </td></tr>\n",
       "\t<tr><th scope=row>9</th><td>isat_value_add_read                         </td></tr>\n",
       "\t<tr><th scope=row>10</th><td>percent_of_housing_crowded                  </td></tr>\n",
       "\t<tr><th scope=row>11</th><td>percent_households_below_poverty            </td></tr>\n",
       "\t<tr><th scope=row>12</th><td>percent_aged_16__unemployed                 </td></tr>\n",
       "\t<tr><th scope=row>13</th><td>percent_aged_25__without_high_school_diploma</td></tr>\n",
       "\t<tr><th scope=row>14</th><td>percent_aged_under_18_or_over_64            </td></tr>\n",
       "\t<tr><th scope=row>15</th><td>per_capita_income                           </td></tr>\n",
       "\t<tr><th scope=row>16</th><td>hardship_index                              </td></tr>\n",
       "\t<tr><th scope=row>17</th><td>id                                          </td></tr>\n",
       "\t<tr><th scope=row>18</th><td>rate_of_misconducts__per_100_students_      </td></tr>\n",
       "\t<tr><th scope=row>19</th><td>environment_score                           </td></tr>\n",
       "\t<tr><th scope=row>20</th><td>safety_score                                </td></tr>\n",
       "\t<tr><th scope=row>21</th><td>instruction_score                           </td></tr>\n",
       "\t<tr><th scope=row>22</th><td>zip_code                                    </td></tr>\n",
       "\t<tr><th scope=row>23</th><td>college_enrollment                          </td></tr>\n",
       "\t<tr><th scope=row>24</th><td>general_services_route                      </td></tr>\n",
       "\t<tr><th scope=row>25</th><td>isat_exceeding_math__                       </td></tr>\n",
       "\t<tr><th scope=row>26</th><td>x_coordinate                                </td></tr>\n",
       "\t<tr><th scope=row>27</th><td>beat                                        </td></tr>\n",
       "\t<tr><th scope=row>28</th><td>district                                    </td></tr>\n",
       "\t<tr><th scope=row>29</th><td>ward                                        </td></tr>\n",
       "\t<tr><th scope=row>30</th><td>community_area_number                       </td></tr>\n",
       "\t<tr><th scope=row>⋮</th><td>⋮</td></tr>\n",
       "\t<tr><th scope=row>79</th><td>link                                            </td></tr>\n",
       "\t<tr><th scope=row>80</th><td>network_manager                                 </td></tr>\n",
       "\t<tr><th scope=row>81</th><td>collaborative_name                              </td></tr>\n",
       "\t<tr><th scope=row>82</th><td>adequate_yearly_progress_made_                  </td></tr>\n",
       "\t<tr><th scope=row>83</th><td>track_schedule                                  </td></tr>\n",
       "\t<tr><th scope=row>84</th><td>cps_performance_policy_status                   </td></tr>\n",
       "\t<tr><th scope=row>85</th><td>cps_performance_policy_level                    </td></tr>\n",
       "\t<tr><th scope=row>86</th><td>healthy_school_certified                        </td></tr>\n",
       "\t<tr><th scope=row>87</th><td>safety_icon                                     </td></tr>\n",
       "\t<tr><th scope=row>88</th><td>family_involvement_icon                         </td></tr>\n",
       "\t<tr><th scope=row>89</th><td>family_involvement_score                        </td></tr>\n",
       "\t<tr><th scope=row>90</th><td>environment_icon                                </td></tr>\n",
       "\t<tr><th scope=row>91</th><td>instruction_icon                                </td></tr>\n",
       "\t<tr><th scope=row>92</th><td>leaders_icon                                    </td></tr>\n",
       "\t<tr><th scope=row>93</th><td>leaders_score                                   </td></tr>\n",
       "\t<tr><th scope=row>94</th><td>teachers_icon                                   </td></tr>\n",
       "\t<tr><th scope=row>95</th><td>teachers_score                                  </td></tr>\n",
       "\t<tr><th scope=row>96</th><td>parent_engagement_icon                          </td></tr>\n",
       "\t<tr><th scope=row>97</th><td>parent_engagement_score                         </td></tr>\n",
       "\t<tr><th scope=row>98</th><td>parent_environment_icon                         </td></tr>\n",
       "\t<tr><th scope=row>99</th><td>parent_environment_score                        </td></tr>\n",
       "\t<tr><th scope=row>100</th><td>average_student_attendance                      </td></tr>\n",
       "\t<tr><th scope=row>101</th><td>average_teacher_attendance                      </td></tr>\n",
       "\t<tr><th scope=row>102</th><td>individualized_education_program_compliance_rate</td></tr>\n",
       "\t<tr><th scope=row>103</th><td>pk_2_literacy__                                 </td></tr>\n",
       "\t<tr><th scope=row>104</th><td>pk_2_math__                                     </td></tr>\n",
       "\t<tr><th scope=row>105</th><td>gr3_5_grade_level_math__                        </td></tr>\n",
       "\t<tr><th scope=row>106</th><td>gr3_5_grade_level_read__                        </td></tr>\n",
       "\t<tr><th scope=row>107</th><td>gr3_5_keep_pace_read__                          </td></tr>\n",
       "\t<tr><th scope=row>108</th><td>gr3_5_keep_pace_math__                          </td></tr>\n",
       "</tbody>\n",
       "</table>\n"
      ],
      "text/latex": [
       "A data.frame: 108 × 1\n",
       "\\begin{tabular}{r|l}\n",
       "  & column\\_name\\\\\n",
       "  & <chr>\\\\\n",
       "\\hline\n",
       "\t1 & latitude                                    \\\\\n",
       "\t2 & longitude                                   \\\\\n",
       "\t3 & community\\_area\\_number                       \\\\\n",
       "\t4 & isat\\_exceeding\\_reading\\_\\_                    \\\\\n",
       "\t5 & ward                                        \\\\\n",
       "\t6 & police\\_district                             \\\\\n",
       "\t7 & isat\\_value\\_add\\_math                         \\\\\n",
       "\t8 & community\\_area\\_number                       \\\\\n",
       "\t9 & isat\\_value\\_add\\_read                         \\\\\n",
       "\t10 & percent\\_of\\_housing\\_crowded                  \\\\\n",
       "\t11 & percent\\_households\\_below\\_poverty            \\\\\n",
       "\t12 & percent\\_aged\\_16\\_\\_unemployed                 \\\\\n",
       "\t13 & percent\\_aged\\_25\\_\\_without\\_high\\_school\\_diploma\\\\\n",
       "\t14 & percent\\_aged\\_under\\_18\\_or\\_over\\_64            \\\\\n",
       "\t15 & per\\_capita\\_income                           \\\\\n",
       "\t16 & hardship\\_index                              \\\\\n",
       "\t17 & id                                          \\\\\n",
       "\t18 & rate\\_of\\_misconducts\\_\\_per\\_100\\_students\\_      \\\\\n",
       "\t19 & environment\\_score                           \\\\\n",
       "\t20 & safety\\_score                                \\\\\n",
       "\t21 & instruction\\_score                           \\\\\n",
       "\t22 & zip\\_code                                    \\\\\n",
       "\t23 & college\\_enrollment                          \\\\\n",
       "\t24 & general\\_services\\_route                      \\\\\n",
       "\t25 & isat\\_exceeding\\_math\\_\\_                       \\\\\n",
       "\t26 & x\\_coordinate                                \\\\\n",
       "\t27 & beat                                        \\\\\n",
       "\t28 & district                                    \\\\\n",
       "\t29 & ward                                        \\\\\n",
       "\t30 & community\\_area\\_number                       \\\\\n",
       "\t⋮ & ⋮\\\\\n",
       "\t79 & link                                            \\\\\n",
       "\t80 & network\\_manager                                 \\\\\n",
       "\t81 & collaborative\\_name                              \\\\\n",
       "\t82 & adequate\\_yearly\\_progress\\_made\\_                  \\\\\n",
       "\t83 & track\\_schedule                                  \\\\\n",
       "\t84 & cps\\_performance\\_policy\\_status                   \\\\\n",
       "\t85 & cps\\_performance\\_policy\\_level                    \\\\\n",
       "\t86 & healthy\\_school\\_certified                        \\\\\n",
       "\t87 & safety\\_icon                                     \\\\\n",
       "\t88 & family\\_involvement\\_icon                         \\\\\n",
       "\t89 & family\\_involvement\\_score                        \\\\\n",
       "\t90 & environment\\_icon                                \\\\\n",
       "\t91 & instruction\\_icon                                \\\\\n",
       "\t92 & leaders\\_icon                                    \\\\\n",
       "\t93 & leaders\\_score                                   \\\\\n",
       "\t94 & teachers\\_icon                                   \\\\\n",
       "\t95 & teachers\\_score                                  \\\\\n",
       "\t96 & parent\\_engagement\\_icon                          \\\\\n",
       "\t97 & parent\\_engagement\\_score                         \\\\\n",
       "\t98 & parent\\_environment\\_icon                         \\\\\n",
       "\t99 & parent\\_environment\\_score                        \\\\\n",
       "\t100 & average\\_student\\_attendance                      \\\\\n",
       "\t101 & average\\_teacher\\_attendance                      \\\\\n",
       "\t102 & individualized\\_education\\_program\\_compliance\\_rate\\\\\n",
       "\t103 & pk\\_2\\_literacy\\_\\_                                 \\\\\n",
       "\t104 & pk\\_2\\_math\\_\\_                                     \\\\\n",
       "\t105 & gr3\\_5\\_grade\\_level\\_math\\_\\_                        \\\\\n",
       "\t106 & gr3\\_5\\_grade\\_level\\_read\\_\\_                        \\\\\n",
       "\t107 & gr3\\_5\\_keep\\_pace\\_read\\_\\_                          \\\\\n",
       "\t108 & gr3\\_5\\_keep\\_pace\\_math\\_\\_                          \\\\\n",
       "\\end{tabular}\n"
      ],
      "text/markdown": [
       "\n",
       "A data.frame: 108 × 1\n",
       "\n",
       "| <!--/--> | column_name &lt;chr&gt; |\n",
       "|---|---|\n",
       "| 1 | latitude                                     |\n",
       "| 2 | longitude                                    |\n",
       "| 3 | community_area_number                        |\n",
       "| 4 | isat_exceeding_reading__                     |\n",
       "| 5 | ward                                         |\n",
       "| 6 | police_district                              |\n",
       "| 7 | isat_value_add_math                          |\n",
       "| 8 | community_area_number                        |\n",
       "| 9 | isat_value_add_read                          |\n",
       "| 10 | percent_of_housing_crowded                   |\n",
       "| 11 | percent_households_below_poverty             |\n",
       "| 12 | percent_aged_16__unemployed                  |\n",
       "| 13 | percent_aged_25__without_high_school_diploma |\n",
       "| 14 | percent_aged_under_18_or_over_64             |\n",
       "| 15 | per_capita_income                            |\n",
       "| 16 | hardship_index                               |\n",
       "| 17 | id                                           |\n",
       "| 18 | rate_of_misconducts__per_100_students_       |\n",
       "| 19 | environment_score                            |\n",
       "| 20 | safety_score                                 |\n",
       "| 21 | instruction_score                            |\n",
       "| 22 | zip_code                                     |\n",
       "| 23 | college_enrollment                           |\n",
       "| 24 | general_services_route                       |\n",
       "| 25 | isat_exceeding_math__                        |\n",
       "| 26 | x_coordinate                                 |\n",
       "| 27 | beat                                         |\n",
       "| 28 | district                                     |\n",
       "| 29 | ward                                         |\n",
       "| 30 | community_area_number                        |\n",
       "| ⋮ | ⋮ |\n",
       "| 79 | link                                             |\n",
       "| 80 | network_manager                                  |\n",
       "| 81 | collaborative_name                               |\n",
       "| 82 | adequate_yearly_progress_made_                   |\n",
       "| 83 | track_schedule                                   |\n",
       "| 84 | cps_performance_policy_status                    |\n",
       "| 85 | cps_performance_policy_level                     |\n",
       "| 86 | healthy_school_certified                         |\n",
       "| 87 | safety_icon                                      |\n",
       "| 88 | family_involvement_icon                          |\n",
       "| 89 | family_involvement_score                         |\n",
       "| 90 | environment_icon                                 |\n",
       "| 91 | instruction_icon                                 |\n",
       "| 92 | leaders_icon                                     |\n",
       "| 93 | leaders_score                                    |\n",
       "| 94 | teachers_icon                                    |\n",
       "| 95 | teachers_score                                   |\n",
       "| 96 | parent_engagement_icon                           |\n",
       "| 97 | parent_engagement_score                          |\n",
       "| 98 | parent_environment_icon                          |\n",
       "| 99 | parent_environment_score                         |\n",
       "| 100 | average_student_attendance                       |\n",
       "| 101 | average_teacher_attendance                       |\n",
       "| 102 | individualized_education_program_compliance_rate |\n",
       "| 103 | pk_2_literacy__                                  |\n",
       "| 104 | pk_2_math__                                      |\n",
       "| 105 | gr3_5_grade_level_math__                         |\n",
       "| 106 | gr3_5_grade_level_read__                         |\n",
       "| 107 | gr3_5_keep_pace_read__                           |\n",
       "| 108 | gr3_5_keep_pace_math__                           |\n",
       "\n"
      ],
      "text/plain": [
       "    column_name                                     \n",
       "1   latitude                                        \n",
       "2   longitude                                       \n",
       "3   community_area_number                           \n",
       "4   isat_exceeding_reading__                        \n",
       "5   ward                                            \n",
       "6   police_district                                 \n",
       "7   isat_value_add_math                             \n",
       "8   community_area_number                           \n",
       "9   isat_value_add_read                             \n",
       "10  percent_of_housing_crowded                      \n",
       "11  percent_households_below_poverty                \n",
       "12  percent_aged_16__unemployed                     \n",
       "13  percent_aged_25__without_high_school_diploma    \n",
       "14  percent_aged_under_18_or_over_64                \n",
       "15  per_capita_income                               \n",
       "16  hardship_index                                  \n",
       "17  id                                              \n",
       "18  rate_of_misconducts__per_100_students_          \n",
       "19  environment_score                               \n",
       "20  safety_score                                    \n",
       "21  instruction_score                               \n",
       "22  zip_code                                        \n",
       "23  college_enrollment                              \n",
       "24  general_services_route                          \n",
       "25  isat_exceeding_math__                           \n",
       "26  x_coordinate                                    \n",
       "27  beat                                            \n",
       "28  district                                        \n",
       "29  ward                                            \n",
       "30  community_area_number                           \n",
       "⋮   ⋮                                               \n",
       "79  link                                            \n",
       "80  network_manager                                 \n",
       "81  collaborative_name                              \n",
       "82  adequate_yearly_progress_made_                  \n",
       "83  track_schedule                                  \n",
       "84  cps_performance_policy_status                   \n",
       "85  cps_performance_policy_level                    \n",
       "86  healthy_school_certified                        \n",
       "87  safety_icon                                     \n",
       "88  family_involvement_icon                         \n",
       "89  family_involvement_score                        \n",
       "90  environment_icon                                \n",
       "91  instruction_icon                                \n",
       "92  leaders_icon                                    \n",
       "93  leaders_score                                   \n",
       "94  teachers_icon                                   \n",
       "95  teachers_score                                  \n",
       "96  parent_engagement_icon                          \n",
       "97  parent_engagement_score                         \n",
       "98  parent_environment_icon                         \n",
       "99  parent_environment_score                        \n",
       "100 average_student_attendance                      \n",
       "101 average_teacher_attendance                      \n",
       "102 individualized_education_program_compliance_rate\n",
       "103 pk_2_literacy__                                 \n",
       "104 pk_2_math__                                     \n",
       "105 gr3_5_grade_level_math__                        \n",
       "106 gr3_5_grade_level_read__                        \n",
       "107 gr3_5_keep_pace_read__                          \n",
       "108 gr3_5_keep_pace_math__                          "
      ]
     },
     "metadata": {},
     "output_type": "display_data"
    }
   ],
   "source": [
    "sql_query <- \"SELECT column_name \n",
    "              FROM information_schema.columns \n",
    "              WHERE table_schema = 'public';\"\n",
    "\n",
    "# Execute the query\n",
    "column_names <- sqlQuery(conn, sql_query); column_names"
   ]
  },
  {
   "cell_type": "code",
   "execution_count": 27,
   "metadata": {},
   "outputs": [
    {
     "data": {
      "text/html": [
       "<style>\n",
       ".list-inline {list-style: none; margin:0; padding: 0}\n",
       ".list-inline>li {display: inline-block}\n",
       ".list-inline>li:not(:last-child)::after {content: \"\\00b7\"; padding: 0 .5ex}\n",
       "</style>\n",
       "<ol class=list-inline><li>'42703 1 ERROR: column \"Elementary_Middle_or_High_School\" does not exist;\\nError while executing the query'</li><li>'[RODBC] ERROR: Could not SQLExecDirect \\'SELECT \"Elementary_Middle_or_High_School\", AVG(\"SAFETY_SCORE\") AS avg_safety_score FROM PUBLIC GROUP BY \"Elementary_Middle_or_High_School\"\\''</li></ol>\n"
      ],
      "text/latex": [
       "\\begin{enumerate*}\n",
       "\\item '42703 1 ERROR: column \"Elementary\\_Middle\\_or\\_High\\_School\" does not exist;\\textbackslash{}nError while executing the query'\n",
       "\\item '{[}RODBC{]} ERROR: Could not SQLExecDirect \\textbackslash{}'SELECT \"Elementary\\_Middle\\_or\\_High\\_School\", AVG(\"SAFETY\\_SCORE\") AS avg\\_safety\\_score FROM PUBLIC GROUP BY \"Elementary\\_Middle\\_or\\_High\\_School\"\\textbackslash{}''\n",
       "\\end{enumerate*}\n"
      ],
      "text/markdown": [
       "1. '42703 1 ERROR: column \"Elementary_Middle_or_High_School\" does not exist;\\nError while executing the query'\n",
       "2. '[RODBC] ERROR: Could not SQLExecDirect \\'SELECT \"Elementary_Middle_or_High_School\", AVG(\"SAFETY_SCORE\") AS avg_safety_score FROM PUBLIC GROUP BY \"Elementary_Middle_or_High_School\"\\''\n",
       "\n",
       "\n"
      ],
      "text/plain": [
       "[1] \"42703 1 ERROR: column \\\"Elementary_Middle_or_High_School\\\" does not exist;\\nError while executing the query\"                                                                              \n",
       "[2] \"[RODBC] ERROR: Could not SQLExecDirect 'SELECT \\\"Elementary_Middle_or_High_School\\\", AVG(\\\"SAFETY_SCORE\\\") AS avg_safety_score FROM PUBLIC GROUP BY \\\"Elementary_Middle_or_High_School\\\"'\""
      ]
     },
     "metadata": {},
     "output_type": "display_data"
    }
   ],
   "source": [
    "#Enter your code below\n",
    "ques6 <- sqlQuery(conn, 'SELECT \"Elementary_Middle_or_High_School\", AVG(\"SAFETY_SCORE\") AS avg_safety_score FROM PUBLIC GROUP BY \"Elementary_Middle_or_High_School\"');ques6"
   ]
  },
  {
   "cell_type": "code",
   "execution_count": 71,
   "metadata": {},
   "outputs": [
    {
     "data": {
      "text/html": [
       "<style>\n",
       ".list-inline {list-style: none; margin:0; padding: 0}\n",
       ".list-inline>li {display: inline-block}\n",
       ".list-inline>li:not(:last-child)::after {content: \"\\00b7\"; padding: 0 .5ex}\n",
       "</style>\n",
       "<ol class=list-inline><li>'42703 1 ERROR: column \"Elementary, Middle, or High School\" does not exist;\\nError while executing the query'</li><li>'[RODBC] ERROR: Could not SQLExecDirect \\'SELECT \"Elementary, Middle, or High School\" FROM PUBLIC;\\''</li></ol>\n"
      ],
      "text/latex": [
       "\\begin{enumerate*}\n",
       "\\item '42703 1 ERROR: column \"Elementary, Middle, or High School\" does not exist;\\textbackslash{}nError while executing the query'\n",
       "\\item '{[}RODBC{]} ERROR: Could not SQLExecDirect \\textbackslash{}'SELECT \"Elementary, Middle, or High School\" FROM PUBLIC;\\textbackslash{}''\n",
       "\\end{enumerate*}\n"
      ],
      "text/markdown": [
       "1. '42703 1 ERROR: column \"Elementary, Middle, or High School\" does not exist;\\nError while executing the query'\n",
       "2. '[RODBC] ERROR: Could not SQLExecDirect \\'SELECT \"Elementary, Middle, or High School\" FROM PUBLIC;\\''\n",
       "\n",
       "\n"
      ],
      "text/plain": [
       "[1] \"42703 1 ERROR: column \\\"Elementary, Middle, or High School\\\" does not exist;\\nError while executing the query\"\n",
       "[2] \"[RODBC] ERROR: Could not SQLExecDirect 'SELECT \\\"Elementary, Middle, or High School\\\" FROM PUBLIC;'\"          "
      ]
     },
     "metadata": {},
     "output_type": "display_data"
    }
   ],
   "source": [
    "sqlQuery(conn, 'SELECT \"Elementary, Middle, or High School\" FROM PUBLIC;')"
   ]
  },
  {
   "cell_type": "markdown",
   "metadata": {
    "deletable": false,
    "editable": false,
    "tags": []
   },
   "source": [
    "### Problem 7\n",
    "\n",
    "##### List 5 community areas with highest % of households below poverty line\n"
   ]
  },
  {
   "cell_type": "code",
   "execution_count": null,
   "metadata": {},
   "outputs": [],
   "source": [
    "#Enter your code below\n"
   ]
  },
  {
   "cell_type": "markdown",
   "metadata": {
    "deletable": false,
    "editable": false,
    "tags": []
   },
   "source": [
    "### Problem 8\n",
    "\n",
    "##### Which community area is most crime prone?\n"
   ]
  },
  {
   "cell_type": "code",
   "execution_count": null,
   "metadata": {},
   "outputs": [],
   "source": [
    "#Enter your code below\n"
   ]
  },
  {
   "cell_type": "markdown",
   "metadata": {
    "deletable": false,
    "editable": false,
    "tags": []
   },
   "source": [
    "### Problem 9\n",
    "\n",
    "##### Use a sub-query to find the name of the community area with highest hardship index"
   ]
  },
  {
   "cell_type": "code",
   "execution_count": null,
   "metadata": {},
   "outputs": [],
   "source": [
    "#Enter your code below\n"
   ]
  },
  {
   "cell_type": "markdown",
   "metadata": {
    "deletable": false,
    "editable": false,
    "tags": []
   },
   "source": [
    "### Problem 10\n",
    "\n",
    "##### Use a sub-query to determine the Community Area Name with most number of crimes?\n"
   ]
  },
  {
   "cell_type": "code",
   "execution_count": null,
   "metadata": {},
   "outputs": [],
   "source": [
    "#Enter your code below\n"
   ]
  },
  {
   "cell_type": "markdown",
   "metadata": {
    "deletable": false,
    "editable": false,
    "tags": []
   },
   "source": [
    "### Close database connection"
   ]
  },
  {
   "cell_type": "code",
   "execution_count": null,
   "metadata": {
    "deletable": false,
    "editable": false,
    "tags": []
   },
   "outputs": [],
   "source": [
    "close(connection)"
   ]
  },
  {
   "cell_type": "markdown",
   "metadata": {
    "deletable": false,
    "editable": false,
    "tags": []
   },
   "source": [
    "## Summary\n",
    "\n",
    "In this lab you established a connection to a database instance of SQL Server Warehouse from a Jupyter notebook using `RODBC` API. Then query some data from database server. You also retrieved the data into a dataframe.\n"
   ]
  },
  {
   "cell_type": "markdown",
   "metadata": {
    "deletable": false,
    "editable": false,
    "tags": []
   },
   "source": [
    "## Author\n",
    "\n",
    "<a href=\"\" target=\"_blank\">Do Thai Giang</a>\n",
    "\n",
    "## Change Log\n",
    "\n",
    "| Date (YYYY-MM-DD) | Version | Changed By | Change Description                 |\n",
    "| ----------------- | ------- | ---------- | ---------------------------------- |\n",
    "| 2022-09-28        | 1.0     | Giangdt26  | Create the 1st version             |\n",
    "| 2022-09-29        | 1.1     | Giangdt26  | Add student information section    |\n",
    "| 2022-09-29        | 1.2     | Giangdt26  | Remove personal infor              |\n",
    "\n",
    "<hr>\n",
    "\n",
    "## <h3 align=\"center\"> © FPT University. All rights reserved. <h3/>\n"
   ]
  }
 ],
 "metadata": {
  "kernelspec": {
   "display_name": "R 4.3",
   "language": "R",
   "name": "ir43"
  },
  "language_info": {
   "codemirror_mode": "r",
   "file_extension": ".r",
   "mimetype": "text/x-r-source",
   "name": "R",
   "pygments_lexer": "r",
   "version": "4.3.1"
  },
  "widgets": {
   "state": {},
   "version": "1.1.2"
  }
 },
 "nbformat": 4,
 "nbformat_minor": 4
}
