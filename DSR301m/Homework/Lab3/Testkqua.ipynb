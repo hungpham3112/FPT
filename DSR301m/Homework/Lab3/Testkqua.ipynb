{
 "cells": [
  {
   "cell_type": "code",
   "execution_count": 21,
   "metadata": {},
   "outputs": [],
   "source": [
    "import numpy as np\n",
    "import pandas as pd\n",
    "import matplotlib.pyplot as plt\n",
    "from sklearn.metrics import mean_squared_error\n",
    "from sklearn.model_selection import train_test_split, RandomizedSearchCV\n",
    "from sklearn.ensemble import RandomForestClassifier, RandomForestRegressor, ExtraTreesRegressor, ExtraTreesClassifier, StackingRegressor, GradientBoostingRegressor\n",
    "from sklearn.datasets import make_regression\n",
    "from sklearn.linear_model import Lasso\n",
    "from sklearn.neural_network import MLPRegressor\n",
    "import random\n",
    "import seaborn as sns\n",
    "import warnings as wr\n",
    "wr.filterwarnings('ignore')\n"
   ]
  },
  {
   "cell_type": "code",
   "execution_count": 22,
   "metadata": {},
   "outputs": [],
   "source": [
    "train_data = pd.read_csv('./train.csv')\n",
    "test_data = pd.read_csv('./test.csv')"
   ]
  },
  {
   "cell_type": "code",
   "execution_count": 23,
   "metadata": {},
   "outputs": [],
   "source": [
    "def convert_color(color):\n",
    "    if color == 'white':\n",
    "        return 1000\n",
    "    else:\n",
    "        return 0\n",
    "\n",
    "# Áp dụng hàm chuyển đổi cho mỗi giá trị trong cột 'colors'\n",
    "train_data['type'] = train_data['type'].apply(convert_color)\n",
    "test_data['type'] = test_data['type'].apply(convert_color)"
   ]
  },
  {
   "cell_type": "code",
   "execution_count": 24,
   "metadata": {},
   "outputs": [],
   "source": [
    "train_data['feature_axit'] = train_data['fixed acidity'] * train_data['citric acid'] * train_data['volatile acidity'] * train_data['chlorides']\n",
    "# train_data['feature_dioxide'] = train_data['free sulfur dioxide'] + train_data['total sulfur dioxide'] + train_data['sulphates']\n",
    "train_data['feature_new'] = train_data['total sulfur dioxide'] * train_data['alcohol']\n",
    "train_data['total acidity'] = train_data['fixed acidity'] + train_data['volatile acidity']\n",
    "train_data['citric/total'] = train_data['citric acid'] / train_data['total acidity']\n",
    "train_data['feature_fsd'] = train_data['free sulfur dioxide'] / (1 + 10**(train_data['pH'] - 1.81))\n",
    "train_data['alcohol_times_ph'] = train_data['pH'] * train_data['alcohol']"
   ]
  },
  {
   "cell_type": "code",
   "execution_count": 25,
   "metadata": {},
   "outputs": [],
   "source": [
    "test_data['feature_axit'] = test_data['fixed acidity'] * test_data['citric acid'] * test_data['volatile acidity'] * test_data['chlorides']\n",
    "# test_data['feature_dioxide'] = test_data['free sulfur dioxide'] + test_data['total sulfur dioxide'] + test_data['sulphates']\n",
    "test_data['feature_new'] = test_data['total sulfur dioxide'] * test_data['alcohol']\n",
    "test_data['total acidity'] = test_data['fixed acidity'] + test_data['volatile acidity']\n",
    "test_data['citric/total'] = test_data['citric acid'] / test_data['total acidity']\n",
    "test_data['feature_fsd'] = test_data['free sulfur dioxide'] / (1 + 10**(test_data['pH'] - 1.81))\n",
    "test_data['alcohol_times_ph'] = test_data['pH'] * test_data['alcohol']"
   ]
  },
  {
   "cell_type": "code",
   "execution_count": 7,
   "metadata": {},
   "outputs": [],
   "source": [
    "col_name = train_data.columns.tolist()"
   ]
  },
  {
   "cell_type": "code",
   "execution_count": 8,
   "metadata": {},
   "outputs": [],
   "source": [
    "def add_quality(x,y):\n",
    "    global train_data\n",
    "    ql = train_data.quality\n",
    "    list_ql = []\n",
    "    for i in range(len(train_data)):\n",
    "        if ql[i] == x: list_ql.append(train_data.iloc[i].values)\n",
    "    matrix = np.array(list_ql)\n",
    "    m = 0 \n",
    "    while m < y:\n",
    "        for i in range(train_data.shape[1]): random.shuffle(matrix[:,i])\n",
    "        train_data = list(train_data.values) + list(matrix)\n",
    "        train_data = pd.DataFrame(train_data)\n",
    "        m += 1\n",
    "    train_data.columns = col_name"
   ]
  },
  {
   "cell_type": "code",
   "execution_count": 9,
   "metadata": {},
   "outputs": [
    {
     "data": {
      "text/plain": [
       "quality\n",
       "6    2809\n",
       "5    2365\n",
       "7    1062\n",
       "4     230\n",
       "8     212\n",
       "3      23\n",
       "9      13\n",
       "Name: count, dtype: int64"
      ]
     },
     "execution_count": 9,
     "metadata": {},
     "output_type": "execute_result"
    }
   ],
   "source": [
    "train_data.quality.value_counts()"
   ]
  },
  {
   "cell_type": "code",
   "execution_count": 10,
   "metadata": {},
   "outputs": [],
   "source": [
    "add_quality(7,18)\n",
    "add_quality(5,8)\n",
    "add_quality(6,7)\n",
    "add_quality(4,40)\n",
    "add_quality(8,40)"
   ]
  },
  {
   "cell_type": "code",
   "execution_count": null,
   "metadata": {},
   "outputs": [],
   "source": []
  },
  {
   "cell_type": "code",
   "execution_count": 11,
   "metadata": {},
   "outputs": [
    {
     "data": {
      "text/plain": [
       "quality\n",
       "6.0    22472\n",
       "5.0    21285\n",
       "7.0    20178\n",
       "4.0     9430\n",
       "8.0     8692\n",
       "3.0       23\n",
       "9.0       13\n",
       "Name: count, dtype: int64"
      ]
     },
     "execution_count": 11,
     "metadata": {},
     "output_type": "execute_result"
    }
   ],
   "source": [
    "train_data.quality.value_counts()"
   ]
  },
  {
   "cell_type": "code",
   "execution_count": 12,
   "metadata": {},
   "outputs": [],
   "source": [
    "col = ['alcohol','alcohol_times_ph','feature_fsd','feature_axit','sulphates','citric/total','feature_axit','feature_new','type','density','chlorides','volatile acidity','free sulfur dioxide','total sulfur dioxide','citric acid','fixed acidity']"
   ]
  },
  {
   "cell_type": "code",
   "execution_count": 13,
   "metadata": {
    "scrolled": true
   },
   "outputs": [
    {
     "data": {
      "text/html": [
       "<div>\n",
       "<style scoped>\n",
       "    .dataframe tbody tr th:only-of-type {\n",
       "        vertical-align: middle;\n",
       "    }\n",
       "\n",
       "    .dataframe tbody tr th {\n",
       "        vertical-align: top;\n",
       "    }\n",
       "\n",
       "    .dataframe thead th {\n",
       "        text-align: right;\n",
       "    }\n",
       "</style>\n",
       "<table border=\"1\" class=\"dataframe\">\n",
       "  <thead>\n",
       "    <tr style=\"text-align: right;\">\n",
       "      <th></th>\n",
       "      <th>fixed acidity</th>\n",
       "      <th>volatile acidity</th>\n",
       "      <th>citric acid</th>\n",
       "      <th>residual sugar</th>\n",
       "      <th>chlorides</th>\n",
       "      <th>free sulfur dioxide</th>\n",
       "      <th>total sulfur dioxide</th>\n",
       "      <th>density</th>\n",
       "      <th>pH</th>\n",
       "      <th>sulphates</th>\n",
       "      <th>alcohol</th>\n",
       "      <th>quality</th>\n",
       "      <th>type</th>\n",
       "      <th>feature_axit</th>\n",
       "      <th>feature_new</th>\n",
       "      <th>total acidity</th>\n",
       "      <th>citric/total</th>\n",
       "      <th>feature_fsd</th>\n",
       "      <th>alcohol_times_ph</th>\n",
       "    </tr>\n",
       "  </thead>\n",
       "  <tbody>\n",
       "    <tr>\n",
       "      <th>0</th>\n",
       "      <td>6.6</td>\n",
       "      <td>0.3</td>\n",
       "      <td>0.36</td>\n",
       "      <td>1.2</td>\n",
       "      <td>0.035</td>\n",
       "      <td>43.0</td>\n",
       "      <td>126.0</td>\n",
       "      <td>0.9909</td>\n",
       "      <td>3.01</td>\n",
       "      <td>0.63</td>\n",
       "      <td>11.4</td>\n",
       "      <td>6.0</td>\n",
       "      <td>1000.0</td>\n",
       "      <td>0.024948</td>\n",
       "      <td>1436.4</td>\n",
       "      <td>6.9</td>\n",
       "      <td>0.052174</td>\n",
       "      <td>2.552091</td>\n",
       "      <td>34.314</td>\n",
       "    </tr>\n",
       "    <tr>\n",
       "      <th>1</th>\n",
       "      <td>7.7</td>\n",
       "      <td>0.5</td>\n",
       "      <td>0.26</td>\n",
       "      <td>1.9</td>\n",
       "      <td>0.062</td>\n",
       "      <td>9.0</td>\n",
       "      <td>31.0</td>\n",
       "      <td>0.9966</td>\n",
       "      <td>3.39</td>\n",
       "      <td>0.64</td>\n",
       "      <td>9.6</td>\n",
       "      <td>5.0</td>\n",
       "      <td>0.0</td>\n",
       "      <td>0.062062</td>\n",
       "      <td>297.6</td>\n",
       "      <td>8.2</td>\n",
       "      <td>0.031707</td>\n",
       "      <td>0.230657</td>\n",
       "      <td>32.544</td>\n",
       "    </tr>\n",
       "    <tr>\n",
       "      <th>2</th>\n",
       "      <td>8.4</td>\n",
       "      <td>0.5</td>\n",
       "      <td>0.35</td>\n",
       "      <td>2.9</td>\n",
       "      <td>0.076</td>\n",
       "      <td>21.0</td>\n",
       "      <td>127.0</td>\n",
       "      <td>0.9976</td>\n",
       "      <td>3.23</td>\n",
       "      <td>0.63</td>\n",
       "      <td>9.2</td>\n",
       "      <td>5.0</td>\n",
       "      <td>0.0</td>\n",
       "      <td>0.111720</td>\n",
       "      <td>1168.4</td>\n",
       "      <td>8.9</td>\n",
       "      <td>0.039326</td>\n",
       "      <td>0.769155</td>\n",
       "      <td>29.716</td>\n",
       "    </tr>\n",
       "    <tr>\n",
       "      <th>3</th>\n",
       "      <td>7.5</td>\n",
       "      <td>0.4</td>\n",
       "      <td>0.33</td>\n",
       "      <td>5.0</td>\n",
       "      <td>0.045</td>\n",
       "      <td>30.0</td>\n",
       "      <td>131.0</td>\n",
       "      <td>0.9942</td>\n",
       "      <td>3.32</td>\n",
       "      <td>0.44</td>\n",
       "      <td>10.9</td>\n",
       "      <td>6.0</td>\n",
       "      <td>1000.0</td>\n",
       "      <td>0.044550</td>\n",
       "      <td>1427.9</td>\n",
       "      <td>7.9</td>\n",
       "      <td>0.041772</td>\n",
       "      <td>0.899298</td>\n",
       "      <td>36.188</td>\n",
       "    </tr>\n",
       "    <tr>\n",
       "      <th>4</th>\n",
       "      <td>6.4</td>\n",
       "      <td>0.2</td>\n",
       "      <td>0.25</td>\n",
       "      <td>20.2</td>\n",
       "      <td>0.083</td>\n",
       "      <td>35.0</td>\n",
       "      <td>157.0</td>\n",
       "      <td>0.9998</td>\n",
       "      <td>3.17</td>\n",
       "      <td>0.50</td>\n",
       "      <td>9.1</td>\n",
       "      <td>5.0</td>\n",
       "      <td>1000.0</td>\n",
       "      <td>0.026560</td>\n",
       "      <td>1428.7</td>\n",
       "      <td>6.6</td>\n",
       "      <td>0.037879</td>\n",
       "      <td>1.463904</td>\n",
       "      <td>28.847</td>\n",
       "    </tr>\n",
       "    <tr>\n",
       "      <th>...</th>\n",
       "      <td>...</td>\n",
       "      <td>...</td>\n",
       "      <td>...</td>\n",
       "      <td>...</td>\n",
       "      <td>...</td>\n",
       "      <td>...</td>\n",
       "      <td>...</td>\n",
       "      <td>...</td>\n",
       "      <td>...</td>\n",
       "      <td>...</td>\n",
       "      <td>...</td>\n",
       "      <td>...</td>\n",
       "      <td>...</td>\n",
       "      <td>...</td>\n",
       "      <td>...</td>\n",
       "      <td>...</td>\n",
       "      <td>...</td>\n",
       "      <td>...</td>\n",
       "      <td>...</td>\n",
       "    </tr>\n",
       "    <tr>\n",
       "      <th>82088</th>\n",
       "      <td>6.2</td>\n",
       "      <td>0.3</td>\n",
       "      <td>0.32</td>\n",
       "      <td>1.7</td>\n",
       "      <td>0.033</td>\n",
       "      <td>30.0</td>\n",
       "      <td>128.0</td>\n",
       "      <td>0.9926</td>\n",
       "      <td>3.25</td>\n",
       "      <td>0.73</td>\n",
       "      <td>13.4</td>\n",
       "      <td>8.0</td>\n",
       "      <td>1000.0</td>\n",
       "      <td>0.011206</td>\n",
       "      <td>655.5</td>\n",
       "      <td>7.0</td>\n",
       "      <td>0.036000</td>\n",
       "      <td>0.407486</td>\n",
       "      <td>40.176</td>\n",
       "    </tr>\n",
       "    <tr>\n",
       "      <th>82089</th>\n",
       "      <td>6.5</td>\n",
       "      <td>0.4</td>\n",
       "      <td>0.30</td>\n",
       "      <td>4.1</td>\n",
       "      <td>0.087</td>\n",
       "      <td>3.0</td>\n",
       "      <td>88.0</td>\n",
       "      <td>0.9904</td>\n",
       "      <td>3.08</td>\n",
       "      <td>0.46</td>\n",
       "      <td>12.7</td>\n",
       "      <td>8.0</td>\n",
       "      <td>1000.0</td>\n",
       "      <td>0.020155</td>\n",
       "      <td>1522.8</td>\n",
       "      <td>8.1</td>\n",
       "      <td>0.082979</td>\n",
       "      <td>0.850113</td>\n",
       "      <td>41.363</td>\n",
       "    </tr>\n",
       "    <tr>\n",
       "      <th>82090</th>\n",
       "      <td>6.2</td>\n",
       "      <td>0.3</td>\n",
       "      <td>0.32</td>\n",
       "      <td>1.4</td>\n",
       "      <td>0.041</td>\n",
       "      <td>39.0</td>\n",
       "      <td>213.0</td>\n",
       "      <td>0.9936</td>\n",
       "      <td>3.24</td>\n",
       "      <td>0.46</td>\n",
       "      <td>13.0</td>\n",
       "      <td>8.0</td>\n",
       "      <td>1000.0</td>\n",
       "      <td>0.025536</td>\n",
       "      <td>1650.0</td>\n",
       "      <td>8.3</td>\n",
       "      <td>0.047368</td>\n",
       "      <td>0.501516</td>\n",
       "      <td>25.872</td>\n",
       "    </tr>\n",
       "    <tr>\n",
       "      <th>82091</th>\n",
       "      <td>12.6</td>\n",
       "      <td>0.4</td>\n",
       "      <td>0.28</td>\n",
       "      <td>9.1</td>\n",
       "      <td>0.052</td>\n",
       "      <td>96.0</td>\n",
       "      <td>110.0</td>\n",
       "      <td>0.9981</td>\n",
       "      <td>3.23</td>\n",
       "      <td>0.48</td>\n",
       "      <td>11.2</td>\n",
       "      <td>8.0</td>\n",
       "      <td>1000.0</td>\n",
       "      <td>0.022469</td>\n",
       "      <td>2022.7</td>\n",
       "      <td>7.2</td>\n",
       "      <td>0.036620</td>\n",
       "      <td>1.692633</td>\n",
       "      <td>40.440</td>\n",
       "    </tr>\n",
       "    <tr>\n",
       "      <th>82092</th>\n",
       "      <td>5.6</td>\n",
       "      <td>0.5</td>\n",
       "      <td>0.47</td>\n",
       "      <td>1.6</td>\n",
       "      <td>0.045</td>\n",
       "      <td>43.0</td>\n",
       "      <td>150.0</td>\n",
       "      <td>0.9933</td>\n",
       "      <td>3.35</td>\n",
       "      <td>0.59</td>\n",
       "      <td>12.2</td>\n",
       "      <td>8.0</td>\n",
       "      <td>1000.0</td>\n",
       "      <td>0.006395</td>\n",
       "      <td>960.4</td>\n",
       "      <td>7.5</td>\n",
       "      <td>0.041667</td>\n",
       "      <td>1.761453</td>\n",
       "      <td>37.440</td>\n",
       "    </tr>\n",
       "  </tbody>\n",
       "</table>\n",
       "<p>82093 rows × 19 columns</p>\n",
       "</div>"
      ],
      "text/plain": [
       "       fixed acidity  volatile acidity  citric acid  residual sugar   \n",
       "0                6.6               0.3         0.36             1.2  \\\n",
       "1                7.7               0.5         0.26             1.9   \n",
       "2                8.4               0.5         0.35             2.9   \n",
       "3                7.5               0.4         0.33             5.0   \n",
       "4                6.4               0.2         0.25            20.2   \n",
       "...              ...               ...          ...             ...   \n",
       "82088            6.2               0.3         0.32             1.7   \n",
       "82089            6.5               0.4         0.30             4.1   \n",
       "82090            6.2               0.3         0.32             1.4   \n",
       "82091           12.6               0.4         0.28             9.1   \n",
       "82092            5.6               0.5         0.47             1.6   \n",
       "\n",
       "       chlorides  free sulfur dioxide  total sulfur dioxide  density    pH   \n",
       "0          0.035                 43.0                 126.0   0.9909  3.01  \\\n",
       "1          0.062                  9.0                  31.0   0.9966  3.39   \n",
       "2          0.076                 21.0                 127.0   0.9976  3.23   \n",
       "3          0.045                 30.0                 131.0   0.9942  3.32   \n",
       "4          0.083                 35.0                 157.0   0.9998  3.17   \n",
       "...          ...                  ...                   ...      ...   ...   \n",
       "82088      0.033                 30.0                 128.0   0.9926  3.25   \n",
       "82089      0.087                  3.0                  88.0   0.9904  3.08   \n",
       "82090      0.041                 39.0                 213.0   0.9936  3.24   \n",
       "82091      0.052                 96.0                 110.0   0.9981  3.23   \n",
       "82092      0.045                 43.0                 150.0   0.9933  3.35   \n",
       "\n",
       "       sulphates  alcohol  quality    type  feature_axit  feature_new   \n",
       "0           0.63     11.4      6.0  1000.0      0.024948       1436.4  \\\n",
       "1           0.64      9.6      5.0     0.0      0.062062        297.6   \n",
       "2           0.63      9.2      5.0     0.0      0.111720       1168.4   \n",
       "3           0.44     10.9      6.0  1000.0      0.044550       1427.9   \n",
       "4           0.50      9.1      5.0  1000.0      0.026560       1428.7   \n",
       "...          ...      ...      ...     ...           ...          ...   \n",
       "82088       0.73     13.4      8.0  1000.0      0.011206        655.5   \n",
       "82089       0.46     12.7      8.0  1000.0      0.020155       1522.8   \n",
       "82090       0.46     13.0      8.0  1000.0      0.025536       1650.0   \n",
       "82091       0.48     11.2      8.0  1000.0      0.022469       2022.7   \n",
       "82092       0.59     12.2      8.0  1000.0      0.006395        960.4   \n",
       "\n",
       "       total acidity  citric/total  feature_fsd  alcohol_times_ph  \n",
       "0                6.9      0.052174     2.552091            34.314  \n",
       "1                8.2      0.031707     0.230657            32.544  \n",
       "2                8.9      0.039326     0.769155            29.716  \n",
       "3                7.9      0.041772     0.899298            36.188  \n",
       "4                6.6      0.037879     1.463904            28.847  \n",
       "...              ...           ...          ...               ...  \n",
       "82088            7.0      0.036000     0.407486            40.176  \n",
       "82089            8.1      0.082979     0.850113            41.363  \n",
       "82090            8.3      0.047368     0.501516            25.872  \n",
       "82091            7.2      0.036620     1.692633            40.440  \n",
       "82092            7.5      0.041667     1.761453            37.440  \n",
       "\n",
       "[82093 rows x 19 columns]"
      ]
     },
     "execution_count": 13,
     "metadata": {},
     "output_type": "execute_result"
    }
   ],
   "source": [
    "train_data"
   ]
  },
  {
   "cell_type": "code",
   "execution_count": 14,
   "metadata": {},
   "outputs": [
    {
     "name": "stdout",
     "output_type": "stream",
     "text": [
      "(82093, 18) (82093,)\n"
     ]
    }
   ],
   "source": [
    "X = train_data .drop(columns = ['quality'])\n",
    "y = train_data['quality']\n",
    "print(X.shape, y.shape)"
   ]
  },
  {
   "cell_type": "code",
   "execution_count": 15,
   "metadata": {},
   "outputs": [
    {
     "name": "stdout",
     "output_type": "stream",
     "text": [
      "(820, 18)\n"
     ]
    }
   ],
   "source": [
    "X_test = test_data.drop(columns = ['id'])\n",
    "print(X_test.shape)"
   ]
  },
  {
   "cell_type": "code",
   "execution_count": null,
   "metadata": {},
   "outputs": [
    {
     "name": "stdout",
     "output_type": "stream",
     "text": [
      "RMSE:  0.7507829652939721\n",
      "RMSE:  0.7553977106263376\n",
      "RMSE:  0.7542463731854564\n",
      "RMSE:  0.7434089656736071\n",
      "RMSE:  0.7496114440649707\n",
      "RMSE:  0.7573788843044437\n",
      "RMSE:  0.7490717222816192\n",
      "RMSE:  0.7477544228082293\n"
     ]
    }
   ],
   "source": [
    "while True:\n",
    "    ex_reg = ExtraTreesRegressor()\n",
    "    ex_reg.fit(X, y)\n",
    "    y_pred = ex_reg.predict(X_test)\n",
    "    demo_data = pd.read_csv(\"./predicted_scores.csv\")\n",
    "    y_test = demo_data['quality']\n",
    "    rmse = np.sqrt(mean_squared_error(y_pred, y_test))\n",
    "    print('RMSE: ', rmse)\n",
    "    if rmse < 0.74: break\n",
    "    else: continue"
   ]
  },
  {
   "cell_type": "code",
   "execution_count": null,
   "metadata": {},
   "outputs": [],
   "source": [
    "stt = test_data.id.values\n",
    "df1 = pd.DataFrame(stt.T, columns = ['id'])\n",
    "df2 = pd.DataFrame(y_pred.T, columns = ['quality'])\n",
    "df = pd.concat([df1,df2], axis = 1)\n",
    "df.to_csv(\"/Users/daoxuanbac/Desktop/Python/SU23_AIL/Wine_Quality/Result/EXT83.csv\", index = False)"
   ]
  },
  {
   "cell_type": "code",
   "execution_count": 26,
   "metadata": {},
   "outputs": [
    {
     "data": {
      "text/plain": [
       "(array([3, 4, 5, 6, 7, 8], dtype=int64),\n",
       " array([ 11,  49, 198, 356, 168,  38], dtype=int64))"
      ]
     },
     "execution_count": 26,
     "metadata": {},
     "output_type": "execute_result"
    }
   ],
   "source": [
    "df = pd.read_csv(\"predicted_scores.csv\")\n",
    "np.unique(df[\"quality\"], return_counts=True)"
   ]
  },
  {
   "cell_type": "code",
   "execution_count": null,
   "metadata": {},
   "outputs": [],
   "source": []
  }
 ],
 "metadata": {
  "kernelspec": {
   "display_name": "Python 3 (ipykernel)",
   "language": "python",
   "name": "python3"
  },
  "language_info": {
   "codemirror_mode": {
    "name": "ipython",
    "version": 3
   },
   "file_extension": ".py",
   "mimetype": "text/x-python",
   "name": "python",
   "nbconvert_exporter": "python",
   "pygments_lexer": "ipython3",
   "version": "3.11.5"
  }
 },
 "nbformat": 4,
 "nbformat_minor": 4
}
