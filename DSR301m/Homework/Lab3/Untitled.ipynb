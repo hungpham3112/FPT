{
 "cells": [
  {
   "cell_type": "code",
   "execution_count": 1,
   "id": "89957f33-b852-4585-8956-4a4a317af5ab",
   "metadata": {},
   "outputs": [],
   "source": [
    "import numpy as np\n",
    "import pandas as pd\n",
    "import matplotlib.pyplot as plt\n",
    "from sklearn.model_selection import train_test_split\n",
    "from sklearn.preprocessing import StandardScaler"
   ]
  },
  {
   "cell_type": "code",
   "execution_count": 2,
   "id": "65886be8-3d44-4374-882c-77261400992a",
   "metadata": {},
   "outputs": [
    {
     "name": "stdout",
     "output_type": "stream",
     "text": [
      "<class 'pandas.core.frame.DataFrame'>\n",
      "RangeIndex: 6714 entries, 0 to 6713\n",
      "Data columns (total 13 columns):\n",
      " #   Column                Non-Null Count  Dtype  \n",
      "---  ------                --------------  -----  \n",
      " 0   fixed acidity         6714 non-null   float64\n",
      " 1   volatile acidity      6714 non-null   float64\n",
      " 2   citric acid           6714 non-null   float64\n",
      " 3   residual sugar        6714 non-null   float64\n",
      " 4   chlorides             6714 non-null   float64\n",
      " 5   free sulfur dioxide   6714 non-null   int64  \n",
      " 6   total sulfur dioxide  6714 non-null   int64  \n",
      " 7   density               6714 non-null   float64\n",
      " 8   pH                    6714 non-null   float64\n",
      " 9   sulphates             6714 non-null   float64\n",
      " 10  alcohol               6714 non-null   float64\n",
      " 11  quality               6714 non-null   int64  \n",
      " 12  type                  6714 non-null   object \n",
      "dtypes: float64(9), int64(3), object(1)\n",
      "memory usage: 682.0+ KB\n"
     ]
    },
    {
     "data": {
      "text/plain": [
       "(       fixed acidity  volatile acidity  citric acid  residual sugar   \n",
       " count    6714.000000       6714.000000  6714.000000     6714.000000  \\\n",
       " mean        7.251638          0.348436     0.317466        5.411871   \n",
       " std         1.330423          0.168505     0.148842        4.739180   \n",
       " min         3.800000          0.100000     0.000000        0.600000   \n",
       " 25%         6.400000          0.200000     0.240000        1.800000   \n",
       " 50%         7.000000          0.300000     0.310000        3.000000   \n",
       " 75%         7.700000          0.400000     0.390000        8.000000   \n",
       " max        15.900000          1.300000     1.660000       65.800000   \n",
       " \n",
       "          chlorides  free sulfur dioxide  total sulfur dioxide      density   \n",
       " count  6714.000000          6714.000000           6714.000000  6714.000000  \\\n",
       " mean      0.057506            30.132559            114.576259     0.994789   \n",
       " std       0.038175            17.619884             56.417138     0.003020   \n",
       " min       0.009000             1.000000              6.000000     0.987100   \n",
       " 25%       0.038000            16.000000             75.000000     0.992400   \n",
       " 50%       0.048000            28.000000            117.000000     0.995100   \n",
       " 75%       0.068000            41.000000            155.000000     0.997100   \n",
       " max       0.611000           289.000000            440.000000     1.039000   \n",
       " \n",
       "                 pH    sulphates      alcohol      quality  \n",
       " count  6714.000000  6714.000000  6714.000000  6714.000000  \n",
       " mean      3.219103     0.536120    10.458743     5.796098  \n",
       " std       0.160737     0.157877     1.189933     0.883490  \n",
       " min       2.720000     0.220000     8.000000     3.000000  \n",
       " 25%       3.110000     0.430000     9.500000     5.000000  \n",
       " 50%       3.210000     0.510000    10.200000     6.000000  \n",
       " 75%       3.320000     0.600000    11.300000     6.000000  \n",
       " max       4.010000     2.000000    14.900000     9.000000  ,\n",
       " None)"
      ]
     },
     "execution_count": 2,
     "metadata": {},
     "output_type": "execute_result"
    }
   ],
   "source": [
    "train_df, test_df = pd.read_csv(\"./train.csv\"), pd.read_csv(\"./test.csv\")\n",
    "train_df.describe(), train_df.info()"
   ]
  },
  {
   "cell_type": "code",
   "execution_count": 3,
   "id": "0ee2cecb-a1c6-469c-b32f-bee87047a3ec",
   "metadata": {},
   "outputs": [
    {
     "data": {
      "text/html": [
       "<div>\n",
       "<style scoped>\n",
       "    .dataframe tbody tr th:only-of-type {\n",
       "        vertical-align: middle;\n",
       "    }\n",
       "\n",
       "    .dataframe tbody tr th {\n",
       "        vertical-align: top;\n",
       "    }\n",
       "\n",
       "    .dataframe thead th {\n",
       "        text-align: right;\n",
       "    }\n",
       "</style>\n",
       "<table border=\"1\" class=\"dataframe\">\n",
       "  <thead>\n",
       "    <tr style=\"text-align: right;\">\n",
       "      <th>type</th>\n",
       "      <th>red</th>\n",
       "      <th>white</th>\n",
       "    </tr>\n",
       "    <tr>\n",
       "      <th>quality</th>\n",
       "      <th></th>\n",
       "      <th></th>\n",
       "    </tr>\n",
       "  </thead>\n",
       "  <tbody>\n",
       "    <tr>\n",
       "      <th>3</th>\n",
       "      <td>8</td>\n",
       "      <td>15</td>\n",
       "    </tr>\n",
       "    <tr>\n",
       "      <th>4</th>\n",
       "      <td>78</td>\n",
       "      <td>152</td>\n",
       "    </tr>\n",
       "    <tr>\n",
       "      <th>5</th>\n",
       "      <td>812</td>\n",
       "      <td>1553</td>\n",
       "    </tr>\n",
       "    <tr>\n",
       "      <th>6</th>\n",
       "      <td>637</td>\n",
       "      <td>2172</td>\n",
       "    </tr>\n",
       "    <tr>\n",
       "      <th>7</th>\n",
       "      <td>227</td>\n",
       "      <td>835</td>\n",
       "    </tr>\n",
       "    <tr>\n",
       "      <th>8</th>\n",
       "      <td>19</td>\n",
       "      <td>193</td>\n",
       "    </tr>\n",
       "    <tr>\n",
       "      <th>9</th>\n",
       "      <td>0</td>\n",
       "      <td>13</td>\n",
       "    </tr>\n",
       "  </tbody>\n",
       "</table>\n",
       "</div>"
      ],
      "text/plain": [
       "type     red  white\n",
       "quality            \n",
       "3          8     15\n",
       "4         78    152\n",
       "5        812   1553\n",
       "6        637   2172\n",
       "7        227    835\n",
       "8         19    193\n",
       "9          0     13"
      ]
     },
     "execution_count": 3,
     "metadata": {},
     "output_type": "execute_result"
    }
   ],
   "source": [
    "contingency_table = pd.crosstab(train_df['quality'], train_df['type']); contingency_table"
   ]
  },
  {
   "cell_type": "code",
   "execution_count": 4,
   "id": "ffe641c8-cc59-431c-abe3-fab67020c1dd",
   "metadata": {},
   "outputs": [
    {
     "name": "stdout",
     "output_type": "stream",
     "text": [
      "Chi-Square Statistic: 155.27983591806407\n",
      "P-value: 5.912053877074625e-31\n",
      "Degrees of Freedom: 6\n",
      "Expected Frequencies:\n",
      "[[   6.10113196   16.89886804]\n",
      " [  61.01131963  168.98868037]\n",
      " [ 627.35552577 1737.64447423]\n",
      " [ 745.13389931 2063.86610069]\n",
      " [ 281.71313673  780.28686327]\n",
      " [  56.2365207   155.7634793 ]\n",
      " [   3.44846589    9.55153411]]\n"
     ]
    }
   ],
   "source": [
    "from scipy.stats import chi2_contingency\n",
    "chi2_stat, p_val, dof, expected = chi2_contingency(contingency_table)\n",
    "\n",
    "print(f\"Chi-Square Statistic: {chi2_stat}\")\n",
    "print(f\"P-value: {p_val}\")\n",
    "print(f\"Degrees of Freedom: {dof}\")\n",
    "print(\"Expected Frequencies:\")\n",
    "print(expected)"
   ]
  },
  {
   "cell_type": "code",
   "execution_count": 5,
   "id": "aa207563-044f-4c45-8355-3936d072a95b",
   "metadata": {},
   "outputs": [],
   "source": [
    "def convert_df(df):\n",
    "    df_encoded = pd.get_dummies(df, columns=['type'], dtype=float); \n",
    "    df_encoded = df_encoded.astype(\"float32\")\n",
    "    columns_to_exclude = [\"quality\", 'type_red', \"type_white\"] # Replace with the actual column name\n",
    "    columns_to_standardize = df_encoded.columns[~df_encoded.columns.isin(columns_to_exclude)]\n",
    "    scaler = StandardScaler()\n",
    "    df_encoded[columns_to_standardize] = scaler.fit_transform(df_encoded[columns_to_standardize])\n",
    "    return df_encoded"
   ]
  },
  {
   "cell_type": "code",
   "execution_count": 6,
   "id": "074dc289-6969-4b31-bbe4-21a6fa218031",
   "metadata": {},
   "outputs": [
    {
     "data": {
      "text/html": [
       "<div>\n",
       "<style scoped>\n",
       "    .dataframe tbody tr th:only-of-type {\n",
       "        vertical-align: middle;\n",
       "    }\n",
       "\n",
       "    .dataframe tbody tr th {\n",
       "        vertical-align: top;\n",
       "    }\n",
       "\n",
       "    .dataframe thead th {\n",
       "        text-align: right;\n",
       "    }\n",
       "</style>\n",
       "<table border=\"1\" class=\"dataframe\">\n",
       "  <thead>\n",
       "    <tr style=\"text-align: right;\">\n",
       "      <th></th>\n",
       "      <th>fixed acidity</th>\n",
       "      <th>volatile acidity</th>\n",
       "      <th>citric acid</th>\n",
       "      <th>residual sugar</th>\n",
       "      <th>chlorides</th>\n",
       "      <th>free sulfur dioxide</th>\n",
       "      <th>total sulfur dioxide</th>\n",
       "      <th>density</th>\n",
       "      <th>pH</th>\n",
       "      <th>sulphates</th>\n",
       "      <th>alcohol</th>\n",
       "      <th>type</th>\n",
       "    </tr>\n",
       "  </thead>\n",
       "  <tbody>\n",
       "    <tr>\n",
       "      <th>0</th>\n",
       "      <td>7.2</td>\n",
       "      <td>0.25</td>\n",
       "      <td>0.37</td>\n",
       "      <td>2.5</td>\n",
       "      <td>0.063</td>\n",
       "      <td>11.0</td>\n",
       "      <td>41.0</td>\n",
       "      <td>0.99439</td>\n",
       "      <td>3.52</td>\n",
       "      <td>0.80</td>\n",
       "      <td>12.4</td>\n",
       "      <td>red</td>\n",
       "    </tr>\n",
       "    <tr>\n",
       "      <th>1</th>\n",
       "      <td>8.2</td>\n",
       "      <td>0.27</td>\n",
       "      <td>0.39</td>\n",
       "      <td>7.8</td>\n",
       "      <td>0.039</td>\n",
       "      <td>49.0</td>\n",
       "      <td>208.0</td>\n",
       "      <td>0.99760</td>\n",
       "      <td>3.31</td>\n",
       "      <td>0.51</td>\n",
       "      <td>9.5</td>\n",
       "      <td>white</td>\n",
       "    </tr>\n",
       "    <tr>\n",
       "      <th>2</th>\n",
       "      <td>8.9</td>\n",
       "      <td>0.32</td>\n",
       "      <td>0.49</td>\n",
       "      <td>1.6</td>\n",
       "      <td>0.050</td>\n",
       "      <td>17.0</td>\n",
       "      <td>131.0</td>\n",
       "      <td>0.99560</td>\n",
       "      <td>3.13</td>\n",
       "      <td>0.34</td>\n",
       "      <td>9.4</td>\n",
       "      <td>white</td>\n",
       "    </tr>\n",
       "    <tr>\n",
       "      <th>3</th>\n",
       "      <td>7.4</td>\n",
       "      <td>0.16</td>\n",
       "      <td>0.30</td>\n",
       "      <td>13.7</td>\n",
       "      <td>0.056</td>\n",
       "      <td>33.0</td>\n",
       "      <td>168.0</td>\n",
       "      <td>0.99825</td>\n",
       "      <td>2.90</td>\n",
       "      <td>0.44</td>\n",
       "      <td>8.7</td>\n",
       "      <td>white</td>\n",
       "    </tr>\n",
       "    <tr>\n",
       "      <th>4</th>\n",
       "      <td>6.4</td>\n",
       "      <td>0.28</td>\n",
       "      <td>0.56</td>\n",
       "      <td>1.7</td>\n",
       "      <td>0.156</td>\n",
       "      <td>49.0</td>\n",
       "      <td>106.0</td>\n",
       "      <td>0.99354</td>\n",
       "      <td>3.10</td>\n",
       "      <td>0.37</td>\n",
       "      <td>9.2</td>\n",
       "      <td>white</td>\n",
       "    </tr>\n",
       "    <tr>\n",
       "      <th>...</th>\n",
       "      <td>...</td>\n",
       "      <td>...</td>\n",
       "      <td>...</td>\n",
       "      <td>...</td>\n",
       "      <td>...</td>\n",
       "      <td>...</td>\n",
       "      <td>...</td>\n",
       "      <td>...</td>\n",
       "      <td>...</td>\n",
       "      <td>...</td>\n",
       "      <td>...</td>\n",
       "      <td>...</td>\n",
       "    </tr>\n",
       "    <tr>\n",
       "      <th>815</th>\n",
       "      <td>6.1</td>\n",
       "      <td>0.30</td>\n",
       "      <td>0.56</td>\n",
       "      <td>2.7</td>\n",
       "      <td>0.046</td>\n",
       "      <td>46.0</td>\n",
       "      <td>184.0</td>\n",
       "      <td>0.99240</td>\n",
       "      <td>3.31</td>\n",
       "      <td>0.57</td>\n",
       "      <td>10.9</td>\n",
       "      <td>white</td>\n",
       "    </tr>\n",
       "    <tr>\n",
       "      <th>816</th>\n",
       "      <td>6.7</td>\n",
       "      <td>0.33</td>\n",
       "      <td>0.34</td>\n",
       "      <td>6.6</td>\n",
       "      <td>0.067</td>\n",
       "      <td>35.0</td>\n",
       "      <td>156.0</td>\n",
       "      <td>0.99542</td>\n",
       "      <td>3.11</td>\n",
       "      <td>0.48</td>\n",
       "      <td>9.3</td>\n",
       "      <td>white</td>\n",
       "    </tr>\n",
       "    <tr>\n",
       "      <th>817</th>\n",
       "      <td>8.3</td>\n",
       "      <td>0.26</td>\n",
       "      <td>0.37</td>\n",
       "      <td>1.4</td>\n",
       "      <td>0.076</td>\n",
       "      <td>8.0</td>\n",
       "      <td>23.0</td>\n",
       "      <td>0.99740</td>\n",
       "      <td>3.26</td>\n",
       "      <td>0.70</td>\n",
       "      <td>9.6</td>\n",
       "      <td>red</td>\n",
       "    </tr>\n",
       "    <tr>\n",
       "      <th>818</th>\n",
       "      <td>6.3</td>\n",
       "      <td>0.29</td>\n",
       "      <td>0.29</td>\n",
       "      <td>3.3</td>\n",
       "      <td>0.037</td>\n",
       "      <td>32.0</td>\n",
       "      <td>140.0</td>\n",
       "      <td>0.98950</td>\n",
       "      <td>3.17</td>\n",
       "      <td>0.36</td>\n",
       "      <td>12.8</td>\n",
       "      <td>white</td>\n",
       "    </tr>\n",
       "    <tr>\n",
       "      <th>819</th>\n",
       "      <td>7.2</td>\n",
       "      <td>0.20</td>\n",
       "      <td>0.36</td>\n",
       "      <td>2.5</td>\n",
       "      <td>0.028</td>\n",
       "      <td>22.0</td>\n",
       "      <td>157.0</td>\n",
       "      <td>0.99380</td>\n",
       "      <td>3.48</td>\n",
       "      <td>0.49</td>\n",
       "      <td>10.6</td>\n",
       "      <td>white</td>\n",
       "    </tr>\n",
       "  </tbody>\n",
       "</table>\n",
       "<p>820 rows × 12 columns</p>\n",
       "</div>"
      ],
      "text/plain": [
       "     fixed acidity  volatile acidity  citric acid  residual sugar  chlorides   \n",
       "0              7.2              0.25         0.37             2.5      0.063  \\\n",
       "1              8.2              0.27         0.39             7.8      0.039   \n",
       "2              8.9              0.32         0.49             1.6      0.050   \n",
       "3              7.4              0.16         0.30            13.7      0.056   \n",
       "4              6.4              0.28         0.56             1.7      0.156   \n",
       "..             ...               ...          ...             ...        ...   \n",
       "815            6.1              0.30         0.56             2.7      0.046   \n",
       "816            6.7              0.33         0.34             6.6      0.067   \n",
       "817            8.3              0.26         0.37             1.4      0.076   \n",
       "818            6.3              0.29         0.29             3.3      0.037   \n",
       "819            7.2              0.20         0.36             2.5      0.028   \n",
       "\n",
       "     free sulfur dioxide  total sulfur dioxide  density    pH  sulphates   \n",
       "0                   11.0                  41.0  0.99439  3.52       0.80  \\\n",
       "1                   49.0                 208.0  0.99760  3.31       0.51   \n",
       "2                   17.0                 131.0  0.99560  3.13       0.34   \n",
       "3                   33.0                 168.0  0.99825  2.90       0.44   \n",
       "4                   49.0                 106.0  0.99354  3.10       0.37   \n",
       "..                   ...                   ...      ...   ...        ...   \n",
       "815                 46.0                 184.0  0.99240  3.31       0.57   \n",
       "816                 35.0                 156.0  0.99542  3.11       0.48   \n",
       "817                  8.0                  23.0  0.99740  3.26       0.70   \n",
       "818                 32.0                 140.0  0.98950  3.17       0.36   \n",
       "819                 22.0                 157.0  0.99380  3.48       0.49   \n",
       "\n",
       "     alcohol   type  \n",
       "0       12.4    red  \n",
       "1        9.5  white  \n",
       "2        9.4  white  \n",
       "3        8.7  white  \n",
       "4        9.2  white  \n",
       "..       ...    ...  \n",
       "815     10.9  white  \n",
       "816      9.3  white  \n",
       "817      9.6    red  \n",
       "818     12.8  white  \n",
       "819     10.6  white  \n",
       "\n",
       "[820 rows x 12 columns]"
      ]
     },
     "execution_count": 6,
     "metadata": {},
     "output_type": "execute_result"
    }
   ],
   "source": [
    "testset = test_df.loc[:, test_df.columns != \"id\"]; testset"
   ]
  },
  {
   "cell_type": "markdown",
   "id": "ca28ddcf-6eb1-4f74-9fdc-2b1f66b69331",
   "metadata": {},
   "source": [
    "# Train test split"
   ]
  },
  {
   "cell_type": "code",
   "execution_count": 7,
   "id": "12ad248a-1cbe-455f-ab5f-0054ec531a03",
   "metadata": {},
   "outputs": [],
   "source": [
    "train, test = convert_df(train_df), convert_df(testset)\n",
    "X, y = train[train.columns[~train.columns.isin([\"quality\"])]], np.array(train[\"quality\"]).reshape(-1, 1)"
   ]
  },
  {
   "cell_type": "code",
   "execution_count": 8,
   "id": "f7bc0bb9-d8ae-41a2-8c8b-163a01d343d6",
   "metadata": {},
   "outputs": [
    {
     "data": {
      "text/plain": [
       "((5371, 13), (1343, 13), (5371, 1), (1343, 1))"
      ]
     },
     "execution_count": 8,
     "metadata": {},
     "output_type": "execute_result"
    }
   ],
   "source": [
    "X_train, X_test, y_train, y_test = train_test_split(X, y, test_size=0.2, random_state=2, shuffle=True)\n",
    "X_train.shape, X_test.shape, y_train.shape, y_test.shape"
   ]
  },
  {
   "cell_type": "code",
   "execution_count": 59,
   "id": "75facfb4-6059-40ba-8077-0faa8279b8b9",
   "metadata": {},
   "outputs": [
    {
     "data": {
      "image/png": "[encoded data removed]",
      "text/plain": [
       "<Figure size 640x480 with 1 Axes>"
      ]
     },
     "metadata": {},
     "output_type": "display_data"
    }
   ],
   "source": [
    "import seaborn as sns\n",
    "label, freq = np.unique(y_train, return_counts=True);\n",
    "sns.barplot(x=label, y=freq, palette='viridis')\n",
    "plt.xlabel('Class')\n",
    "plt.ylabel('Frequency')\n",
    "plt.title('Class Frequencies')\n",
    "plt.show()"
   ]
  },
  {
   "cell_type": "markdown",
   "id": "edbf3a2d-58ec-4487-9158-76c8fe778621",
   "metadata": {},
   "source": [
    "# Oversampling with Smote"
   ]
  },
  {
   "cell_type": "code",
   "execution_count": 60,
   "id": "9e2f49f3-7671-4419-a1f5-ee365775d9aa",
   "metadata": {},
   "outputs": [],
   "source": [
    "from imblearn.over_sampling import SMOTE"
   ]
  },
  {
   "cell_type": "code",
   "execution_count": null,
   "id": "517ce742-5d35-4ed4-a3e2-3cf32afa70d5",
   "metadata": {},
   "outputs": [],
   "source": [
    "smote = SMOTE(random_state=2)\n",
    "# Apply SMOTE to the training data\n",
    "X_resampled, y_resampled = smote.fit_resample(X_train, y_train)\n",
    "resampled_label, resampled_freq = np.unique(y_resampled, return_counts=True)\n",
    "resampled_freq"
   ]
  },
  {
   "cell_type": "code",
   "execution_count": 68,
   "id": "33b948e9-81b5-44a7-a027-64edf21645e5",
   "metadata": {},
   "outputs": [
    {
     "data": {
      "image/png": "[encoded data removed]",
      "text/plain": [
       "<Figure size 640x480 with 1 Axes>"
      ]
     },
     "metadata": {},
     "output_type": "display_data"
    }
   ],
   "source": [
    "sns.barplot(x=resampled_label, y=resampled_freq, palette='viridis')\n",
    "plt.xlabel('Class')\n",
    "plt.ylabel('Frequency')\n",
    "plt.title('Class Frequencies')\n",
    "plt.show()"
   ]
  },
  {
   "cell_type": "code",
   "execution_count": null,
   "id": "78ccb8d0-2456-4ea3-8647-e83b099d1333",
   "metadata": {},
   "outputs": [],
   "source": []
  },
  {
   "cell_type": "code",
   "execution_count": null,
   "id": "4e4bcbbb-5e6b-4ec7-9c4e-c09a1d89b42d",
   "metadata": {},
   "outputs": [],
   "source": []
  },
  {
   "cell_type": "code",
   "execution_count": 104,
   "id": "3cdf29f6-cf80-49d8-a18f-8a2fffafad01",
   "metadata": {},
   "outputs": [
    {
     "name": "stdout",
     "output_type": "stream",
     "text": [
      "Num GPUs Available:  0\n"
     ]
    }
   ],
   "source": [
    "import tensorflow as tf\n",
    "print(\"Num GPUs Available: \", len(tf.config.list_physical_devices('GPU')))"
   ]
  },
  {
   "cell_type": "markdown",
   "id": "faa35eb4-5390-4992-ad9e-c63c73a2d732",
   "metadata": {},
   "source": [
    "# Building Model"
   ]
  },
  {
   "cell_type": "markdown",
   "id": "fb237d16-5fa8-4e6f-87e4-cc3adf056715",
   "metadata": {},
   "source": [
    "## Neural Network"
   ]
  },
  {
   "cell_type": "code",
   "execution_count": 98,
   "id": "ae7eb345-871b-43fc-b08d-edcac8eacb4c",
   "metadata": {},
   "outputs": [],
   "source": [
    "import tensorflow as tf\n",
    "import tensorflow.keras.layers as tfl\n",
    "from tensorflow.keras.models import Sequential\n",
    "from tensorflow.keras.layers import Dense, InputLayer, BatchNormalization\n",
    "from tensorflow.keras.optimizers import Adam, RMSprop\n",
    "from tensorflow.keras.losses import MeanSquaredError\n",
    "from tensorflow.keras.metrics import RootMeanSquaredError\n",
    "from tensorflow.keras.callbacks import LearningRateScheduler, EarlyStopping\n",
    "from tensorflow.keras.initializers import HeNormal"
   ]
  },
  {
   "cell_type": "code",
   "execution_count": 99,
   "id": "cd983e6b-72c3-465b-89a4-13313b114b78",
   "metadata": {},
   "outputs": [],
   "source": [
    "def scheduler(epoch, lr):\n",
    "    if epoch < 10:\n",
    "        return lr\n",
    "    else:\n",
    "        return lr * np.exp(-0.1)"
   ]
  },
  {
   "cell_type": "code",
   "execution_count": 100,
   "id": "0d06c962-64b1-4356-9b10-d321a12bd0c3",
   "metadata": {},
   "outputs": [],
   "source": [
    "lr = 0.001\n",
    "epochs = 100\n",
    "validation_data = (X_test, y_test)\n",
    "optimizer = Adam(learning_rate=lr)\n",
    "loss = MeanSquaredError()\n",
    "initializer = HeNormal(seed=2)\n",
    "metrics = [RootMeanSquaredError()]\n",
    "lr_scheduler = LearningRateScheduler(scheduler)\n",
    "early_stopping = EarlyStopping(monitor='val_loss', patience=10, restore_best_weights=True)"
   ]
  },
  {
   "cell_type": "code",
   "execution_count": 101,
   "id": "666fd2db-5cf3-4eb5-8bee-aa3cc9a81677",
   "metadata": {},
   "outputs": [
    {
     "name": "stdout",
     "output_type": "stream",
     "text": [
      "Model: \"sequential_11\"\n",
      "_________________________________________________________________\n",
      " Layer (type)                Output Shape              Param #   \n",
      "=================================================================\n",
      " dense_37 (Dense)            (None, 2048)              28672     \n",
      "                                                                 \n",
      " batch_normalization_26 (Bat  (None, 2048)             8192      \n",
      " chNormalization)                                                \n",
      "                                                                 \n",
      " dense_38 (Dense)            (None, 1024)              2098176   \n",
      "                                                                 \n",
      " batch_normalization_27 (Bat  (None, 1024)             4096      \n",
      " chNormalization)                                                \n",
      "                                                                 \n",
      " dense_39 (Dense)            (None, 512)               524800    \n",
      "                                                                 \n",
      " batch_normalization_28 (Bat  (None, 512)              2048      \n",
      " chNormalization)                                                \n",
      "                                                                 \n",
      " dense_40 (Dense)            (None, 256)               131328    \n",
      "                                                                 \n",
      " batch_normalization_29 (Bat  (None, 256)              1024      \n",
      " chNormalization)                                                \n",
      "                                                                 \n",
      " dense_41 (Dense)            (None, 128)               32896     \n",
      "                                                                 \n",
      " batch_normalization_30 (Bat  (None, 128)              512       \n",
      " chNormalization)                                                \n",
      "                                                                 \n",
      " dense_42 (Dense)            (None, 1)                 129       \n",
      "                                                                 \n",
      "=================================================================\n",
      "Total params: 2,831,873\n",
      "Trainable params: 2,823,937\n",
      "Non-trainable params: 7,936\n",
      "_________________________________________________________________\n"
     ]
    }
   ],
   "source": [
    "model = Sequential([\n",
    "    InputLayer(X_resampled.shape[1]),\n",
    "    Dense(2048, activation=\"relu\", kernel_initializer=initializer),\n",
    "    BatchNormalization(),\n",
    "    Dense(1024, activation=\"relu\", kernel_initializer=initializer),\n",
    "    BatchNormalization(),\n",
    "    Dense(512, activation=\"relu\", kernel_initializer=initializer),\n",
    "    BatchNormalization(),\n",
    "    Dense(256, activation=\"relu\", kernel_initializer=initializer),\n",
    "    BatchNormalization(),\n",
    "    Dense(128, activation=\"relu\", kernel_initializer=initializer),\n",
    "    BatchNormalization(),\n",
    "    Dense(1, \"linear\"),\n",
    "])\n",
    "model.compile(optimizer=optimizer, loss=loss, metrics=metrics)\n",
    "model.summary()"
   ]
  },
  {
   "cell_type": "code",
   "execution_count": 102,
   "id": "f012dacd-3b2f-4339-868d-3e836fe16874",
   "metadata": {},
   "outputs": [
    {
     "name": "stdout",
     "output_type": "stream",
     "text": [
      "Epoch 1/100\n",
      "492/492 [==============================] - 17s 31ms/step - loss: 7.8189 - root_mean_squared_error: 2.7962 - val_loss: 1.0236 - val_root_mean_squared_error: 1.0117 - lr: 0.0010\n",
      "Epoch 2/100\n",
      "492/492 [==============================] - 15s 31ms/step - loss: 0.7751 - root_mean_squared_error: 0.8804 - val_loss: 0.8925 - val_root_mean_squared_error: 0.9447 - lr: 0.0010\n",
      "Epoch 3/100\n",
      "492/492 [==============================] - 15s 31ms/step - loss: 0.6750 - root_mean_squared_error: 0.8216 - val_loss: 0.8077 - val_root_mean_squared_error: 0.8987 - lr: 0.0010\n",
      "Epoch 4/100\n",
      "492/492 [==============================] - 15s 31ms/step - loss: 0.6059 - root_mean_squared_error: 0.7784 - val_loss: 0.8742 - val_root_mean_squared_error: 0.9350 - lr: 0.0010\n",
      "Epoch 5/100\n",
      "492/492 [==============================] - 15s 31ms/step - loss: 0.5485 - root_mean_squared_error: 0.7406 - val_loss: 0.8128 - val_root_mean_squared_error: 0.9016 - lr: 0.0010\n",
      "Epoch 6/100\n",
      "492/492 [==============================] - 15s 31ms/step - loss: 0.5199 - root_mean_squared_error: 0.7210 - val_loss: 0.8029 - val_root_mean_squared_error: 0.8961 - lr: 0.0010\n",
      "Epoch 7/100\n",
      "492/492 [==============================] - 15s 31ms/step - loss: 0.5058 - root_mean_squared_error: 0.7112 - val_loss: 0.7136 - val_root_mean_squared_error: 0.8448 - lr: 0.0010\n",
      "Epoch 8/100\n",
      "492/492 [==============================] - 15s 30ms/step - loss: 0.4657 - root_mean_squared_error: 0.6824 - val_loss: 0.6945 - val_root_mean_squared_error: 0.8334 - lr: 0.0010\n",
      "Epoch 9/100\n",
      "492/492 [==============================] - 14s 29ms/step - loss: 0.4477 - root_mean_squared_error: 0.6691 - val_loss: 0.7455 - val_root_mean_squared_error: 0.8634 - lr: 0.0010\n",
      "Epoch 10/100\n",
      "492/492 [==============================] - 36s 72ms/step - loss: 0.4302 - root_mean_squared_error: 0.6559 - val_loss: 0.7061 - val_root_mean_squared_error: 0.8403 - lr: 0.0010\n",
      "Epoch 11/100\n",
      "492/492 [==============================] - 17s 35ms/step - loss: 0.3981 - root_mean_squared_error: 0.6309 - val_loss: 0.6832 - val_root_mean_squared_error: 0.8266 - lr: 9.0484e-04\n",
      "Epoch 12/100\n",
      "492/492 [==============================] - 16s 32ms/step - loss: 0.3942 - root_mean_squared_error: 0.6279 - val_loss: 0.6464 - val_root_mean_squared_error: 0.8040 - lr: 8.1873e-04\n",
      "Epoch 13/100\n",
      "249/492 [==============>...............] - ETA: 7s - loss: 0.3725 - root_mean_squared_error: 0.6103"
     ]
    },
    {
     "ename": "KeyboardInterrupt",
     "evalue": "",
     "output_type": "error",
     "traceback": [
      "\u001b[1;31m---------------------------------------------------------------------------\u001b[0m",
      "\u001b[1;31mKeyboardInterrupt\u001b[0m                         Traceback (most recent call last)",
      "Cell \u001b[1;32mIn[102], line 1\u001b[0m\n\u001b[1;32m----> 1\u001b[0m history \u001b[38;5;241m=\u001b[39m \u001b[43mmodel\u001b[49m\u001b[38;5;241;43m.\u001b[39;49m\u001b[43mfit\u001b[49m\u001b[43m(\u001b[49m\u001b[43mX_resampled\u001b[49m\u001b[43m,\u001b[49m\u001b[43m \u001b[49m\u001b[43my_resampled\u001b[49m\u001b[43m,\u001b[49m\u001b[43m \u001b[49m\u001b[43mepochs\u001b[49m\u001b[38;5;241;43m=\u001b[39;49m\u001b[43mepochs\u001b[49m\u001b[43m,\u001b[49m\u001b[43m \u001b[49m\u001b[43mvalidation_data\u001b[49m\u001b[38;5;241;43m=\u001b[39;49m\u001b[43mvalidation_data\u001b[49m\u001b[43m,\u001b[49m\u001b[43m \u001b[49m\u001b[43mcallbacks\u001b[49m\u001b[38;5;241;43m=\u001b[39;49m\u001b[43m[\u001b[49m\u001b[43mlr_scheduler\u001b[49m\u001b[43m,\u001b[49m\u001b[43m \u001b[49m\u001b[43mearly_stopping\u001b[49m\u001b[43m]\u001b[49m\u001b[43m)\u001b[49m\n",
      "File \u001b[1;32m~\\scoop\\apps\\miniconda3\\current\\envs\\School\\Lib\\site-packages\\keras\\utils\\traceback_utils.py:65\u001b[0m, in \u001b[0;36mfilter_traceback.<locals>.error_handler\u001b[1;34m(*args, **kwargs)\u001b[0m\n\u001b[0;32m     63\u001b[0m filtered_tb \u001b[38;5;241m=\u001b[39m \u001b[38;5;28;01mNone\u001b[39;00m\n\u001b[0;32m     64\u001b[0m \u001b[38;5;28;01mtry\u001b[39;00m:\n\u001b[1;32m---> 65\u001b[0m     \u001b[38;5;28;01mreturn\u001b[39;00m \u001b[43mfn\u001b[49m\u001b[43m(\u001b[49m\u001b[38;5;241;43m*\u001b[39;49m\u001b[43margs\u001b[49m\u001b[43m,\u001b[49m\u001b[43m \u001b[49m\u001b[38;5;241;43m*\u001b[39;49m\u001b[38;5;241;43m*\u001b[39;49m\u001b[43mkwargs\u001b[49m\u001b[43m)\u001b[49m\n\u001b[0;32m     66\u001b[0m \u001b[38;5;28;01mexcept\u001b[39;00m \u001b[38;5;167;01mException\u001b[39;00m \u001b[38;5;28;01mas\u001b[39;00m e:\n\u001b[0;32m     67\u001b[0m     filtered_tb \u001b[38;5;241m=\u001b[39m _process_traceback_frames(e\u001b[38;5;241m.\u001b[39m__traceback__)\n",
      "File \u001b[1;32m~\\scoop\\apps\\miniconda3\\current\\envs\\School\\Lib\\site-packages\\keras\\engine\\training.py:1685\u001b[0m, in \u001b[0;36mModel.fit\u001b[1;34m(self, x, y, batch_size, epochs, verbose, callbacks, validation_split, validation_data, shuffle, class_weight, sample_weight, initial_epoch, steps_per_epoch, validation_steps, validation_batch_size, validation_freq, max_queue_size, workers, use_multiprocessing)\u001b[0m\n\u001b[0;32m   1677\u001b[0m \u001b[38;5;28;01mwith\u001b[39;00m tf\u001b[38;5;241m.\u001b[39mprofiler\u001b[38;5;241m.\u001b[39mexperimental\u001b[38;5;241m.\u001b[39mTrace(\n\u001b[0;32m   1678\u001b[0m     \u001b[38;5;124m\"\u001b[39m\u001b[38;5;124mtrain\u001b[39m\u001b[38;5;124m\"\u001b[39m,\n\u001b[0;32m   1679\u001b[0m     epoch_num\u001b[38;5;241m=\u001b[39mepoch,\n\u001b[1;32m   (...)\u001b[0m\n\u001b[0;32m   1682\u001b[0m     _r\u001b[38;5;241m=\u001b[39m\u001b[38;5;241m1\u001b[39m,\n\u001b[0;32m   1683\u001b[0m ):\n\u001b[0;32m   1684\u001b[0m     callbacks\u001b[38;5;241m.\u001b[39mon_train_batch_begin(step)\n\u001b[1;32m-> 1685\u001b[0m     tmp_logs \u001b[38;5;241m=\u001b[39m \u001b[38;5;28;43mself\u001b[39;49m\u001b[38;5;241;43m.\u001b[39;49m\u001b[43mtrain_function\u001b[49m\u001b[43m(\u001b[49m\u001b[43miterator\u001b[49m\u001b[43m)\u001b[49m\n\u001b[0;32m   1686\u001b[0m     \u001b[38;5;28;01mif\u001b[39;00m data_handler\u001b[38;5;241m.\u001b[39mshould_sync:\n\u001b[0;32m   1687\u001b[0m         context\u001b[38;5;241m.\u001b[39masync_wait()\n",
      "File \u001b[1;32m~\\scoop\\apps\\miniconda3\\current\\envs\\School\\Lib\\site-packages\\tensorflow\\python\\util\\traceback_utils.py:150\u001b[0m, in \u001b[0;36mfilter_traceback.<locals>.error_handler\u001b[1;34m(*args, **kwargs)\u001b[0m\n\u001b[0;32m    148\u001b[0m filtered_tb \u001b[38;5;241m=\u001b[39m \u001b[38;5;28;01mNone\u001b[39;00m\n\u001b[0;32m    149\u001b[0m \u001b[38;5;28;01mtry\u001b[39;00m:\n\u001b[1;32m--> 150\u001b[0m   \u001b[38;5;28;01mreturn\u001b[39;00m \u001b[43mfn\u001b[49m\u001b[43m(\u001b[49m\u001b[38;5;241;43m*\u001b[39;49m\u001b[43margs\u001b[49m\u001b[43m,\u001b[49m\u001b[43m \u001b[49m\u001b[38;5;241;43m*\u001b[39;49m\u001b[38;5;241;43m*\u001b[39;49m\u001b[43mkwargs\u001b[49m\u001b[43m)\u001b[49m\n\u001b[0;32m    151\u001b[0m \u001b[38;5;28;01mexcept\u001b[39;00m \u001b[38;5;167;01mException\u001b[39;00m \u001b[38;5;28;01mas\u001b[39;00m e:\n\u001b[0;32m    152\u001b[0m   filtered_tb \u001b[38;5;241m=\u001b[39m _process_traceback_frames(e\u001b[38;5;241m.\u001b[39m__traceback__)\n",
      "File \u001b[1;32m~\\scoop\\apps\\miniconda3\\current\\envs\\School\\Lib\\site-packages\\tensorflow\\python\\eager\\polymorphic_function\\polymorphic_function.py:894\u001b[0m, in \u001b[0;36mFunction.__call__\u001b[1;34m(self, *args, **kwds)\u001b[0m\n\u001b[0;32m    891\u001b[0m compiler \u001b[38;5;241m=\u001b[39m \u001b[38;5;124m\"\u001b[39m\u001b[38;5;124mxla\u001b[39m\u001b[38;5;124m\"\u001b[39m \u001b[38;5;28;01mif\u001b[39;00m \u001b[38;5;28mself\u001b[39m\u001b[38;5;241m.\u001b[39m_jit_compile \u001b[38;5;28;01melse\u001b[39;00m \u001b[38;5;124m\"\u001b[39m\u001b[38;5;124mnonXla\u001b[39m\u001b[38;5;124m\"\u001b[39m\n\u001b[0;32m    893\u001b[0m \u001b[38;5;28;01mwith\u001b[39;00m OptionalXlaContext(\u001b[38;5;28mself\u001b[39m\u001b[38;5;241m.\u001b[39m_jit_compile):\n\u001b[1;32m--> 894\u001b[0m   result \u001b[38;5;241m=\u001b[39m \u001b[38;5;28;43mself\u001b[39;49m\u001b[38;5;241;43m.\u001b[39;49m\u001b[43m_call\u001b[49m\u001b[43m(\u001b[49m\u001b[38;5;241;43m*\u001b[39;49m\u001b[43margs\u001b[49m\u001b[43m,\u001b[49m\u001b[43m \u001b[49m\u001b[38;5;241;43m*\u001b[39;49m\u001b[38;5;241;43m*\u001b[39;49m\u001b[43mkwds\u001b[49m\u001b[43m)\u001b[49m\n\u001b[0;32m    896\u001b[0m new_tracing_count \u001b[38;5;241m=\u001b[39m \u001b[38;5;28mself\u001b[39m\u001b[38;5;241m.\u001b[39mexperimental_get_tracing_count()\n\u001b[0;32m    897\u001b[0m without_tracing \u001b[38;5;241m=\u001b[39m (tracing_count \u001b[38;5;241m==\u001b[39m new_tracing_count)\n",
      "File \u001b[1;32m~\\scoop\\apps\\miniconda3\\current\\envs\\School\\Lib\\site-packages\\tensorflow\\python\\eager\\polymorphic_function\\polymorphic_function.py:926\u001b[0m, in \u001b[0;36mFunction._call\u001b[1;34m(self, *args, **kwds)\u001b[0m\n\u001b[0;32m    923\u001b[0m   \u001b[38;5;28mself\u001b[39m\u001b[38;5;241m.\u001b[39m_lock\u001b[38;5;241m.\u001b[39mrelease()\n\u001b[0;32m    924\u001b[0m   \u001b[38;5;66;03m# In this case we have created variables on the first call, so we run the\u001b[39;00m\n\u001b[0;32m    925\u001b[0m   \u001b[38;5;66;03m# defunned version which is guaranteed to never create variables.\u001b[39;00m\n\u001b[1;32m--> 926\u001b[0m   \u001b[38;5;28;01mreturn\u001b[39;00m \u001b[38;5;28;43mself\u001b[39;49m\u001b[38;5;241;43m.\u001b[39;49m\u001b[43m_no_variable_creation_fn\u001b[49m\u001b[43m(\u001b[49m\u001b[38;5;241;43m*\u001b[39;49m\u001b[43margs\u001b[49m\u001b[43m,\u001b[49m\u001b[43m \u001b[49m\u001b[38;5;241;43m*\u001b[39;49m\u001b[38;5;241;43m*\u001b[39;49m\u001b[43mkwds\u001b[49m\u001b[43m)\u001b[49m  \u001b[38;5;66;03m# pylint: disable=not-callable\u001b[39;00m\n\u001b[0;32m    927\u001b[0m \u001b[38;5;28;01melif\u001b[39;00m \u001b[38;5;28mself\u001b[39m\u001b[38;5;241m.\u001b[39m_variable_creation_fn \u001b[38;5;129;01mis\u001b[39;00m \u001b[38;5;129;01mnot\u001b[39;00m \u001b[38;5;28;01mNone\u001b[39;00m:\n\u001b[0;32m    928\u001b[0m   \u001b[38;5;66;03m# Release the lock early so that multiple threads can perform the call\u001b[39;00m\n\u001b[0;32m    929\u001b[0m   \u001b[38;5;66;03m# in parallel.\u001b[39;00m\n\u001b[0;32m    930\u001b[0m   \u001b[38;5;28mself\u001b[39m\u001b[38;5;241m.\u001b[39m_lock\u001b[38;5;241m.\u001b[39mrelease()\n",
      "File \u001b[1;32m~\\scoop\\apps\\miniconda3\\current\\envs\\School\\Lib\\site-packages\\tensorflow\\python\\eager\\polymorphic_function\\tracing_compiler.py:143\u001b[0m, in \u001b[0;36mTracingCompiler.__call__\u001b[1;34m(self, *args, **kwargs)\u001b[0m\n\u001b[0;32m    140\u001b[0m \u001b[38;5;28;01mwith\u001b[39;00m \u001b[38;5;28mself\u001b[39m\u001b[38;5;241m.\u001b[39m_lock:\n\u001b[0;32m    141\u001b[0m   (concrete_function,\n\u001b[0;32m    142\u001b[0m    filtered_flat_args) \u001b[38;5;241m=\u001b[39m \u001b[38;5;28mself\u001b[39m\u001b[38;5;241m.\u001b[39m_maybe_define_function(args, kwargs)\n\u001b[1;32m--> 143\u001b[0m \u001b[38;5;28;01mreturn\u001b[39;00m \u001b[43mconcrete_function\u001b[49m\u001b[38;5;241;43m.\u001b[39;49m\u001b[43m_call_flat\u001b[49m\u001b[43m(\u001b[49m\n\u001b[0;32m    144\u001b[0m \u001b[43m    \u001b[49m\u001b[43mfiltered_flat_args\u001b[49m\u001b[43m,\u001b[49m\u001b[43m \u001b[49m\u001b[43mcaptured_inputs\u001b[49m\u001b[38;5;241;43m=\u001b[39;49m\u001b[43mconcrete_function\u001b[49m\u001b[38;5;241;43m.\u001b[39;49m\u001b[43mcaptured_inputs\u001b[49m\u001b[43m)\u001b[49m\n",
      "File \u001b[1;32m~\\scoop\\apps\\miniconda3\\current\\envs\\School\\Lib\\site-packages\\tensorflow\\python\\eager\\polymorphic_function\\monomorphic_function.py:1757\u001b[0m, in \u001b[0;36mConcreteFunction._call_flat\u001b[1;34m(self, args, captured_inputs, cancellation_manager)\u001b[0m\n\u001b[0;32m   1753\u001b[0m possible_gradient_type \u001b[38;5;241m=\u001b[39m gradients_util\u001b[38;5;241m.\u001b[39mPossibleTapeGradientTypes(args)\n\u001b[0;32m   1754\u001b[0m \u001b[38;5;28;01mif\u001b[39;00m (possible_gradient_type \u001b[38;5;241m==\u001b[39m gradients_util\u001b[38;5;241m.\u001b[39mPOSSIBLE_GRADIENT_TYPES_NONE\n\u001b[0;32m   1755\u001b[0m     \u001b[38;5;129;01mand\u001b[39;00m executing_eagerly):\n\u001b[0;32m   1756\u001b[0m   \u001b[38;5;66;03m# No tape is watching; skip to running the function.\u001b[39;00m\n\u001b[1;32m-> 1757\u001b[0m   \u001b[38;5;28;01mreturn\u001b[39;00m \u001b[38;5;28mself\u001b[39m\u001b[38;5;241m.\u001b[39m_build_call_outputs(\u001b[38;5;28;43mself\u001b[39;49m\u001b[38;5;241;43m.\u001b[39;49m\u001b[43m_inference_function\u001b[49m\u001b[38;5;241;43m.\u001b[39;49m\u001b[43mcall\u001b[49m\u001b[43m(\u001b[49m\n\u001b[0;32m   1758\u001b[0m \u001b[43m      \u001b[49m\u001b[43mctx\u001b[49m\u001b[43m,\u001b[49m\u001b[43m \u001b[49m\u001b[43margs\u001b[49m\u001b[43m,\u001b[49m\u001b[43m \u001b[49m\u001b[43mcancellation_manager\u001b[49m\u001b[38;5;241;43m=\u001b[39;49m\u001b[43mcancellation_manager\u001b[49m\u001b[43m)\u001b[49m)\n\u001b[0;32m   1759\u001b[0m forward_backward \u001b[38;5;241m=\u001b[39m \u001b[38;5;28mself\u001b[39m\u001b[38;5;241m.\u001b[39m_select_forward_and_backward_functions(\n\u001b[0;32m   1760\u001b[0m     args,\n\u001b[0;32m   1761\u001b[0m     possible_gradient_type,\n\u001b[0;32m   1762\u001b[0m     executing_eagerly)\n\u001b[0;32m   1763\u001b[0m forward_function, args_with_tangents \u001b[38;5;241m=\u001b[39m forward_backward\u001b[38;5;241m.\u001b[39mforward()\n",
      "File \u001b[1;32m~\\scoop\\apps\\miniconda3\\current\\envs\\School\\Lib\\site-packages\\tensorflow\\python\\eager\\polymorphic_function\\monomorphic_function.py:381\u001b[0m, in \u001b[0;36m_EagerDefinedFunction.call\u001b[1;34m(self, ctx, args, cancellation_manager)\u001b[0m\n\u001b[0;32m    379\u001b[0m \u001b[38;5;28;01mwith\u001b[39;00m _InterpolateFunctionError(\u001b[38;5;28mself\u001b[39m):\n\u001b[0;32m    380\u001b[0m   \u001b[38;5;28;01mif\u001b[39;00m cancellation_manager \u001b[38;5;129;01mis\u001b[39;00m \u001b[38;5;28;01mNone\u001b[39;00m:\n\u001b[1;32m--> 381\u001b[0m     outputs \u001b[38;5;241m=\u001b[39m \u001b[43mexecute\u001b[49m\u001b[38;5;241;43m.\u001b[39;49m\u001b[43mexecute\u001b[49m\u001b[43m(\u001b[49m\n\u001b[0;32m    382\u001b[0m \u001b[43m        \u001b[49m\u001b[38;5;28;43mstr\u001b[39;49m\u001b[43m(\u001b[49m\u001b[38;5;28;43mself\u001b[39;49m\u001b[38;5;241;43m.\u001b[39;49m\u001b[43msignature\u001b[49m\u001b[38;5;241;43m.\u001b[39;49m\u001b[43mname\u001b[49m\u001b[43m)\u001b[49m\u001b[43m,\u001b[49m\n\u001b[0;32m    383\u001b[0m \u001b[43m        \u001b[49m\u001b[43mnum_outputs\u001b[49m\u001b[38;5;241;43m=\u001b[39;49m\u001b[38;5;28;43mself\u001b[39;49m\u001b[38;5;241;43m.\u001b[39;49m\u001b[43m_num_outputs\u001b[49m\u001b[43m,\u001b[49m\n\u001b[0;32m    384\u001b[0m \u001b[43m        \u001b[49m\u001b[43minputs\u001b[49m\u001b[38;5;241;43m=\u001b[39;49m\u001b[43margs\u001b[49m\u001b[43m,\u001b[49m\n\u001b[0;32m    385\u001b[0m \u001b[43m        \u001b[49m\u001b[43mattrs\u001b[49m\u001b[38;5;241;43m=\u001b[39;49m\u001b[43mattrs\u001b[49m\u001b[43m,\u001b[49m\n\u001b[0;32m    386\u001b[0m \u001b[43m        \u001b[49m\u001b[43mctx\u001b[49m\u001b[38;5;241;43m=\u001b[39;49m\u001b[43mctx\u001b[49m\u001b[43m)\u001b[49m\n\u001b[0;32m    387\u001b[0m   \u001b[38;5;28;01melse\u001b[39;00m:\n\u001b[0;32m    388\u001b[0m     outputs \u001b[38;5;241m=\u001b[39m execute\u001b[38;5;241m.\u001b[39mexecute_with_cancellation(\n\u001b[0;32m    389\u001b[0m         \u001b[38;5;28mstr\u001b[39m(\u001b[38;5;28mself\u001b[39m\u001b[38;5;241m.\u001b[39msignature\u001b[38;5;241m.\u001b[39mname),\n\u001b[0;32m    390\u001b[0m         num_outputs\u001b[38;5;241m=\u001b[39m\u001b[38;5;28mself\u001b[39m\u001b[38;5;241m.\u001b[39m_num_outputs,\n\u001b[1;32m   (...)\u001b[0m\n\u001b[0;32m    393\u001b[0m         ctx\u001b[38;5;241m=\u001b[39mctx,\n\u001b[0;32m    394\u001b[0m         cancellation_manager\u001b[38;5;241m=\u001b[39mcancellation_manager)\n",
      "File \u001b[1;32m~\\scoop\\apps\\miniconda3\\current\\envs\\School\\Lib\\site-packages\\tensorflow\\python\\eager\\execute.py:52\u001b[0m, in \u001b[0;36mquick_execute\u001b[1;34m(op_name, num_outputs, inputs, attrs, ctx, name)\u001b[0m\n\u001b[0;32m     50\u001b[0m \u001b[38;5;28;01mtry\u001b[39;00m:\n\u001b[0;32m     51\u001b[0m   ctx\u001b[38;5;241m.\u001b[39mensure_initialized()\n\u001b[1;32m---> 52\u001b[0m   tensors \u001b[38;5;241m=\u001b[39m \u001b[43mpywrap_tfe\u001b[49m\u001b[38;5;241;43m.\u001b[39;49m\u001b[43mTFE_Py_Execute\u001b[49m\u001b[43m(\u001b[49m\u001b[43mctx\u001b[49m\u001b[38;5;241;43m.\u001b[39;49m\u001b[43m_handle\u001b[49m\u001b[43m,\u001b[49m\u001b[43m \u001b[49m\u001b[43mdevice_name\u001b[49m\u001b[43m,\u001b[49m\u001b[43m \u001b[49m\u001b[43mop_name\u001b[49m\u001b[43m,\u001b[49m\n\u001b[0;32m     53\u001b[0m \u001b[43m                                      \u001b[49m\u001b[43minputs\u001b[49m\u001b[43m,\u001b[49m\u001b[43m \u001b[49m\u001b[43mattrs\u001b[49m\u001b[43m,\u001b[49m\u001b[43m \u001b[49m\u001b[43mnum_outputs\u001b[49m\u001b[43m)\u001b[49m\n\u001b[0;32m     54\u001b[0m \u001b[38;5;28;01mexcept\u001b[39;00m core\u001b[38;5;241m.\u001b[39m_NotOkStatusException \u001b[38;5;28;01mas\u001b[39;00m e:\n\u001b[0;32m     55\u001b[0m   \u001b[38;5;28;01mif\u001b[39;00m name \u001b[38;5;129;01mis\u001b[39;00m \u001b[38;5;129;01mnot\u001b[39;00m \u001b[38;5;28;01mNone\u001b[39;00m:\n",
      "\u001b[1;31mKeyboardInterrupt\u001b[0m: "
     ]
    }
   ],
   "source": [
    "history = model.fit(X_resampled, y_resampled, epochs=epochs, validation_data=validation_data, callbacks=[lr_scheduler, early_stopping])"
   ]
  },
  {
   "cell_type": "code",
   "execution_count": 88,
   "id": "6e55eeeb-7288-4afd-a3ba-910dc9dc7955",
   "metadata": {},
   "outputs": [
    {
     "data": {
      "image/png": "[encoded data removed]",
      "text/plain": [
       "<Figure size 1200x600 with 1 Axes>"
      ]
     },
     "metadata": {},
     "output_type": "display_data"
    },
    {
     "data": {
      "image/png": "[encoded data removed]",
      "text/plain": [
       "<Figure size 1200x600 with 1 Axes>"
      ]
     },
     "metadata": {},
     "output_type": "display_data"
    }
   ],
   "source": [
    "# Extract loss values from the history\n",
    "loss = history.history['loss']\n",
    "val_loss = history.history['val_loss']\n",
    "\n",
    "# Calculate RMSE from Mean Squared Error (MSE)\n",
    "rmse = history.history['root_mean_squared_error']\n",
    "val_rmse = history.history['val_root_mean_squared_error']\n",
    "\n",
    "# Plot the Loss Function\n",
    "plt.figure(figsize=(12, 6))\n",
    "plt.plot(loss, label='Training Loss')\n",
    "plt.plot(val_loss, label='Validation Loss')\n",
    "plt.xlabel('Epochs')\n",
    "plt.ylabel('Loss')\n",
    "plt.title('Loss Function')\n",
    "plt.legend()\n",
    "plt.show()\n",
    "\n",
    "# Plot the RMSE\n",
    "plt.figure(figsize=(12, 6))\n",
    "plt.plot(rmse, label='Training RMSE')\n",
    "plt.plot(val_rmse, label='Validation RMSE')\n",
    "plt.xlabel('Epochs')\n",
    "plt.ylabel('RMSE')\n",
    "plt.title('Root Mean Squared Error')\n",
    "plt.legend()\n",
    "plt.show()\n"
   ]
  },
  {
   "cell_type": "code",
   "execution_count": 89,
   "id": "ed370618-e60b-4ea4-9db8-f54bdcff9058",
   "metadata": {},
   "outputs": [
    {
     "name": "stdout",
     "output_type": "stream",
     "text": [
      "492/492 [==============================] - 1s 770us/step - loss: 0.2420 - root_mean_squared_error: 0.4919\n"
     ]
    }
   ],
   "source": [
    "test_loss, test_rmse = model.evaluate(X_resampled, y_resampled)"
   ]
  },
  {
   "cell_type": "code",
   "execution_count": 90,
   "id": "6b02e987-a1ad-4d02-967d-a08ee13f15b5",
   "metadata": {},
   "outputs": [
    {
     "name": "stdout",
     "output_type": "stream",
     "text": [
      "26/26 [==============================] - 0s 816us/step\n"
     ]
    }
   ],
   "source": [
    "predictions = model.predict(test)\n",
    "\n",
    "# Round the predictions to the nearest integer\n",
    "rounded_predictions = np.round(predictions)"
   ]
  },
  {
   "cell_type": "code",
   "execution_count": 91,
   "id": "cbfe025d-9714-4deb-9c42-5e3071bcbacd",
   "metadata": {
    "scrolled": true
   },
   "outputs": [
    {
     "data": {
      "text/plain": [
       "(array([2., 3., 4., 5., 6., 7., 8., 9.], dtype=float32),\n",
       " array([  1,   2,  42, 271, 297, 180,  26,   1], dtype=int64))"
      ]
     },
     "execution_count": 91,
     "metadata": {},
     "output_type": "execute_result"
    }
   ],
   "source": [
    "np.unique(rounded_predictions, return_counts=True)"
   ]
  },
  {
   "cell_type": "code",
   "execution_count": 92,
   "id": "05cfe901-f795-4565-b0a1-6dcdc94bc370",
   "metadata": {},
   "outputs": [],
   "source": [
    "result_df = pd.DataFrame({\"id\": test_df[\"id\"], \"quality\": rounded_predictions.flatten().astype(\"int\")})"
   ]
  },
  {
   "cell_type": "code",
   "execution_count": 93,
   "id": "97a6a194-b867-414d-8778-5e0b6dff2252",
   "metadata": {},
   "outputs": [
    {
     "data": {
      "text/plain": [
       "0.9817073170731707"
      ]
     },
     "execution_count": 93,
     "metadata": {},
     "output_type": "execute_result"
    }
   ],
   "source": [
    "from sklearn.metrics import mean_squared_error\n",
    "predicted_df = pd.read_csv(\"./predicted_scores.csv\")\n",
    "mean_squared_error(result_df[\"quality\"], predicted_df[\"quality\"])"
   ]
  },
  {
   "cell_type": "code",
   "execution_count": 94,
   "id": "d08414fd-244a-483a-8f92-454b8aeb49d0",
   "metadata": {},
   "outputs": [
    {
     "data": {
      "text/plain": [
       "((array([3, 4, 5, 6, 7, 8], dtype=int64),\n",
       "  array([ 11,  49, 198, 356, 168,  38], dtype=int64)),\n",
       " (array([2, 3, 4, 5, 6, 7, 8, 9]),\n",
       "  array([  1,   2,  42, 271, 297, 180,  26,   1], dtype=int64)))"
      ]
     },
     "execution_count": 94,
     "metadata": {},
     "output_type": "execute_result"
    }
   ],
   "source": [
    "np.unique(predicted_df[\"quality\"], return_counts=True), np.unique(result_df[\"quality\"], return_counts=True), "
   ]
  },
  {
   "cell_type": "code",
   "execution_count": 42,
   "id": "9a45966d-cc4c-4cdf-ad26-3bd22d4e40f4",
   "metadata": {},
   "outputs": [
    {
     "data": {
      "text/html": [
       "<div>\n",
       "<style scoped>\n",
       "    .dataframe tbody tr th:only-of-type {\n",
       "        vertical-align: middle;\n",
       "    }\n",
       "\n",
       "    .dataframe tbody tr th {\n",
       "        vertical-align: top;\n",
       "    }\n",
       "\n",
       "    .dataframe thead th {\n",
       "        text-align: right;\n",
       "    }\n",
       "</style>\n",
       "<table border=\"1\" class=\"dataframe\">\n",
       "  <thead>\n",
       "    <tr style=\"text-align: right;\">\n",
       "      <th></th>\n",
       "      <th>id</th>\n",
       "      <th>quality</th>\n",
       "    </tr>\n",
       "  </thead>\n",
       "  <tbody>\n",
       "    <tr>\n",
       "      <th>0</th>\n",
       "      <td>1257</td>\n",
       "      <td>7</td>\n",
       "    </tr>\n",
       "    <tr>\n",
       "      <th>1</th>\n",
       "      <td>6409</td>\n",
       "      <td>6</td>\n",
       "    </tr>\n",
       "    <tr>\n",
       "      <th>2</th>\n",
       "      <td>136</td>\n",
       "      <td>5</td>\n",
       "    </tr>\n",
       "    <tr>\n",
       "      <th>3</th>\n",
       "      <td>1631</td>\n",
       "      <td>7</td>\n",
       "    </tr>\n",
       "    <tr>\n",
       "      <th>4</th>\n",
       "      <td>6084</td>\n",
       "      <td>6</td>\n",
       "    </tr>\n",
       "    <tr>\n",
       "      <th>...</th>\n",
       "      <td>...</td>\n",
       "      <td>...</td>\n",
       "    </tr>\n",
       "    <tr>\n",
       "      <th>815</th>\n",
       "      <td>4646</td>\n",
       "      <td>6</td>\n",
       "    </tr>\n",
       "    <tr>\n",
       "      <th>816</th>\n",
       "      <td>734</td>\n",
       "      <td>5</td>\n",
       "    </tr>\n",
       "    <tr>\n",
       "      <th>817</th>\n",
       "      <td>5090</td>\n",
       "      <td>6</td>\n",
       "    </tr>\n",
       "    <tr>\n",
       "      <th>818</th>\n",
       "      <td>1579</td>\n",
       "      <td>7</td>\n",
       "    </tr>\n",
       "    <tr>\n",
       "      <th>819</th>\n",
       "      <td>5688</td>\n",
       "      <td>6</td>\n",
       "    </tr>\n",
       "  </tbody>\n",
       "</table>\n",
       "<p>820 rows × 2 columns</p>\n",
       "</div>"
      ],
      "text/plain": [
       "       id  quality\n",
       "0    1257        7\n",
       "1    6409        6\n",
       "2     136        5\n",
       "3    1631        7\n",
       "4    6084        6\n",
       "..    ...      ...\n",
       "815  4646        6\n",
       "816   734        5\n",
       "817  5090        6\n",
       "818  1579        7\n",
       "819  5688        6\n",
       "\n",
       "[820 rows x 2 columns]"
      ]
     },
     "execution_count": 42,
     "metadata": {},
     "output_type": "execute_result"
    }
   ],
   "source": [
    "result_df"
   ]
  },
  {
   "cell_type": "code",
   "execution_count": null,
   "id": "c5e6f5b2-eef2-401d-a50b-b228c88ed3bc",
   "metadata": {},
   "outputs": [],
   "source": [
    "result_df.to_csv('result.csv', index=False)"
   ]
  },
  {
   "cell_type": "code",
   "execution_count": null,
   "id": "4f104a7e-2e8e-4104-b8f5-df7700287759",
   "metadata": {},
   "outputs": [],
   "source": [
    "test"
   ]
  },
  {
   "cell_type": "code",
   "execution_count": null,
   "id": "b09cf9e4-d205-4e68-8dbb-ed54b6e26813",
   "metadata": {},
   "outputs": [],
   "source": [
    "correlation_matrix = train.corr()\n",
    "\n",
    "# Extract highly correlated values in 'quality' column\n",
    "highly_correlated = correlation_matrix[abs(correlation_matrix['quality']) > 0.5]['quality']\n",
    "\n",
    "# Print the highly correlated values\n",
    "print(highly_correlated)"
   ]
  },
  {
   "cell_type": "code",
   "execution_count": null,
   "id": "9e5dae58-0db7-4391-8d00-37c8b08e5546",
   "metadata": {},
   "outputs": [],
   "source": [
    "import seaborn as sns\n",
    "import matplotlib.pyplot as plt\n",
    "\n",
    "# Assuming 'df' is your DataFrame\n",
    "sns.set(style=\"ticks\")\n",
    "sns.pairplot(train, diag_kind=\"kde\", markers=\"o\", hue=\"quality\")\n",
    "plt.show()"
   ]
  },
  {
   "cell_type": "code",
   "execution_count": null,
   "id": "3f10b9fb-6138-4a9c-abce-49faf3db38bb",
   "metadata": {},
   "outputs": [],
   "source": [
    "from sklearn.ensemble import GradientBoostingClassifier\n",
    "gb_model = GradientBoostingClassifier(n_estimators=100, learning_rate=0.1, random_state=123)\n",
    "gb_model.fit(X_train, y_train)"
   ]
  },
  {
   "cell_type": "code",
   "execution_count": null,
   "id": "0e751585-d021-4ea3-b3b9-8bc0d4a457e8",
   "metadata": {},
   "outputs": [],
   "source": [
    "from sklearn.metrics import mean_squared_error\n",
    "# Make predictions on the test set\n",
    "y_pred = gb_model.predict(X_test)\n",
    "\n",
    "# Calculate the mean squared error\n",
    "mse = mean_squared_error(y_test, y_pred)\n",
    "\n",
    "# Calculate the root mean squared error\n",
    "rmse = np.sqrt(mse)\n",
    "\n",
    "print(f'Root Mean Squared Error (RMSE): {rmse}')"
   ]
  },
  {
   "cell_type": "markdown",
   "id": "409b6826-977d-4f9a-97c9-552b27d8888a",
   "metadata": {},
   "source": [
    "## "
   ]
  },
  {
   "cell_type": "code",
   "execution_count": null,
   "id": "6b0d5131-d71e-4131-a006-0f90d0796550",
   "metadata": {},
   "outputs": [],
   "source": [
    "def predict_to_df(model, name):\n",
    "    result = model.predict(test); \n",
    "    rounded_predictions = np.round(predictions)\n",
    "    print(np.unique(rounded_predictions, return_counts=True))\n",
    "    result_df = pd.DataFrame({\"id\": test_df[\"id\"], \"quality\": rounded_predictions.flatten().astype(\"int\")})\n",
    "    result_df.to_csv(f'{name}_result.csv', index=False)"
   ]
  },
  {
   "cell_type": "code",
   "execution_count": null,
   "id": "f4127958-96c9-4688-907c-b697d229c5ed",
   "metadata": {},
   "outputs": [],
   "source": [
    "predict_to_df(gb_model, \"gradient_boost\")"
   ]
  },
  {
   "cell_type": "code",
   "execution_count": null,
   "id": "24594d7c-da67-4517-9473-84ccdd10101a",
   "metadata": {},
   "outputs": [],
   "source": [
    "from sklearn.svm import SVR\n",
    "svr_model = SVR(kernel='rbf', C=100, epsilon=0.1)\n",
    "\n",
    "# Train the SVR model\n",
    "svr_model.fit(X_train, y_train)\n",
    "\n",
    "# Make predictions on the test set\n",
    "y_pred = svr_model.predict(X_test)\n",
    "\n",
    "# Calculate the mean squared error\n",
    "mse = mean_squared_error(y_test, y_pred)\n",
    "\n",
    "# Calculate the root mean squared error\n",
    "rmse = np.sqrt(mse)\n",
    "\n",
    "print(f'Root Mean Squared Error (RMSE): {rmse}')"
   ]
  },
  {
   "cell_type": "code",
   "execution_count": null,
   "id": "f0de9c1a-202e-46ec-b82a-a3856b439f5d",
   "metadata": {},
   "outputs": [],
   "source": [
    "predict_to_df(svr_model, \"svr\")"
   ]
  },
  {
   "cell_type": "code",
   "execution_count": null,
   "id": "1e7a195a-d248-4603-a8b7-beb6476f151a",
   "metadata": {},
   "outputs": [],
   "source": [
    "from sklearn.ensemble import RandomForestRegressor\n",
    "\n",
    "# Initialize the Random Forest Regressor model\n",
    "rf_model = RandomForestRegressor(n_estimators=100, random_state=42)\n",
    "\n",
    "# Train the Random Forest Regressor model\n",
    "rf_model.fit(X_train, y_train.ravel())\n",
    "\n",
    "# Make predictions on the test set\n",
    "y_pred = rf_model.predict(X_test)\n",
    "\n",
    "# Calculate the mean squared error\n",
    "mse = mean_squared_error(y_test, y_pred)\n",
    "\n",
    "# Calculate the root mean squared error\n",
    "rmse = np.sqrt(mse)\n",
    "\n",
    "print(f'Root Mean Squared Error (RMSE): {rmse}')"
   ]
  },
  {
   "cell_type": "code",
   "execution_count": null,
   "id": "02ff2079-78df-4453-a57b-c58996788611",
   "metadata": {},
   "outputs": [],
   "source": [
    "predict_to_df(rf_model, \"random_forest\")"
   ]
  },
  {
   "cell_type": "code",
   "execution_count": null,
   "id": "b2568e77-a07d-41d9-bdfe-a15b2a3afe7e",
   "metadata": {},
   "outputs": [],
   "source": []
  }
 ],
 "metadata": {
  "kernelspec": {
   "display_name": "Python 3 (ipykernel)",
   "language": "python",
   "name": "python3"
  },
  "language_info": {
   "codemirror_mode": {
    "name": "ipython",
    "version": 3
   },
   "file_extension": ".py",
   "mimetype": "text/x-python",
   "name": "python",
   "nbconvert_exporter": "python",
   "pygments_lexer": "ipython3",
   "version": "3.11.5"
  }
 },
 "nbformat": 4,
 "nbformat_minor": 5
}
