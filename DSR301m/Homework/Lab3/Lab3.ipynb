{
 "cells": [
  {
   "cell_type": "markdown",
   "id": "5dd53c59-174a-4a46-9076-604df34eb481",
   "metadata": {},
   "source": [
    "# Lab 3"
   ]
  },
  {
   "cell_type": "code",
   "execution_count": 1,
   "id": "c3ac8ec5-3b26-4d28-85a7-a95109a5ab4e",
   "metadata": {},
   "outputs": [
    {
     "name": "stderr",
     "output_type": "stream",
     "text": [
      "\u001b[32m\u001b[1m  Activating\u001b[22m\u001b[39m project at `C:\\Users\\sofia\\JuliaProjects`\n"
     ]
    }
   ],
   "source": [
    "using Pkg; Pkg.activate(joinpath(homedir(), \"JuliaProjects\"))"
   ]
  },
  {
   "cell_type": "code",
   "execution_count": 2,
   "id": "fb1e1f2b-7865-43f6-941c-9c711c109be0",
   "metadata": {},
   "outputs": [],
   "source": [
    "using DataFrames, CSV, StatsBase"
   ]
  },
  {
   "cell_type": "code",
   "execution_count": 3,
   "id": "3af45b95-35f8-42b6-97b3-f04084f153d7",
   "metadata": {
    "scrolled": true
   },
   "outputs": [
    {
     "data": {
      "text/plain": [
       "(\u001b[1m6714×13 DataFrame\u001b[0m\n",
       "\u001b[1m  Row \u001b[0m│\u001b[1m fixed acidity \u001b[0m\u001b[1m volatile acidity \u001b[0m\u001b[1m citric acid \u001b[0m\u001b[1m residual sugar \u001b[0m\u001b[1m chloride\u001b[0m ⋯\n",
       "      │\u001b[90m Float64       \u001b[0m\u001b[90m Float64          \u001b[0m\u001b[90m Float64     \u001b[0m\u001b[90m Float64        \u001b[0m\u001b[90m Float64 \u001b[0m ⋯\n",
       "──────┼─────────────────────────────────────────────────────────────────────────\n",
       "    1 │           6.6               0.3         0.36             1.2      0.03 ⋯\n",
       "    2 │           7.7               0.5         0.26             1.9      0.06\n",
       "    3 │           8.4               0.5         0.35             2.9      0.07\n",
       "    4 │           7.5               0.4         0.33             5.0      0.04\n",
       "    5 │           6.4               0.2         0.25            20.2      0.08 ⋯\n",
       "    6 │           7.6               0.3         0.52            13.2      0.04\n",
       "    7 │           6.4               0.3         0.4              6.2      0.04\n",
       "    8 │           6.6               0.3         0.36             1.7      0.03\n",
       "    9 │           7.6               0.3         0.25             9.5      0.03 ⋯\n",
       "   10 │           7.6               0.3         0.49            20.2      0.06\n",
       "   11 │           6.6               0.2         0.33             1.8      0.03\n",
       "  ⋮   │       ⋮               ⋮               ⋮             ⋮             ⋮    ⋱\n",
       " 6705 │           5.3               0.7         0.19             1.5      0.16\n",
       " 6706 │           6.9               0.4         0.29            13.7      0.04 ⋯\n",
       " 6707 │           6.4               0.3         0.5             10.7      0.04\n",
       " 6708 │           6.9               0.4         0.62            11.9      0.04\n",
       " 6709 │           7.1               0.5         0.03             2.6      0.07\n",
       " 6710 │           7.2               0.2         0.19             7.7      0.04 ⋯\n",
       " 6711 │           6.7               0.3         0.34             7.5      0.03\n",
       " 6712 │           6.6               0.3         0.24             3.3      0.03\n",
       " 6713 │           8.0               0.2         0.31             5.6      0.04\n",
       " 6714 │           6.4               0.3         0.2             15.6      0.04 ⋯\n",
       "\u001b[36m                                                 9 columns and 6693 rows omitted\u001b[0m, \u001b[1m820×13 DataFrame\u001b[0m\n",
       "\u001b[1m Row \u001b[0m│\u001b[1m id    \u001b[0m\u001b[1m fixed acidity \u001b[0m\u001b[1m volatile acidity \u001b[0m\u001b[1m citric acid \u001b[0m\u001b[1m residual sugar \u001b[0m\u001b[1m ch\u001b[0m ⋯\n",
       "     │\u001b[90m Int64 \u001b[0m\u001b[90m Float64       \u001b[0m\u001b[90m Float64          \u001b[0m\u001b[90m Float64     \u001b[0m\u001b[90m Float64        \u001b[0m\u001b[90m Fl\u001b[0m ⋯\n",
       "─────┼──────────────────────────────────────────────────────────────────────────\n",
       "   1 │  1257            7.2              0.25         0.37             2.5     ⋯\n",
       "   2 │  6409            8.2              0.27         0.39             7.8\n",
       "   3 │   136            8.9              0.32         0.49             1.6\n",
       "   4 │  1631            7.4              0.16         0.3             13.7\n",
       "   5 │  6084            6.4              0.28         0.56             1.7     ⋯\n",
       "   6 │  5434           10.2              0.54         0.37            15.4\n",
       "   7 │  1094            7.5              0.23         0.36             7.0\n",
       "   8 │  5146            6.2              0.39         0.43             2.0\n",
       "   9 │  5921            6.2              0.35         0.29             3.9     ⋯\n",
       "  10 │  1076            8.1              0.2          0.4              2.0\n",
       "  11 │   616            6.4              0.33         0.31             5.5\n",
       "  ⋮  │   ⋮          ⋮               ⋮               ⋮             ⋮            ⋱\n",
       " 811 │  2948            8.1              0.43         0.42             6.6\n",
       " 812 │  2864           10.6              0.36         0.57             2.3     ⋯\n",
       " 813 │  2668            7.8              0.49         0.49             7.0\n",
       " 814 │  1366            6.8              0.28         0.44             9.3\n",
       " 815 │  5465            9.1              0.52         0.33             1.3\n",
       " 816 │  4646            6.1              0.3          0.56             2.7     ⋯\n",
       " 817 │   734            6.7              0.33         0.34             6.6\n",
       " 818 │  5090            8.3              0.26         0.37             1.4\n",
       " 819 │  1579            6.3              0.29         0.29             3.3\n",
       " 820 │  5688            7.2              0.2          0.36             2.5     ⋯\n",
       "\u001b[36m                                                  8 columns and 799 rows omitted\u001b[0m)"
      ]
     },
     "execution_count": 3,
     "metadata": {},
     "output_type": "execute_result"
    }
   ],
   "source": [
    "train_df, test_df= CSV.read(\"train.csv\", DataFrame), CSV.read(\"test.csv\", DataFrame)"
   ]
  },
  {
   "cell_type": "code",
   "execution_count": 4,
   "id": "125b47a4-f1cc-497c-8161-18d92b7fff56",
   "metadata": {
    "scrolled": true
   },
   "outputs": [
    {
     "data": {
      "text/html": [
       "<div><div style = \"float: left;\"><span>13×7 DataFrame</span></div><div style = \"clear: both;\"></div></div><div class = \"data-frame\" style = \"overflow-x: scroll;\"><table class = \"data-frame\" style = \"margin-bottom: 6px;\"><thead><tr class = \"header\"><th class = \"rowNumber\" style = \"font-weight: bold; text-align: right;\">Row</th><th style = \"text-align: left;\">variable</th><th style = \"text-align: left;\">mean</th><th style = \"text-align: left;\">min</th><th style = \"text-align: left;\">median</th><th style = \"text-align: left;\">max</th><th style = \"text-align: left;\">nmissing</th><th style = \"text-align: left;\">eltype</th></tr><tr class = \"subheader headerLastRow\"><th class = \"rowNumber\" style = \"font-weight: bold; text-align: right;\"></th><th title = \"Symbol\" style = \"text-align: left;\">Symbol</th><th title = \"Union{Nothing, Float64}\" style = \"text-align: left;\">Union…</th><th title = \"Any\" style = \"text-align: left;\">Any</th><th title = \"Union{Nothing, Float64}\" style = \"text-align: left;\">Union…</th><th title = \"Any\" style = \"text-align: left;\">Any</th><th title = \"Int64\" style = \"text-align: left;\">Int64</th><th title = \"DataType\" style = \"text-align: left;\">DataType</th></tr></thead><tbody><tr><td class = \"rowNumber\" style = \"font-weight: bold; text-align: right;\">1</td><td style = \"text-align: left;\">id</td><td style = \"text-align: left;\">3203.68</td><td style = \"text-align: left;\">13</td><td style = \"text-align: left;\">3160.5</td><td style = \"text-align: left;\">6497</td><td style = \"text-align: right;\">0</td><td style = \"text-align: left;\">Int64</td></tr><tr><td class = \"rowNumber\" style = \"font-weight: bold; text-align: right;\">2</td><td style = \"text-align: left;\">fixed acidity</td><td style = \"text-align: left;\">7.26037</td><td style = \"text-align: left;\">4.8</td><td style = \"text-align: left;\">7.0</td><td style = \"text-align: left;\">13.0</td><td style = \"text-align: right;\">0</td><td style = \"text-align: left;\">Float64</td></tr><tr><td class = \"rowNumber\" style = \"font-weight: bold; text-align: right;\">3</td><td style = \"text-align: left;\">volatile acidity</td><td style = \"text-align: left;\">0.352518</td><td style = \"text-align: left;\">0.08</td><td style = \"text-align: left;\">0.3</td><td style = \"text-align: left;\">1.58</td><td style = \"text-align: right;\">0</td><td style = \"text-align: left;\">Float64</td></tr><tr><td class = \"rowNumber\" style = \"font-weight: bold; text-align: right;\">4</td><td style = \"text-align: left;\">citric acid</td><td style = \"text-align: left;\">0.321232</td><td style = \"text-align: left;\">0.0</td><td style = \"text-align: left;\">0.325</td><td style = \"text-align: left;\">0.78</td><td style = \"text-align: right;\">0</td><td style = \"text-align: left;\">Float64</td></tr><tr><td class = \"rowNumber\" style = \"font-weight: bold; text-align: right;\">5</td><td style = \"text-align: left;\">residual sugar</td><td style = \"text-align: left;\">4.99152</td><td style = \"text-align: left;\">0.7</td><td style = \"text-align: left;\">2.5</td><td style = \"text-align: left;\">23.5</td><td style = \"text-align: right;\">0</td><td style = \"text-align: left;\">Float64</td></tr><tr><td class = \"rowNumber\" style = \"font-weight: bold; text-align: right;\">6</td><td style = \"text-align: left;\">chlorides</td><td style = \"text-align: left;\">0.0574061</td><td style = \"text-align: left;\">0.015</td><td style = \"text-align: left;\">0.048</td><td style = \"text-align: left;\">0.413</td><td style = \"text-align: right;\">0</td><td style = \"text-align: left;\">Float64</td></tr><tr><td class = \"rowNumber\" style = \"font-weight: bold; text-align: right;\">7</td><td style = \"text-align: left;\">free sulfur dioxide</td><td style = \"text-align: left;\">30.4616</td><td style = \"text-align: left;\">3.0</td><td style = \"text-align: left;\">29.0</td><td style = \"text-align: left;\">146.5</td><td style = \"text-align: right;\">0</td><td style = \"text-align: left;\">Float64</td></tr><tr><td class = \"rowNumber\" style = \"font-weight: bold; text-align: right;\">8</td><td style = \"text-align: left;\">total sulfur dioxide</td><td style = \"text-align: left;\">111.771</td><td style = \"text-align: left;\">7.0</td><td style = \"text-align: left;\">116.0</td><td style = \"text-align: left;\">366.5</td><td style = \"text-align: right;\">0</td><td style = \"text-align: left;\">Float64</td></tr><tr><td class = \"rowNumber\" style = \"font-weight: bold; text-align: right;\">9</td><td style = \"text-align: left;\">density</td><td style = \"text-align: left;\">0.994747</td><td style = \"text-align: left;\">0.98711</td><td style = \"text-align: left;\">0.9949</td><td style = \"text-align: left;\">1.00369</td><td style = \"text-align: right;\">0</td><td style = \"text-align: left;\">Float64</td></tr><tr><td class = \"rowNumber\" style = \"font-weight: bold; text-align: right;\">10</td><td style = \"text-align: left;\">pH</td><td style = \"text-align: left;\">3.23684</td><td style = \"text-align: left;\">2.8</td><td style = \"text-align: left;\">3.22</td><td style = \"text-align: left;\">3.72</td><td style = \"text-align: right;\">0</td><td style = \"text-align: left;\">Float64</td></tr><tr><td class = \"rowNumber\" style = \"font-weight: bold; text-align: right;\">11</td><td style = \"text-align: left;\">sulphates</td><td style = \"text-align: left;\">0.538</td><td style = \"text-align: left;\">0.25</td><td style = \"text-align: left;\">0.51</td><td style = \"text-align: left;\">1.18</td><td style = \"text-align: right;\">0</td><td style = \"text-align: left;\">Float64</td></tr><tr><td class = \"rowNumber\" style = \"font-weight: bold; text-align: right;\">12</td><td style = \"text-align: left;\">alcohol</td><td style = \"text-align: left;\">10.4985</td><td style = \"text-align: left;\">8.5</td><td style = \"text-align: left;\">10.4</td><td style = \"text-align: left;\">14.05</td><td style = \"text-align: right;\">0</td><td style = \"text-align: left;\">Float64</td></tr><tr><td class = \"rowNumber\" style = \"font-weight: bold; text-align: right;\">13</td><td style = \"text-align: left;\">type</td><td style = \"font-style: italic; text-align: left;\"></td><td style = \"text-align: left;\">red</td><td style = \"font-style: italic; text-align: left;\"></td><td style = \"text-align: left;\">white</td><td style = \"text-align: right;\">0</td><td style = \"text-align: left;\">String7</td></tr></tbody></table></div>"
      ],
      "text/latex": [
       "\\begin{tabular}{r|ccccccc}\n",
       "\t& variable & mean & min & median & max & nmissing & eltype\\\\\n",
       "\t\\hline\n",
       "\t& Symbol & Union… & Any & Union… & Any & Int64 & DataType\\\\\n",
       "\t\\hline\n",
       "\t1 & id & 3203.68 & 13 & 3160.5 & 6497 & 0 & Int64 \\\\\n",
       "\t2 & fixed acidity & 7.26037 & 4.8 & 7.0 & 13.0 & 0 & Float64 \\\\\n",
       "\t3 & volatile acidity & 0.352518 & 0.08 & 0.3 & 1.58 & 0 & Float64 \\\\\n",
       "\t4 & citric acid & 0.321232 & 0.0 & 0.325 & 0.78 & 0 & Float64 \\\\\n",
       "\t5 & residual sugar & 4.99152 & 0.7 & 2.5 & 23.5 & 0 & Float64 \\\\\n",
       "\t6 & chlorides & 0.0574061 & 0.015 & 0.048 & 0.413 & 0 & Float64 \\\\\n",
       "\t7 & free sulfur dioxide & 30.4616 & 3.0 & 29.0 & 146.5 & 0 & Float64 \\\\\n",
       "\t8 & total sulfur dioxide & 111.771 & 7.0 & 116.0 & 366.5 & 0 & Float64 \\\\\n",
       "\t9 & density & 0.994747 & 0.98711 & 0.9949 & 1.00369 & 0 & Float64 \\\\\n",
       "\t10 & pH & 3.23684 & 2.8 & 3.22 & 3.72 & 0 & Float64 \\\\\n",
       "\t11 & sulphates & 0.538 & 0.25 & 0.51 & 1.18 & 0 & Float64 \\\\\n",
       "\t12 & alcohol & 10.4985 & 8.5 & 10.4 & 14.05 & 0 & Float64 \\\\\n",
       "\t13 & type &  & red &  & white & 0 & String7 \\\\\n",
       "\\end{tabular}\n"
      ],
      "text/plain": [
       "\u001b[1m13×7 DataFrame\u001b[0m\n",
       "\u001b[1m Row \u001b[0m│\u001b[1m variable             \u001b[0m\u001b[1m mean      \u001b[0m\u001b[1m min     \u001b[0m\u001b[1m median \u001b[0m\u001b[1m max     \u001b[0m\u001b[1m nmissing \u001b[0m\u001b[1m el\u001b[0m ⋯\n",
       "     │\u001b[90m Symbol               \u001b[0m\u001b[90m Union…    \u001b[0m\u001b[90m Any     \u001b[0m\u001b[90m Union… \u001b[0m\u001b[90m Any     \u001b[0m\u001b[90m Int64    \u001b[0m\u001b[90m Da\u001b[0m ⋯\n",
       "─────┼──────────────────────────────────────────────────────────────────────────\n",
       "   1 │ id                    3203.68    13       3160.5  6497            0  In ⋯\n",
       "   2 │ fixed acidity         7.26037    4.8      7.0     13.0            0  Fl\n",
       "   3 │ volatile acidity      0.352518   0.08     0.3     1.58            0  Fl\n",
       "   4 │ citric acid           0.321232   0.0      0.325   0.78            0  Fl\n",
       "   5 │ residual sugar        4.99152    0.7      2.5     23.5            0  Fl ⋯\n",
       "   6 │ chlorides             0.0574061  0.015    0.048   0.413           0  Fl\n",
       "   7 │ free sulfur dioxide   30.4616    3.0      29.0    146.5           0  Fl\n",
       "   8 │ total sulfur dioxide  111.771    7.0      116.0   366.5           0  Fl\n",
       "   9 │ density               0.994747   0.98711  0.9949  1.00369         0  Fl ⋯\n",
       "  10 │ pH                    3.23684    2.8      3.22    3.72            0  Fl\n",
       "  11 │ sulphates             0.538      0.25     0.51    1.18            0  Fl\n",
       "  12 │ alcohol               10.4985    8.5      10.4    14.05           0  Fl\n",
       "  13 │ type                 \u001b[90m           \u001b[0m red     \u001b[90m        \u001b[0m white           0  St ⋯\n",
       "\u001b[36m                                                                1 column omitted\u001b[0m"
      ]
     },
     "execution_count": 4,
     "metadata": {},
     "output_type": "execute_result"
    }
   ],
   "source": [
    "describe(test_df) "
   ]
  },
  {
   "cell_type": "code",
   "execution_count": 5,
   "id": "158f9b26-14ab-4994-a530-5204caa3a123",
   "metadata": {},
   "outputs": [
    {
     "data": {
      "text/plain": [
       "((6714, 13), (820, 13))"
      ]
     },
     "execution_count": 5,
     "metadata": {},
     "output_type": "execute_result"
    }
   ],
   "source": [
    "size(train_df), size(test_df)"
   ]
  },
  {
   "cell_type": "code",
   "execution_count": 6,
   "id": "aeef4e19-09a8-4e44-ae74-5d66a9186e59",
   "metadata": {
    "scrolled": true
   },
   "outputs": [
    {
     "data": {
      "text/html": [
       "<div><div style = \"float: left;\"><span>13×7 DataFrame</span></div><div style = \"clear: both;\"></div></div><div class = \"data-frame\" style = \"overflow-x: scroll;\"><table class = \"data-frame\" style = \"margin-bottom: 6px;\"><thead><tr class = \"header\"><th class = \"rowNumber\" style = \"font-weight: bold; text-align: right;\">Row</th><th style = \"text-align: left;\">variable</th><th style = \"text-align: left;\">mean</th><th style = \"text-align: left;\">min</th><th style = \"text-align: left;\">median</th><th style = \"text-align: left;\">max</th><th style = \"text-align: left;\">nmissing</th><th style = \"text-align: left;\">eltype</th></tr><tr class = \"subheader headerLastRow\"><th class = \"rowNumber\" style = \"font-weight: bold; text-align: right;\"></th><th title = \"Symbol\" style = \"text-align: left;\">Symbol</th><th title = \"Union{Nothing, Float64}\" style = \"text-align: left;\">Union…</th><th title = \"Any\" style = \"text-align: left;\">Any</th><th title = \"Union{Nothing, Float64}\" style = \"text-align: left;\">Union…</th><th title = \"Any\" style = \"text-align: left;\">Any</th><th title = \"Int64\" style = \"text-align: left;\">Int64</th><th title = \"DataType\" style = \"text-align: left;\">DataType</th></tr></thead><tbody><tr><td class = \"rowNumber\" style = \"font-weight: bold; text-align: right;\">1</td><td style = \"text-align: left;\">fixed acidity</td><td style = \"text-align: left;\">7.25164</td><td style = \"text-align: left;\">3.8</td><td style = \"text-align: left;\">7.0</td><td style = \"text-align: left;\">15.9</td><td style = \"text-align: right;\">0</td><td style = \"text-align: left;\">Float64</td></tr><tr><td class = \"rowNumber\" style = \"font-weight: bold; text-align: right;\">2</td><td style = \"text-align: left;\">volatile acidity</td><td style = \"text-align: left;\">0.348436</td><td style = \"text-align: left;\">0.1</td><td style = \"text-align: left;\">0.3</td><td style = \"text-align: left;\">1.3</td><td style = \"text-align: right;\">0</td><td style = \"text-align: left;\">Float64</td></tr><tr><td class = \"rowNumber\" style = \"font-weight: bold; text-align: right;\">3</td><td style = \"text-align: left;\">citric acid</td><td style = \"text-align: left;\">0.317466</td><td style = \"text-align: left;\">0.0</td><td style = \"text-align: left;\">0.31</td><td style = \"text-align: left;\">1.66</td><td style = \"text-align: right;\">0</td><td style = \"text-align: left;\">Float64</td></tr><tr><td class = \"rowNumber\" style = \"font-weight: bold; text-align: right;\">4</td><td style = \"text-align: left;\">residual sugar</td><td style = \"text-align: left;\">5.41187</td><td style = \"text-align: left;\">0.6</td><td style = \"text-align: left;\">3.0</td><td style = \"text-align: left;\">65.8</td><td style = \"text-align: right;\">0</td><td style = \"text-align: left;\">Float64</td></tr><tr><td class = \"rowNumber\" style = \"font-weight: bold; text-align: right;\">5</td><td style = \"text-align: left;\">chlorides</td><td style = \"text-align: left;\">0.057506</td><td style = \"text-align: left;\">0.009</td><td style = \"text-align: left;\">0.048</td><td style = \"text-align: left;\">0.611</td><td style = \"text-align: right;\">0</td><td style = \"text-align: left;\">Float64</td></tr><tr><td class = \"rowNumber\" style = \"font-weight: bold; text-align: right;\">6</td><td style = \"text-align: left;\">free sulfur dioxide</td><td style = \"text-align: left;\">30.1326</td><td style = \"text-align: left;\">1</td><td style = \"text-align: left;\">28.0</td><td style = \"text-align: left;\">289</td><td style = \"text-align: right;\">0</td><td style = \"text-align: left;\">Int64</td></tr><tr><td class = \"rowNumber\" style = \"font-weight: bold; text-align: right;\">7</td><td style = \"text-align: left;\">total sulfur dioxide</td><td style = \"text-align: left;\">114.576</td><td style = \"text-align: left;\">6</td><td style = \"text-align: left;\">117.0</td><td style = \"text-align: left;\">440</td><td style = \"text-align: right;\">0</td><td style = \"text-align: left;\">Int64</td></tr><tr><td class = \"rowNumber\" style = \"font-weight: bold; text-align: right;\">8</td><td style = \"text-align: left;\">density</td><td style = \"text-align: left;\">0.994789</td><td style = \"text-align: left;\">0.9871</td><td style = \"text-align: left;\">0.9951</td><td style = \"text-align: left;\">1.039</td><td style = \"text-align: right;\">0</td><td style = \"text-align: left;\">Float64</td></tr><tr><td class = \"rowNumber\" style = \"font-weight: bold; text-align: right;\">9</td><td style = \"text-align: left;\">pH</td><td style = \"text-align: left;\">3.2191</td><td style = \"text-align: left;\">2.72</td><td style = \"text-align: left;\">3.21</td><td style = \"text-align: left;\">4.01</td><td style = \"text-align: right;\">0</td><td style = \"text-align: left;\">Float64</td></tr><tr><td class = \"rowNumber\" style = \"font-weight: bold; text-align: right;\">10</td><td style = \"text-align: left;\">sulphates</td><td style = \"text-align: left;\">0.53612</td><td style = \"text-align: left;\">0.22</td><td style = \"text-align: left;\">0.51</td><td style = \"text-align: left;\">2.0</td><td style = \"text-align: right;\">0</td><td style = \"text-align: left;\">Float64</td></tr><tr><td class = \"rowNumber\" style = \"font-weight: bold; text-align: right;\">11</td><td style = \"text-align: left;\">alcohol</td><td style = \"text-align: left;\">10.4587</td><td style = \"text-align: left;\">8.0</td><td style = \"text-align: left;\">10.2</td><td style = \"text-align: left;\">14.9</td><td style = \"text-align: right;\">0</td><td style = \"text-align: left;\">Float64</td></tr><tr><td class = \"rowNumber\" style = \"font-weight: bold; text-align: right;\">12</td><td style = \"text-align: left;\">quality</td><td style = \"text-align: left;\">5.7961</td><td style = \"text-align: left;\">3</td><td style = \"text-align: left;\">6.0</td><td style = \"text-align: left;\">9</td><td style = \"text-align: right;\">0</td><td style = \"text-align: left;\">Int64</td></tr><tr><td class = \"rowNumber\" style = \"font-weight: bold; text-align: right;\">13</td><td style = \"text-align: left;\">type</td><td style = \"font-style: italic; text-align: left;\"></td><td style = \"text-align: left;\">red</td><td style = \"font-style: italic; text-align: left;\"></td><td style = \"text-align: left;\">white</td><td style = \"text-align: right;\">0</td><td style = \"text-align: left;\">String7</td></tr></tbody></table></div>"
      ],
      "text/latex": [
       "\\begin{tabular}{r|ccccccc}\n",
       "\t& variable & mean & min & median & max & nmissing & eltype\\\\\n",
       "\t\\hline\n",
       "\t& Symbol & Union… & Any & Union… & Any & Int64 & DataType\\\\\n",
       "\t\\hline\n",
       "\t1 & fixed acidity & 7.25164 & 3.8 & 7.0 & 15.9 & 0 & Float64 \\\\\n",
       "\t2 & volatile acidity & 0.348436 & 0.1 & 0.3 & 1.3 & 0 & Float64 \\\\\n",
       "\t3 & citric acid & 0.317466 & 0.0 & 0.31 & 1.66 & 0 & Float64 \\\\\n",
       "\t4 & residual sugar & 5.41187 & 0.6 & 3.0 & 65.8 & 0 & Float64 \\\\\n",
       "\t5 & chlorides & 0.057506 & 0.009 & 0.048 & 0.611 & 0 & Float64 \\\\\n",
       "\t6 & free sulfur dioxide & 30.1326 & 1 & 28.0 & 289 & 0 & Int64 \\\\\n",
       "\t7 & total sulfur dioxide & 114.576 & 6 & 117.0 & 440 & 0 & Int64 \\\\\n",
       "\t8 & density & 0.994789 & 0.9871 & 0.9951 & 1.039 & 0 & Float64 \\\\\n",
       "\t9 & pH & 3.2191 & 2.72 & 3.21 & 4.01 & 0 & Float64 \\\\\n",
       "\t10 & sulphates & 0.53612 & 0.22 & 0.51 & 2.0 & 0 & Float64 \\\\\n",
       "\t11 & alcohol & 10.4587 & 8.0 & 10.2 & 14.9 & 0 & Float64 \\\\\n",
       "\t12 & quality & 5.7961 & 3 & 6.0 & 9 & 0 & Int64 \\\\\n",
       "\t13 & type &  & red &  & white & 0 & String7 \\\\\n",
       "\\end{tabular}\n"
      ],
      "text/plain": [
       "\u001b[1m13×7 DataFrame\u001b[0m\n",
       "\u001b[1m Row \u001b[0m│\u001b[1m variable             \u001b[0m\u001b[1m mean     \u001b[0m\u001b[1m min    \u001b[0m\u001b[1m median \u001b[0m\u001b[1m max   \u001b[0m\u001b[1m nmissing \u001b[0m\u001b[1m eltype\u001b[0m ⋯\n",
       "     │\u001b[90m Symbol               \u001b[0m\u001b[90m Union…   \u001b[0m\u001b[90m Any    \u001b[0m\u001b[90m Union… \u001b[0m\u001b[90m Any   \u001b[0m\u001b[90m Int64    \u001b[0m\u001b[90m DataTy\u001b[0m ⋯\n",
       "─────┼──────────────────────────────────────────────────────────────────────────\n",
       "   1 │ fixed acidity         7.25164   3.8     7.0     15.9          0  Float6 ⋯\n",
       "   2 │ volatile acidity      0.348436  0.1     0.3     1.3           0  Float6\n",
       "   3 │ citric acid           0.317466  0.0     0.31    1.66          0  Float6\n",
       "   4 │ residual sugar        5.41187   0.6     3.0     65.8          0  Float6\n",
       "   5 │ chlorides             0.057506  0.009   0.048   0.611         0  Float6 ⋯\n",
       "   6 │ free sulfur dioxide   30.1326   1       28.0    289           0  Int64\n",
       "   7 │ total sulfur dioxide  114.576   6       117.0   440           0  Int64\n",
       "   8 │ density               0.994789  0.9871  0.9951  1.039         0  Float6\n",
       "   9 │ pH                    3.2191    2.72    3.21    4.01          0  Float6 ⋯\n",
       "  10 │ sulphates             0.53612   0.22    0.51    2.0           0  Float6\n",
       "  11 │ alcohol               10.4587   8.0     10.2    14.9          0  Float6\n",
       "  12 │ quality               5.7961    3       6.0     9             0  Int64\n",
       "  13 │ type                 \u001b[90m          \u001b[0m red    \u001b[90m        \u001b[0m white         0  String ⋯\n",
       "\u001b[36m                                                                1 column omitted\u001b[0m"
      ]
     },
     "execution_count": 6,
     "metadata": {},
     "output_type": "execute_result"
    }
   ],
   "source": [
    "describe(train_df)"
   ]
  },
  {
   "cell_type": "code",
   "execution_count": 7,
   "id": "60c3db23-883b-48b9-aabf-b73fca7862b3",
   "metadata": {},
   "outputs": [
    {
     "data": {
      "text/plain": [
       "Dict{String7, Int64} with 2 entries:\n",
       "  \"white\" => 4933\n",
       "  \"red\"   => 1781"
      ]
     },
     "execution_count": 7,
     "metadata": {},
     "output_type": "execute_result"
    }
   ],
   "source": [
    "countmap(train_df[!, :type])"
   ]
  },
  {
   "cell_type": "code",
   "execution_count": 8,
   "id": "e695be97-f2f2-424d-a4b1-9a9b821d6c47",
   "metadata": {},
   "outputs": [],
   "source": [
    "train_df[!, :quality] .= Float32.(train_df[!, :quality]);\n",
    "train_df[!, :\"free sulfur dioxide\"] .= Float32.(train_df[!, :\"free sulfur dioxide\"]);\n",
    "train_df[!, :\"total sulfur dioxide\"] .= Float32.(train_df[!, :\"total sulfur dioxide\"]);"
   ]
  },
  {
   "cell_type": "code",
   "execution_count": 9,
   "id": "388ce417-f1e1-4f5f-a32d-acfe292aebc1",
   "metadata": {
    "scrolled": true
   },
   "outputs": [
    {
     "data": {
      "text/html": [
       "<div><div style = \"float: left;\"><span>6714×2 DataFrame</span></div><div style = \"float: right;\"><span style = \"font-style: italic;\">6689 rows omitted</span></div><div style = \"clear: both;\"></div></div><div class = \"data-frame\" style = \"overflow-x: scroll;\"><table class = \"data-frame\" style = \"margin-bottom: 6px;\"><thead><tr class = \"header\"><th class = \"rowNumber\" style = \"font-weight: bold; text-align: right;\">Row</th><th style = \"text-align: left;\">white</th><th style = \"text-align: left;\">red</th></tr><tr class = \"subheader headerLastRow\"><th class = \"rowNumber\" style = \"font-weight: bold; text-align: right;\"></th><th title = \"Bool\" style = \"text-align: left;\">Bool</th><th title = \"Bool\" style = \"text-align: left;\">Bool</th></tr></thead><tbody><tr><td class = \"rowNumber\" style = \"font-weight: bold; text-align: right;\">1</td><td style = \"text-align: right;\">true</td><td style = \"text-align: right;\">false</td></tr><tr><td class = \"rowNumber\" style = \"font-weight: bold; text-align: right;\">2</td><td style = \"text-align: right;\">false</td><td style = \"text-align: right;\">true</td></tr><tr><td class = \"rowNumber\" style = \"font-weight: bold; text-align: right;\">3</td><td style = \"text-align: right;\">false</td><td style = \"text-align: right;\">true</td></tr><tr><td class = \"rowNumber\" style = \"font-weight: bold; text-align: right;\">4</td><td style = \"text-align: right;\">true</td><td style = \"text-align: right;\">false</td></tr><tr><td class = \"rowNumber\" style = \"font-weight: bold; text-align: right;\">5</td><td style = \"text-align: right;\">true</td><td style = \"text-align: right;\">false</td></tr><tr><td class = \"rowNumber\" style = \"font-weight: bold; text-align: right;\">6</td><td style = \"text-align: right;\">true</td><td style = \"text-align: right;\">false</td></tr><tr><td class = \"rowNumber\" style = \"font-weight: bold; text-align: right;\">7</td><td style = \"text-align: right;\">true</td><td style = \"text-align: right;\">false</td></tr><tr><td class = \"rowNumber\" style = \"font-weight: bold; text-align: right;\">8</td><td style = \"text-align: right;\">true</td><td style = \"text-align: right;\">false</td></tr><tr><td class = \"rowNumber\" style = \"font-weight: bold; text-align: right;\">9</td><td style = \"text-align: right;\">true</td><td style = \"text-align: right;\">false</td></tr><tr><td class = \"rowNumber\" style = \"font-weight: bold; text-align: right;\">10</td><td style = \"text-align: right;\">true</td><td style = \"text-align: right;\">false</td></tr><tr><td class = \"rowNumber\" style = \"font-weight: bold; text-align: right;\">11</td><td style = \"text-align: right;\">true</td><td style = \"text-align: right;\">false</td></tr><tr><td class = \"rowNumber\" style = \"font-weight: bold; text-align: right;\">12</td><td style = \"text-align: right;\">true</td><td style = \"text-align: right;\">false</td></tr><tr><td class = \"rowNumber\" style = \"font-weight: bold; text-align: right;\">13</td><td style = \"text-align: right;\">true</td><td style = \"text-align: right;\">false</td></tr><tr><td style = \"text-align: right;\">&vellip;</td><td style = \"text-align: right;\">&vellip;</td><td style = \"text-align: right;\">&vellip;</td></tr><tr><td class = \"rowNumber\" style = \"font-weight: bold; text-align: right;\">6703</td><td style = \"text-align: right;\">true</td><td style = \"text-align: right;\">false</td></tr><tr><td class = \"rowNumber\" style = \"font-weight: bold; text-align: right;\">6704</td><td style = \"text-align: right;\">false</td><td style = \"text-align: right;\">true</td></tr><tr><td class = \"rowNumber\" style = \"font-weight: bold; text-align: right;\">6705</td><td style = \"text-align: right;\">false</td><td style = \"text-align: right;\">true</td></tr><tr><td class = \"rowNumber\" style = \"font-weight: bold; text-align: right;\">6706</td><td style = \"text-align: right;\">true</td><td style = \"text-align: right;\">false</td></tr><tr><td class = \"rowNumber\" style = \"font-weight: bold; text-align: right;\">6707</td><td style = \"text-align: right;\">true</td><td style = \"text-align: right;\">false</td></tr><tr><td class = \"rowNumber\" style = \"font-weight: bold; text-align: right;\">6708</td><td style = \"text-align: right;\">true</td><td style = \"text-align: right;\">false</td></tr><tr><td class = \"rowNumber\" style = \"font-weight: bold; text-align: right;\">6709</td><td style = \"text-align: right;\">false</td><td style = \"text-align: right;\">true</td></tr><tr><td class = \"rowNumber\" style = \"font-weight: bold; text-align: right;\">6710</td><td style = \"text-align: right;\">true</td><td style = \"text-align: right;\">false</td></tr><tr><td class = \"rowNumber\" style = \"font-weight: bold; text-align: right;\">6711</td><td style = \"text-align: right;\">true</td><td style = \"text-align: right;\">false</td></tr><tr><td class = \"rowNumber\" style = \"font-weight: bold; text-align: right;\">6712</td><td style = \"text-align: right;\">true</td><td style = \"text-align: right;\">false</td></tr><tr><td class = \"rowNumber\" style = \"font-weight: bold; text-align: right;\">6713</td><td style = \"text-align: right;\">true</td><td style = \"text-align: right;\">false</td></tr><tr><td class = \"rowNumber\" style = \"font-weight: bold; text-align: right;\">6714</td><td style = \"text-align: right;\">true</td><td style = \"text-align: right;\">false</td></tr></tbody></table></div>"
      ],
      "text/latex": [
       "\\begin{tabular}{r|cc}\n",
       "\t& white & red\\\\\n",
       "\t\\hline\n",
       "\t& Bool & Bool\\\\\n",
       "\t\\hline\n",
       "\t1 & 1 & 0 \\\\\n",
       "\t2 & 0 & 1 \\\\\n",
       "\t3 & 0 & 1 \\\\\n",
       "\t4 & 1 & 0 \\\\\n",
       "\t5 & 1 & 0 \\\\\n",
       "\t6 & 1 & 0 \\\\\n",
       "\t7 & 1 & 0 \\\\\n",
       "\t8 & 1 & 0 \\\\\n",
       "\t9 & 1 & 0 \\\\\n",
       "\t10 & 1 & 0 \\\\\n",
       "\t11 & 1 & 0 \\\\\n",
       "\t12 & 1 & 0 \\\\\n",
       "\t13 & 1 & 0 \\\\\n",
       "\t14 & 1 & 0 \\\\\n",
       "\t15 & 1 & 0 \\\\\n",
       "\t16 & 1 & 0 \\\\\n",
       "\t17 & 1 & 0 \\\\\n",
       "\t18 & 1 & 0 \\\\\n",
       "\t19 & 0 & 1 \\\\\n",
       "\t20 & 1 & 0 \\\\\n",
       "\t21 & 0 & 1 \\\\\n",
       "\t22 & 0 & 1 \\\\\n",
       "\t23 & 1 & 0 \\\\\n",
       "\t24 & 1 & 0 \\\\\n",
       "\t25 & 0 & 1 \\\\\n",
       "\t26 & 1 & 0 \\\\\n",
       "\t27 & 1 & 0 \\\\\n",
       "\t28 & 1 & 0 \\\\\n",
       "\t29 & 1 & 0 \\\\\n",
       "\t30 & 1 & 0 \\\\\n",
       "\t$\\dots$ & $\\dots$ & $\\dots$ \\\\\n",
       "\\end{tabular}\n"
      ],
      "text/plain": [
       "\u001b[1m6714×2 DataFrame\u001b[0m\n",
       "\u001b[1m  Row \u001b[0m│\u001b[1m white \u001b[0m\u001b[1m red   \u001b[0m\n",
       "      │\u001b[90m Bool  \u001b[0m\u001b[90m Bool  \u001b[0m\n",
       "──────┼──────────────\n",
       "    1 │  true  false\n",
       "    2 │ false   true\n",
       "    3 │ false   true\n",
       "    4 │  true  false\n",
       "    5 │  true  false\n",
       "    6 │  true  false\n",
       "    7 │  true  false\n",
       "    8 │  true  false\n",
       "    9 │  true  false\n",
       "   10 │  true  false\n",
       "   11 │  true  false\n",
       "  ⋮   │   ⋮      ⋮\n",
       " 6705 │ false   true\n",
       " 6706 │  true  false\n",
       " 6707 │  true  false\n",
       " 6708 │  true  false\n",
       " 6709 │ false   true\n",
       " 6710 │  true  false\n",
       " 6711 │  true  false\n",
       " 6712 │  true  false\n",
       " 6713 │  true  false\n",
       " 6714 │  true  false\n",
       "\u001b[36m    6693 rows omitted\u001b[0m"
      ]
     },
     "execution_count": 9,
     "metadata": {},
     "output_type": "execute_result"
    }
   ],
   "source": [
    "result = unique(train_df[!, :type]) .== permutedims(train_df[!, :type])\n",
    "column1, column2 = unique(train_df[!, :type])\n",
    "df = DataFrame(\n",
    "    Symbol(column1) => result[1, :],\n",
    "    Symbol(column2) => result[2, :]\n",
    ")"
   ]
  },
  {
   "cell_type": "code",
   "execution_count": 10,
   "id": "13bb3384-e684-42c2-ad4c-02b4a03b30d5",
   "metadata": {},
   "outputs": [
    {
     "data": {
      "text/html": [
       "<div><div style = \"float: left;\"><span>6×14 DataFrame</span></div><div style = \"clear: both;\"></div></div><div class = \"data-frame\" style = \"overflow-x: scroll;\"><table class = \"data-frame\" style = \"margin-bottom: 6px;\"><thead><tr class = \"header\"><th class = \"rowNumber\" style = \"font-weight: bold; text-align: right;\">Row</th><th style = \"text-align: left;\">fixed acidity</th><th style = \"text-align: left;\">volatile acidity</th><th style = \"text-align: left;\">citric acid</th><th style = \"text-align: left;\">residual sugar</th><th style = \"text-align: left;\">chlorides</th><th style = \"text-align: left;\">free sulfur dioxide</th><th style = \"text-align: left;\">total sulfur dioxide</th><th style = \"text-align: left;\">density</th><th style = \"text-align: left;\">pH</th><th style = \"text-align: left;\">sulphates</th><th style = \"text-align: left;\">alcohol</th><th style = \"text-align: left;\">quality</th><th style = \"text-align: left;\">white</th><th style = \"text-align: left;\">red</th></tr><tr class = \"subheader headerLastRow\"><th class = \"rowNumber\" style = \"font-weight: bold; text-align: right;\"></th><th title = \"Float64\" style = \"text-align: left;\">Float64</th><th title = \"Float64\" style = \"text-align: left;\">Float64</th><th title = \"Float64\" style = \"text-align: left;\">Float64</th><th title = \"Float64\" style = \"text-align: left;\">Float64</th><th title = \"Float64\" style = \"text-align: left;\">Float64</th><th title = \"Float32\" style = \"text-align: left;\">Float32</th><th title = \"Float32\" style = \"text-align: left;\">Float32</th><th title = \"Float64\" style = \"text-align: left;\">Float64</th><th title = \"Float64\" style = \"text-align: left;\">Float64</th><th title = \"Float64\" style = \"text-align: left;\">Float64</th><th title = \"Float64\" style = \"text-align: left;\">Float64</th><th title = \"Float32\" style = \"text-align: left;\">Float32</th><th title = \"Bool\" style = \"text-align: left;\">Bool</th><th title = \"Bool\" style = \"text-align: left;\">Bool</th></tr></thead><tbody><tr><td class = \"rowNumber\" style = \"font-weight: bold; text-align: right;\">1</td><td style = \"text-align: right;\">6.6</td><td style = \"text-align: right;\">0.3</td><td style = \"text-align: right;\">0.36</td><td style = \"text-align: right;\">1.2</td><td style = \"text-align: right;\">0.035</td><td style = \"text-align: right;\">43.0</td><td style = \"text-align: right;\">126.0</td><td style = \"text-align: right;\">0.9909</td><td style = \"text-align: right;\">3.01</td><td style = \"text-align: right;\">0.63</td><td style = \"text-align: right;\">11.4</td><td style = \"text-align: right;\">6.0</td><td style = \"text-align: right;\">true</td><td style = \"text-align: right;\">false</td></tr><tr><td class = \"rowNumber\" style = \"font-weight: bold; text-align: right;\">2</td><td style = \"text-align: right;\">7.7</td><td style = \"text-align: right;\">0.5</td><td style = \"text-align: right;\">0.26</td><td style = \"text-align: right;\">1.9</td><td style = \"text-align: right;\">0.062</td><td style = \"text-align: right;\">9.0</td><td style = \"text-align: right;\">31.0</td><td style = \"text-align: right;\">0.9966</td><td style = \"text-align: right;\">3.39</td><td style = \"text-align: right;\">0.64</td><td style = \"text-align: right;\">9.6</td><td style = \"text-align: right;\">5.0</td><td style = \"text-align: right;\">false</td><td style = \"text-align: right;\">true</td></tr><tr><td class = \"rowNumber\" style = \"font-weight: bold; text-align: right;\">3</td><td style = \"text-align: right;\">8.4</td><td style = \"text-align: right;\">0.5</td><td style = \"text-align: right;\">0.35</td><td style = \"text-align: right;\">2.9</td><td style = \"text-align: right;\">0.076</td><td style = \"text-align: right;\">21.0</td><td style = \"text-align: right;\">127.0</td><td style = \"text-align: right;\">0.9976</td><td style = \"text-align: right;\">3.23</td><td style = \"text-align: right;\">0.63</td><td style = \"text-align: right;\">9.2</td><td style = \"text-align: right;\">5.0</td><td style = \"text-align: right;\">false</td><td style = \"text-align: right;\">true</td></tr><tr><td class = \"rowNumber\" style = \"font-weight: bold; text-align: right;\">4</td><td style = \"text-align: right;\">7.5</td><td style = \"text-align: right;\">0.4</td><td style = \"text-align: right;\">0.33</td><td style = \"text-align: right;\">5.0</td><td style = \"text-align: right;\">0.045</td><td style = \"text-align: right;\">30.0</td><td style = \"text-align: right;\">131.0</td><td style = \"text-align: right;\">0.9942</td><td style = \"text-align: right;\">3.32</td><td style = \"text-align: right;\">0.44</td><td style = \"text-align: right;\">10.9</td><td style = \"text-align: right;\">6.0</td><td style = \"text-align: right;\">true</td><td style = \"text-align: right;\">false</td></tr><tr><td class = \"rowNumber\" style = \"font-weight: bold; text-align: right;\">5</td><td style = \"text-align: right;\">6.4</td><td style = \"text-align: right;\">0.2</td><td style = \"text-align: right;\">0.25</td><td style = \"text-align: right;\">20.2</td><td style = \"text-align: right;\">0.083</td><td style = \"text-align: right;\">35.0</td><td style = \"text-align: right;\">157.0</td><td style = \"text-align: right;\">0.9998</td><td style = \"text-align: right;\">3.17</td><td style = \"text-align: right;\">0.5</td><td style = \"text-align: right;\">9.1</td><td style = \"text-align: right;\">5.0</td><td style = \"text-align: right;\">true</td><td style = \"text-align: right;\">false</td></tr><tr><td class = \"rowNumber\" style = \"font-weight: bold; text-align: right;\">6</td><td style = \"text-align: right;\">7.6</td><td style = \"text-align: right;\">0.3</td><td style = \"text-align: right;\">0.52</td><td style = \"text-align: right;\">13.2</td><td style = \"text-align: right;\">0.042</td><td style = \"text-align: right;\">61.0</td><td style = \"text-align: right;\">148.0</td><td style = \"text-align: right;\">0.9984</td><td style = \"text-align: right;\">2.98</td><td style = \"text-align: right;\">0.47</td><td style = \"text-align: right;\">9.1</td><td style = \"text-align: right;\">6.0</td><td style = \"text-align: right;\">true</td><td style = \"text-align: right;\">false</td></tr></tbody></table></div>"
      ],
      "text/latex": [
       "\\begin{tabular}{r|ccccccc}\n",
       "\t& fixed acidity & volatile acidity & citric acid & residual sugar & chlorides & free sulfur dioxide & \\\\\n",
       "\t\\hline\n",
       "\t& Float64 & Float64 & Float64 & Float64 & Float64 & Float32 & \\\\\n",
       "\t\\hline\n",
       "\t1 & 6.6 & 0.3 & 0.36 & 1.2 & 0.035 & 43.0 & $\\dots$ \\\\\n",
       "\t2 & 7.7 & 0.5 & 0.26 & 1.9 & 0.062 & 9.0 & $\\dots$ \\\\\n",
       "\t3 & 8.4 & 0.5 & 0.35 & 2.9 & 0.076 & 21.0 & $\\dots$ \\\\\n",
       "\t4 & 7.5 & 0.4 & 0.33 & 5.0 & 0.045 & 30.0 & $\\dots$ \\\\\n",
       "\t5 & 6.4 & 0.2 & 0.25 & 20.2 & 0.083 & 35.0 & $\\dots$ \\\\\n",
       "\t6 & 7.6 & 0.3 & 0.52 & 13.2 & 0.042 & 61.0 & $\\dots$ \\\\\n",
       "\\end{tabular}\n"
      ],
      "text/plain": [
       "\u001b[1m6×14 DataFrame\u001b[0m\n",
       "\u001b[1m Row \u001b[0m│\u001b[1m fixed acidity \u001b[0m\u001b[1m volatile acidity \u001b[0m\u001b[1m citric acid \u001b[0m\u001b[1m residual sugar \u001b[0m\u001b[1m chlorides\u001b[0m ⋯\n",
       "     │\u001b[90m Float64       \u001b[0m\u001b[90m Float64          \u001b[0m\u001b[90m Float64     \u001b[0m\u001b[90m Float64        \u001b[0m\u001b[90m Float64  \u001b[0m ⋯\n",
       "─────┼──────────────────────────────────────────────────────────────────────────\n",
       "   1 │           6.6               0.3         0.36             1.2      0.035 ⋯\n",
       "   2 │           7.7               0.5         0.26             1.9      0.062\n",
       "   3 │           8.4               0.5         0.35             2.9      0.076\n",
       "   4 │           7.5               0.4         0.33             5.0      0.045\n",
       "   5 │           6.4               0.2         0.25            20.2      0.083 ⋯\n",
       "   6 │           7.6               0.3         0.52            13.2      0.042\n",
       "\u001b[36m                                                               9 columns omitted\u001b[0m"
      ]
     },
     "execution_count": 10,
     "metadata": {},
     "output_type": "execute_result"
    }
   ],
   "source": [
    "(train_df_dropped = hcat(select(train_df, Not(:type)), df)) |> x -> first(x, 6)"
   ]
  },
  {
   "cell_type": "code",
   "execution_count": 11,
   "id": "4a5d1b6f-df56-44c8-89b4-cfeb800d9e53",
   "metadata": {},
   "outputs": [
    {
     "data": {
      "text/html": [
       "<div><div style = \"float: left;\"><span>6714×14 DataFrame</span></div><div style = \"float: right;\"><span style = \"font-style: italic;\">6689 rows omitted</span></div><div style = \"clear: both;\"></div></div><div class = \"data-frame\" style = \"overflow-x: scroll;\"><table class = \"data-frame\" style = \"margin-bottom: 6px;\"><thead><tr class = \"header\"><th class = \"rowNumber\" style = \"font-weight: bold; text-align: right;\">Row</th><th style = \"text-align: left;\">fixed acidity</th><th style = \"text-align: left;\">volatile acidity</th><th style = \"text-align: left;\">citric acid</th><th style = \"text-align: left;\">residual sugar</th><th style = \"text-align: left;\">chlorides</th><th style = \"text-align: left;\">free sulfur dioxide</th><th style = \"text-align: left;\">total sulfur dioxide</th><th style = \"text-align: left;\">density</th><th style = \"text-align: left;\">pH</th><th style = \"text-align: left;\">sulphates</th><th style = \"text-align: left;\">alcohol</th><th style = \"text-align: left;\">quality</th><th style = \"text-align: left;\">white</th><th style = \"text-align: left;\">red</th></tr><tr class = \"subheader headerLastRow\"><th class = \"rowNumber\" style = \"font-weight: bold; text-align: right;\"></th><th title = \"Float64\" style = \"text-align: left;\">Float64</th><th title = \"Float64\" style = \"text-align: left;\">Float64</th><th title = \"Float64\" style = \"text-align: left;\">Float64</th><th title = \"Float64\" style = \"text-align: left;\">Float64</th><th title = \"Float64\" style = \"text-align: left;\">Float64</th><th title = \"Float32\" style = \"text-align: left;\">Float32</th><th title = \"Float32\" style = \"text-align: left;\">Float32</th><th title = \"Float64\" style = \"text-align: left;\">Float64</th><th title = \"Float64\" style = \"text-align: left;\">Float64</th><th title = \"Float64\" style = \"text-align: left;\">Float64</th><th title = \"Float64\" style = \"text-align: left;\">Float64</th><th title = \"Float32\" style = \"text-align: left;\">Float32</th><th title = \"Bool\" style = \"text-align: left;\">Bool</th><th title = \"Bool\" style = \"text-align: left;\">Bool</th></tr></thead><tbody><tr><td class = \"rowNumber\" style = \"font-weight: bold; text-align: right;\">1</td><td style = \"text-align: right;\">6.6</td><td style = \"text-align: right;\">0.3</td><td style = \"text-align: right;\">0.36</td><td style = \"text-align: right;\">1.2</td><td style = \"text-align: right;\">0.035</td><td style = \"text-align: right;\">43.0</td><td style = \"text-align: right;\">126.0</td><td style = \"text-align: right;\">0.9909</td><td style = \"text-align: right;\">3.01</td><td style = \"text-align: right;\">0.63</td><td style = \"text-align: right;\">11.4</td><td style = \"text-align: right;\">6.0</td><td style = \"text-align: right;\">true</td><td style = \"text-align: right;\">false</td></tr><tr><td class = \"rowNumber\" style = \"font-weight: bold; text-align: right;\">2</td><td style = \"text-align: right;\">7.7</td><td style = \"text-align: right;\">0.5</td><td style = \"text-align: right;\">0.26</td><td style = \"text-align: right;\">1.9</td><td style = \"text-align: right;\">0.062</td><td style = \"text-align: right;\">9.0</td><td style = \"text-align: right;\">31.0</td><td style = \"text-align: right;\">0.9966</td><td style = \"text-align: right;\">3.39</td><td style = \"text-align: right;\">0.64</td><td style = \"text-align: right;\">9.6</td><td style = \"text-align: right;\">5.0</td><td style = \"text-align: right;\">false</td><td style = \"text-align: right;\">true</td></tr><tr><td class = \"rowNumber\" style = \"font-weight: bold; text-align: right;\">3</td><td style = \"text-align: right;\">8.4</td><td style = \"text-align: right;\">0.5</td><td style = \"text-align: right;\">0.35</td><td style = \"text-align: right;\">2.9</td><td style = \"text-align: right;\">0.076</td><td style = \"text-align: right;\">21.0</td><td style = \"text-align: right;\">127.0</td><td style = \"text-align: right;\">0.9976</td><td style = \"text-align: right;\">3.23</td><td style = \"text-align: right;\">0.63</td><td style = \"text-align: right;\">9.2</td><td style = \"text-align: right;\">5.0</td><td style = \"text-align: right;\">false</td><td style = \"text-align: right;\">true</td></tr><tr><td class = \"rowNumber\" style = \"font-weight: bold; text-align: right;\">4</td><td style = \"text-align: right;\">7.5</td><td style = \"text-align: right;\">0.4</td><td style = \"text-align: right;\">0.33</td><td style = \"text-align: right;\">5.0</td><td style = \"text-align: right;\">0.045</td><td style = \"text-align: right;\">30.0</td><td style = \"text-align: right;\">131.0</td><td style = \"text-align: right;\">0.9942</td><td style = \"text-align: right;\">3.32</td><td style = \"text-align: right;\">0.44</td><td style = \"text-align: right;\">10.9</td><td style = \"text-align: right;\">6.0</td><td style = \"text-align: right;\">true</td><td style = \"text-align: right;\">false</td></tr><tr><td class = \"rowNumber\" style = \"font-weight: bold; text-align: right;\">5</td><td style = \"text-align: right;\">6.4</td><td style = \"text-align: right;\">0.2</td><td style = \"text-align: right;\">0.25</td><td style = \"text-align: right;\">20.2</td><td style = \"text-align: right;\">0.083</td><td style = \"text-align: right;\">35.0</td><td style = \"text-align: right;\">157.0</td><td style = \"text-align: right;\">0.9998</td><td style = \"text-align: right;\">3.17</td><td style = \"text-align: right;\">0.5</td><td style = \"text-align: right;\">9.1</td><td style = \"text-align: right;\">5.0</td><td style = \"text-align: right;\">true</td><td style = \"text-align: right;\">false</td></tr><tr><td class = \"rowNumber\" style = \"font-weight: bold; text-align: right;\">6</td><td style = \"text-align: right;\">7.6</td><td style = \"text-align: right;\">0.3</td><td style = \"text-align: right;\">0.52</td><td style = \"text-align: right;\">13.2</td><td style = \"text-align: right;\">0.042</td><td style = \"text-align: right;\">61.0</td><td style = \"text-align: right;\">148.0</td><td style = \"text-align: right;\">0.9984</td><td style = \"text-align: right;\">2.98</td><td style = \"text-align: right;\">0.47</td><td style = \"text-align: right;\">9.1</td><td style = \"text-align: right;\">6.0</td><td style = \"text-align: right;\">true</td><td style = \"text-align: right;\">false</td></tr><tr><td class = \"rowNumber\" style = \"font-weight: bold; text-align: right;\">7</td><td style = \"text-align: right;\">6.4</td><td style = \"text-align: right;\">0.3</td><td style = \"text-align: right;\">0.4</td><td style = \"text-align: right;\">6.2</td><td style = \"text-align: right;\">0.04</td><td style = \"text-align: right;\">46.0</td><td style = \"text-align: right;\">169.0</td><td style = \"text-align: right;\">0.9953</td><td style = \"text-align: right;\">3.15</td><td style = \"text-align: right;\">0.46</td><td style = \"text-align: right;\">9.3</td><td style = \"text-align: right;\">6.0</td><td style = \"text-align: right;\">true</td><td style = \"text-align: right;\">false</td></tr><tr><td class = \"rowNumber\" style = \"font-weight: bold; text-align: right;\">8</td><td style = \"text-align: right;\">6.6</td><td style = \"text-align: right;\">0.3</td><td style = \"text-align: right;\">0.36</td><td style = \"text-align: right;\">1.7</td><td style = \"text-align: right;\">0.038</td><td style = \"text-align: right;\">22.0</td><td style = \"text-align: right;\">101.0</td><td style = \"text-align: right;\">0.9912</td><td style = \"text-align: right;\">3.29</td><td style = \"text-align: right;\">0.57</td><td style = \"text-align: right;\">11.6</td><td style = \"text-align: right;\">6.0</td><td style = \"text-align: right;\">true</td><td style = \"text-align: right;\">false</td></tr><tr><td class = \"rowNumber\" style = \"font-weight: bold; text-align: right;\">9</td><td style = \"text-align: right;\">7.6</td><td style = \"text-align: right;\">0.3</td><td style = \"text-align: right;\">0.25</td><td style = \"text-align: right;\">9.5</td><td style = \"text-align: right;\">0.03</td><td style = \"text-align: right;\">15.0</td><td style = \"text-align: right;\">136.0</td><td style = \"text-align: right;\">0.9937</td><td style = \"text-align: right;\">3.1</td><td style = \"text-align: right;\">0.44</td><td style = \"text-align: right;\">12.1</td><td style = \"text-align: right;\">6.0</td><td style = \"text-align: right;\">true</td><td style = \"text-align: right;\">false</td></tr><tr><td class = \"rowNumber\" style = \"font-weight: bold; text-align: right;\">10</td><td style = \"text-align: right;\">7.6</td><td style = \"text-align: right;\">0.3</td><td style = \"text-align: right;\">0.49</td><td style = \"text-align: right;\">20.2</td><td style = \"text-align: right;\">0.06</td><td style = \"text-align: right;\">30.0</td><td style = \"text-align: right;\">145.0</td><td style = \"text-align: right;\">1.002</td><td style = \"text-align: right;\">3.01</td><td style = \"text-align: right;\">0.44</td><td style = \"text-align: right;\">8.5</td><td style = \"text-align: right;\">5.0</td><td style = \"text-align: right;\">true</td><td style = \"text-align: right;\">false</td></tr><tr><td class = \"rowNumber\" style = \"font-weight: bold; text-align: right;\">11</td><td style = \"text-align: right;\">6.6</td><td style = \"text-align: right;\">0.2</td><td style = \"text-align: right;\">0.33</td><td style = \"text-align: right;\">1.8</td><td style = \"text-align: right;\">0.035</td><td style = \"text-align: right;\">42.0</td><td style = \"text-align: right;\">148.0</td><td style = \"text-align: right;\">0.992</td><td style = \"text-align: right;\">3.15</td><td style = \"text-align: right;\">0.36</td><td style = \"text-align: right;\">10.2</td><td style = \"text-align: right;\">5.0</td><td style = \"text-align: right;\">true</td><td style = \"text-align: right;\">false</td></tr><tr><td class = \"rowNumber\" style = \"font-weight: bold; text-align: right;\">12</td><td style = \"text-align: right;\">6.4</td><td style = \"text-align: right;\">0.2</td><td style = \"text-align: right;\">0.42</td><td style = \"text-align: right;\">1.0</td><td style = \"text-align: right;\">0.036</td><td style = \"text-align: right;\">29.0</td><td style = \"text-align: right;\">113.0</td><td style = \"text-align: right;\">0.9908</td><td style = \"text-align: right;\">3.18</td><td style = \"text-align: right;\">0.52</td><td style = \"text-align: right;\">11.0</td><td style = \"text-align: right;\">6.0</td><td style = \"text-align: right;\">true</td><td style = \"text-align: right;\">false</td></tr><tr><td class = \"rowNumber\" style = \"font-weight: bold; text-align: right;\">13</td><td style = \"text-align: right;\">6.2</td><td style = \"text-align: right;\">0.3</td><td style = \"text-align: right;\">0.27</td><td style = \"text-align: right;\">1.3</td><td style = \"text-align: right;\">0.037</td><td style = \"text-align: right;\">30.0</td><td style = \"text-align: right;\">86.0</td><td style = \"text-align: right;\">0.9883</td><td style = \"text-align: right;\">3.05</td><td style = \"text-align: right;\">0.59</td><td style = \"text-align: right;\">12.9</td><td style = \"text-align: right;\">7.0</td><td style = \"text-align: right;\">true</td><td style = \"text-align: right;\">false</td></tr><tr><td style = \"text-align: right;\">&vellip;</td><td style = \"text-align: right;\">&vellip;</td><td style = \"text-align: right;\">&vellip;</td><td style = \"text-align: right;\">&vellip;</td><td style = \"text-align: right;\">&vellip;</td><td style = \"text-align: right;\">&vellip;</td><td style = \"text-align: right;\">&vellip;</td><td style = \"text-align: right;\">&vellip;</td><td style = \"text-align: right;\">&vellip;</td><td style = \"text-align: right;\">&vellip;</td><td style = \"text-align: right;\">&vellip;</td><td style = \"text-align: right;\">&vellip;</td><td style = \"text-align: right;\">&vellip;</td><td style = \"text-align: right;\">&vellip;</td><td style = \"text-align: right;\">&vellip;</td></tr><tr><td class = \"rowNumber\" style = \"font-weight: bold; text-align: right;\">6703</td><td style = \"text-align: right;\">6.4</td><td style = \"text-align: right;\">0.2</td><td style = \"text-align: right;\">0.38</td><td style = \"text-align: right;\">9.1</td><td style = \"text-align: right;\">0.044</td><td style = \"text-align: right;\">35.0</td><td style = \"text-align: right;\">127.0</td><td style = \"text-align: right;\">0.9933</td><td style = \"text-align: right;\">2.97</td><td style = \"text-align: right;\">0.3</td><td style = \"text-align: right;\">11.0</td><td style = \"text-align: right;\">7.0</td><td style = \"text-align: right;\">true</td><td style = \"text-align: right;\">false</td></tr><tr><td class = \"rowNumber\" style = \"font-weight: bold; text-align: right;\">6704</td><td style = \"text-align: right;\">7.0</td><td style = \"text-align: right;\">0.5</td><td style = \"text-align: right;\">0.09</td><td style = \"text-align: right;\">2.0</td><td style = \"text-align: right;\">0.081</td><td style = \"text-align: right;\">10.0</td><td style = \"text-align: right;\">16.0</td><td style = \"text-align: right;\">0.9948</td><td style = \"text-align: right;\">3.43</td><td style = \"text-align: right;\">0.59</td><td style = \"text-align: right;\">11.5</td><td style = \"text-align: right;\">6.0</td><td style = \"text-align: right;\">false</td><td style = \"text-align: right;\">true</td></tr><tr><td class = \"rowNumber\" style = \"font-weight: bold; text-align: right;\">6705</td><td style = \"text-align: right;\">5.3</td><td style = \"text-align: right;\">0.7</td><td style = \"text-align: right;\">0.19</td><td style = \"text-align: right;\">1.5</td><td style = \"text-align: right;\">0.161</td><td style = \"text-align: right;\">7.0</td><td style = \"text-align: right;\">62.0</td><td style = \"text-align: right;\">0.994</td><td style = \"text-align: right;\">3.62</td><td style = \"text-align: right;\">0.61</td><td style = \"text-align: right;\">11.0</td><td style = \"text-align: right;\">5.0</td><td style = \"text-align: right;\">false</td><td style = \"text-align: right;\">true</td></tr><tr><td class = \"rowNumber\" style = \"font-weight: bold; text-align: right;\">6706</td><td style = \"text-align: right;\">6.9</td><td style = \"text-align: right;\">0.4</td><td style = \"text-align: right;\">0.29</td><td style = \"text-align: right;\">13.7</td><td style = \"text-align: right;\">0.048</td><td style = \"text-align: right;\">52.0</td><td style = \"text-align: right;\">189.0</td><td style = \"text-align: right;\">0.9978</td><td style = \"text-align: right;\">3.0</td><td style = \"text-align: right;\">0.6</td><td style = \"text-align: right;\">9.5</td><td style = \"text-align: right;\">6.0</td><td style = \"text-align: right;\">true</td><td style = \"text-align: right;\">false</td></tr><tr><td class = \"rowNumber\" style = \"font-weight: bold; text-align: right;\">6707</td><td style = \"text-align: right;\">6.4</td><td style = \"text-align: right;\">0.3</td><td style = \"text-align: right;\">0.5</td><td style = \"text-align: right;\">10.7</td><td style = \"text-align: right;\">0.047</td><td style = \"text-align: right;\">57.0</td><td style = \"text-align: right;\">206.0</td><td style = \"text-align: right;\">0.9968</td><td style = \"text-align: right;\">3.08</td><td style = \"text-align: right;\">0.6</td><td style = \"text-align: right;\">9.4</td><td style = \"text-align: right;\">5.0</td><td style = \"text-align: right;\">true</td><td style = \"text-align: right;\">false</td></tr><tr><td class = \"rowNumber\" style = \"font-weight: bold; text-align: right;\">6708</td><td style = \"text-align: right;\">6.9</td><td style = \"text-align: right;\">0.4</td><td style = \"text-align: right;\">0.62</td><td style = \"text-align: right;\">11.9</td><td style = \"text-align: right;\">0.045</td><td style = \"text-align: right;\">53.0</td><td style = \"text-align: right;\">156.0</td><td style = \"text-align: right;\">0.9975</td><td style = \"text-align: right;\">3.12</td><td style = \"text-align: right;\">0.45</td><td style = \"text-align: right;\">8.9</td><td style = \"text-align: right;\">5.0</td><td style = \"text-align: right;\">true</td><td style = \"text-align: right;\">false</td></tr><tr><td class = \"rowNumber\" style = \"font-weight: bold; text-align: right;\">6709</td><td style = \"text-align: right;\">7.1</td><td style = \"text-align: right;\">0.5</td><td style = \"text-align: right;\">0.03</td><td style = \"text-align: right;\">2.6</td><td style = \"text-align: right;\">0.076</td><td style = \"text-align: right;\">21.0</td><td style = \"text-align: right;\">92.0</td><td style = \"text-align: right;\">0.9975</td><td style = \"text-align: right;\">3.5</td><td style = \"text-align: right;\">0.6</td><td style = \"text-align: right;\">9.8</td><td style = \"text-align: right;\">5.0</td><td style = \"text-align: right;\">false</td><td style = \"text-align: right;\">true</td></tr><tr><td class = \"rowNumber\" style = \"font-weight: bold; text-align: right;\">6710</td><td style = \"text-align: right;\">7.2</td><td style = \"text-align: right;\">0.2</td><td style = \"text-align: right;\">0.19</td><td style = \"text-align: right;\">7.7</td><td style = \"text-align: right;\">0.045</td><td style = \"text-align: right;\">53.0</td><td style = \"text-align: right;\">176.0</td><td style = \"text-align: right;\">0.9958</td><td style = \"text-align: right;\">3.17</td><td style = \"text-align: right;\">0.38</td><td style = \"text-align: right;\">9.5</td><td style = \"text-align: right;\">5.0</td><td style = \"text-align: right;\">true</td><td style = \"text-align: right;\">false</td></tr><tr><td class = \"rowNumber\" style = \"font-weight: bold; text-align: right;\">6711</td><td style = \"text-align: right;\">6.7</td><td style = \"text-align: right;\">0.3</td><td style = \"text-align: right;\">0.34</td><td style = \"text-align: right;\">7.5</td><td style = \"text-align: right;\">0.036</td><td style = \"text-align: right;\">39.0</td><td style = \"text-align: right;\">124.0</td><td style = \"text-align: right;\">0.9912</td><td style = \"text-align: right;\">2.99</td><td style = \"text-align: right;\">0.32</td><td style = \"text-align: right;\">12.4</td><td style = \"text-align: right;\">8.0</td><td style = \"text-align: right;\">true</td><td style = \"text-align: right;\">false</td></tr><tr><td class = \"rowNumber\" style = \"font-weight: bold; text-align: right;\">6712</td><td style = \"text-align: right;\">6.6</td><td style = \"text-align: right;\">0.3</td><td style = \"text-align: right;\">0.24</td><td style = \"text-align: right;\">3.3</td><td style = \"text-align: right;\">0.034</td><td style = \"text-align: right;\">29.0</td><td style = \"text-align: right;\">99.0</td><td style = \"text-align: right;\">0.9903</td><td style = \"text-align: right;\">3.1</td><td style = \"text-align: right;\">0.4</td><td style = \"text-align: right;\">12.3</td><td style = \"text-align: right;\">7.0</td><td style = \"text-align: right;\">true</td><td style = \"text-align: right;\">false</td></tr><tr><td class = \"rowNumber\" style = \"font-weight: bold; text-align: right;\">6713</td><td style = \"text-align: right;\">8.0</td><td style = \"text-align: right;\">0.2</td><td style = \"text-align: right;\">0.31</td><td style = \"text-align: right;\">5.6</td><td style = \"text-align: right;\">0.049</td><td style = \"text-align: right;\">24.0</td><td style = \"text-align: right;\">97.0</td><td style = \"text-align: right;\">0.993</td><td style = \"text-align: right;\">3.1</td><td style = \"text-align: right;\">0.42</td><td style = \"text-align: right;\">10.9</td><td style = \"text-align: right;\">5.0</td><td style = \"text-align: right;\">true</td><td style = \"text-align: right;\">false</td></tr><tr><td class = \"rowNumber\" style = \"font-weight: bold; text-align: right;\">6714</td><td style = \"text-align: right;\">6.4</td><td style = \"text-align: right;\">0.3</td><td style = \"text-align: right;\">0.2</td><td style = \"text-align: right;\">15.6</td><td style = \"text-align: right;\">0.04</td><td style = \"text-align: right;\">20.0</td><td style = \"text-align: right;\">142.0</td><td style = \"text-align: right;\">0.9962</td><td style = \"text-align: right;\">3.1</td><td style = \"text-align: right;\">0.54</td><td style = \"text-align: right;\">10.6</td><td style = \"text-align: right;\">5.0</td><td style = \"text-align: right;\">true</td><td style = \"text-align: right;\">false</td></tr></tbody></table></div>"
      ],
      "text/latex": [
       "\\begin{tabular}{r|ccccccc}\n",
       "\t& fixed acidity & volatile acidity & citric acid & residual sugar & chlorides & free sulfur dioxide & \\\\\n",
       "\t\\hline\n",
       "\t& Float64 & Float64 & Float64 & Float64 & Float64 & Float32 & \\\\\n",
       "\t\\hline\n",
       "\t1 & 6.6 & 0.3 & 0.36 & 1.2 & 0.035 & 43.0 & $\\dots$ \\\\\n",
       "\t2 & 7.7 & 0.5 & 0.26 & 1.9 & 0.062 & 9.0 & $\\dots$ \\\\\n",
       "\t3 & 8.4 & 0.5 & 0.35 & 2.9 & 0.076 & 21.0 & $\\dots$ \\\\\n",
       "\t4 & 7.5 & 0.4 & 0.33 & 5.0 & 0.045 & 30.0 & $\\dots$ \\\\\n",
       "\t5 & 6.4 & 0.2 & 0.25 & 20.2 & 0.083 & 35.0 & $\\dots$ \\\\\n",
       "\t6 & 7.6 & 0.3 & 0.52 & 13.2 & 0.042 & 61.0 & $\\dots$ \\\\\n",
       "\t7 & 6.4 & 0.3 & 0.4 & 6.2 & 0.04 & 46.0 & $\\dots$ \\\\\n",
       "\t8 & 6.6 & 0.3 & 0.36 & 1.7 & 0.038 & 22.0 & $\\dots$ \\\\\n",
       "\t9 & 7.6 & 0.3 & 0.25 & 9.5 & 0.03 & 15.0 & $\\dots$ \\\\\n",
       "\t10 & 7.6 & 0.3 & 0.49 & 20.2 & 0.06 & 30.0 & $\\dots$ \\\\\n",
       "\t11 & 6.6 & 0.2 & 0.33 & 1.8 & 0.035 & 42.0 & $\\dots$ \\\\\n",
       "\t12 & 6.4 & 0.2 & 0.42 & 1.0 & 0.036 & 29.0 & $\\dots$ \\\\\n",
       "\t13 & 6.2 & 0.3 & 0.27 & 1.3 & 0.037 & 30.0 & $\\dots$ \\\\\n",
       "\t14 & 6.1 & 0.2 & 0.37 & 2.6 & 0.041 & 24.0 & $\\dots$ \\\\\n",
       "\t15 & 6.5 & 0.3 & 0.12 & 11.5 & 0.033 & 35.0 & $\\dots$ \\\\\n",
       "\t16 & 5.9 & 0.1 & 0.2 & 1.6 & 0.04 & 26.0 & $\\dots$ \\\\\n",
       "\t17 & 6.7 & 0.2 & 0.36 & 8.4 & 0.042 & 42.0 & $\\dots$ \\\\\n",
       "\t18 & 6.0 & 0.3 & 0.25 & 1.8 & 0.042 & 8.0 & $\\dots$ \\\\\n",
       "\t19 & 8.8 & 0.4 & 0.49 & 2.8 & 0.083 & 18.0 & $\\dots$ \\\\\n",
       "\t20 & 7.8 & 0.3 & 0.35 & 1.2 & 0.05 & 36.0 & $\\dots$ \\\\\n",
       "\t21 & 7.0 & 0.4 & 0.19 & 2.3 & 0.071 & 18.0 & $\\dots$ \\\\\n",
       "\t22 & 8.2 & 0.4 & 0.38 & 2.6 & 0.093 & 23.0 & $\\dots$ \\\\\n",
       "\t23 & 6.3 & 0.3 & 0.42 & 17.2 & 0.037 & 57.0 & $\\dots$ \\\\\n",
       "\t24 & 6.8 & 0.4 & 0.32 & 1.6 & 0.039 & 10.0 & $\\dots$ \\\\\n",
       "\t25 & 7.6 & 0.6 & 0.03 & 1.9 & 0.086 & 14.0 & $\\dots$ \\\\\n",
       "\t26 & 7.8 & 0.2 & 0.23 & 7.6 & 0.046 & 22.0 & $\\dots$ \\\\\n",
       "\t27 & 7.6 & 0.2 & 0.29 & 8.6 & 0.053 & 65.0 & $\\dots$ \\\\\n",
       "\t28 & 7.1 & 0.2 & 0.34 & 1.0 & 0.033 & 27.0 & $\\dots$ \\\\\n",
       "\t29 & 6.2 & 0.2 & 0.38 & 1.5 & 0.028 & 36.0 & $\\dots$ \\\\\n",
       "\t30 & 8.1 & 0.3 & 0.46 & 15.4 & 0.059 & 32.0 & $\\dots$ \\\\\n",
       "\t$\\dots$ & $\\dots$ & $\\dots$ & $\\dots$ & $\\dots$ & $\\dots$ & $\\dots$ &  \\\\\n",
       "\\end{tabular}\n"
      ],
      "text/plain": [
       "\u001b[1m6714×14 DataFrame\u001b[0m\n",
       "\u001b[1m  Row \u001b[0m│\u001b[1m fixed acidity \u001b[0m\u001b[1m volatile acidity \u001b[0m\u001b[1m citric acid \u001b[0m\u001b[1m residual sugar \u001b[0m\u001b[1m chloride\u001b[0m ⋯\n",
       "      │\u001b[90m Float64       \u001b[0m\u001b[90m Float64          \u001b[0m\u001b[90m Float64     \u001b[0m\u001b[90m Float64        \u001b[0m\u001b[90m Float64 \u001b[0m ⋯\n",
       "──────┼─────────────────────────────────────────────────────────────────────────\n",
       "    1 │           6.6               0.3         0.36             1.2      0.03 ⋯\n",
       "    2 │           7.7               0.5         0.26             1.9      0.06\n",
       "    3 │           8.4               0.5         0.35             2.9      0.07\n",
       "    4 │           7.5               0.4         0.33             5.0      0.04\n",
       "    5 │           6.4               0.2         0.25            20.2      0.08 ⋯\n",
       "    6 │           7.6               0.3         0.52            13.2      0.04\n",
       "    7 │           6.4               0.3         0.4              6.2      0.04\n",
       "    8 │           6.6               0.3         0.36             1.7      0.03\n",
       "    9 │           7.6               0.3         0.25             9.5      0.03 ⋯\n",
       "   10 │           7.6               0.3         0.49            20.2      0.06\n",
       "   11 │           6.6               0.2         0.33             1.8      0.03\n",
       "  ⋮   │       ⋮               ⋮               ⋮             ⋮             ⋮    ⋱\n",
       " 6705 │           5.3               0.7         0.19             1.5      0.16\n",
       " 6706 │           6.9               0.4         0.29            13.7      0.04 ⋯\n",
       " 6707 │           6.4               0.3         0.5             10.7      0.04\n",
       " 6708 │           6.9               0.4         0.62            11.9      0.04\n",
       " 6709 │           7.1               0.5         0.03             2.6      0.07\n",
       " 6710 │           7.2               0.2         0.19             7.7      0.04 ⋯\n",
       " 6711 │           6.7               0.3         0.34             7.5      0.03\n",
       " 6712 │           6.6               0.3         0.24             3.3      0.03\n",
       " 6713 │           8.0               0.2         0.31             5.6      0.04\n",
       " 6714 │           6.4               0.3         0.2             15.6      0.04 ⋯\n",
       "\u001b[36m                                                10 columns and 6693 rows omitted\u001b[0m"
      ]
     },
     "execution_count": 11,
     "metadata": {},
     "output_type": "execute_result"
    }
   ],
   "source": [
    "train_df_dropped"
   ]
  },
  {
   "cell_type": "code",
   "execution_count": 12,
   "id": "27fce735-8808-42a7-aa37-11c6e769f374",
   "metadata": {},
   "outputs": [
    {
     "data": {
      "text/plain": [
       "pascalcase (generic function with 1 method)"
      ]
     },
     "execution_count": 12,
     "metadata": {},
     "output_type": "execute_result"
    }
   ],
   "source": [
    "function pascalcase(name)\n",
    "    join(uppercasefirst.(split(name)))\n",
    "end"
   ]
  },
  {
   "cell_type": "code",
   "execution_count": 13,
   "id": "fba6aa1b-7967-4610-967d-6ea9a523e08b",
   "metadata": {},
   "outputs": [
    {
     "data": {
      "text/html": [
       "<div><div style = \"float: left;\"><span>6×14 DataFrame</span></div><div style = \"clear: both;\"></div></div><div class = \"data-frame\" style = \"overflow-x: scroll;\"><table class = \"data-frame\" style = \"margin-bottom: 6px;\"><thead><tr class = \"header\"><th class = \"rowNumber\" style = \"font-weight: bold; text-align: right;\">Row</th><th style = \"text-align: left;\">FixedAcidity</th><th style = \"text-align: left;\">VolatileAcidity</th><th style = \"text-align: left;\">CitricAcid</th><th style = \"text-align: left;\">ResidualSugar</th><th style = \"text-align: left;\">Chlorides</th><th style = \"text-align: left;\">FreeSulfurDioxide</th><th style = \"text-align: left;\">TotalSulfurDioxide</th><th style = \"text-align: left;\">Density</th><th style = \"text-align: left;\">PH</th><th style = \"text-align: left;\">Sulphates</th><th style = \"text-align: left;\">Alcohol</th><th style = \"text-align: left;\">Quality</th><th style = \"text-align: left;\">White</th><th style = \"text-align: left;\">Red</th></tr><tr class = \"subheader headerLastRow\"><th class = \"rowNumber\" style = \"font-weight: bold; text-align: right;\"></th><th title = \"Float64\" style = \"text-align: left;\">Float64</th><th title = \"Float64\" style = \"text-align: left;\">Float64</th><th title = \"Float64\" style = \"text-align: left;\">Float64</th><th title = \"Float64\" style = \"text-align: left;\">Float64</th><th title = \"Float64\" style = \"text-align: left;\">Float64</th><th title = \"Float32\" style = \"text-align: left;\">Float32</th><th title = \"Float32\" style = \"text-align: left;\">Float32</th><th title = \"Float64\" style = \"text-align: left;\">Float64</th><th title = \"Float64\" style = \"text-align: left;\">Float64</th><th title = \"Float64\" style = \"text-align: left;\">Float64</th><th title = \"Float64\" style = \"text-align: left;\">Float64</th><th title = \"Float32\" style = \"text-align: left;\">Float32</th><th title = \"Bool\" style = \"text-align: left;\">Bool</th><th title = \"Bool\" style = \"text-align: left;\">Bool</th></tr></thead><tbody><tr><td class = \"rowNumber\" style = \"font-weight: bold; text-align: right;\">1</td><td style = \"text-align: right;\">6.6</td><td style = \"text-align: right;\">0.3</td><td style = \"text-align: right;\">0.36</td><td style = \"text-align: right;\">1.2</td><td style = \"text-align: right;\">0.035</td><td style = \"text-align: right;\">43.0</td><td style = \"text-align: right;\">126.0</td><td style = \"text-align: right;\">0.9909</td><td style = \"text-align: right;\">3.01</td><td style = \"text-align: right;\">0.63</td><td style = \"text-align: right;\">11.4</td><td style = \"text-align: right;\">6.0</td><td style = \"text-align: right;\">true</td><td style = \"text-align: right;\">false</td></tr><tr><td class = \"rowNumber\" style = \"font-weight: bold; text-align: right;\">2</td><td style = \"text-align: right;\">7.7</td><td style = \"text-align: right;\">0.5</td><td style = \"text-align: right;\">0.26</td><td style = \"text-align: right;\">1.9</td><td style = \"text-align: right;\">0.062</td><td style = \"text-align: right;\">9.0</td><td style = \"text-align: right;\">31.0</td><td style = \"text-align: right;\">0.9966</td><td style = \"text-align: right;\">3.39</td><td style = \"text-align: right;\">0.64</td><td style = \"text-align: right;\">9.6</td><td style = \"text-align: right;\">5.0</td><td style = \"text-align: right;\">false</td><td style = \"text-align: right;\">true</td></tr><tr><td class = \"rowNumber\" style = \"font-weight: bold; text-align: right;\">3</td><td style = \"text-align: right;\">8.4</td><td style = \"text-align: right;\">0.5</td><td style = \"text-align: right;\">0.35</td><td style = \"text-align: right;\">2.9</td><td style = \"text-align: right;\">0.076</td><td style = \"text-align: right;\">21.0</td><td style = \"text-align: right;\">127.0</td><td style = \"text-align: right;\">0.9976</td><td style = \"text-align: right;\">3.23</td><td style = \"text-align: right;\">0.63</td><td style = \"text-align: right;\">9.2</td><td style = \"text-align: right;\">5.0</td><td style = \"text-align: right;\">false</td><td style = \"text-align: right;\">true</td></tr><tr><td class = \"rowNumber\" style = \"font-weight: bold; text-align: right;\">4</td><td style = \"text-align: right;\">7.5</td><td style = \"text-align: right;\">0.4</td><td style = \"text-align: right;\">0.33</td><td style = \"text-align: right;\">5.0</td><td style = \"text-align: right;\">0.045</td><td style = \"text-align: right;\">30.0</td><td style = \"text-align: right;\">131.0</td><td style = \"text-align: right;\">0.9942</td><td style = \"text-align: right;\">3.32</td><td style = \"text-align: right;\">0.44</td><td style = \"text-align: right;\">10.9</td><td style = \"text-align: right;\">6.0</td><td style = \"text-align: right;\">true</td><td style = \"text-align: right;\">false</td></tr><tr><td class = \"rowNumber\" style = \"font-weight: bold; text-align: right;\">5</td><td style = \"text-align: right;\">6.4</td><td style = \"text-align: right;\">0.2</td><td style = \"text-align: right;\">0.25</td><td style = \"text-align: right;\">20.2</td><td style = \"text-align: right;\">0.083</td><td style = \"text-align: right;\">35.0</td><td style = \"text-align: right;\">157.0</td><td style = \"text-align: right;\">0.9998</td><td style = \"text-align: right;\">3.17</td><td style = \"text-align: right;\">0.5</td><td style = \"text-align: right;\">9.1</td><td style = \"text-align: right;\">5.0</td><td style = \"text-align: right;\">true</td><td style = \"text-align: right;\">false</td></tr><tr><td class = \"rowNumber\" style = \"font-weight: bold; text-align: right;\">6</td><td style = \"text-align: right;\">7.6</td><td style = \"text-align: right;\">0.3</td><td style = \"text-align: right;\">0.52</td><td style = \"text-align: right;\">13.2</td><td style = \"text-align: right;\">0.042</td><td style = \"text-align: right;\">61.0</td><td style = \"text-align: right;\">148.0</td><td style = \"text-align: right;\">0.9984</td><td style = \"text-align: right;\">2.98</td><td style = \"text-align: right;\">0.47</td><td style = \"text-align: right;\">9.1</td><td style = \"text-align: right;\">6.0</td><td style = \"text-align: right;\">true</td><td style = \"text-align: right;\">false</td></tr></tbody></table></div>"
      ],
      "text/latex": [
       "\\begin{tabular}{r|ccccccc}\n",
       "\t& FixedAcidity & VolatileAcidity & CitricAcid & ResidualSugar & Chlorides & FreeSulfurDioxide & \\\\\n",
       "\t\\hline\n",
       "\t& Float64 & Float64 & Float64 & Float64 & Float64 & Float32 & \\\\\n",
       "\t\\hline\n",
       "\t1 & 6.6 & 0.3 & 0.36 & 1.2 & 0.035 & 43.0 & $\\dots$ \\\\\n",
       "\t2 & 7.7 & 0.5 & 0.26 & 1.9 & 0.062 & 9.0 & $\\dots$ \\\\\n",
       "\t3 & 8.4 & 0.5 & 0.35 & 2.9 & 0.076 & 21.0 & $\\dots$ \\\\\n",
       "\t4 & 7.5 & 0.4 & 0.33 & 5.0 & 0.045 & 30.0 & $\\dots$ \\\\\n",
       "\t5 & 6.4 & 0.2 & 0.25 & 20.2 & 0.083 & 35.0 & $\\dots$ \\\\\n",
       "\t6 & 7.6 & 0.3 & 0.52 & 13.2 & 0.042 & 61.0 & $\\dots$ \\\\\n",
       "\\end{tabular}\n"
      ],
      "text/plain": [
       "\u001b[1m6×14 DataFrame\u001b[0m\n",
       "\u001b[1m Row \u001b[0m│\u001b[1m FixedAcidity \u001b[0m\u001b[1m VolatileAcidity \u001b[0m\u001b[1m CitricAcid \u001b[0m\u001b[1m ResidualSugar \u001b[0m\u001b[1m Chlorides \u001b[0m\u001b[1m Fr\u001b[0m ⋯\n",
       "     │\u001b[90m Float64      \u001b[0m\u001b[90m Float64         \u001b[0m\u001b[90m Float64    \u001b[0m\u001b[90m Float64       \u001b[0m\u001b[90m Float64   \u001b[0m\u001b[90m Fl\u001b[0m ⋯\n",
       "─────┼──────────────────────────────────────────────────────────────────────────\n",
       "   1 │          6.6              0.3        0.36            1.2      0.035     ⋯\n",
       "   2 │          7.7              0.5        0.26            1.9      0.062\n",
       "   3 │          8.4              0.5        0.35            2.9      0.076\n",
       "   4 │          7.5              0.4        0.33            5.0      0.045\n",
       "   5 │          6.4              0.2        0.25           20.2      0.083     ⋯\n",
       "   6 │          7.6              0.3        0.52           13.2      0.042\n",
       "\u001b[36m                                                               9 columns omitted\u001b[0m"
      ]
     },
     "execution_count": 13,
     "metadata": {},
     "output_type": "execute_result"
    }
   ],
   "source": [
    "(traindf = rename!(pascalcase, train_df_dropped)) |> x -> first(x, 6)"
   ]
  },
  {
   "cell_type": "code",
   "execution_count": 14,
   "id": "e371cf06-84b6-4444-b931-e50b6429ba60",
   "metadata": {},
   "outputs": [
    {
     "data": {
      "text/html": [
       "<div><div style = \"float: left;\"><span>6714×14 DataFrame</span></div><div style = \"float: right;\"><span style = \"font-style: italic;\">6689 rows omitted</span></div><div style = \"clear: both;\"></div></div><div class = \"data-frame\" style = \"overflow-x: scroll;\"><table class = \"data-frame\" style = \"margin-bottom: 6px;\"><thead><tr class = \"header\"><th class = \"rowNumber\" style = \"font-weight: bold; text-align: right;\">Row</th><th style = \"text-align: left;\">FixedAcidity</th><th style = \"text-align: left;\">VolatileAcidity</th><th style = \"text-align: left;\">CitricAcid</th><th style = \"text-align: left;\">ResidualSugar</th><th style = \"text-align: left;\">Chlorides</th><th style = \"text-align: left;\">FreeSulfurDioxide</th><th style = \"text-align: left;\">TotalSulfurDioxide</th><th style = \"text-align: left;\">Density</th><th style = \"text-align: left;\">PH</th><th style = \"text-align: left;\">Sulphates</th><th style = \"text-align: left;\">Alcohol</th><th style = \"text-align: left;\">Quality</th><th style = \"text-align: left;\">White</th><th style = \"text-align: left;\">Red</th></tr><tr class = \"subheader headerLastRow\"><th class = \"rowNumber\" style = \"font-weight: bold; text-align: right;\"></th><th title = \"Float32\" style = \"text-align: left;\">Float32</th><th title = \"Float32\" style = \"text-align: left;\">Float32</th><th title = \"Float32\" style = \"text-align: left;\">Float32</th><th title = \"Float32\" style = \"text-align: left;\">Float32</th><th title = \"Float32\" style = \"text-align: left;\">Float32</th><th title = \"Float32\" style = \"text-align: left;\">Float32</th><th title = \"Float32\" style = \"text-align: left;\">Float32</th><th title = \"Float32\" style = \"text-align: left;\">Float32</th><th title = \"Float32\" style = \"text-align: left;\">Float32</th><th title = \"Float32\" style = \"text-align: left;\">Float32</th><th title = \"Float32\" style = \"text-align: left;\">Float32</th><th title = \"Float32\" style = \"text-align: left;\">Float32</th><th title = \"Float32\" style = \"text-align: left;\">Float32</th><th title = \"Float32\" style = \"text-align: left;\">Float32</th></tr></thead><tbody><tr><td class = \"rowNumber\" style = \"font-weight: bold; text-align: right;\">1</td><td style = \"text-align: right;\">6.6</td><td style = \"text-align: right;\">0.3</td><td style = \"text-align: right;\">0.36</td><td style = \"text-align: right;\">1.2</td><td style = \"text-align: right;\">0.035</td><td style = \"text-align: right;\">43.0</td><td style = \"text-align: right;\">126.0</td><td style = \"text-align: right;\">0.9909</td><td style = \"text-align: right;\">3.01</td><td style = \"text-align: right;\">0.63</td><td style = \"text-align: right;\">11.4</td><td style = \"text-align: right;\">6.0</td><td style = \"text-align: right;\">1.0</td><td style = \"text-align: right;\">0.0</td></tr><tr><td class = \"rowNumber\" style = \"font-weight: bold; text-align: right;\">2</td><td style = \"text-align: right;\">7.7</td><td style = \"text-align: right;\">0.5</td><td style = \"text-align: right;\">0.26</td><td style = \"text-align: right;\">1.9</td><td style = \"text-align: right;\">0.062</td><td style = \"text-align: right;\">9.0</td><td style = \"text-align: right;\">31.0</td><td style = \"text-align: right;\">0.9966</td><td style = \"text-align: right;\">3.39</td><td style = \"text-align: right;\">0.64</td><td style = \"text-align: right;\">9.6</td><td style = \"text-align: right;\">5.0</td><td style = \"text-align: right;\">0.0</td><td style = \"text-align: right;\">1.0</td></tr><tr><td class = \"rowNumber\" style = \"font-weight: bold; text-align: right;\">3</td><td style = \"text-align: right;\">8.4</td><td style = \"text-align: right;\">0.5</td><td style = \"text-align: right;\">0.35</td><td style = \"text-align: right;\">2.9</td><td style = \"text-align: right;\">0.076</td><td style = \"text-align: right;\">21.0</td><td style = \"text-align: right;\">127.0</td><td style = \"text-align: right;\">0.9976</td><td style = \"text-align: right;\">3.23</td><td style = \"text-align: right;\">0.63</td><td style = \"text-align: right;\">9.2</td><td style = \"text-align: right;\">5.0</td><td style = \"text-align: right;\">0.0</td><td style = \"text-align: right;\">1.0</td></tr><tr><td class = \"rowNumber\" style = \"font-weight: bold; text-align: right;\">4</td><td style = \"text-align: right;\">7.5</td><td style = \"text-align: right;\">0.4</td><td style = \"text-align: right;\">0.33</td><td style = \"text-align: right;\">5.0</td><td style = \"text-align: right;\">0.045</td><td style = \"text-align: right;\">30.0</td><td style = \"text-align: right;\">131.0</td><td style = \"text-align: right;\">0.9942</td><td style = \"text-align: right;\">3.32</td><td style = \"text-align: right;\">0.44</td><td style = \"text-align: right;\">10.9</td><td style = \"text-align: right;\">6.0</td><td style = \"text-align: right;\">1.0</td><td style = \"text-align: right;\">0.0</td></tr><tr><td class = \"rowNumber\" style = \"font-weight: bold; text-align: right;\">5</td><td style = \"text-align: right;\">6.4</td><td style = \"text-align: right;\">0.2</td><td style = \"text-align: right;\">0.25</td><td style = \"text-align: right;\">20.2</td><td style = \"text-align: right;\">0.083</td><td style = \"text-align: right;\">35.0</td><td style = \"text-align: right;\">157.0</td><td style = \"text-align: right;\">0.9998</td><td style = \"text-align: right;\">3.17</td><td style = \"text-align: right;\">0.5</td><td style = \"text-align: right;\">9.1</td><td style = \"text-align: right;\">5.0</td><td style = \"text-align: right;\">1.0</td><td style = \"text-align: right;\">0.0</td></tr><tr><td class = \"rowNumber\" style = \"font-weight: bold; text-align: right;\">6</td><td style = \"text-align: right;\">7.6</td><td style = \"text-align: right;\">0.3</td><td style = \"text-align: right;\">0.52</td><td style = \"text-align: right;\">13.2</td><td style = \"text-align: right;\">0.042</td><td style = \"text-align: right;\">61.0</td><td style = \"text-align: right;\">148.0</td><td style = \"text-align: right;\">0.9984</td><td style = \"text-align: right;\">2.98</td><td style = \"text-align: right;\">0.47</td><td style = \"text-align: right;\">9.1</td><td style = \"text-align: right;\">6.0</td><td style = \"text-align: right;\">1.0</td><td style = \"text-align: right;\">0.0</td></tr><tr><td class = \"rowNumber\" style = \"font-weight: bold; text-align: right;\">7</td><td style = \"text-align: right;\">6.4</td><td style = \"text-align: right;\">0.3</td><td style = \"text-align: right;\">0.4</td><td style = \"text-align: right;\">6.2</td><td style = \"text-align: right;\">0.04</td><td style = \"text-align: right;\">46.0</td><td style = \"text-align: right;\">169.0</td><td style = \"text-align: right;\">0.9953</td><td style = \"text-align: right;\">3.15</td><td style = \"text-align: right;\">0.46</td><td style = \"text-align: right;\">9.3</td><td style = \"text-align: right;\">6.0</td><td style = \"text-align: right;\">1.0</td><td style = \"text-align: right;\">0.0</td></tr><tr><td class = \"rowNumber\" style = \"font-weight: bold; text-align: right;\">8</td><td style = \"text-align: right;\">6.6</td><td style = \"text-align: right;\">0.3</td><td style = \"text-align: right;\">0.36</td><td style = \"text-align: right;\">1.7</td><td style = \"text-align: right;\">0.038</td><td style = \"text-align: right;\">22.0</td><td style = \"text-align: right;\">101.0</td><td style = \"text-align: right;\">0.9912</td><td style = \"text-align: right;\">3.29</td><td style = \"text-align: right;\">0.57</td><td style = \"text-align: right;\">11.6</td><td style = \"text-align: right;\">6.0</td><td style = \"text-align: right;\">1.0</td><td style = \"text-align: right;\">0.0</td></tr><tr><td class = \"rowNumber\" style = \"font-weight: bold; text-align: right;\">9</td><td style = \"text-align: right;\">7.6</td><td style = \"text-align: right;\">0.3</td><td style = \"text-align: right;\">0.25</td><td style = \"text-align: right;\">9.5</td><td style = \"text-align: right;\">0.03</td><td style = \"text-align: right;\">15.0</td><td style = \"text-align: right;\">136.0</td><td style = \"text-align: right;\">0.9937</td><td style = \"text-align: right;\">3.1</td><td style = \"text-align: right;\">0.44</td><td style = \"text-align: right;\">12.1</td><td style = \"text-align: right;\">6.0</td><td style = \"text-align: right;\">1.0</td><td style = \"text-align: right;\">0.0</td></tr><tr><td class = \"rowNumber\" style = \"font-weight: bold; text-align: right;\">10</td><td style = \"text-align: right;\">7.6</td><td style = \"text-align: right;\">0.3</td><td style = \"text-align: right;\">0.49</td><td style = \"text-align: right;\">20.2</td><td style = \"text-align: right;\">0.06</td><td style = \"text-align: right;\">30.0</td><td style = \"text-align: right;\">145.0</td><td style = \"text-align: right;\">1.002</td><td style = \"text-align: right;\">3.01</td><td style = \"text-align: right;\">0.44</td><td style = \"text-align: right;\">8.5</td><td style = \"text-align: right;\">5.0</td><td style = \"text-align: right;\">1.0</td><td style = \"text-align: right;\">0.0</td></tr><tr><td class = \"rowNumber\" style = \"font-weight: bold; text-align: right;\">11</td><td style = \"text-align: right;\">6.6</td><td style = \"text-align: right;\">0.2</td><td style = \"text-align: right;\">0.33</td><td style = \"text-align: right;\">1.8</td><td style = \"text-align: right;\">0.035</td><td style = \"text-align: right;\">42.0</td><td style = \"text-align: right;\">148.0</td><td style = \"text-align: right;\">0.992</td><td style = \"text-align: right;\">3.15</td><td style = \"text-align: right;\">0.36</td><td style = \"text-align: right;\">10.2</td><td style = \"text-align: right;\">5.0</td><td style = \"text-align: right;\">1.0</td><td style = \"text-align: right;\">0.0</td></tr><tr><td class = \"rowNumber\" style = \"font-weight: bold; text-align: right;\">12</td><td style = \"text-align: right;\">6.4</td><td style = \"text-align: right;\">0.2</td><td style = \"text-align: right;\">0.42</td><td style = \"text-align: right;\">1.0</td><td style = \"text-align: right;\">0.036</td><td style = \"text-align: right;\">29.0</td><td style = \"text-align: right;\">113.0</td><td style = \"text-align: right;\">0.9908</td><td style = \"text-align: right;\">3.18</td><td style = \"text-align: right;\">0.52</td><td style = \"text-align: right;\">11.0</td><td style = \"text-align: right;\">6.0</td><td style = \"text-align: right;\">1.0</td><td style = \"text-align: right;\">0.0</td></tr><tr><td class = \"rowNumber\" style = \"font-weight: bold; text-align: right;\">13</td><td style = \"text-align: right;\">6.2</td><td style = \"text-align: right;\">0.3</td><td style = \"text-align: right;\">0.27</td><td style = \"text-align: right;\">1.3</td><td style = \"text-align: right;\">0.037</td><td style = \"text-align: right;\">30.0</td><td style = \"text-align: right;\">86.0</td><td style = \"text-align: right;\">0.9883</td><td style = \"text-align: right;\">3.05</td><td style = \"text-align: right;\">0.59</td><td style = \"text-align: right;\">12.9</td><td style = \"text-align: right;\">7.0</td><td style = \"text-align: right;\">1.0</td><td style = \"text-align: right;\">0.0</td></tr><tr><td style = \"text-align: right;\">&vellip;</td><td style = \"text-align: right;\">&vellip;</td><td style = \"text-align: right;\">&vellip;</td><td style = \"text-align: right;\">&vellip;</td><td style = \"text-align: right;\">&vellip;</td><td style = \"text-align: right;\">&vellip;</td><td style = \"text-align: right;\">&vellip;</td><td style = \"text-align: right;\">&vellip;</td><td style = \"text-align: right;\">&vellip;</td><td style = \"text-align: right;\">&vellip;</td><td style = \"text-align: right;\">&vellip;</td><td style = \"text-align: right;\">&vellip;</td><td style = \"text-align: right;\">&vellip;</td><td style = \"text-align: right;\">&vellip;</td><td style = \"text-align: right;\">&vellip;</td></tr><tr><td class = \"rowNumber\" style = \"font-weight: bold; text-align: right;\">6703</td><td style = \"text-align: right;\">6.4</td><td style = \"text-align: right;\">0.2</td><td style = \"text-align: right;\">0.38</td><td style = \"text-align: right;\">9.1</td><td style = \"text-align: right;\">0.044</td><td style = \"text-align: right;\">35.0</td><td style = \"text-align: right;\">127.0</td><td style = \"text-align: right;\">0.9933</td><td style = \"text-align: right;\">2.97</td><td style = \"text-align: right;\">0.3</td><td style = \"text-align: right;\">11.0</td><td style = \"text-align: right;\">7.0</td><td style = \"text-align: right;\">1.0</td><td style = \"text-align: right;\">0.0</td></tr><tr><td class = \"rowNumber\" style = \"font-weight: bold; text-align: right;\">6704</td><td style = \"text-align: right;\">7.0</td><td style = \"text-align: right;\">0.5</td><td style = \"text-align: right;\">0.09</td><td style = \"text-align: right;\">2.0</td><td style = \"text-align: right;\">0.081</td><td style = \"text-align: right;\">10.0</td><td style = \"text-align: right;\">16.0</td><td style = \"text-align: right;\">0.9948</td><td style = \"text-align: right;\">3.43</td><td style = \"text-align: right;\">0.59</td><td style = \"text-align: right;\">11.5</td><td style = \"text-align: right;\">6.0</td><td style = \"text-align: right;\">0.0</td><td style = \"text-align: right;\">1.0</td></tr><tr><td class = \"rowNumber\" style = \"font-weight: bold; text-align: right;\">6705</td><td style = \"text-align: right;\">5.3</td><td style = \"text-align: right;\">0.7</td><td style = \"text-align: right;\">0.19</td><td style = \"text-align: right;\">1.5</td><td style = \"text-align: right;\">0.161</td><td style = \"text-align: right;\">7.0</td><td style = \"text-align: right;\">62.0</td><td style = \"text-align: right;\">0.994</td><td style = \"text-align: right;\">3.62</td><td style = \"text-align: right;\">0.61</td><td style = \"text-align: right;\">11.0</td><td style = \"text-align: right;\">5.0</td><td style = \"text-align: right;\">0.0</td><td style = \"text-align: right;\">1.0</td></tr><tr><td class = \"rowNumber\" style = \"font-weight: bold; text-align: right;\">6706</td><td style = \"text-align: right;\">6.9</td><td style = \"text-align: right;\">0.4</td><td style = \"text-align: right;\">0.29</td><td style = \"text-align: right;\">13.7</td><td style = \"text-align: right;\">0.048</td><td style = \"text-align: right;\">52.0</td><td style = \"text-align: right;\">189.0</td><td style = \"text-align: right;\">0.9978</td><td style = \"text-align: right;\">3.0</td><td style = \"text-align: right;\">0.6</td><td style = \"text-align: right;\">9.5</td><td style = \"text-align: right;\">6.0</td><td style = \"text-align: right;\">1.0</td><td style = \"text-align: right;\">0.0</td></tr><tr><td class = \"rowNumber\" style = \"font-weight: bold; text-align: right;\">6707</td><td style = \"text-align: right;\">6.4</td><td style = \"text-align: right;\">0.3</td><td style = \"text-align: right;\">0.5</td><td style = \"text-align: right;\">10.7</td><td style = \"text-align: right;\">0.047</td><td style = \"text-align: right;\">57.0</td><td style = \"text-align: right;\">206.0</td><td style = \"text-align: right;\">0.9968</td><td style = \"text-align: right;\">3.08</td><td style = \"text-align: right;\">0.6</td><td style = \"text-align: right;\">9.4</td><td style = \"text-align: right;\">5.0</td><td style = \"text-align: right;\">1.0</td><td style = \"text-align: right;\">0.0</td></tr><tr><td class = \"rowNumber\" style = \"font-weight: bold; text-align: right;\">6708</td><td style = \"text-align: right;\">6.9</td><td style = \"text-align: right;\">0.4</td><td style = \"text-align: right;\">0.62</td><td style = \"text-align: right;\">11.9</td><td style = \"text-align: right;\">0.045</td><td style = \"text-align: right;\">53.0</td><td style = \"text-align: right;\">156.0</td><td style = \"text-align: right;\">0.9975</td><td style = \"text-align: right;\">3.12</td><td style = \"text-align: right;\">0.45</td><td style = \"text-align: right;\">8.9</td><td style = \"text-align: right;\">5.0</td><td style = \"text-align: right;\">1.0</td><td style = \"text-align: right;\">0.0</td></tr><tr><td class = \"rowNumber\" style = \"font-weight: bold; text-align: right;\">6709</td><td style = \"text-align: right;\">7.1</td><td style = \"text-align: right;\">0.5</td><td style = \"text-align: right;\">0.03</td><td style = \"text-align: right;\">2.6</td><td style = \"text-align: right;\">0.076</td><td style = \"text-align: right;\">21.0</td><td style = \"text-align: right;\">92.0</td><td style = \"text-align: right;\">0.9975</td><td style = \"text-align: right;\">3.5</td><td style = \"text-align: right;\">0.6</td><td style = \"text-align: right;\">9.8</td><td style = \"text-align: right;\">5.0</td><td style = \"text-align: right;\">0.0</td><td style = \"text-align: right;\">1.0</td></tr><tr><td class = \"rowNumber\" style = \"font-weight: bold; text-align: right;\">6710</td><td style = \"text-align: right;\">7.2</td><td style = \"text-align: right;\">0.2</td><td style = \"text-align: right;\">0.19</td><td style = \"text-align: right;\">7.7</td><td style = \"text-align: right;\">0.045</td><td style = \"text-align: right;\">53.0</td><td style = \"text-align: right;\">176.0</td><td style = \"text-align: right;\">0.9958</td><td style = \"text-align: right;\">3.17</td><td style = \"text-align: right;\">0.38</td><td style = \"text-align: right;\">9.5</td><td style = \"text-align: right;\">5.0</td><td style = \"text-align: right;\">1.0</td><td style = \"text-align: right;\">0.0</td></tr><tr><td class = \"rowNumber\" style = \"font-weight: bold; text-align: right;\">6711</td><td style = \"text-align: right;\">6.7</td><td style = \"text-align: right;\">0.3</td><td style = \"text-align: right;\">0.34</td><td style = \"text-align: right;\">7.5</td><td style = \"text-align: right;\">0.036</td><td style = \"text-align: right;\">39.0</td><td style = \"text-align: right;\">124.0</td><td style = \"text-align: right;\">0.9912</td><td style = \"text-align: right;\">2.99</td><td style = \"text-align: right;\">0.32</td><td style = \"text-align: right;\">12.4</td><td style = \"text-align: right;\">8.0</td><td style = \"text-align: right;\">1.0</td><td style = \"text-align: right;\">0.0</td></tr><tr><td class = \"rowNumber\" style = \"font-weight: bold; text-align: right;\">6712</td><td style = \"text-align: right;\">6.6</td><td style = \"text-align: right;\">0.3</td><td style = \"text-align: right;\">0.24</td><td style = \"text-align: right;\">3.3</td><td style = \"text-align: right;\">0.034</td><td style = \"text-align: right;\">29.0</td><td style = \"text-align: right;\">99.0</td><td style = \"text-align: right;\">0.9903</td><td style = \"text-align: right;\">3.1</td><td style = \"text-align: right;\">0.4</td><td style = \"text-align: right;\">12.3</td><td style = \"text-align: right;\">7.0</td><td style = \"text-align: right;\">1.0</td><td style = \"text-align: right;\">0.0</td></tr><tr><td class = \"rowNumber\" style = \"font-weight: bold; text-align: right;\">6713</td><td style = \"text-align: right;\">8.0</td><td style = \"text-align: right;\">0.2</td><td style = \"text-align: right;\">0.31</td><td style = \"text-align: right;\">5.6</td><td style = \"text-align: right;\">0.049</td><td style = \"text-align: right;\">24.0</td><td style = \"text-align: right;\">97.0</td><td style = \"text-align: right;\">0.993</td><td style = \"text-align: right;\">3.1</td><td style = \"text-align: right;\">0.42</td><td style = \"text-align: right;\">10.9</td><td style = \"text-align: right;\">5.0</td><td style = \"text-align: right;\">1.0</td><td style = \"text-align: right;\">0.0</td></tr><tr><td class = \"rowNumber\" style = \"font-weight: bold; text-align: right;\">6714</td><td style = \"text-align: right;\">6.4</td><td style = \"text-align: right;\">0.3</td><td style = \"text-align: right;\">0.2</td><td style = \"text-align: right;\">15.6</td><td style = \"text-align: right;\">0.04</td><td style = \"text-align: right;\">20.0</td><td style = \"text-align: right;\">142.0</td><td style = \"text-align: right;\">0.9962</td><td style = \"text-align: right;\">3.1</td><td style = \"text-align: right;\">0.54</td><td style = \"text-align: right;\">10.6</td><td style = \"text-align: right;\">5.0</td><td style = \"text-align: right;\">1.0</td><td style = \"text-align: right;\">0.0</td></tr></tbody></table></div>"
      ],
      "text/latex": [
       "\\begin{tabular}{r|ccccccc}\n",
       "\t& FixedAcidity & VolatileAcidity & CitricAcid & ResidualSugar & Chlorides & FreeSulfurDioxide & \\\\\n",
       "\t\\hline\n",
       "\t& Float32 & Float32 & Float32 & Float32 & Float32 & Float32 & \\\\\n",
       "\t\\hline\n",
       "\t1 & 6.6 & 0.3 & 0.36 & 1.2 & 0.035 & 43.0 & $\\dots$ \\\\\n",
       "\t2 & 7.7 & 0.5 & 0.26 & 1.9 & 0.062 & 9.0 & $\\dots$ \\\\\n",
       "\t3 & 8.4 & 0.5 & 0.35 & 2.9 & 0.076 & 21.0 & $\\dots$ \\\\\n",
       "\t4 & 7.5 & 0.4 & 0.33 & 5.0 & 0.045 & 30.0 & $\\dots$ \\\\\n",
       "\t5 & 6.4 & 0.2 & 0.25 & 20.2 & 0.083 & 35.0 & $\\dots$ \\\\\n",
       "\t6 & 7.6 & 0.3 & 0.52 & 13.2 & 0.042 & 61.0 & $\\dots$ \\\\\n",
       "\t7 & 6.4 & 0.3 & 0.4 & 6.2 & 0.04 & 46.0 & $\\dots$ \\\\\n",
       "\t8 & 6.6 & 0.3 & 0.36 & 1.7 & 0.038 & 22.0 & $\\dots$ \\\\\n",
       "\t9 & 7.6 & 0.3 & 0.25 & 9.5 & 0.03 & 15.0 & $\\dots$ \\\\\n",
       "\t10 & 7.6 & 0.3 & 0.49 & 20.2 & 0.06 & 30.0 & $\\dots$ \\\\\n",
       "\t11 & 6.6 & 0.2 & 0.33 & 1.8 & 0.035 & 42.0 & $\\dots$ \\\\\n",
       "\t12 & 6.4 & 0.2 & 0.42 & 1.0 & 0.036 & 29.0 & $\\dots$ \\\\\n",
       "\t13 & 6.2 & 0.3 & 0.27 & 1.3 & 0.037 & 30.0 & $\\dots$ \\\\\n",
       "\t14 & 6.1 & 0.2 & 0.37 & 2.6 & 0.041 & 24.0 & $\\dots$ \\\\\n",
       "\t15 & 6.5 & 0.3 & 0.12 & 11.5 & 0.033 & 35.0 & $\\dots$ \\\\\n",
       "\t16 & 5.9 & 0.1 & 0.2 & 1.6 & 0.04 & 26.0 & $\\dots$ \\\\\n",
       "\t17 & 6.7 & 0.2 & 0.36 & 8.4 & 0.042 & 42.0 & $\\dots$ \\\\\n",
       "\t18 & 6.0 & 0.3 & 0.25 & 1.8 & 0.042 & 8.0 & $\\dots$ \\\\\n",
       "\t19 & 8.8 & 0.4 & 0.49 & 2.8 & 0.083 & 18.0 & $\\dots$ \\\\\n",
       "\t20 & 7.8 & 0.3 & 0.35 & 1.2 & 0.05 & 36.0 & $\\dots$ \\\\\n",
       "\t21 & 7.0 & 0.4 & 0.19 & 2.3 & 0.071 & 18.0 & $\\dots$ \\\\\n",
       "\t22 & 8.2 & 0.4 & 0.38 & 2.6 & 0.093 & 23.0 & $\\dots$ \\\\\n",
       "\t23 & 6.3 & 0.3 & 0.42 & 17.2 & 0.037 & 57.0 & $\\dots$ \\\\\n",
       "\t24 & 6.8 & 0.4 & 0.32 & 1.6 & 0.039 & 10.0 & $\\dots$ \\\\\n",
       "\t25 & 7.6 & 0.6 & 0.03 & 1.9 & 0.086 & 14.0 & $\\dots$ \\\\\n",
       "\t26 & 7.8 & 0.2 & 0.23 & 7.6 & 0.046 & 22.0 & $\\dots$ \\\\\n",
       "\t27 & 7.6 & 0.2 & 0.29 & 8.6 & 0.053 & 65.0 & $\\dots$ \\\\\n",
       "\t28 & 7.1 & 0.2 & 0.34 & 1.0 & 0.033 & 27.0 & $\\dots$ \\\\\n",
       "\t29 & 6.2 & 0.2 & 0.38 & 1.5 & 0.028 & 36.0 & $\\dots$ \\\\\n",
       "\t30 & 8.1 & 0.3 & 0.46 & 15.4 & 0.059 & 32.0 & $\\dots$ \\\\\n",
       "\t$\\dots$ & $\\dots$ & $\\dots$ & $\\dots$ & $\\dots$ & $\\dots$ & $\\dots$ &  \\\\\n",
       "\\end{tabular}\n"
      ],
      "text/plain": [
       "\u001b[1m6714×14 DataFrame\u001b[0m\n",
       "\u001b[1m  Row \u001b[0m│\u001b[1m FixedAcidity \u001b[0m\u001b[1m VolatileAcidity \u001b[0m\u001b[1m CitricAcid \u001b[0m\u001b[1m ResidualSugar \u001b[0m\u001b[1m Chlorides \u001b[0m\u001b[1m F\u001b[0m ⋯\n",
       "      │\u001b[90m Float32      \u001b[0m\u001b[90m Float32         \u001b[0m\u001b[90m Float32    \u001b[0m\u001b[90m Float32       \u001b[0m\u001b[90m Float32   \u001b[0m\u001b[90m F\u001b[0m ⋯\n",
       "──────┼─────────────────────────────────────────────────────────────────────────\n",
       "    1 │          6.6              0.3        0.36            1.2      0.035    ⋯\n",
       "    2 │          7.7              0.5        0.26            1.9      0.062\n",
       "    3 │          8.4              0.5        0.35            2.9      0.076\n",
       "    4 │          7.5              0.4        0.33            5.0      0.045\n",
       "    5 │          6.4              0.2        0.25           20.2      0.083    ⋯\n",
       "    6 │          7.6              0.3        0.52           13.2      0.042\n",
       "    7 │          6.4              0.3        0.4             6.2      0.04\n",
       "    8 │          6.6              0.3        0.36            1.7      0.038\n",
       "    9 │          7.6              0.3        0.25            9.5      0.03     ⋯\n",
       "   10 │          7.6              0.3        0.49           20.2      0.06\n",
       "   11 │          6.6              0.2        0.33            1.8      0.035\n",
       "  ⋮   │      ⋮               ⋮             ⋮             ⋮            ⋮        ⋱\n",
       " 6705 │          5.3              0.7        0.19            1.5      0.161\n",
       " 6706 │          6.9              0.4        0.29           13.7      0.048    ⋯\n",
       " 6707 │          6.4              0.3        0.5            10.7      0.047\n",
       " 6708 │          6.9              0.4        0.62           11.9      0.045\n",
       " 6709 │          7.1              0.5        0.03            2.6      0.076\n",
       " 6710 │          7.2              0.2        0.19            7.7      0.045    ⋯\n",
       " 6711 │          6.7              0.3        0.34            7.5      0.036\n",
       " 6712 │          6.6              0.3        0.24            3.3      0.034\n",
       " 6713 │          8.0              0.2        0.31            5.6      0.049\n",
       " 6714 │          6.4              0.3        0.2            15.6      0.04     ⋯\n",
       "\u001b[36m                                                 9 columns and 6693 rows omitted\u001b[0m"
      ]
     },
     "execution_count": 14,
     "metadata": {},
     "output_type": "execute_result"
    }
   ],
   "source": [
    "traindf = Float32.(traindf)"
   ]
  },
  {
   "cell_type": "markdown",
   "id": "b1c3752e-28f5-440c-9edc-545fd57feca9",
   "metadata": {},
   "source": [
    "# Normalization"
   ]
  },
  {
   "cell_type": "code",
   "execution_count": 15,
   "id": "eadd616b-d417-425f-9c2c-c08c3872fc65",
   "metadata": {},
   "outputs": [
    {
     "data": {
      "text/html": [
       "<div><div style = \"float: left;\"><span>5×14 DataFrame</span></div><div style = \"clear: both;\"></div></div><div class = \"data-frame\" style = \"overflow-x: scroll;\"><table class = \"data-frame\" style = \"margin-bottom: 6px;\"><thead><tr class = \"header\"><th class = \"rowNumber\" style = \"font-weight: bold; text-align: right;\">Row</th><th style = \"text-align: left;\">FixedAcidity</th><th style = \"text-align: left;\">VolatileAcidity</th><th style = \"text-align: left;\">CitricAcid</th><th style = \"text-align: left;\">ResidualSugar</th><th style = \"text-align: left;\">Chlorides</th><th style = \"text-align: left;\">FreeSulfurDioxide</th><th style = \"text-align: left;\">TotalSulfurDioxide</th><th style = \"text-align: left;\">Density</th><th style = \"text-align: left;\">PH</th><th style = \"text-align: left;\">Sulphates</th><th style = \"text-align: left;\">Alcohol</th><th style = \"text-align: left;\">Quality</th><th style = \"text-align: left;\">White</th><th style = \"text-align: left;\">Red</th></tr><tr class = \"subheader headerLastRow\"><th class = \"rowNumber\" style = \"font-weight: bold; text-align: right;\"></th><th title = \"Float32\" style = \"text-align: left;\">Float32</th><th title = \"Float32\" style = \"text-align: left;\">Float32</th><th title = \"Float32\" style = \"text-align: left;\">Float32</th><th title = \"Float32\" style = \"text-align: left;\">Float32</th><th title = \"Float32\" style = \"text-align: left;\">Float32</th><th title = \"Float32\" style = \"text-align: left;\">Float32</th><th title = \"Float32\" style = \"text-align: left;\">Float32</th><th title = \"Float32\" style = \"text-align: left;\">Float32</th><th title = \"Float32\" style = \"text-align: left;\">Float32</th><th title = \"Float32\" style = \"text-align: left;\">Float32</th><th title = \"Float32\" style = \"text-align: left;\">Float32</th><th title = \"Float32\" style = \"text-align: left;\">Float32</th><th title = \"Float32\" style = \"text-align: left;\">Float32</th><th title = \"Float32\" style = \"text-align: left;\">Float32</th></tr></thead><tbody><tr><td class = \"rowNumber\" style = \"font-weight: bold; text-align: right;\">1</td><td style = \"text-align: right;\">-0.489798</td><td style = \"text-align: right;\">-0.287446</td><td style = \"text-align: right;\">0.285763</td><td style = \"text-align: right;\">-0.888734</td><td style = \"text-align: right;\">-0.58954</td><td style = \"text-align: right;\">0.73028</td><td style = \"text-align: right;\">0.202487</td><td style = \"text-align: right;\">-1.28773</td><td style = \"text-align: right;\">-1.3009</td><td style = \"text-align: right;\">0.594638</td><td style = \"text-align: right;\">0.791016</td><td style = \"text-align: right;\">0.230792</td><td style = \"text-align: right;\">1.0</td><td style = \"text-align: right;\">0.0</td></tr><tr><td class = \"rowNumber\" style = \"font-weight: bold; text-align: right;\">2</td><td style = \"text-align: right;\">0.337007</td><td style = \"text-align: right;\">0.899462</td><td style = \"text-align: right;\">-0.386092</td><td style = \"text-align: right;\">-0.741029</td><td style = \"text-align: right;\">0.117721</td><td style = \"text-align: right;\">-1.19936</td><td style = \"text-align: right;\">-1.4814</td><td style = \"text-align: right;\">0.599532</td><td style = \"text-align: right;\">1.06321</td><td style = \"text-align: right;\">0.657978</td><td style = \"text-align: right;\">-0.721673</td><td style = \"text-align: right;\">-0.901083</td><td style = \"text-align: right;\">0.0</td><td style = \"text-align: right;\">1.0</td></tr><tr><td class = \"rowNumber\" style = \"font-weight: bold; text-align: right;\">3</td><td style = \"text-align: right;\">0.863155</td><td style = \"text-align: right;\">0.899462</td><td style = \"text-align: right;\">0.218578</td><td style = \"text-align: right;\">-0.530022</td><td style = \"text-align: right;\">0.484449</td><td style = \"text-align: right;\">-0.51831</td><td style = \"text-align: right;\">0.220212</td><td style = \"text-align: right;\">0.930647</td><td style = \"text-align: right;\">0.0677921</td><td style = \"text-align: right;\">0.594638</td><td style = \"text-align: right;\">-1.05783</td><td style = \"text-align: right;\">-0.901083</td><td style = \"text-align: right;\">0.0</td><td style = \"text-align: right;\">1.0</td></tr><tr><td class = \"rowNumber\" style = \"font-weight: bold; text-align: right;\">4</td><td style = \"text-align: right;\">0.186679</td><td style = \"text-align: right;\">0.306008</td><td style = \"text-align: right;\">0.0842069</td><td style = \"text-align: right;\">-0.0869076</td><td style = \"text-align: right;\">-0.327592</td><td style = \"text-align: right;\">-0.00752325</td><td style = \"text-align: right;\">0.291113</td><td style = \"text-align: right;\">-0.195101</td><td style = \"text-align: right;\">0.627713</td><td style = \"text-align: right;\">-0.608827</td><td style = \"text-align: right;\">0.370825</td><td style = \"text-align: right;\">0.230792</td><td style = \"text-align: right;\">1.0</td><td style = \"text-align: right;\">0.0</td></tr><tr><td class = \"rowNumber\" style = \"font-weight: bold; text-align: right;\">5</td><td style = \"text-align: right;\">-0.640126</td><td style = \"text-align: right;\">-0.8809</td><td style = \"text-align: right;\">-0.453277</td><td style = \"text-align: right;\">3.1204</td><td style = \"text-align: right;\">0.667813</td><td style = \"text-align: right;\">0.276247</td><td style = \"text-align: right;\">0.751966</td><td style = \"text-align: right;\">1.65907</td><td style = \"text-align: right;\">-0.305488</td><td style = \"text-align: right;\">-0.228785</td><td style = \"text-align: right;\">-1.14186</td><td style = \"text-align: right;\">-0.901083</td><td style = \"text-align: right;\">1.0</td><td style = \"text-align: right;\">0.0</td></tr></tbody></table></div>"
      ],
      "text/latex": [
       "\\begin{tabular}{r|ccccccc}\n",
       "\t& FixedAcidity & VolatileAcidity & CitricAcid & ResidualSugar & Chlorides & FreeSulfurDioxide & \\\\\n",
       "\t\\hline\n",
       "\t& Float32 & Float32 & Float32 & Float32 & Float32 & Float32 & \\\\\n",
       "\t\\hline\n",
       "\t1 & -0.489798 & -0.287446 & 0.285763 & -0.888734 & -0.58954 & 0.73028 & $\\dots$ \\\\\n",
       "\t2 & 0.337007 & 0.899462 & -0.386092 & -0.741029 & 0.117721 & -1.19936 & $\\dots$ \\\\\n",
       "\t3 & 0.863155 & 0.899462 & 0.218578 & -0.530022 & 0.484449 & -0.51831 & $\\dots$ \\\\\n",
       "\t4 & 0.186679 & 0.306008 & 0.0842069 & -0.0869076 & -0.327592 & -0.00752325 & $\\dots$ \\\\\n",
       "\t5 & -0.640126 & -0.8809 & -0.453277 & 3.1204 & 0.667813 & 0.276247 & $\\dots$ \\\\\n",
       "\\end{tabular}\n"
      ],
      "text/plain": [
       "\u001b[1m5×14 DataFrame\u001b[0m\n",
       "\u001b[1m Row \u001b[0m│\u001b[1m FixedAcidity \u001b[0m\u001b[1m VolatileAcidity \u001b[0m\u001b[1m CitricAcid \u001b[0m\u001b[1m ResidualSugar \u001b[0m\u001b[1m Chlorides \u001b[0m\u001b[1m Fr\u001b[0m ⋯\n",
       "     │\u001b[90m Float32      \u001b[0m\u001b[90m Float32         \u001b[0m\u001b[90m Float32    \u001b[0m\u001b[90m Float32       \u001b[0m\u001b[90m Float32   \u001b[0m\u001b[90m Fl\u001b[0m ⋯\n",
       "─────┼──────────────────────────────────────────────────────────────────────────\n",
       "   1 │    -0.489798        -0.287446   0.285763      -0.888734   -0.58954      ⋯\n",
       "   2 │     0.337007         0.899462  -0.386092      -0.741029    0.117721\n",
       "   3 │     0.863155         0.899462   0.218578      -0.530022    0.484449\n",
       "   4 │     0.186679         0.306008   0.0842069     -0.0869076  -0.327592\n",
       "   5 │    -0.640126        -0.8809    -0.453277       3.1204      0.667813     ⋯\n",
       "\u001b[36m                                                               9 columns omitted\u001b[0m"
      ]
     },
     "execution_count": 15,
     "metadata": {},
     "output_type": "execute_result"
    }
   ],
   "source": [
    "traindf = hcat(mapcols(zscore, select(traindf, Not(:White, :Red))), select(traindf, :White, :Red))\n",
    "first(traindf, 5)"
   ]
  },
  {
   "cell_type": "markdown",
   "id": "18136b6f-3cd2-4bbe-85b0-8b87cc8f0613",
   "metadata": {},
   "source": [
    "# Building Models"
   ]
  },
  {
   "cell_type": "markdown",
   "id": "dd84decc-1c52-4f31-a0d9-6cfd14157086",
   "metadata": {},
   "source": [
    "## Split train and test data"
   ]
  },
  {
   "cell_type": "code",
   "execution_count": 16,
   "id": "55e4ac83-6bed-4cb6-84fa-8b92b071d7c8",
   "metadata": {},
   "outputs": [
    {
     "data": {
      "text/plain": [
       "(Float32[-0.48979786 -0.28744587 … 1.0 0.0; 0.33700657 0.8994623 … 0.0 1.0; … ; 0.5624988 -0.8809001 … 1.0 0.0; -0.6401258 -0.28744587 … 1.0 0.0], Float32[0.23079191, -0.90108335, -0.90108335, 0.23079191, -0.90108335, 0.23079191, 0.23079191, 0.23079191, 0.23079191, -0.90108335  …  -0.90108335, 0.23079191, -0.90108335, -0.90108335, -0.90108335, -0.90108335, 2.4945424, 1.3626672, -0.90108335, -0.90108335])"
      ]
     },
     "execution_count": 16,
     "metadata": {},
     "output_type": "execute_result"
    }
   ],
   "source": [
    "X, Y = Matrix(select(traindf, Not(:Quality))), Vector(traindf[!, :Quality])"
   ]
  },
  {
   "cell_type": "code",
   "execution_count": 17,
   "id": "1e38a7c3-642e-43ba-ae15-3e689650808e",
   "metadata": {},
   "outputs": [],
   "source": [
    "using MLJ"
   ]
  },
  {
   "cell_type": "code",
   "execution_count": 18,
   "id": "90fa895c-36c3-475b-b1f1-94b5789b7f21",
   "metadata": {},
   "outputs": [
    {
     "data": {
      "text/plain": [
       "(Float32[-0.41463387 -1.1662743 … -0.6401258 0.18667862; 0.3060082 -0.28744587 … -0.8809001 0.8994623; … ; 0.0 1.0 … 1.0 0.0; 1.0 0.0 … 0.0 1.0], Float32[1.088647 1.0134834 … -0.33946955 -0.41463387; -0.8809001 -0.28744587 … -1.4743543 -0.28744587; … ; 1.0 1.0 … 1.0 1.0; 0.0 0.0 … 0.0 0.0])"
      ]
     },
     "execution_count": 18,
     "metadata": {},
     "output_type": "execute_result"
    }
   ],
   "source": [
    "(Xtrain, Xtest), (Ytrain, Ytest) = partition((X, Y), 0.8, rng=123, multi=true)\n",
    "Xtrain, Xtest= (Xtrain', Xtest') .|> Matrix"
   ]
  },
  {
   "cell_type": "code",
   "execution_count": null,
   "id": "351b30bd-9d0b-4c4d-b0b9-fe865d696de5",
   "metadata": {},
   "outputs": [],
   "source": []
  },
  {
   "cell_type": "markdown",
   "id": "b45ffcf4-4639-4a7d-bfb7-924334600210",
   "metadata": {},
   "source": [
    "## Weight initialize"
   ]
  },
  {
   "cell_type": "code",
   "execution_count": 19,
   "id": "0f19192f-036a-4993-ba84-6e8ae90ebc46",
   "metadata": {},
   "outputs": [
    {
     "data": {
      "text/plain": [
       "(Float32[0.99445325;;], Float32[0.0])"
      ]
     },
     "execution_count": 19,
     "metadata": {},
     "output_type": "execute_result"
    }
   ],
   "source": [
    "W, b = rand(Float32, 1, 1), [0.0f32]"
   ]
  },
  {
   "cell_type": "markdown",
   "id": "304abe54-59b6-40b6-807b-7bc2ae1d8546",
   "metadata": {},
   "source": [
    "## Simple Neural Network"
   ]
  },
  {
   "cell_type": "code",
   "execution_count": 39,
   "id": "b05de084-5c2d-4ec0-9076-86a8b7852346",
   "metadata": {},
   "outputs": [],
   "source": [
    "using Flux, Plots, CUDA, cuDNN"
   ]
  },
  {
   "cell_type": "code",
   "execution_count": 40,
   "id": "f9e062bf-1c26-4683-9bcb-575b77d19724",
   "metadata": {},
   "outputs": [
    {
     "data": {
      "text/plain": [
       "(Matrix{Float32}, Matrix{Float32}, Vector{Float32}, Vector{Float32})"
      ]
     },
     "execution_count": 40,
     "metadata": {},
     "output_type": "execute_result"
    }
   ],
   "source": [
    "(Xtrain, Xtest, Ytrain, Ytest) .|> typeof"
   ]
  },
  {
   "cell_type": "code",
   "execution_count": 41,
   "id": "09b8a052-7fe1-4fb7-b962-98990d7114d1",
   "metadata": {},
   "outputs": [
    {
     "data": {
      "text/plain": [
       "regression_nn (generic function with 1 method)"
      ]
     },
     "execution_count": 41,
     "metadata": {},
     "output_type": "execute_result"
    }
   ],
   "source": [
    "function regression_nn(input_size, hidden_size)\n",
    "    return Chain(\n",
    "        Dense(input_size, hidden_size, relu),  # Hidden layer with sigmoid activation\n",
    "        Dense(hidden_size, 1),              # Output layer (1 neuron for regression)\n",
    "        identity\n",
    "    ) |> gpu\n",
    "end"
   ]
  },
  {
   "cell_type": "code",
   "execution_count": 42,
   "id": "53e35461-118e-49d0-9374-309bca3112ce",
   "metadata": {},
   "outputs": [
    {
     "ename": "LoadError",
     "evalue": "MethodError: no method matching loss(::Chain{Tuple{Dense{typeof(relu), CuArray{Float32, 2, CUDA.Mem.DeviceBuffer}, CuArray{Float32, 1, CUDA.Mem.DeviceBuffer}}, Dense{typeof(identity), CuArray{Float32, 2, CUDA.Mem.DeviceBuffer}, CuArray{Float32, 1, CUDA.Mem.DeviceBuffer}}, typeof(identity)}}, ::CuArray{Float32, 2, CUDA.Mem.DeviceBuffer}, ::CuArray{Float32, 1, CUDA.Mem.DeviceBuffer})\n\n\u001b[0mClosest candidates are:\n\u001b[0m  loss(::Any, ::Any)\n\u001b[0m\u001b[90m   @\u001b[39m \u001b[36mMain\u001b[39m \u001b[90m\u001b[4mIn[42]:14\u001b[24m\u001b[39m\n",
     "output_type": "error",
     "traceback": [
      "MethodError: no method matching loss(::Chain{Tuple{Dense{typeof(relu), CuArray{Float32, 2, CUDA.Mem.DeviceBuffer}, CuArray{Float32, 1, CUDA.Mem.DeviceBuffer}}, Dense{typeof(identity), CuArray{Float32, 2, CUDA.Mem.DeviceBuffer}, CuArray{Float32, 1, CUDA.Mem.DeviceBuffer}}, typeof(identity)}}, ::CuArray{Float32, 2, CUDA.Mem.DeviceBuffer}, ::CuArray{Float32, 1, CUDA.Mem.DeviceBuffer})\n\n\u001b[0mClosest candidates are:\n\u001b[0m  loss(::Any, ::Any)\n\u001b[0m\u001b[90m   @\u001b[39m \u001b[36mMain\u001b[39m \u001b[90m\u001b[4mIn[42]:14\u001b[24m\u001b[39m\n",
      "",
      "Stacktrace:",
      " [1] macro expansion",
      "   @ C:\\Users\\sofia\\.julia\\packages\\Zygote\\gsq4u\\src\\compiler\\interface2.jl:101 [inlined]",
      " [2] _pullback(::Zygote.Context{false}, ::typeof(loss), ::Chain{Tuple{Dense{typeof(relu), CuArray{Float32, 2, CUDA.Mem.DeviceBuffer}, CuArray{Float32, 1, CUDA.Mem.DeviceBuffer}}, Dense{typeof(identity), CuArray{Float32, 2, CUDA.Mem.DeviceBuffer}, CuArray{Float32, 1, CUDA.Mem.DeviceBuffer}}, typeof(identity)}}, ::CuArray{Float32, 2, CUDA.Mem.DeviceBuffer}, ::CuArray{Float32, 1, CUDA.Mem.DeviceBuffer})",
      "   @ Zygote C:\\Users\\sofia\\.julia\\packages\\Zygote\\gsq4u\\src\\compiler\\interface2.jl:101",
      " [3] _pullback",
      "   @ .\\In[42]:22 [inlined]",
      " [4] _pullback(ctx::Zygote.Context{false}, f::var\"#22#23\"{CuArray{Float32, 1, CUDA.Mem.DeviceBuffer}, CuArray{Float32, 2, CUDA.Mem.DeviceBuffer}}, args::Chain{Tuple{Dense{typeof(relu), CuArray{Float32, 2, CUDA.Mem.DeviceBuffer}, CuArray{Float32, 1, CUDA.Mem.DeviceBuffer}}, Dense{typeof(identity), CuArray{Float32, 2, CUDA.Mem.DeviceBuffer}, CuArray{Float32, 1, CUDA.Mem.DeviceBuffer}}, typeof(identity)}})",
      "   @ Zygote C:\\Users\\sofia\\.julia\\packages\\Zygote\\gsq4u\\src\\compiler\\interface2.jl:0",
      " [5] pullback(f::Function, cx::Zygote.Context{false}, args::Chain{Tuple{Dense{typeof(relu), CuArray{Float32, 2, CUDA.Mem.DeviceBuffer}, CuArray{Float32, 1, CUDA.Mem.DeviceBuffer}}, Dense{typeof(identity), CuArray{Float32, 2, CUDA.Mem.DeviceBuffer}, CuArray{Float32, 1, CUDA.Mem.DeviceBuffer}}, typeof(identity)}})",
      "   @ Zygote C:\\Users\\sofia\\.julia\\packages\\Zygote\\gsq4u\\src\\compiler\\interface.jl:44",
      " [6] pullback",
      "   @ C:\\Users\\sofia\\.julia\\packages\\Zygote\\gsq4u\\src\\compiler\\interface.jl:42 [inlined]",
      " [7] gradient(f::Function, args::Chain{Tuple{Dense{typeof(relu), CuArray{Float32, 2, CUDA.Mem.DeviceBuffer}, CuArray{Float32, 1, CUDA.Mem.DeviceBuffer}}, Dense{typeof(identity), CuArray{Float32, 2, CUDA.Mem.DeviceBuffer}, CuArray{Float32, 1, CUDA.Mem.DeviceBuffer}}, typeof(identity)}})",
      "   @ Zygote C:\\Users\\sofia\\.julia\\packages\\Zygote\\gsq4u\\src\\compiler\\interface.jl:96",
      " [8] top-level scope",
      "   @ In[42]:22"
     ]
    }
   ],
   "source": [
    "# Set the input and hidden layer sizes\n",
    "input_size = size(Xtrain, 1)\n",
    "hidden_size = 8\n",
    "\n",
    "# Create the model\n",
    "model = regression_nn(input_size, hidden_size)\n",
    "\n",
    "# Define the RMSE loss function\n",
    "function rmse(ŷ, y)\n",
    "    return sqrt(Flux.Losses.mae(ŷ, y))\n",
    "end\n",
    "\n",
    "# Define the loss function for training\n",
    "loss(x, y) = rmse(model(x), y)\n",
    "\n",
    "# Choose an optimizer (e.g., stochastic gradient descent)\n",
    "opt = Descent(0.001)\n",
    "gpu_train_loader = Flux.DataLoader((Xtrain |> gpu, Ytrain |> gpu), batchsize=32, shuffle=true)\n",
    "epochs = 1000\n",
    "for epoch in 1:epochs\n",
    "    for (x, y) in gpu_train_loader\n",
    "        grads = gradient(m -> loss(m, x, y), model)\n",
    "        Flux.update!(opt_state, model, grads[1])\n",
    "    end\n",
    "end"
   ]
  },
  {
   "cell_type": "code",
   "execution_count": 43,
   "id": "e6fc78bb-ac97-47c8-9d72-499402c34ab3",
   "metadata": {},
   "outputs": [
    {
     "data": {
      "text/plain": [
       "\"CUDA\""
      ]
     },
     "execution_count": 43,
     "metadata": {},
     "output_type": "execute_result"
    }
   ],
   "source": [
    "CUDA.functional(); Flux.GPU_BACKEND"
   ]
  },
  {
   "cell_type": "code",
   "execution_count": 25,
   "id": "2c385aaf-de15-41cc-9d8f-4739a5abe605",
   "metadata": {},
   "outputs": [
    {
     "name": "stderr",
     "output_type": "stream",
     "text": [
      "\u001b[36m\u001b[1m[ \u001b[22m\u001b[39m\u001b[36m\u001b[1mInfo: \u001b[22m\u001b[39mUsing backend: CUDA.\n"
     ]
    },
    {
     "data": {
      "text/plain": [
       "CuDevice(0): NVIDIA GeForce RTX 3060 Laptop GPU"
      ]
     },
     "execution_count": 25,
     "metadata": {},
     "output_type": "execute_result"
    }
   ],
   "source": [
    "device = Flux.get_device(; verbose=true)\n",
    "device.deviceID"
   ]
  },
  {
   "cell_type": "code",
   "execution_count": null,
   "id": "ba39baaa-0977-4e02-8653-91a7de8777ee",
   "metadata": {},
   "outputs": [],
   "source": [
    "\n"
   ]
  },
  {
   "cell_type": "code",
   "execution_count": null,
   "id": "5f4e9735-5ea5-4c28-885d-573d663ce8e8",
   "metadata": {},
   "outputs": [],
   "source": []
  },
  {
   "cell_type": "code",
   "execution_count": null,
   "id": "bb287940-6af2-4d21-b15b-857029a9d6bb",
   "metadata": {},
   "outputs": [],
   "source": []
  },
  {
   "cell_type": "code",
   "execution_count": null,
   "id": "d960fd1d-cbb7-435f-86ac-66e02119bc41",
   "metadata": {},
   "outputs": [],
   "source": []
  },
  {
   "cell_type": "code",
   "execution_count": null,
   "id": "fa72b9b5-db87-4aa1-ac37-a7fdf8f5e5d9",
   "metadata": {},
   "outputs": [],
   "source": []
  }
 ],
 "metadata": {
  "kernelspec": {
   "display_name": "Julia (global) 1.9.3",
   "language": "julia",
   "name": "julia-_global_-1.9"
  },
  "language_info": {
   "file_extension": ".jl",
   "mimetype": "application/julia",
   "name": "julia",
   "version": "1.9.3"
  }
 },
 "nbformat": 4,
 "nbformat_minor": 5
}
